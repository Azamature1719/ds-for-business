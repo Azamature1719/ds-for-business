{
 "cells": [
  {
   "cell_type": "markdown",
   "id": "58f9f479",
   "metadata": {},
   "source": [
    "https://www.kaggle.com/datasets/arjunbhasin2013/ccdata"
   ]
  },
  {
   "cell_type": "code",
   "execution_count": 1,
   "id": "8d480173",
   "metadata": {},
   "outputs": [],
   "source": [
    "import pandas as pd"
   ]
  },
  {
   "cell_type": "code",
   "execution_count": 2,
   "id": "db03ce42",
   "metadata": {},
   "outputs": [
    {
     "data": {
      "text/html": [
       "<div>\n",
       "<style scoped>\n",
       "    .dataframe tbody tr th:only-of-type {\n",
       "        vertical-align: middle;\n",
       "    }\n",
       "\n",
       "    .dataframe tbody tr th {\n",
       "        vertical-align: top;\n",
       "    }\n",
       "\n",
       "    .dataframe thead th {\n",
       "        text-align: right;\n",
       "    }\n",
       "</style>\n",
       "<table border=\"1\" class=\"dataframe\">\n",
       "  <thead>\n",
       "    <tr style=\"text-align: right;\">\n",
       "      <th></th>\n",
       "      <th>CUST_ID</th>\n",
       "      <th>BALANCE</th>\n",
       "      <th>BALANCE_FREQUENCY</th>\n",
       "      <th>PURCHASES</th>\n",
       "      <th>ONEOFF_PURCHASES</th>\n",
       "      <th>INSTALLMENTS_PURCHASES</th>\n",
       "      <th>CASH_ADVANCE</th>\n",
       "      <th>PURCHASES_FREQUENCY</th>\n",
       "      <th>ONEOFF_PURCHASES_FREQUENCY</th>\n",
       "      <th>PURCHASES_INSTALLMENTS_FREQUENCY</th>\n",
       "      <th>CASH_ADVANCE_FREQUENCY</th>\n",
       "      <th>CASH_ADVANCE_TRX</th>\n",
       "      <th>PURCHASES_TRX</th>\n",
       "      <th>CREDIT_LIMIT</th>\n",
       "      <th>PAYMENTS</th>\n",
       "      <th>MINIMUM_PAYMENTS</th>\n",
       "      <th>PRC_FULL_PAYMENT</th>\n",
       "      <th>TENURE</th>\n",
       "    </tr>\n",
       "  </thead>\n",
       "  <tbody>\n",
       "    <tr>\n",
       "      <th>0</th>\n",
       "      <td>C10001</td>\n",
       "      <td>40.900749</td>\n",
       "      <td>0.818182</td>\n",
       "      <td>95.40</td>\n",
       "      <td>0.00</td>\n",
       "      <td>95.4</td>\n",
       "      <td>0.000000</td>\n",
       "      <td>0.166667</td>\n",
       "      <td>0.0</td>\n",
       "      <td>0.083333</td>\n",
       "      <td>0.00</td>\n",
       "      <td>0</td>\n",
       "      <td>2</td>\n",
       "      <td>1000.0</td>\n",
       "      <td>201.802084</td>\n",
       "      <td>139.509787</td>\n",
       "      <td>0.000000</td>\n",
       "      <td>12</td>\n",
       "    </tr>\n",
       "    <tr>\n",
       "      <th>1</th>\n",
       "      <td>C10002</td>\n",
       "      <td>3202.467416</td>\n",
       "      <td>0.909091</td>\n",
       "      <td>0.00</td>\n",
       "      <td>0.00</td>\n",
       "      <td>0.0</td>\n",
       "      <td>6442.945483</td>\n",
       "      <td>0.000000</td>\n",
       "      <td>0.0</td>\n",
       "      <td>0.000000</td>\n",
       "      <td>0.25</td>\n",
       "      <td>4</td>\n",
       "      <td>0</td>\n",
       "      <td>7000.0</td>\n",
       "      <td>4103.032597</td>\n",
       "      <td>1072.340217</td>\n",
       "      <td>0.222222</td>\n",
       "      <td>12</td>\n",
       "    </tr>\n",
       "    <tr>\n",
       "      <th>2</th>\n",
       "      <td>C10003</td>\n",
       "      <td>2495.148862</td>\n",
       "      <td>1.000000</td>\n",
       "      <td>773.17</td>\n",
       "      <td>773.17</td>\n",
       "      <td>0.0</td>\n",
       "      <td>0.000000</td>\n",
       "      <td>1.000000</td>\n",
       "      <td>1.0</td>\n",
       "      <td>0.000000</td>\n",
       "      <td>0.00</td>\n",
       "      <td>0</td>\n",
       "      <td>12</td>\n",
       "      <td>7500.0</td>\n",
       "      <td>622.066742</td>\n",
       "      <td>627.284787</td>\n",
       "      <td>0.000000</td>\n",
       "      <td>12</td>\n",
       "    </tr>\n",
       "  </tbody>\n",
       "</table>\n",
       "</div>"
      ],
      "text/plain": [
       "  CUST_ID      BALANCE  BALANCE_FREQUENCY  PURCHASES  ONEOFF_PURCHASES  \\\n",
       "0  C10001    40.900749           0.818182      95.40              0.00   \n",
       "1  C10002  3202.467416           0.909091       0.00              0.00   \n",
       "2  C10003  2495.148862           1.000000     773.17            773.17   \n",
       "\n",
       "   INSTALLMENTS_PURCHASES  CASH_ADVANCE  PURCHASES_FREQUENCY  \\\n",
       "0                    95.4      0.000000             0.166667   \n",
       "1                     0.0   6442.945483             0.000000   \n",
       "2                     0.0      0.000000             1.000000   \n",
       "\n",
       "   ONEOFF_PURCHASES_FREQUENCY  PURCHASES_INSTALLMENTS_FREQUENCY  \\\n",
       "0                         0.0                          0.083333   \n",
       "1                         0.0                          0.000000   \n",
       "2                         1.0                          0.000000   \n",
       "\n",
       "   CASH_ADVANCE_FREQUENCY  CASH_ADVANCE_TRX  PURCHASES_TRX  CREDIT_LIMIT  \\\n",
       "0                    0.00                 0              2        1000.0   \n",
       "1                    0.25                 4              0        7000.0   \n",
       "2                    0.00                 0             12        7500.0   \n",
       "\n",
       "      PAYMENTS  MINIMUM_PAYMENTS  PRC_FULL_PAYMENT  TENURE  \n",
       "0   201.802084        139.509787          0.000000      12  \n",
       "1  4103.032597       1072.340217          0.222222      12  \n",
       "2   622.066742        627.284787          0.000000      12  "
      ]
     },
     "execution_count": 2,
     "metadata": {},
     "output_type": "execute_result"
    }
   ],
   "source": [
    "df = pd.read_csv('/home/anvar/CC GENERAL.csv')\n",
    "df.dropna(inplace=True)\n",
    "df.head(3)"
   ]
  },
  {
   "cell_type": "code",
   "execution_count": 3,
   "id": "6eb01082",
   "metadata": {},
   "outputs": [],
   "source": [
    "columns = df.columns\n",
    "X = df[columns[1:]]"
   ]
  },
  {
   "cell_type": "code",
   "execution_count": 4,
   "id": "62544add",
   "metadata": {},
   "outputs": [],
   "source": [
    "X_standardized = (X - X.mean(axis=0)) / X.std(axis=0)\n",
    "X_centered = X - X.mean(axis=0)"
   ]
  },
  {
   "cell_type": "markdown",
   "id": "37b74444",
   "metadata": {},
   "source": [
    "# Try KMeans with different K"
   ]
  },
  {
   "cell_type": "code",
   "execution_count": 5,
   "id": "5c76388f",
   "metadata": {},
   "outputs": [],
   "source": [
    "from sklearn.cluster import KMeans\n",
    "from tqdm import tqdm\n",
    "import matplotlib.pyplot as plt\n",
    "from sklearn.metrics import adjusted_rand_score\n",
    "import numpy as np"
   ]
  },
  {
   "cell_type": "code",
   "execution_count": null,
   "id": "b66132ec",
   "metadata": {},
   "outputs": [
    {
     "name": "stderr",
     "output_type": "stream",
     "text": [
      " 95%|█████████▍| 18/19 [00:18<00:01,  1.36s/it]"
     ]
    }
   ],
   "source": [
    "inertia = []\n",
    "results_df = pd.DataFrame()\n",
    "clusters = range(2, 21)\n",
    "\n",
    "for k in tqdm(clusters):\n",
    "    \n",
    "    # original\n",
    "    kmeans = KMeans(n_clusters=k)\n",
    "    kmeans.fit(X)\n",
    "    results_df[f'clusters_kmeans_{k}'] = kmeans.predict(X)\n",
    "   \n",
    "    # standardized\n",
    "    kmeans = KMeans(n_clusters=k)\n",
    "    kmeans.fit(X_standardized)\n",
    "    results_df[f'clusters_kmeans_std{k}'] = kmeans.predict(X_standardized)\n",
    "    inertia.append(kmeans.inertia_)\n",
    "    \n",
    "    # centered\n",
    "    kmeans = KMeans(n_clusters=k)\n",
    "    kmeans.fit(X_centered)\n",
    "    results_df[f'clusters_kmeans_center{k}'] = kmeans.predict(X_centered)"
   ]
  },
  {
   "cell_type": "code",
   "execution_count": null,
   "id": "f9dd5e3e",
   "metadata": {},
   "outputs": [],
   "source": [
    "plt.plot(clusters, inertia);\n",
    "plt.xlabel('Number of clusters')\n",
    "plt.ylabel('Inertia');"
   ]
  },
  {
   "cell_type": "code",
   "execution_count": null,
   "id": "d0f40fda",
   "metadata": {},
   "outputs": [],
   "source": [
    "k = 8\n",
    "print(adjusted_rand_score(results_df[f'clusters_kmeans_std{k}'], results_df[f'clusters_kmeans_{k}']))"
   ]
  },
  {
   "cell_type": "code",
   "execution_count": null,
   "id": "5795526f",
   "metadata": {},
   "outputs": [],
   "source": [
    "k = 8\n",
    "print(adjusted_rand_score(results_df[f'clusters_kmeans_std{k}'], results_df[f'clusters_kmeans_center{k}']))"
   ]
  },
  {
   "cell_type": "code",
   "execution_count": null,
   "id": "295d18fa",
   "metadata": {},
   "outputs": [],
   "source": [
    "results_df['clusters_kmeans_std8'].value_counts().sort_index()"
   ]
  },
  {
   "cell_type": "code",
   "execution_count": null,
   "id": "bacae948",
   "metadata": {},
   "outputs": [],
   "source": [
    "df[(results_df['clusters_kmeans_std8'] == 0).values].mean()"
   ]
  },
  {
   "cell_type": "code",
   "execution_count": null,
   "id": "db086261",
   "metadata": {},
   "outputs": [],
   "source": [
    "df[(results_df['clusters_kmeans_std8'] == 2).values].mean()"
   ]
  },
  {
   "cell_type": "code",
   "execution_count": null,
   "id": "6b2b1907",
   "metadata": {},
   "outputs": [],
   "source": []
  },
  {
   "cell_type": "markdown",
   "id": "17666771",
   "metadata": {},
   "source": [
    "# Hierarchical clustering"
   ]
  },
  {
   "cell_type": "code",
   "execution_count": null,
   "id": "fcc3d799",
   "metadata": {},
   "outputs": [],
   "source": [
    "from sklearn.cluster import AgglomerativeClustering\n",
    "\n",
    "ac = AgglomerativeClustering(n_clusters=10,\n",
    "                             affinity='euclidean',\n",
    "                             linkage='single')\n",
    "\n",
    "prediction = ac.fit_predict(X_standardized)\n",
    "np.unique(prediction, return_counts=True)"
   ]
  },
  {
   "cell_type": "code",
   "execution_count": null,
   "id": "b7c45b50",
   "metadata": {},
   "outputs": [],
   "source": [
    "ac = AgglomerativeClustering(n_clusters=10,\n",
    "                             affinity='euclidean',\n",
    "                             linkage='complete')\n",
    "\n",
    "prediction = ac.fit_predict(X_standardized)\n",
    "np.unique(prediction, return_counts=True)"
   ]
  },
  {
   "cell_type": "code",
   "execution_count": null,
   "id": "453417d2",
   "metadata": {},
   "outputs": [],
   "source": []
  },
  {
   "cell_type": "markdown",
   "id": "17bf606b",
   "metadata": {},
   "source": [
    "\n",
    "# Apply PCA"
   ]
  },
  {
   "cell_type": "code",
   "execution_count": null,
   "id": "f51f9a8d",
   "metadata": {},
   "outputs": [],
   "source": [
    "from sklearn.decomposition import PCA"
   ]
  },
  {
   "cell_type": "code",
   "execution_count": null,
   "id": "e2bd22df",
   "metadata": {},
   "outputs": [],
   "source": [
    "pca = PCA(2)\n",
    "X_pca2 = pca.fit_transform(X_centered[columns[1:]])\n",
    "print(pca.explained_variance_ratio_)"
   ]
  },
  {
   "cell_type": "code",
   "execution_count": null,
   "id": "d5c03adb",
   "metadata": {},
   "outputs": [],
   "source": [
    "k = 5\n",
    "plt.scatter(X_pca2[:, 0], X_pca2[:, 1], c=results_df[f'clusters_kmeans_std{k}']);"
   ]
  },
  {
   "cell_type": "code",
   "execution_count": null,
   "id": "9a9a1270",
   "metadata": {},
   "outputs": [],
   "source": [
    "components = dict(zip(columns[1:], pca.components_[0]))\n",
    "components = sorted(components.items(), key=lambda x: x[1], reverse=True)\n",
    "\n",
    "for c, w in components:\n",
    "    print(c, np.round(w, 3))"
   ]
  },
  {
   "cell_type": "code",
   "execution_count": null,
   "id": "2128d081",
   "metadata": {},
   "outputs": [],
   "source": []
  },
  {
   "cell_type": "markdown",
   "id": "72324b09",
   "metadata": {},
   "source": [
    "# Attempt 1.\n",
    "\n",
    "Select columns which constitutes the largest variance ratio"
   ]
  },
  {
   "cell_type": "code",
   "execution_count": null,
   "id": "c821a0fd",
   "metadata": {},
   "outputs": [],
   "source": [
    "selected_cols = ['CREDIT_LIMIT', 'PAYMENTS', 'PURCHASES', 'BALANCE', 'CASH_ADVANCE', 'ONEOFF_PURCHASES', 'MINIMUM_PAYMENTS']"
   ]
  },
  {
   "cell_type": "code",
   "execution_count": null,
   "id": "ee048a2c",
   "metadata": {},
   "outputs": [],
   "source": [
    "ac = AgglomerativeClustering(n_clusters=2,\n",
    "                             affinity='euclidean',\n",
    "                             linkage='single')\n",
    "\n",
    "prediction = ac.fit_predict(X_standardized[selected_cols])\n",
    "np.unique(prediction, return_counts=True)"
   ]
  },
  {
   "cell_type": "code",
   "execution_count": null,
   "id": "d85e504b",
   "metadata": {},
   "outputs": [],
   "source": [
    "ac = AgglomerativeClustering(n_clusters=2,\n",
    "                             affinity='euclidean',\n",
    "                             linkage='complete')\n",
    "\n",
    "prediction = ac.fit_predict(X_standardized[selected_cols])\n",
    "np.unique(prediction, return_counts=True)"
   ]
  },
  {
   "cell_type": "markdown",
   "id": "e1052b5a",
   "metadata": {},
   "source": [
    "# Attempt 2. \n",
    "\n",
    "Use PCA representation"
   ]
  },
  {
   "cell_type": "code",
   "execution_count": null,
   "id": "34b5ce62",
   "metadata": {},
   "outputs": [],
   "source": [
    "pca = PCA(5)\n",
    "X_pca5 = pca.fit_transform(X_centered[columns[1:]])\n",
    "print(np.round(pca.explained_variance_ratio_.sum()*100, 2), '%')"
   ]
  },
  {
   "cell_type": "code",
   "execution_count": null,
   "id": "a8efb40e",
   "metadata": {},
   "outputs": [],
   "source": [
    "ac = AgglomerativeClustering(n_clusters=2,\n",
    "                             affinity='euclidean',\n",
    "                             linkage='complete')\n",
    "\n",
    "prediction = ac.fit_predict(X_pca5)\n",
    "np.unique(prediction, return_counts=True)"
   ]
  },
  {
   "cell_type": "code",
   "execution_count": null,
   "id": "8da8bfb9",
   "metadata": {},
   "outputs": [],
   "source": []
  },
  {
   "cell_type": "markdown",
   "id": "6062bba5",
   "metadata": {},
   "source": [
    "# Attempt 3. \n",
    "\n",
    "Remove outliers"
   ]
  },
  {
   "cell_type": "code",
   "execution_count": null,
   "id": "834017b4",
   "metadata": {},
   "outputs": [],
   "source": [
    "def detect_outliers_simple(x):\n",
    "    x = x.values\n",
    "    q3 = np.quantile(x, 0.75)\n",
    "    q2 = np.quantile(x, 0.25)\n",
    "    iqr = q3-q2\n",
    "    lower_outliers = (q2-1.5*iqr) > x\n",
    "    upper_outliers = (q3+1.5*iqr) < x\n",
    "    return lower_outliers + upper_outliers"
   ]
  },
  {
   "cell_type": "code",
   "execution_count": null,
   "id": "c7acb0b4",
   "metadata": {},
   "outputs": [],
   "source": [
    "columns = df.columns"
   ]
  },
  {
   "cell_type": "code",
   "execution_count": null,
   "id": "5e29539b",
   "metadata": {},
   "outputs": [],
   "source": [
    "cols_outliers = dict()\n",
    "outliers = [False] * df.shape[0]\n",
    "\n",
    "for col in columns[1:]:\n",
    "        cols_outliers[col] = detect_outliers_simple(df[col])\n",
    "        outliers += cols_outliers[col]\n",
    "        print(col, np.round(cols_outliers[col].sum() / df.shape[0] * 100), '%')"
   ]
  },
  {
   "cell_type": "code",
   "execution_count": null,
   "id": "b86644fe",
   "metadata": {},
   "outputs": [],
   "source": [
    "X_drop_outliers = X_standardized[~outliers]"
   ]
  },
  {
   "cell_type": "code",
   "execution_count": null,
   "id": "6112836d",
   "metadata": {},
   "outputs": [],
   "source": [
    "X_drop_outliers.shape"
   ]
  },
  {
   "cell_type": "markdown",
   "id": "ddacf3c7",
   "metadata": {},
   "source": [
    "only ~40% of the data left"
   ]
  },
  {
   "cell_type": "code",
   "execution_count": null,
   "id": "6bc82a22",
   "metadata": {},
   "outputs": [],
   "source": []
  }
 ],
 "metadata": {
  "kernelspec": {
   "display_name": "Python 3",
   "language": "python",
   "name": "python3"
  },
  "language_info": {
   "codemirror_mode": {
    "name": "ipython",
    "version": 3
   },
   "file_extension": ".py",
   "mimetype": "text/x-python",
   "name": "python",
   "nbconvert_exporter": "python",
   "pygments_lexer": "ipython3",
   "version": "3.8.8"
  }
 },
 "nbformat": 4,
 "nbformat_minor": 5
}
