{
 "cells": [
  {
   "cell_type": "markdown",
   "id": "d9199967",
   "metadata": {},
   "source": [
    "https://www.kaggle.com/datasets/arjunbhasin2013/ccdata"
   ]
  },
  {
   "cell_type": "code",
   "execution_count": 1,
   "id": "8d480173",
   "metadata": {},
   "outputs": [],
   "source": [
    "import pandas as pd"
   ]
  },
  {
   "cell_type": "code",
   "execution_count": 2,
   "id": "db03ce42",
   "metadata": {},
   "outputs": [
    {
     "data": {
      "text/html": [
       "<div>\n",
       "<style scoped>\n",
       "    .dataframe tbody tr th:only-of-type {\n",
       "        vertical-align: middle;\n",
       "    }\n",
       "\n",
       "    .dataframe tbody tr th {\n",
       "        vertical-align: top;\n",
       "    }\n",
       "\n",
       "    .dataframe thead th {\n",
       "        text-align: right;\n",
       "    }\n",
       "</style>\n",
       "<table border=\"1\" class=\"dataframe\">\n",
       "  <thead>\n",
       "    <tr style=\"text-align: right;\">\n",
       "      <th></th>\n",
       "      <th>CUST_ID</th>\n",
       "      <th>BALANCE</th>\n",
       "      <th>BALANCE_FREQUENCY</th>\n",
       "      <th>PURCHASES</th>\n",
       "      <th>ONEOFF_PURCHASES</th>\n",
       "      <th>INSTALLMENTS_PURCHASES</th>\n",
       "      <th>CASH_ADVANCE</th>\n",
       "      <th>PURCHASES_FREQUENCY</th>\n",
       "      <th>ONEOFF_PURCHASES_FREQUENCY</th>\n",
       "      <th>PURCHASES_INSTALLMENTS_FREQUENCY</th>\n",
       "      <th>CASH_ADVANCE_FREQUENCY</th>\n",
       "      <th>CASH_ADVANCE_TRX</th>\n",
       "      <th>PURCHASES_TRX</th>\n",
       "      <th>CREDIT_LIMIT</th>\n",
       "      <th>PAYMENTS</th>\n",
       "      <th>MINIMUM_PAYMENTS</th>\n",
       "      <th>PRC_FULL_PAYMENT</th>\n",
       "      <th>TENURE</th>\n",
       "    </tr>\n",
       "  </thead>\n",
       "  <tbody>\n",
       "    <tr>\n",
       "      <th>0</th>\n",
       "      <td>C10001</td>\n",
       "      <td>40.900749</td>\n",
       "      <td>0.818182</td>\n",
       "      <td>95.40</td>\n",
       "      <td>0.00</td>\n",
       "      <td>95.4</td>\n",
       "      <td>0.000000</td>\n",
       "      <td>0.166667</td>\n",
       "      <td>0.0</td>\n",
       "      <td>0.083333</td>\n",
       "      <td>0.00</td>\n",
       "      <td>0</td>\n",
       "      <td>2</td>\n",
       "      <td>1000.0</td>\n",
       "      <td>201.802084</td>\n",
       "      <td>139.509787</td>\n",
       "      <td>0.000000</td>\n",
       "      <td>12</td>\n",
       "    </tr>\n",
       "    <tr>\n",
       "      <th>1</th>\n",
       "      <td>C10002</td>\n",
       "      <td>3202.467416</td>\n",
       "      <td>0.909091</td>\n",
       "      <td>0.00</td>\n",
       "      <td>0.00</td>\n",
       "      <td>0.0</td>\n",
       "      <td>6442.945483</td>\n",
       "      <td>0.000000</td>\n",
       "      <td>0.0</td>\n",
       "      <td>0.000000</td>\n",
       "      <td>0.25</td>\n",
       "      <td>4</td>\n",
       "      <td>0</td>\n",
       "      <td>7000.0</td>\n",
       "      <td>4103.032597</td>\n",
       "      <td>1072.340217</td>\n",
       "      <td>0.222222</td>\n",
       "      <td>12</td>\n",
       "    </tr>\n",
       "    <tr>\n",
       "      <th>2</th>\n",
       "      <td>C10003</td>\n",
       "      <td>2495.148862</td>\n",
       "      <td>1.000000</td>\n",
       "      <td>773.17</td>\n",
       "      <td>773.17</td>\n",
       "      <td>0.0</td>\n",
       "      <td>0.000000</td>\n",
       "      <td>1.000000</td>\n",
       "      <td>1.0</td>\n",
       "      <td>0.000000</td>\n",
       "      <td>0.00</td>\n",
       "      <td>0</td>\n",
       "      <td>12</td>\n",
       "      <td>7500.0</td>\n",
       "      <td>622.066742</td>\n",
       "      <td>627.284787</td>\n",
       "      <td>0.000000</td>\n",
       "      <td>12</td>\n",
       "    </tr>\n",
       "  </tbody>\n",
       "</table>\n",
       "</div>"
      ],
      "text/plain": [
       "  CUST_ID      BALANCE  BALANCE_FREQUENCY  PURCHASES  ONEOFF_PURCHASES  \\\n",
       "0  C10001    40.900749           0.818182      95.40              0.00   \n",
       "1  C10002  3202.467416           0.909091       0.00              0.00   \n",
       "2  C10003  2495.148862           1.000000     773.17            773.17   \n",
       "\n",
       "   INSTALLMENTS_PURCHASES  CASH_ADVANCE  PURCHASES_FREQUENCY  \\\n",
       "0                    95.4      0.000000             0.166667   \n",
       "1                     0.0   6442.945483             0.000000   \n",
       "2                     0.0      0.000000             1.000000   \n",
       "\n",
       "   ONEOFF_PURCHASES_FREQUENCY  PURCHASES_INSTALLMENTS_FREQUENCY  \\\n",
       "0                         0.0                          0.083333   \n",
       "1                         0.0                          0.000000   \n",
       "2                         1.0                          0.000000   \n",
       "\n",
       "   CASH_ADVANCE_FREQUENCY  CASH_ADVANCE_TRX  PURCHASES_TRX  CREDIT_LIMIT  \\\n",
       "0                    0.00                 0              2        1000.0   \n",
       "1                    0.25                 4              0        7000.0   \n",
       "2                    0.00                 0             12        7500.0   \n",
       "\n",
       "      PAYMENTS  MINIMUM_PAYMENTS  PRC_FULL_PAYMENT  TENURE  \n",
       "0   201.802084        139.509787          0.000000      12  \n",
       "1  4103.032597       1072.340217          0.222222      12  \n",
       "2   622.066742        627.284787          0.000000      12  "
      ]
     },
     "execution_count": 2,
     "metadata": {},
     "output_type": "execute_result"
    }
   ],
   "source": [
    "df = pd.read_csv('/home/anvar/CC GENERAL.csv')\n",
    "df.dropna(inplace=True)\n",
    "df.head(3)"
   ]
  },
  {
   "cell_type": "code",
   "execution_count": 3,
   "id": "6eb01082",
   "metadata": {},
   "outputs": [],
   "source": [
    "columns = df.columns\n",
    "X = df[columns[1:]]"
   ]
  },
  {
   "cell_type": "code",
   "execution_count": 4,
   "id": "62544add",
   "metadata": {},
   "outputs": [],
   "source": [
    "X_standardized = (X - X.mean(axis=0)) / X.std(axis=0)\n",
    "X_centered = X - X.mean(axis=0)"
   ]
  },
  {
   "cell_type": "markdown",
   "id": "5f597d94",
   "metadata": {},
   "source": [
    "# Try KMeans with different K"
   ]
  },
  {
   "cell_type": "code",
   "execution_count": 5,
   "id": "01467d8d",
   "metadata": {},
   "outputs": [],
   "source": [
    "from sklearn.cluster import KMeans\n",
    "from tqdm import tqdm\n",
    "import matplotlib.pyplot as plt\n",
    "from sklearn.metrics import adjusted_rand_score\n",
    "import numpy as np"
   ]
  },
  {
   "cell_type": "code",
   "execution_count": 6,
   "id": "c7f6ea5c",
   "metadata": {},
   "outputs": [
    {
     "name": "stderr",
     "output_type": "stream",
     "text": [
      "100%|██████████| 19/19 [00:20<00:00,  1.07s/it]\n"
     ]
    }
   ],
   "source": [
    "inertia = []\n",
    "results_df = pd.DataFrame()\n",
    "clusters = range(2, 21)\n",
    "\n",
    "for k in tqdm(clusters):\n",
    "    \n",
    "    # original\n",
    "    kmeans = KMeans(n_clusters=k)\n",
    "    kmeans.fit(X)\n",
    "    results_df[f'clusters_kmeans_{k}'] = kmeans.predict(X)\n",
    "   \n",
    "    # standardized\n",
    "    kmeans = KMeans(n_clusters=k)\n",
    "    kmeans.fit(X_standardized)\n",
    "    results_df[f'clusters_kmeans_std{k}'] = kmeans.predict(X_standardized)\n",
    "    inertia.append(kmeans.inertia_)\n",
    "    \n",
    "    # centered\n",
    "    kmeans = KMeans(n_clusters=k)\n",
    "    kmeans.fit(X_centered)\n",
    "    results_df[f'clusters_kmeans_center{k}'] = kmeans.predict(X_centered)"
   ]
  },
  {
   "cell_type": "code",
   "execution_count": 7,
   "id": "8e3d03a4",
   "metadata": {},
   "outputs": [
    {
     "data": {
      "image/png": "[encoded data removed]",
      "text/plain": [
       "<Figure size 432x288 with 1 Axes>"
      ]
     },
     "metadata": {
      "needs_background": "light"
     },
     "output_type": "display_data"
    }
   ],
   "source": [
    "plt.plot(clusters, inertia);\n",
    "plt.xlabel('Number of clusters')\n",
    "plt.ylabel('Inertia');"
   ]
  },
  {
   "cell_type": "code",
   "execution_count": 8,
   "id": "65f46a51",
   "metadata": {},
   "outputs": [
    {
     "name": "stdout",
     "output_type": "stream",
     "text": [
      "0.12316643850927815\n"
     ]
    }
   ],
   "source": [
    "k = 8\n",
    "print(adjusted_rand_score(results_df[f'clusters_kmeans_std{k}'], results_df[f'clusters_kmeans_{k}']))"
   ]
  },
  {
   "cell_type": "code",
   "execution_count": 9,
   "id": "0d61f463",
   "metadata": {},
   "outputs": [
    {
     "name": "stdout",
     "output_type": "stream",
     "text": [
      "0.12366228303588407\n"
     ]
    }
   ],
   "source": [
    "k = 8\n",
    "print(adjusted_rand_score(results_df[f'clusters_kmeans_std{k}'], results_df[f'clusters_kmeans_center{k}']))"
   ]
  },
  {
   "cell_type": "code",
   "execution_count": 10,
   "id": "67277b1b",
   "metadata": {},
   "outputs": [
    {
     "data": {
      "text/plain": [
       "0    1069\n",
       "1    1965\n",
       "2    2651\n",
       "3     839\n",
       "4     412\n",
       "5     588\n",
       "6    1082\n",
       "7      30\n",
       "Name: clusters_kmeans_std8, dtype: int64"
      ]
     },
     "execution_count": 10,
     "metadata": {},
     "output_type": "execute_result"
    }
   ],
   "source": [
    "results_df['clusters_kmeans_std8'].value_counts().sort_index()"
   ]
  },
  {
   "cell_type": "code",
   "execution_count": 11,
   "id": "91dcb3f2",
   "metadata": {},
   "outputs": [
    {
     "data": {
      "text/plain": [
       "BALANCE                              134.209470\n",
       "BALANCE_FREQUENCY                      0.428909\n",
       "PURCHASES                            368.030374\n",
       "ONEOFF_PURCHASES                     218.495463\n",
       "INSTALLMENTS_PURCHASES               149.812554\n",
       "CASH_ADVANCE                         328.844623\n",
       "PURCHASES_FREQUENCY                    0.270649\n",
       "ONEOFF_PURCHASES_FREQUENCY             0.077554\n",
       "PURCHASES_INSTALLMENTS_FREQUENCY       0.185443\n",
       "CASH_ADVANCE_FREQUENCY                 0.033785\n",
       "CASH_ADVANCE_TRX                       0.729654\n",
       "PURCHASES_TRX                          4.474275\n",
       "CREDIT_LIMIT                        3902.188442\n",
       "PAYMENTS                            1328.360767\n",
       "MINIMUM_PAYMENTS                     162.350261\n",
       "PRC_FULL_PAYMENT                       0.277429\n",
       "TENURE                                11.809167\n",
       "dtype: float64"
      ]
     },
     "execution_count": 11,
     "metadata": {},
     "output_type": "execute_result"
    }
   ],
   "source": [
    "df[(results_df['clusters_kmeans_std8'] == 0).values].mean()"
   ]
  },
  {
   "cell_type": "code",
   "execution_count": 12,
   "id": "9d711804",
   "metadata": {},
   "outputs": [
    {
     "data": {
      "text/plain": [
       "BALANCE                             1621.705378\n",
       "BALANCE_FREQUENCY                      0.976517\n",
       "PURCHASES                            228.694447\n",
       "ONEOFF_PURCHASES                     180.069959\n",
       "INSTALLMENTS_PURCHASES                48.811166\n",
       "CASH_ADVANCE                         797.895185\n",
       "PURCHASES_FREQUENCY                    0.142807\n",
       "ONEOFF_PURCHASES_FREQUENCY             0.079863\n",
       "PURCHASES_INSTALLMENTS_FREQUENCY       0.063831\n",
       "CASH_ADVANCE_FREQUENCY                 0.159815\n",
       "CASH_ADVANCE_TRX                       3.140324\n",
       "PURCHASES_TRX                          2.632214\n",
       "CREDIT_LIMIT                        3379.391425\n",
       "PAYMENTS                            1032.685745\n",
       "MINIMUM_PAYMENTS                     860.940670\n",
       "PRC_FULL_PAYMENT                       0.020302\n",
       "TENURE                                11.881554\n",
       "dtype: float64"
      ]
     },
     "execution_count": 12,
     "metadata": {},
     "output_type": "execute_result"
    }
   ],
   "source": [
    "df[(results_df['clusters_kmeans_std8'] == 2).values].mean()"
   ]
  },
  {
   "cell_type": "code",
   "execution_count": null,
   "id": "845bd8ee",
   "metadata": {},
   "outputs": [],
   "source": []
  },
  {
   "cell_type": "markdown",
   "id": "40ad2e28",
   "metadata": {},
   "source": [
    "# Hierarchical clustering"
   ]
  },
  {
   "cell_type": "code",
   "execution_count": 13,
   "id": "c127e909",
   "metadata": {},
   "outputs": [
    {
     "data": {
      "text/plain": [
       "(array([0, 1, 2, 3, 4, 5, 6, 7, 8, 9]),\n",
       " array([8627,    1,    1,    1,    1,    1,    1,    1,    1,    1]))"
      ]
     },
     "execution_count": 13,
     "metadata": {},
     "output_type": "execute_result"
    }
   ],
   "source": [
    "from sklearn.cluster import AgglomerativeClustering\n",
    "\n",
    "ac = AgglomerativeClustering(n_clusters=10,\n",
    "                             affinity='euclidean',\n",
    "                             linkage='single')\n",
    "\n",
    "prediction = ac.fit_predict(X_standardized)\n",
    "np.unique(prediction, return_counts=True)"
   ]
  },
  {
   "cell_type": "code",
   "execution_count": 14,
   "id": "8d4e5478",
   "metadata": {},
   "outputs": [
    {
     "data": {
      "text/plain": [
       "(array([0, 1, 2, 3, 4, 5, 6, 7, 8, 9]),\n",
       " array([  20, 8525,   36,   27,   16,    1,    2,    1,    7,    1]))"
      ]
     },
     "execution_count": 14,
     "metadata": {},
     "output_type": "execute_result"
    }
   ],
   "source": [
    "ac = AgglomerativeClustering(n_clusters=10,\n",
    "                             affinity='euclidean',\n",
    "                             linkage='complete')\n",
    "\n",
    "prediction = ac.fit_predict(X_standardized)\n",
    "np.unique(prediction, return_counts=True)"
   ]
  },
  {
   "cell_type": "code",
   "execution_count": null,
   "id": "bf3ef709",
   "metadata": {},
   "outputs": [],
   "source": []
  },
  {
   "cell_type": "markdown",
   "id": "f0d79c6e",
   "metadata": {},
   "source": [
    "\n",
    "# Apply PCA"
   ]
  },
  {
   "cell_type": "code",
   "execution_count": 15,
   "id": "6cb76904",
   "metadata": {},
   "outputs": [],
   "source": [
    "from sklearn.decomposition import PCA"
   ]
  },
  {
   "cell_type": "code",
   "execution_count": 16,
   "id": "55154e04",
   "metadata": {},
   "outputs": [
    {
     "name": "stdout",
     "output_type": "stream",
     "text": [
      "[0.47493166 0.17814415]\n"
     ]
    }
   ],
   "source": [
    "pca = PCA(2)\n",
    "X_pca2 = pca.fit_transform(X_centered[columns[1:]])\n",
    "print(pca.explained_variance_ratio_)"
   ]
  },
  {
   "cell_type": "code",
   "execution_count": 17,
   "id": "90cb7957",
   "metadata": {},
   "outputs": [
    {
     "data": {
      "image/png": "[encoded data removed]",
      "text/plain": [
       "<Figure size 432x288 with 1 Axes>"
      ]
     },
     "metadata": {
      "needs_background": "light"
     },
     "output_type": "display_data"
    }
   ],
   "source": [
    "k = 5\n",
    "plt.scatter(X_pca2[:, 0], X_pca2[:, 1], c=results_df[f'clusters_kmeans_std{k}']);"
   ]
  },
  {
   "cell_type": "code",
   "execution_count": 18,
   "id": "a1c0de84",
   "metadata": {},
   "outputs": [
    {
     "name": "stdout",
     "output_type": "stream",
     "text": [
      "CREDIT_LIMIT 0.687\n",
      "PAYMENTS 0.488\n",
      "PURCHASES 0.295\n",
      "BALANCE 0.291\n",
      "CASH_ADVANCE 0.217\n",
      "ONEOFF_PURCHASES 0.213\n",
      "MINIMUM_PAYMENTS 0.136\n",
      "INSTALLMENTS_PURCHASES 0.082\n",
      "PURCHASES_TRX 0.002\n",
      "CASH_ADVANCE_TRX 0.0\n",
      "TENURE 0.0\n",
      "ONEOFF_PURCHASES_FREQUENCY 0.0\n",
      "PURCHASES_FREQUENCY 0.0\n",
      "CASH_ADVANCE_FREQUENCY 0.0\n",
      "PURCHASES_INSTALLMENTS_FREQUENCY 0.0\n",
      "BALANCE_FREQUENCY 0.0\n",
      "PRC_FULL_PAYMENT 0.0\n"
     ]
    }
   ],
   "source": [
    "components = dict(zip(columns[1:], pca.components_[0]))\n",
    "components = sorted(components.items(), key=lambda x: x[1], reverse=True)\n",
    "\n",
    "for c, w in components:\n",
    "    print(c, np.round(w, 3))"
   ]
  },
  {
   "cell_type": "code",
   "execution_count": null,
   "id": "c16f3371",
   "metadata": {},
   "outputs": [],
   "source": []
  },
  {
   "cell_type": "markdown",
   "id": "5931b19a",
   "metadata": {},
   "source": [
    "# Attempt 1.\n",
    "\n",
    "Select columns which constitutes the largest variance ratio"
   ]
  },
  {
   "cell_type": "code",
   "execution_count": 19,
   "id": "1426e264",
   "metadata": {},
   "outputs": [],
   "source": [
    "selected_cols = ['CREDIT_LIMIT', 'PAYMENTS', 'PURCHASES', 'BALANCE', 'CASH_ADVANCE', 'ONEOFF_PURCHASES', 'MINIMUM_PAYMENTS']"
   ]
  },
  {
   "cell_type": "code",
   "execution_count": 20,
   "id": "aec09833",
   "metadata": {},
   "outputs": [
    {
     "data": {
      "text/plain": [
       "(array([0, 1]), array([8635,    1]))"
      ]
     },
     "execution_count": 20,
     "metadata": {},
     "output_type": "execute_result"
    }
   ],
   "source": [
    "ac = AgglomerativeClustering(n_clusters=2,\n",
    "                             affinity='euclidean',\n",
    "                             linkage='single')\n",
    "\n",
    "prediction = ac.fit_predict(X_standardized[selected_cols])\n",
    "np.unique(prediction, return_counts=True)"
   ]
  },
  {
   "cell_type": "code",
   "execution_count": 21,
   "id": "b295b063",
   "metadata": {},
   "outputs": [
    {
     "data": {
      "text/plain": [
       "(array([0, 1]), array([8613,   23]))"
      ]
     },
     "execution_count": 21,
     "metadata": {},
     "output_type": "execute_result"
    }
   ],
   "source": [
    "ac = AgglomerativeClustering(n_clusters=2,\n",
    "                             affinity='euclidean',\n",
    "                             linkage='complete')\n",
    "\n",
    "prediction = ac.fit_predict(X_standardized[selected_cols])\n",
    "np.unique(prediction, return_counts=True)"
   ]
  },
  {
   "cell_type": "markdown",
   "id": "25357654",
   "metadata": {},
   "source": [
    "# Attempt 2. \n",
    "\n",
    "Use PCA representation"
   ]
  },
  {
   "cell_type": "code",
   "execution_count": 22,
   "id": "3cd65463",
   "metadata": {},
   "outputs": [
    {
     "name": "stdout",
     "output_type": "stream",
     "text": [
      "95.52 %\n"
     ]
    }
   ],
   "source": [
    "pca = PCA(5)\n",
    "X_pca5 = pca.fit_transform(X_centered[columns[1:]])\n",
    "print(np.round(pca.explained_variance_ratio_.sum()*100, 2), '%')"
   ]
  },
  {
   "cell_type": "code",
   "execution_count": 23,
   "id": "e71c0469",
   "metadata": {},
   "outputs": [
    {
     "data": {
      "text/plain": [
       "(array([0, 1]), array([8617,   19]))"
      ]
     },
     "execution_count": 23,
     "metadata": {},
     "output_type": "execute_result"
    }
   ],
   "source": [
    "ac = AgglomerativeClustering(n_clusters=2,\n",
    "                             affinity='euclidean',\n",
    "                             linkage='complete')\n",
    "\n",
    "prediction = ac.fit_predict(X_pca5)\n",
    "np.unique(prediction, return_counts=True)"
   ]
  },
  {
   "cell_type": "code",
   "execution_count": null,
   "id": "eb94f190",
   "metadata": {},
   "outputs": [],
   "source": []
  },
  {
   "cell_type": "markdown",
   "id": "390ca3e6",
   "metadata": {},
   "source": [
    "# Attempt 3. \n",
    "\n",
    "Remove outliers"
   ]
  },
  {
   "cell_type": "code",
   "execution_count": 24,
   "id": "83362f1b",
   "metadata": {},
   "outputs": [],
   "source": [
    "def detect_outliers_simple(x):\n",
    "    x = x.values\n",
    "    q3 = np.quantile(x, 0.75)\n",
    "    q2 = np.quantile(x, 0.25)\n",
    "    iqr = q3-q2\n",
    "    lower_outliers = (q2-1.5*iqr) > x\n",
    "    upper_outliers = (q3+1.5*iqr) < x\n",
    "    return lower_outliers + upper_outliers"
   ]
  },
  {
   "cell_type": "code",
   "execution_count": 25,
   "id": "091fe98b",
   "metadata": {},
   "outputs": [],
   "source": [
    "columns = df.columns"
   ]
  },
  {
   "cell_type": "code",
   "execution_count": 26,
   "id": "3f92349e",
   "metadata": {},
   "outputs": [
    {
     "name": "stdout",
     "output_type": "stream",
     "text": [
      "BALANCE 8.0 %\n",
      "BALANCE_FREQUENCY 17.0 %\n",
      "PURCHASES 9.0 %\n",
      "ONEOFF_PURCHASES 11.0 %\n",
      "INSTALLMENTS_PURCHASES 9.0 %\n",
      "CASH_ADVANCE 11.0 %\n",
      "PURCHASES_FREQUENCY 0.0 %\n",
      "ONEOFF_PURCHASES_FREQUENCY 9.0 %\n",
      "PURCHASES_INSTALLMENTS_FREQUENCY 0.0 %\n",
      "CASH_ADVANCE_FREQUENCY 4.0 %\n",
      "CASH_ADVANCE_TRX 9.0 %\n",
      "PURCHASES_TRX 8.0 %\n",
      "CREDIT_LIMIT 3.0 %\n",
      "PAYMENTS 9.0 %\n",
      "MINIMUM_PAYMENTS 10.0 %\n",
      "PRC_FULL_PAYMENT 16.0 %\n",
      "TENURE 15.0 %\n"
     ]
    }
   ],
   "source": [
    "cols_outliers = dict()\n",
    "outliers = [False] * df.shape[0]\n",
    "\n",
    "for col in columns[1:]:\n",
    "        cols_outliers[col] = detect_outliers_simple(df[col])\n",
    "        outliers += cols_outliers[col]\n",
    "        print(col, np.round(cols_outliers[col].sum() / df.shape[0] * 100), '%')"
   ]
  },
  {
   "cell_type": "code",
   "execution_count": 27,
   "id": "05a98a89",
   "metadata": {},
   "outputs": [],
   "source": [
    "X_drop_outliers = X_standardized[~outliers]"
   ]
  },
  {
   "cell_type": "code",
   "execution_count": 28,
   "id": "ed77beed",
   "metadata": {},
   "outputs": [
    {
     "data": {
      "text/plain": [
       "(2951, 17)"
      ]
     },
     "execution_count": 28,
     "metadata": {},
     "output_type": "execute_result"
    }
   ],
   "source": [
    "X_drop_outliers.shape"
   ]
  },
  {
   "cell_type": "markdown",
   "id": "e82fafe5",
   "metadata": {},
   "source": [
    "only ~40% of the data left"
   ]
  },
  {
   "cell_type": "code",
   "execution_count": null,
   "id": "1abde2fe",
   "metadata": {},
   "outputs": [],
   "source": []
  }
 ],
 "metadata": {
  "kernelspec": {
   "display_name": "Python 3",
   "language": "python",
   "name": "python3"
  },
  "language_info": {
   "codemirror_mode": {
    "name": "ipython",
    "version": 3
   },
   "file_extension": ".py",
   "mimetype": "text/x-python",
   "name": "python",
   "nbconvert_exporter": "python",
   "pygments_lexer": "ipython3",
   "version": "3.8.8"
  }
 },
 "nbformat": 4,
 "nbformat_minor": 5
}
