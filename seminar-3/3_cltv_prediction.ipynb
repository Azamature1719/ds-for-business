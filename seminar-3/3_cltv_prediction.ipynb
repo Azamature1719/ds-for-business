{
  "cells": [
    {
      "cell_type": "markdown",
      "id": "367a1fb5-28b8-407f-89a3-b82c7da2b1af",
      "metadata": {
        "id": "367a1fb5-28b8-407f-89a3-b82c7da2b1af"
      },
      "source": [
        "# Customer Lifetime Value (CLTV) prediction\n",
        "\n",
        "__Customer Lifetime Value (CLTV)__ is the total revenue a customer will generate for a business over the duration of their relationship.\n",
        "\n",
        "By analyzing CLTV, businesses can:\n",
        "\n",
        "* __Understand the profitability of a customer__: CLTV allows businesses to identify their most profitable customers and develop targeted marketing strategies to retain them. By doing so, businesses can optimize their marketing budget and improve their ROI.\n",
        "\n",
        "* __Develop a customer-centric strategy__: By analyzing CLTV, businesses can understand customer behavior, preferences, and purchase history. This information can be used to develop a customer-centric strategy that meets the needs and expectations of the customers.\n",
        "\n",
        "* __Predict future revenue__: CLTV allows businesses to forecast future revenue by identifying the revenue potential of each customer. This information can be used to develop a revenue forecasting model that helps businesses to plan their budget and resources.\n",
        "\n",
        "* __Improve customer loyalty__: CLTV helps businesses to identify their most loyal customers and develop targeted strategies to retain them. By doing so, businesses can improve customer loyalty, increase customer lifetime value, and reduce customer churn.\n",
        "\n",
        "Overall, CLTV is a powerful metric that can help businesses to optimize their marketing strategy, improve customer loyalty, and increase revenue."
      ]
    },
    {
      "cell_type": "markdown",
      "id": "a2eb338c-7586-448a-82f6-1ef051a658a2",
      "metadata": {
        "id": "a2eb338c-7586-448a-82f6-1ef051a658a2"
      },
      "source": [
        "We have the transactional data of a retail business. Each row represents a single transaction and contains the following information:\n",
        "\n",
        "* CustomerID: unique identifier for the customer who made the purchase.\n",
        "* InvoiceNo: unique identifier for the transaction.\n",
        "* InvoiceDate: the date the transaction occurred in the format DD/MM/YYYY.\n",
        "* StockCode: unique identifier for the product purchased.\n",
        "* Description: description of the product purchased.\n",
        "* Quantity: the number of units of the product purchased in the transaction.\n",
        "* UnitPrice: the price of a single unit of the product."
      ]
    },
    {
      "cell_type": "markdown",
      "id": "eb3e7e01-6bec-4861-a9cf-71f7dca7f1a2",
      "metadata": {
        "tags": [],
        "id": "eb3e7e01-6bec-4861-a9cf-71f7dca7f1a2"
      },
      "source": [
        "## Data preprocessing"
      ]
    },
    {
      "cell_type": "code",
      "execution_count": 1,
      "id": "94588622-da5a-437d-ac64-9739c806db43",
      "metadata": {
        "tags": [],
        "colab": {
          "base_uri": "https://localhost:8080/",
          "height": 204
        },
        "id": "94588622-da5a-437d-ac64-9739c806db43",
        "outputId": "adb40af7-7f03-4e88-a30d-5e95dee93db0"
      },
      "outputs": [
        {
          "output_type": "execute_result",
          "data": {
            "text/plain": [
              "   CustomerID InvoiceNo InvoiceDate StockCode  \\\n",
              "0     17850.0    536365  25/09/2020    85123A   \n",
              "1     17850.0    536365  25/09/2020     71053   \n",
              "2     17850.0    536365  25/09/2020    84406B   \n",
              "3     17850.0    536365  25/09/2020    84029G   \n",
              "4     17850.0    536365  25/09/2020    84029E   \n",
              "\n",
              "                           Description  Quantity  UnitPrice  \n",
              "0   WHITE HANGING HEART T-LIGHT HOLDER         6      8.415  \n",
              "1                  WHITE METAL LANTERN         6     11.187  \n",
              "2       CREAM CUPID HEARTS COAT HANGER         8      9.075  \n",
              "3  KNITTED UNION FLAG HOT WATER BOTTLE         6     11.187  \n",
              "4       RED WOOLLY HOTTIE WHITE HEART.         6     11.187  "
            ],
            "text/html": [
              "\n",
              "  <div id=\"df-dfa412d7-6bc2-4f16-a0b8-80b18aaa282d\">\n",
              "    <div class=\"colab-df-container\">\n",
              "      <div>\n",
              "<style scoped>\n",
              "    .dataframe tbody tr th:only-of-type {\n",
              "        vertical-align: middle;\n",
              "    }\n",
              "\n",
              "    .dataframe tbody tr th {\n",
              "        vertical-align: top;\n",
              "    }\n",
              "\n",
              "    .dataframe thead th {\n",
              "        text-align: right;\n",
              "    }\n",
              "</style>\n",
              "<table border=\"1\" class=\"dataframe\">\n",
              "  <thead>\n",
              "    <tr style=\"text-align: right;\">\n",
              "      <th></th>\n",
              "      <th>CustomerID</th>\n",
              "      <th>InvoiceNo</th>\n",
              "      <th>InvoiceDate</th>\n",
              "      <th>StockCode</th>\n",
              "      <th>Description</th>\n",
              "      <th>Quantity</th>\n",
              "      <th>UnitPrice</th>\n",
              "    </tr>\n",
              "  </thead>\n",
              "  <tbody>\n",
              "    <tr>\n",
              "      <th>0</th>\n",
              "      <td>17850.0</td>\n",
              "      <td>536365</td>\n",
              "      <td>25/09/2020</td>\n",
              "      <td>85123A</td>\n",
              "      <td>WHITE HANGING HEART T-LIGHT HOLDER</td>\n",
              "      <td>6</td>\n",
              "      <td>8.415</td>\n",
              "    </tr>\n",
              "    <tr>\n",
              "      <th>1</th>\n",
              "      <td>17850.0</td>\n",
              "      <td>536365</td>\n",
              "      <td>25/09/2020</td>\n",
              "      <td>71053</td>\n",
              "      <td>WHITE METAL LANTERN</td>\n",
              "      <td>6</td>\n",
              "      <td>11.187</td>\n",
              "    </tr>\n",
              "    <tr>\n",
              "      <th>2</th>\n",
              "      <td>17850.0</td>\n",
              "      <td>536365</td>\n",
              "      <td>25/09/2020</td>\n",
              "      <td>84406B</td>\n",
              "      <td>CREAM CUPID HEARTS COAT HANGER</td>\n",
              "      <td>8</td>\n",
              "      <td>9.075</td>\n",
              "    </tr>\n",
              "    <tr>\n",
              "      <th>3</th>\n",
              "      <td>17850.0</td>\n",
              "      <td>536365</td>\n",
              "      <td>25/09/2020</td>\n",
              "      <td>84029G</td>\n",
              "      <td>KNITTED UNION FLAG HOT WATER BOTTLE</td>\n",
              "      <td>6</td>\n",
              "      <td>11.187</td>\n",
              "    </tr>\n",
              "    <tr>\n",
              "      <th>4</th>\n",
              "      <td>17850.0</td>\n",
              "      <td>536365</td>\n",
              "      <td>25/09/2020</td>\n",
              "      <td>84029E</td>\n",
              "      <td>RED WOOLLY HOTTIE WHITE HEART.</td>\n",
              "      <td>6</td>\n",
              "      <td>11.187</td>\n",
              "    </tr>\n",
              "  </tbody>\n",
              "</table>\n",
              "</div>\n",
              "      <button class=\"colab-df-convert\" onclick=\"convertToInteractive('df-dfa412d7-6bc2-4f16-a0b8-80b18aaa282d')\"\n",
              "              title=\"Convert this dataframe to an interactive table.\"\n",
              "              style=\"display:none;\">\n",
              "        \n",
              "  <svg xmlns=\"http://www.w3.org/2000/svg\" height=\"24px\"viewBox=\"0 0 24 24\"\n",
              "       width=\"24px\">\n",
              "    <path d=\"M0 0h24v24H0V0z\" fill=\"none\"/>\n",
              "    <path d=\"M18.56 5.44l.94 2.06.94-2.06 2.06-.94-2.06-.94-.94-2.06-.94 2.06-2.06.94zm-11 1L8.5 8.5l.94-2.06 2.06-.94-2.06-.94L8.5 2.5l-.94 2.06-2.06.94zm10 10l.94 2.06.94-2.06 2.06-.94-2.06-.94-.94-2.06-.94 2.06-2.06.94z\"/><path d=\"M17.41 7.96l-1.37-1.37c-.4-.4-.92-.59-1.43-.59-.52 0-1.04.2-1.43.59L10.3 9.45l-7.72 7.72c-.78.78-.78 2.05 0 2.83L4 21.41c.39.39.9.59 1.41.59.51 0 1.02-.2 1.41-.59l7.78-7.78 2.81-2.81c.8-.78.8-2.07 0-2.86zM5.41 20L4 18.59l7.72-7.72 1.47 1.35L5.41 20z\"/>\n",
              "  </svg>\n",
              "      </button>\n",
              "      \n",
              "  <style>\n",
              "    .colab-df-container {\n",
              "      display:flex;\n",
              "      flex-wrap:wrap;\n",
              "      gap: 12px;\n",
              "    }\n",
              "\n",
              "    .colab-df-convert {\n",
              "      background-color: #E8F0FE;\n",
              "      border: none;\n",
              "      border-radius: 50%;\n",
              "      cursor: pointer;\n",
              "      display: none;\n",
              "      fill: #1967D2;\n",
              "      height: 32px;\n",
              "      padding: 0 0 0 0;\n",
              "      width: 32px;\n",
              "    }\n",
              "\n",
              "    .colab-df-convert:hover {\n",
              "      background-color: #E2EBFA;\n",
              "      box-shadow: 0px 1px 2px rgba(60, 64, 67, 0.3), 0px 1px 3px 1px rgba(60, 64, 67, 0.15);\n",
              "      fill: #174EA6;\n",
              "    }\n",
              "\n",
              "    [theme=dark] .colab-df-convert {\n",
              "      background-color: #3B4455;\n",
              "      fill: #D2E3FC;\n",
              "    }\n",
              "\n",
              "    [theme=dark] .colab-df-convert:hover {\n",
              "      background-color: #434B5C;\n",
              "      box-shadow: 0px 1px 3px 1px rgba(0, 0, 0, 0.15);\n",
              "      filter: drop-shadow(0px 1px 2px rgba(0, 0, 0, 0.3));\n",
              "      fill: #FFFFFF;\n",
              "    }\n",
              "  </style>\n",
              "\n",
              "      <script>\n",
              "        const buttonEl =\n",
              "          document.querySelector('#df-dfa412d7-6bc2-4f16-a0b8-80b18aaa282d button.colab-df-convert');\n",
              "        buttonEl.style.display =\n",
              "          google.colab.kernel.accessAllowed ? 'block' : 'none';\n",
              "\n",
              "        async function convertToInteractive(key) {\n",
              "          const element = document.querySelector('#df-dfa412d7-6bc2-4f16-a0b8-80b18aaa282d');\n",
              "          const dataTable =\n",
              "            await google.colab.kernel.invokeFunction('convertToInteractive',\n",
              "                                                     [key], {});\n",
              "          if (!dataTable) return;\n",
              "\n",
              "          const docLinkHtml = 'Like what you see? Visit the ' +\n",
              "            '<a target=\"_blank\" href=https://colab.research.google.com/notebooks/data_table.ipynb>data table notebook</a>'\n",
              "            + ' to learn more about interactive tables.';\n",
              "          element.innerHTML = '';\n",
              "          dataTable['output_type'] = 'display_data';\n",
              "          await google.colab.output.renderOutput(dataTable, element);\n",
              "          const docLink = document.createElement('div');\n",
              "          docLink.innerHTML = docLinkHtml;\n",
              "          element.appendChild(docLink);\n",
              "        }\n",
              "      </script>\n",
              "    </div>\n",
              "  </div>\n",
              "  "
            ]
          },
          "metadata": {},
          "execution_count": 1
        }
      ],
      "source": [
        "import pandas as pd\n",
        "\n",
        "df = pd.read_csv(\"https://github.com/Polanitz/CLV-E2E-Research-to-Production/raw/main/company.zip\", encoding=\"cp1252\")\n",
        "df.head()"
      ]
    },
    {
      "cell_type": "markdown",
      "id": "ccde7c3c-0f9e-4d37-b359-e52bf163f972",
      "metadata": {
        "id": "ccde7c3c-0f9e-4d37-b359-e52bf163f972"
      },
      "source": [
        "Let us check basic statistics of the data"
      ]
    },
    {
      "cell_type": "code",
      "execution_count": 2,
      "id": "8db4a24b-870f-4118-88b7-9d49267834ee",
      "metadata": {
        "tags": [],
        "colab": {
          "base_uri": "https://localhost:8080/",
          "height": 297
        },
        "id": "8db4a24b-870f-4118-88b7-9d49267834ee",
        "outputId": "5ead5722-25ce-4040-dba2-c6489a6e92c2"
      },
      "outputs": [
        {
          "output_type": "execute_result",
          "data": {
            "text/plain": [
              "          CustomerID       Quantity      UnitPrice\n",
              "count  361878.000000  495478.000000  495478.000000\n",
              "mean    15547.871368       8.605486      14.956993\n",
              "std      1594.402590     227.588756     327.740946\n",
              "min     12346.000000  -80995.000000  -36504.798000\n",
              "25%     14194.000000       1.000000       4.125000\n",
              "50%     15514.000000       3.000000       6.930000\n",
              "75%     16931.000000      10.000000      13.629000\n",
              "max     18287.000000   80995.000000  128601.000000"
            ],
            "text/html": [
              "\n",
              "  <div id=\"df-b7c7bc1a-c735-4c05-81bf-83b84cb9563b\">\n",
              "    <div class=\"colab-df-container\">\n",
              "      <div>\n",
              "<style scoped>\n",
              "    .dataframe tbody tr th:only-of-type {\n",
              "        vertical-align: middle;\n",
              "    }\n",
              "\n",
              "    .dataframe tbody tr th {\n",
              "        vertical-align: top;\n",
              "    }\n",
              "\n",
              "    .dataframe thead th {\n",
              "        text-align: right;\n",
              "    }\n",
              "</style>\n",
              "<table border=\"1\" class=\"dataframe\">\n",
              "  <thead>\n",
              "    <tr style=\"text-align: right;\">\n",
              "      <th></th>\n",
              "      <th>CustomerID</th>\n",
              "      <th>Quantity</th>\n",
              "      <th>UnitPrice</th>\n",
              "    </tr>\n",
              "  </thead>\n",
              "  <tbody>\n",
              "    <tr>\n",
              "      <th>count</th>\n",
              "      <td>361878.000000</td>\n",
              "      <td>495478.000000</td>\n",
              "      <td>495478.000000</td>\n",
              "    </tr>\n",
              "    <tr>\n",
              "      <th>mean</th>\n",
              "      <td>15547.871368</td>\n",
              "      <td>8.605486</td>\n",
              "      <td>14.956993</td>\n",
              "    </tr>\n",
              "    <tr>\n",
              "      <th>std</th>\n",
              "      <td>1594.402590</td>\n",
              "      <td>227.588756</td>\n",
              "      <td>327.740946</td>\n",
              "    </tr>\n",
              "    <tr>\n",
              "      <th>min</th>\n",
              "      <td>12346.000000</td>\n",
              "      <td>-80995.000000</td>\n",
              "      <td>-36504.798000</td>\n",
              "    </tr>\n",
              "    <tr>\n",
              "      <th>25%</th>\n",
              "      <td>14194.000000</td>\n",
              "      <td>1.000000</td>\n",
              "      <td>4.125000</td>\n",
              "    </tr>\n",
              "    <tr>\n",
              "      <th>50%</th>\n",
              "      <td>15514.000000</td>\n",
              "      <td>3.000000</td>\n",
              "      <td>6.930000</td>\n",
              "    </tr>\n",
              "    <tr>\n",
              "      <th>75%</th>\n",
              "      <td>16931.000000</td>\n",
              "      <td>10.000000</td>\n",
              "      <td>13.629000</td>\n",
              "    </tr>\n",
              "    <tr>\n",
              "      <th>max</th>\n",
              "      <td>18287.000000</td>\n",
              "      <td>80995.000000</td>\n",
              "      <td>128601.000000</td>\n",
              "    </tr>\n",
              "  </tbody>\n",
              "</table>\n",
              "</div>\n",
              "      <button class=\"colab-df-convert\" onclick=\"convertToInteractive('df-b7c7bc1a-c735-4c05-81bf-83b84cb9563b')\"\n",
              "              title=\"Convert this dataframe to an interactive table.\"\n",
              "              style=\"display:none;\">\n",
              "        \n",
              "  <svg xmlns=\"http://www.w3.org/2000/svg\" height=\"24px\"viewBox=\"0 0 24 24\"\n",
              "       width=\"24px\">\n",
              "    <path d=\"M0 0h24v24H0V0z\" fill=\"none\"/>\n",
              "    <path d=\"M18.56 5.44l.94 2.06.94-2.06 2.06-.94-2.06-.94-.94-2.06-.94 2.06-2.06.94zm-11 1L8.5 8.5l.94-2.06 2.06-.94-2.06-.94L8.5 2.5l-.94 2.06-2.06.94zm10 10l.94 2.06.94-2.06 2.06-.94-2.06-.94-.94-2.06-.94 2.06-2.06.94z\"/><path d=\"M17.41 7.96l-1.37-1.37c-.4-.4-.92-.59-1.43-.59-.52 0-1.04.2-1.43.59L10.3 9.45l-7.72 7.72c-.78.78-.78 2.05 0 2.83L4 21.41c.39.39.9.59 1.41.59.51 0 1.02-.2 1.41-.59l7.78-7.78 2.81-2.81c.8-.78.8-2.07 0-2.86zM5.41 20L4 18.59l7.72-7.72 1.47 1.35L5.41 20z\"/>\n",
              "  </svg>\n",
              "      </button>\n",
              "      \n",
              "  <style>\n",
              "    .colab-df-container {\n",
              "      display:flex;\n",
              "      flex-wrap:wrap;\n",
              "      gap: 12px;\n",
              "    }\n",
              "\n",
              "    .colab-df-convert {\n",
              "      background-color: #E8F0FE;\n",
              "      border: none;\n",
              "      border-radius: 50%;\n",
              "      cursor: pointer;\n",
              "      display: none;\n",
              "      fill: #1967D2;\n",
              "      height: 32px;\n",
              "      padding: 0 0 0 0;\n",
              "      width: 32px;\n",
              "    }\n",
              "\n",
              "    .colab-df-convert:hover {\n",
              "      background-color: #E2EBFA;\n",
              "      box-shadow: 0px 1px 2px rgba(60, 64, 67, 0.3), 0px 1px 3px 1px rgba(60, 64, 67, 0.15);\n",
              "      fill: #174EA6;\n",
              "    }\n",
              "\n",
              "    [theme=dark] .colab-df-convert {\n",
              "      background-color: #3B4455;\n",
              "      fill: #D2E3FC;\n",
              "    }\n",
              "\n",
              "    [theme=dark] .colab-df-convert:hover {\n",
              "      background-color: #434B5C;\n",
              "      box-shadow: 0px 1px 3px 1px rgba(0, 0, 0, 0.15);\n",
              "      filter: drop-shadow(0px 1px 2px rgba(0, 0, 0, 0.3));\n",
              "      fill: #FFFFFF;\n",
              "    }\n",
              "  </style>\n",
              "\n",
              "      <script>\n",
              "        const buttonEl =\n",
              "          document.querySelector('#df-b7c7bc1a-c735-4c05-81bf-83b84cb9563b button.colab-df-convert');\n",
              "        buttonEl.style.display =\n",
              "          google.colab.kernel.accessAllowed ? 'block' : 'none';\n",
              "\n",
              "        async function convertToInteractive(key) {\n",
              "          const element = document.querySelector('#df-b7c7bc1a-c735-4c05-81bf-83b84cb9563b');\n",
              "          const dataTable =\n",
              "            await google.colab.kernel.invokeFunction('convertToInteractive',\n",
              "                                                     [key], {});\n",
              "          if (!dataTable) return;\n",
              "\n",
              "          const docLinkHtml = 'Like what you see? Visit the ' +\n",
              "            '<a target=\"_blank\" href=https://colab.research.google.com/notebooks/data_table.ipynb>data table notebook</a>'\n",
              "            + ' to learn more about interactive tables.';\n",
              "          element.innerHTML = '';\n",
              "          dataTable['output_type'] = 'display_data';\n",
              "          await google.colab.output.renderOutput(dataTable, element);\n",
              "          const docLink = document.createElement('div');\n",
              "          docLink.innerHTML = docLinkHtml;\n",
              "          element.appendChild(docLink);\n",
              "        }\n",
              "      </script>\n",
              "    </div>\n",
              "  </div>\n",
              "  "
            ]
          },
          "metadata": {},
          "execution_count": 2
        }
      ],
      "source": [
        "df.describe()"
      ]
    },
    {
      "cell_type": "markdown",
      "id": "23cea7c9-bc67-4fd9-9de6-492cad265b25",
      "metadata": {
        "id": "23cea7c9-bc67-4fd9-9de6-492cad265b25"
      },
      "source": [
        "In general, it's not common for quantities or prices to be negative in transactional data. However, negative quantities or prices can occur in certain situations, such as:\n",
        "\n",
        "* __Returns__: If a customer returns an item, the transaction may be recorded as a negative quantity with a negative price. This is because the customer is returning the item and receiving a refund for the amount they paid.\n",
        "\n",
        "* __Discounts__: If a customer receives a discount on an item, the transaction may be recorded as a negative price. This is because the customer is paying less than the original price of the item.\n",
        "\n",
        "* __Data entry errors__: Negative quantities or prices can also occur due to data entry errors, such as accidentally typing a minus sign or entering the wrong value.\n",
        "\n",
        "It's important to identify and handle negative quantities or prices appropriately in your analysis. Depending on the specific situation, you may want to remove these transactions from your dataset, treat them as separate categories, or adjust them to reflect the correct values.\n",
        "\n",
        "We are currently focusing on the machine learning aspect of the solution, so we will skip such observations for now. However, in the real world, such data issues can result in an entirely inappropriate model, which could negatively impact the business. To address this, it may be necessary to identify potential problems in the data gathering and preparation processes and modify the pipeline accordingly."
      ]
    },
    {
      "cell_type": "code",
      "execution_count": 3,
      "id": "f8efb564-1b6d-4b6e-8727-b29057458133",
      "metadata": {
        "tags": [],
        "id": "f8efb564-1b6d-4b6e-8727-b29057458133"
      },
      "outputs": [],
      "source": [
        "# Remove any rows with negative quantities or prices\n",
        "df = df[(df['Quantity'] > 0) & (df['UnitPrice'] > 0)]\n"
      ]
    },
    {
      "cell_type": "markdown",
      "id": "c6b428e3-fac0-4e5a-8e39-ae712681514b",
      "metadata": {
        "id": "c6b428e3-fac0-4e5a-8e39-ae712681514b"
      },
      "source": [
        "Secondly, we have observed that the number of unique CustomerIDs is less than the number of observations in other columns. Since our goal is to predict the lifetime value for each customer, data with missing customer indices is irrelevant. In general, we should investigate potential issues in the data gathering pipeline. However, for simplicity, we will drop these observations for now."
      ]
    },
    {
      "cell_type": "code",
      "execution_count": 4,
      "id": "bcce2d06-51d2-4e4e-8093-39dbabaa260e",
      "metadata": {
        "tags": [],
        "colab": {
          "base_uri": "https://localhost:8080/"
        },
        "id": "bcce2d06-51d2-4e4e-8093-39dbabaa260e",
        "outputId": "270f547e-11c4-4082-cbf3-32888a50a3a5"
      },
      "outputs": [
        {
          "output_type": "execute_result",
          "data": {
            "text/plain": [
              "CustomerID     0\n",
              "InvoiceNo      0\n",
              "InvoiceDate    0\n",
              "StockCode      0\n",
              "Description    0\n",
              "Quantity       0\n",
              "UnitPrice      0\n",
              "dtype: int64"
            ]
          },
          "metadata": {},
          "execution_count": 4
        }
      ],
      "source": [
        "# Remove any rows with missing CustomerID\n",
        "df = df[~df.CustomerID.isna()]\n",
        "\n",
        "# Check whether the descriptions that were missing before have been removed from the dataset\n",
        "\n",
        "df.isna().sum()"
      ]
    },
    {
      "cell_type": "markdown",
      "id": "2c8d8454-9a4f-4ee8-b0e5-00ddf97e2e67",
      "metadata": {
        "id": "2c8d8454-9a4f-4ee8-b0e5-00ddf97e2e67"
      },
      "source": [
        "The 75th percentile and maximum values for the Quantity and UnitPrice columns differ significantly, which could be an indication of outliers in the data. As mentioned earlier, it's important to investigate the cause of such data points before removing them. However, for now, let's proceed with removing them."
      ]
    },
    {
      "cell_type": "code",
      "execution_count": 5,
      "id": "2ab8323a-684b-4f4c-a400-ff586b88f9fa",
      "metadata": {
        "tags": [],
        "colab": {
          "base_uri": "https://localhost:8080/"
        },
        "id": "2ab8323a-684b-4f4c-a400-ff586b88f9fa",
        "outputId": "ab8e4863-3890-4a3c-f7cb-25f365edfcb1"
      },
      "outputs": [
        {
          "output_type": "stream",
          "name": "stderr",
          "text": [
            "<ipython-input-5-e5153ed1f462>:1: FutureWarning: The default value of numeric_only in DataFrame.quantile is deprecated. In a future version, it will default to False. Select only valid columns or specify the value of numeric_only to silence this warning.\n",
            "  Q = df.quantile(0.99)\n"
          ]
        }
      ],
      "source": [
        "Q = df.quantile(0.99)\n",
        "# Filter out outliers in the Quantity column\n",
        "df = df[~(df['Quantity'] > Q[\"Quantity\"])]\n",
        "\n",
        "# Filter out outliers in the UnitPrice column\n",
        "df = df[~(df['UnitPrice'] > Q[\"UnitPrice\"])]"
      ]
    },
    {
      "cell_type": "markdown",
      "id": "20c13a4b-94c9-43e3-954e-826a3b27c1fc",
      "metadata": {
        "id": "20c13a4b-94c9-43e3-954e-826a3b27c1fc"
      },
      "source": [
        "Next, we add a new column for the total cost of each purchase, and group the data by customer to calculate their total spending, total purchases, and latest purchase date. Finally, we rename the columns to make them more descriptive."
      ]
    },
    {
      "cell_type": "code",
      "execution_count": 6,
      "id": "84f796b8-cd97-4d1e-9a99-c57b094e2150",
      "metadata": {
        "tags": [],
        "colab": {
          "base_uri": "https://localhost:8080/",
          "height": 204
        },
        "id": "84f796b8-cd97-4d1e-9a99-c57b094e2150",
        "outputId": "3f90f6ad-ed99-4e98-d45c-cbfa0f327cbf"
      },
      "outputs": [
        {
          "output_type": "execute_result",
          "data": {
            "text/plain": [
              "   CustomerID  MonthsSinceFirstPurchase  TotalSpending  TotalPurchases  \\\n",
              "0       12747                         0       2330.691               2   \n",
              "1       12747                         1       1000.032               1   \n",
              "2       12747                         2       1025.574               1   \n",
              "3       12747                         5       2443.353               2   \n",
              "4       12747                         6       1241.790               1   \n",
              "\n",
              "  FirstPurchaseDate LatestPurchaseDate  \n",
              "0        2020-09-30         2020-10-07  \n",
              "1        2020-11-15         2020-11-15  \n",
              "2        2020-12-25         2020-12-25  \n",
              "3        2021-02-28         2021-03-19  \n",
              "4        2021-04-22         2021-04-22  "
            ],
            "text/html": [
              "\n",
              "  <div id=\"df-b1749c15-7dd4-47f1-a9c0-41f19e36e236\">\n",
              "    <div class=\"colab-df-container\">\n",
              "      <div>\n",
              "<style scoped>\n",
              "    .dataframe tbody tr th:only-of-type {\n",
              "        vertical-align: middle;\n",
              "    }\n",
              "\n",
              "    .dataframe tbody tr th {\n",
              "        vertical-align: top;\n",
              "    }\n",
              "\n",
              "    .dataframe thead th {\n",
              "        text-align: right;\n",
              "    }\n",
              "</style>\n",
              "<table border=\"1\" class=\"dataframe\">\n",
              "  <thead>\n",
              "    <tr style=\"text-align: right;\">\n",
              "      <th></th>\n",
              "      <th>CustomerID</th>\n",
              "      <th>MonthsSinceFirstPurchase</th>\n",
              "      <th>TotalSpending</th>\n",
              "      <th>TotalPurchases</th>\n",
              "      <th>FirstPurchaseDate</th>\n",
              "      <th>LatestPurchaseDate</th>\n",
              "    </tr>\n",
              "  </thead>\n",
              "  <tbody>\n",
              "    <tr>\n",
              "      <th>0</th>\n",
              "      <td>12747</td>\n",
              "      <td>0</td>\n",
              "      <td>2330.691</td>\n",
              "      <td>2</td>\n",
              "      <td>2020-09-30</td>\n",
              "      <td>2020-10-07</td>\n",
              "    </tr>\n",
              "    <tr>\n",
              "      <th>1</th>\n",
              "      <td>12747</td>\n",
              "      <td>1</td>\n",
              "      <td>1000.032</td>\n",
              "      <td>1</td>\n",
              "      <td>2020-11-15</td>\n",
              "      <td>2020-11-15</td>\n",
              "    </tr>\n",
              "    <tr>\n",
              "      <th>2</th>\n",
              "      <td>12747</td>\n",
              "      <td>2</td>\n",
              "      <td>1025.574</td>\n",
              "      <td>1</td>\n",
              "      <td>2020-12-25</td>\n",
              "      <td>2020-12-25</td>\n",
              "    </tr>\n",
              "    <tr>\n",
              "      <th>3</th>\n",
              "      <td>12747</td>\n",
              "      <td>5</td>\n",
              "      <td>2443.353</td>\n",
              "      <td>2</td>\n",
              "      <td>2021-02-28</td>\n",
              "      <td>2021-03-19</td>\n",
              "    </tr>\n",
              "    <tr>\n",
              "      <th>4</th>\n",
              "      <td>12747</td>\n",
              "      <td>6</td>\n",
              "      <td>1241.790</td>\n",
              "      <td>1</td>\n",
              "      <td>2021-04-22</td>\n",
              "      <td>2021-04-22</td>\n",
              "    </tr>\n",
              "  </tbody>\n",
              "</table>\n",
              "</div>\n",
              "      <button class=\"colab-df-convert\" onclick=\"convertToInteractive('df-b1749c15-7dd4-47f1-a9c0-41f19e36e236')\"\n",
              "              title=\"Convert this dataframe to an interactive table.\"\n",
              "              style=\"display:none;\">\n",
              "        \n",
              "  <svg xmlns=\"http://www.w3.org/2000/svg\" height=\"24px\"viewBox=\"0 0 24 24\"\n",
              "       width=\"24px\">\n",
              "    <path d=\"M0 0h24v24H0V0z\" fill=\"none\"/>\n",
              "    <path d=\"M18.56 5.44l.94 2.06.94-2.06 2.06-.94-2.06-.94-.94-2.06-.94 2.06-2.06.94zm-11 1L8.5 8.5l.94-2.06 2.06-.94-2.06-.94L8.5 2.5l-.94 2.06-2.06.94zm10 10l.94 2.06.94-2.06 2.06-.94-2.06-.94-.94-2.06-.94 2.06-2.06.94z\"/><path d=\"M17.41 7.96l-1.37-1.37c-.4-.4-.92-.59-1.43-.59-.52 0-1.04.2-1.43.59L10.3 9.45l-7.72 7.72c-.78.78-.78 2.05 0 2.83L4 21.41c.39.39.9.59 1.41.59.51 0 1.02-.2 1.41-.59l7.78-7.78 2.81-2.81c.8-.78.8-2.07 0-2.86zM5.41 20L4 18.59l7.72-7.72 1.47 1.35L5.41 20z\"/>\n",
              "  </svg>\n",
              "      </button>\n",
              "      \n",
              "  <style>\n",
              "    .colab-df-container {\n",
              "      display:flex;\n",
              "      flex-wrap:wrap;\n",
              "      gap: 12px;\n",
              "    }\n",
              "\n",
              "    .colab-df-convert {\n",
              "      background-color: #E8F0FE;\n",
              "      border: none;\n",
              "      border-radius: 50%;\n",
              "      cursor: pointer;\n",
              "      display: none;\n",
              "      fill: #1967D2;\n",
              "      height: 32px;\n",
              "      padding: 0 0 0 0;\n",
              "      width: 32px;\n",
              "    }\n",
              "\n",
              "    .colab-df-convert:hover {\n",
              "      background-color: #E2EBFA;\n",
              "      box-shadow: 0px 1px 2px rgba(60, 64, 67, 0.3), 0px 1px 3px 1px rgba(60, 64, 67, 0.15);\n",
              "      fill: #174EA6;\n",
              "    }\n",
              "\n",
              "    [theme=dark] .colab-df-convert {\n",
              "      background-color: #3B4455;\n",
              "      fill: #D2E3FC;\n",
              "    }\n",
              "\n",
              "    [theme=dark] .colab-df-convert:hover {\n",
              "      background-color: #434B5C;\n",
              "      box-shadow: 0px 1px 3px 1px rgba(0, 0, 0, 0.15);\n",
              "      filter: drop-shadow(0px 1px 2px rgba(0, 0, 0, 0.3));\n",
              "      fill: #FFFFFF;\n",
              "    }\n",
              "  </style>\n",
              "\n",
              "      <script>\n",
              "        const buttonEl =\n",
              "          document.querySelector('#df-b1749c15-7dd4-47f1-a9c0-41f19e36e236 button.colab-df-convert');\n",
              "        buttonEl.style.display =\n",
              "          google.colab.kernel.accessAllowed ? 'block' : 'none';\n",
              "\n",
              "        async function convertToInteractive(key) {\n",
              "          const element = document.querySelector('#df-b1749c15-7dd4-47f1-a9c0-41f19e36e236');\n",
              "          const dataTable =\n",
              "            await google.colab.kernel.invokeFunction('convertToInteractive',\n",
              "                                                     [key], {});\n",
              "          if (!dataTable) return;\n",
              "\n",
              "          const docLinkHtml = 'Like what you see? Visit the ' +\n",
              "            '<a target=\"_blank\" href=https://colab.research.google.com/notebooks/data_table.ipynb>data table notebook</a>'\n",
              "            + ' to learn more about interactive tables.';\n",
              "          element.innerHTML = '';\n",
              "          dataTable['output_type'] = 'display_data';\n",
              "          await google.colab.output.renderOutput(dataTable, element);\n",
              "          const docLink = document.createElement('div');\n",
              "          docLink.innerHTML = docLinkHtml;\n",
              "          element.appendChild(docLink);\n",
              "        }\n",
              "      </script>\n",
              "    </div>\n",
              "  </div>\n",
              "  "
            ]
          },
          "metadata": {},
          "execution_count": 6
        }
      ],
      "source": [
        "from dateutil.relativedelta import relativedelta\n",
        "\n",
        "# Convert the InvoiceDate column to a datetime format\n",
        "df['InvoiceDate'] = pd.to_datetime(df['InvoiceDate'], format='%d/%m/%Y')\n",
        "\n",
        "# Convert the CustomerID column to an integer\n",
        "df['CustomerID'] = df['CustomerID'].astype(int)\n",
        "\n",
        "# Add a column for the total cost of each purchase\n",
        "df['TotalCost'] = df['Quantity'] * df['UnitPrice']\n",
        "\n",
        "df[\"FirstTime\"] = df.CustomerID.map(df.groupby(\"CustomerID\").InvoiceDate.min().to_dict())\n",
        "\n",
        "# Calculate the difference in months between the InvoiceDate column and the latest purchase date\n",
        "def calculate_relative_difference(x):\n",
        "    diff = relativedelta(x['InvoiceDate'], x[\"FirstTime\"])\n",
        "    return diff.years * 12 + diff.months\n",
        "\n",
        "df['MonthsSinceFirstPurchase'] = df.apply(calculate_relative_difference, axis=1)\n",
        "\n",
        "# Group the data by customer and calculate their total spending, total purchases, and latest purchase date\n",
        "df[\"InvoiceDate2\"] = df[\"InvoiceDate\"]\n",
        "customer_data = df.groupby(['CustomerID', 'MonthsSinceFirstPurchase']).agg({\n",
        "    'TotalCost': 'sum',\n",
        "    'InvoiceNo': 'nunique',\n",
        "    'InvoiceDate': 'min',\n",
        "    'InvoiceDate2': 'max'\n",
        "}).reset_index()\n",
        "\n",
        "# Rename the columns\n",
        "customer_data.columns = ['CustomerID', \"MonthsSinceFirstPurchase\", 'TotalSpending', 'TotalPurchases', 'FirstPurchaseDate', 'LatestPurchaseDate']\n",
        "\n",
        "customer_data.head()"
      ]
    },
    {
      "cell_type": "markdown",
      "id": "e6a90f4b-da0c-41d2-9a3a-72cec1f60768",
      "metadata": {
        "id": "e6a90f4b-da0c-41d2-9a3a-72cec1f60768"
      },
      "source": [
        "Our dataset only contains observations from one year, so we cannot predict the lifetime value accurately. However, we can choose a specific period to make our prediction. For instance, we could predict the lifetime value for six months based on the first three months of data. To ensure the dataset's validity, we should only consider users who made their first purchase at least six months before the last observation."
      ]
    },
    {
      "cell_type": "code",
      "execution_count": 7,
      "id": "b0d0c5b2-c240-43b8-b44b-cc2875a20d7e",
      "metadata": {
        "tags": [],
        "colab": {
          "base_uri": "https://localhost:8080/",
          "height": 204
        },
        "id": "b0d0c5b2-c240-43b8-b44b-cc2875a20d7e",
        "outputId": "489162ae-d35f-46ed-a07e-82235dada6cb"
      },
      "outputs": [
        {
          "output_type": "execute_result",
          "data": {
            "text/plain": [
              "   CustomerID  MonthsSinceFirstPurchase  TotalSpending  TotalPurchases  \\\n",
              "0       12747                         0       2330.691               2   \n",
              "1       12747                         1       1000.032               1   \n",
              "2       12747                         2       1025.574               1   \n",
              "3       12747                         5       2443.353               2   \n",
              "9       12748                         0      13844.259              35   \n",
              "\n",
              "  FirstPurchaseDate LatestPurchaseDate  \n",
              "0        2020-09-30         2020-10-07  \n",
              "1        2020-11-15         2020-11-15  \n",
              "2        2020-12-25         2020-12-25  \n",
              "3        2021-02-28         2021-03-19  \n",
              "9        2020-09-25         2020-10-18  "
            ],
            "text/html": [
              "\n",
              "  <div id=\"df-987ddcd4-f032-4853-b156-f8ded68727bb\">\n",
              "    <div class=\"colab-df-container\">\n",
              "      <div>\n",
              "<style scoped>\n",
              "    .dataframe tbody tr th:only-of-type {\n",
              "        vertical-align: middle;\n",
              "    }\n",
              "\n",
              "    .dataframe tbody tr th {\n",
              "        vertical-align: top;\n",
              "    }\n",
              "\n",
              "    .dataframe thead th {\n",
              "        text-align: right;\n",
              "    }\n",
              "</style>\n",
              "<table border=\"1\" class=\"dataframe\">\n",
              "  <thead>\n",
              "    <tr style=\"text-align: right;\">\n",
              "      <th></th>\n",
              "      <th>CustomerID</th>\n",
              "      <th>MonthsSinceFirstPurchase</th>\n",
              "      <th>TotalSpending</th>\n",
              "      <th>TotalPurchases</th>\n",
              "      <th>FirstPurchaseDate</th>\n",
              "      <th>LatestPurchaseDate</th>\n",
              "    </tr>\n",
              "  </thead>\n",
              "  <tbody>\n",
              "    <tr>\n",
              "      <th>0</th>\n",
              "      <td>12747</td>\n",
              "      <td>0</td>\n",
              "      <td>2330.691</td>\n",
              "      <td>2</td>\n",
              "      <td>2020-09-30</td>\n",
              "      <td>2020-10-07</td>\n",
              "    </tr>\n",
              "    <tr>\n",
              "      <th>1</th>\n",
              "      <td>12747</td>\n",
              "      <td>1</td>\n",
              "      <td>1000.032</td>\n",
              "      <td>1</td>\n",
              "      <td>2020-11-15</td>\n",
              "      <td>2020-11-15</td>\n",
              "    </tr>\n",
              "    <tr>\n",
              "      <th>2</th>\n",
              "      <td>12747</td>\n",
              "      <td>2</td>\n",
              "      <td>1025.574</td>\n",
              "      <td>1</td>\n",
              "      <td>2020-12-25</td>\n",
              "      <td>2020-12-25</td>\n",
              "    </tr>\n",
              "    <tr>\n",
              "      <th>3</th>\n",
              "      <td>12747</td>\n",
              "      <td>5</td>\n",
              "      <td>2443.353</td>\n",
              "      <td>2</td>\n",
              "      <td>2021-02-28</td>\n",
              "      <td>2021-03-19</td>\n",
              "    </tr>\n",
              "    <tr>\n",
              "      <th>9</th>\n",
              "      <td>12748</td>\n",
              "      <td>0</td>\n",
              "      <td>13844.259</td>\n",
              "      <td>35</td>\n",
              "      <td>2020-09-25</td>\n",
              "      <td>2020-10-18</td>\n",
              "    </tr>\n",
              "  </tbody>\n",
              "</table>\n",
              "</div>\n",
              "      <button class=\"colab-df-convert\" onclick=\"convertToInteractive('df-987ddcd4-f032-4853-b156-f8ded68727bb')\"\n",
              "              title=\"Convert this dataframe to an interactive table.\"\n",
              "              style=\"display:none;\">\n",
              "        \n",
              "  <svg xmlns=\"http://www.w3.org/2000/svg\" height=\"24px\"viewBox=\"0 0 24 24\"\n",
              "       width=\"24px\">\n",
              "    <path d=\"M0 0h24v24H0V0z\" fill=\"none\"/>\n",
              "    <path d=\"M18.56 5.44l.94 2.06.94-2.06 2.06-.94-2.06-.94-.94-2.06-.94 2.06-2.06.94zm-11 1L8.5 8.5l.94-2.06 2.06-.94-2.06-.94L8.5 2.5l-.94 2.06-2.06.94zm10 10l.94 2.06.94-2.06 2.06-.94-2.06-.94-.94-2.06-.94 2.06-2.06.94z\"/><path d=\"M17.41 7.96l-1.37-1.37c-.4-.4-.92-.59-1.43-.59-.52 0-1.04.2-1.43.59L10.3 9.45l-7.72 7.72c-.78.78-.78 2.05 0 2.83L4 21.41c.39.39.9.59 1.41.59.51 0 1.02-.2 1.41-.59l7.78-7.78 2.81-2.81c.8-.78.8-2.07 0-2.86zM5.41 20L4 18.59l7.72-7.72 1.47 1.35L5.41 20z\"/>\n",
              "  </svg>\n",
              "      </button>\n",
              "      \n",
              "  <style>\n",
              "    .colab-df-container {\n",
              "      display:flex;\n",
              "      flex-wrap:wrap;\n",
              "      gap: 12px;\n",
              "    }\n",
              "\n",
              "    .colab-df-convert {\n",
              "      background-color: #E8F0FE;\n",
              "      border: none;\n",
              "      border-radius: 50%;\n",
              "      cursor: pointer;\n",
              "      display: none;\n",
              "      fill: #1967D2;\n",
              "      height: 32px;\n",
              "      padding: 0 0 0 0;\n",
              "      width: 32px;\n",
              "    }\n",
              "\n",
              "    .colab-df-convert:hover {\n",
              "      background-color: #E2EBFA;\n",
              "      box-shadow: 0px 1px 2px rgba(60, 64, 67, 0.3), 0px 1px 3px 1px rgba(60, 64, 67, 0.15);\n",
              "      fill: #174EA6;\n",
              "    }\n",
              "\n",
              "    [theme=dark] .colab-df-convert {\n",
              "      background-color: #3B4455;\n",
              "      fill: #D2E3FC;\n",
              "    }\n",
              "\n",
              "    [theme=dark] .colab-df-convert:hover {\n",
              "      background-color: #434B5C;\n",
              "      box-shadow: 0px 1px 3px 1px rgba(0, 0, 0, 0.15);\n",
              "      filter: drop-shadow(0px 1px 2px rgba(0, 0, 0, 0.3));\n",
              "      fill: #FFFFFF;\n",
              "    }\n",
              "  </style>\n",
              "\n",
              "      <script>\n",
              "        const buttonEl =\n",
              "          document.querySelector('#df-987ddcd4-f032-4853-b156-f8ded68727bb button.colab-df-convert');\n",
              "        buttonEl.style.display =\n",
              "          google.colab.kernel.accessAllowed ? 'block' : 'none';\n",
              "\n",
              "        async function convertToInteractive(key) {\n",
              "          const element = document.querySelector('#df-987ddcd4-f032-4853-b156-f8ded68727bb');\n",
              "          const dataTable =\n",
              "            await google.colab.kernel.invokeFunction('convertToInteractive',\n",
              "                                                     [key], {});\n",
              "          if (!dataTable) return;\n",
              "\n",
              "          const docLinkHtml = 'Like what you see? Visit the ' +\n",
              "            '<a target=\"_blank\" href=https://colab.research.google.com/notebooks/data_table.ipynb>data table notebook</a>'\n",
              "            + ' to learn more about interactive tables.';\n",
              "          element.innerHTML = '';\n",
              "          dataTable['output_type'] = 'display_data';\n",
              "          await google.colab.output.renderOutput(dataTable, element);\n",
              "          const docLink = document.createElement('div');\n",
              "          docLink.innerHTML = docLinkHtml;\n",
              "          element.appendChild(docLink);\n",
              "        }\n",
              "      </script>\n",
              "    </div>\n",
              "  </div>\n",
              "  "
            ]
          },
          "metadata": {},
          "execution_count": 7
        }
      ],
      "source": [
        "customer_data = customer_data[((customer_data.LatestPurchaseDate.max() - customer_data.FirstPurchaseDate).dt.days >= 183)]\n",
        "customer_data.head()"
      ]
    },
    {
      "cell_type": "markdown",
      "id": "6f51169f-a97e-4859-8afc-c05ad90a0360",
      "metadata": {
        "id": "6f51169f-a97e-4859-8afc-c05ad90a0360"
      },
      "source": [
        "We will take the first three months as features"
      ]
    },
    {
      "cell_type": "code",
      "execution_count": 8,
      "id": "e0bcc7b8-1d32-483d-9db6-fec580070422",
      "metadata": {
        "tags": [],
        "id": "e0bcc7b8-1d32-483d-9db6-fec580070422"
      },
      "outputs": [],
      "source": [
        "customer_data = customer_data[['CustomerID', \"MonthsSinceFirstPurchase\", 'TotalSpending', 'TotalPurchases']]\n",
        "X = pd.pivot(customer_data[customer_data[\"MonthsSinceFirstPurchase\"] <= 2], index=\"CustomerID\", columns=[\"MonthsSinceFirstPurchase\"]).fillna(0)"
      ]
    },
    {
      "cell_type": "markdown",
      "id": "b73774b3-c5cf-4dfa-8875-a7958d319005",
      "metadata": {
        "id": "b73774b3-c5cf-4dfa-8875-a7958d319005"
      },
      "source": [
        "And will predict the values for the first six-month period"
      ]
    },
    {
      "cell_type": "code",
      "execution_count": 9,
      "id": "8e333b3a-5d58-4596-9d5f-95eebde72cb9",
      "metadata": {
        "tags": [],
        "colab": {
          "base_uri": "https://localhost:8080/"
        },
        "id": "8e333b3a-5d58-4596-9d5f-95eebde72cb9",
        "outputId": "517b880e-0d1e-49c1-a616-cf7abf1b8ce5"
      },
      "outputs": [
        {
          "output_type": "stream",
          "name": "stderr",
          "text": [
            "<ipython-input-9-662c3cd806b6>:2: FutureWarning: merging between different levels is deprecated and will be removed in a future version. (2 levels on the left, 1 on the right)\n",
            "  prepared_data = X.join(cltv)\n"
          ]
        }
      ],
      "source": [
        "cltv = customer_data[customer_data[\"MonthsSinceFirstPurchase\"] <= 6].groupby(\"CustomerID\").TotalSpending.sum().rename(\"cltv\")\n",
        "prepared_data = X.join(cltv)\n",
        "\n",
        "# Split the data into features (X) and target variable (y)\n",
        "X = prepared_data.drop(\"cltv\", axis=1).values\n",
        "y = prepared_data[\"cltv\"].values"
      ]
    },
    {
      "cell_type": "markdown",
      "id": "dc14e0bb-e752-4d1d-a8bf-71d1753ddf3a",
      "metadata": {
        "id": "dc14e0bb-e752-4d1d-a8bf-71d1753ddf3a"
      },
      "source": [
        "## Train-test split"
      ]
    },
    {
      "cell_type": "markdown",
      "id": "a5c42774-e2b2-4e79-9d24-61611f4397b0",
      "metadata": {
        "id": "a5c42774-e2b2-4e79-9d24-61611f4397b0"
      },
      "source": [
        "A hold-out set, also known as a validation set, is a subset of the data used for evaluating the performance of a machine learning model after it has been trained on the training set. It is important to use a hold-out set because it allows us to test the model on unseen data and get an estimate of its performance on new data."
      ]
    },
    {
      "cell_type": "code",
      "execution_count": 15,
      "id": "c94ccafd-7416-4b1a-bde8-f84ee85c1d2d",
      "metadata": {
        "tags": [],
        "id": "c94ccafd-7416-4b1a-bde8-f84ee85c1d2d"
      },
      "outputs": [],
      "source": [
        "from sklearn.model_selection import train_test_split\n",
        "\n",
        "# Split the data into a training set and a testing set\n",
        "X_train, X_test, y_train, y_test = train_test_split(X, y, test_size=0.2, random_state=42)"
      ]
    },
    {
      "cell_type": "markdown",
      "id": "56475777-7725-460b-a624-0dc3e31a63f9",
      "metadata": {
        "id": "56475777-7725-460b-a624-0dc3e31a63f9"
      },
      "source": [
        "## Cross-validation"
      ]
    },
    {
      "cell_type": "markdown",
      "id": "b177079a-4237-468e-ab4d-41dbb8ee0179",
      "metadata": {
        "id": "b177079a-4237-468e-ab4d-41dbb8ee0179"
      },
      "source": [
        "Cross-validation is a technique to evaluate a model's performance and generalization ability by splitting data into non-overlapping folds. In k-fold cross-validation, the model is trained on k-1 folds and tested on the remaining fold, repeated k times. It's more accurate than using a single hold-out set and helps detect overfitting, but can be computationally expensive and assumes IID data.\n",
        "\n",
        "![](https://miro.medium.com/v2/resize:fit:4800/format:webp/1*AAwIlHM8TpAVe4l2FihNUQ.png)"
      ]
    },
    {
      "cell_type": "code",
      "execution_count": 11,
      "id": "fb7acff9-adfa-48a0-9f3f-55ea50329523",
      "metadata": {
        "tags": [],
        "id": "fb7acff9-adfa-48a0-9f3f-55ea50329523"
      },
      "outputs": [],
      "source": [
        "from sklearn.model_selection import KFold\n",
        "from sklearn.metrics import mean_squared_error, mean_absolute_percentage_error, mean_absolute_error\n",
        "\n",
        "\n",
        "def run_kfold_cv(X, y, model):\n",
        "    # Initialize the KFold class\n",
        "    kf = KFold(n_splits=5, shuffle=True, random_state=42)\n",
        "\n",
        "    # Initialize a list to store the scores\n",
        "    mse_scores = []\n",
        "    mae_scores = []\n",
        "    mape_scores = []\n",
        "\n",
        "    # Loop through each fold\n",
        "    for train_index, test_index in kf.split(X):\n",
        "        # Split the data into training and testing sets\n",
        "        X_train, X_test = X[train_index], X[test_index]\n",
        "        y_train, y_test = y[train_index], y[test_index]\n",
        "\n",
        "        model.fit(X_train, y_train)\n",
        "\n",
        "        # Use the model to make predictions on the testing set\n",
        "        y_pred = model.predict(X_test)\n",
        "\n",
        "        # Calculate the mean squared error (MSE) and store it in the list\n",
        "        mse_scores.append(mean_squared_error(y_test, y_pred))\n",
        "        # Calculate the mean absolute error (MAE) and store it in the list\n",
        "        mae_scores.append(mean_absolute_error(y_test, y_pred))\n",
        "        # Calculate the mean absolute percentage error (MAPE) and store it in the list\n",
        "        mape_scores.append(mean_absolute_percentage_error(y_test, y_pred))\n",
        "\n",
        "    # Calculate the average score\n",
        "    return  sum(mse_scores) / len(mse_scores), sum(mae_scores) / len(mae_scores), sum(mape_scores) / len(mape_scores)"
      ]
    },
    {
      "cell_type": "markdown",
      "id": "e48b6aa6-911e-4a1d-b404-c4daf94d8f90",
      "metadata": {
        "id": "e48b6aa6-911e-4a1d-b404-c4daf94d8f90"
      },
      "source": [
        "Let us train different models"
      ]
    },
    {
      "cell_type": "code",
      "execution_count": null,
      "id": "85c42dc3-8cc0-43f9-8a11-7420f490d7e8",
      "metadata": {
        "tags": [],
        "colab": {
          "base_uri": "https://localhost:8080/"
        },
        "id": "85c42dc3-8cc0-43f9-8a11-7420f490d7e8",
        "outputId": "63dfc2c4-dd8f-4e8e-e5a9-7527160b2a1d"
      },
      "outputs": [
        {
          "output_type": "stream",
          "name": "stdout",
          "text": [
            "Linear regression: MSE 5241974.83, MAE 976.22, MAPE 0.48\n",
            "Random Forest: MSE 7992360.02, MAE 958.91, MAPE 0.33\n",
            "Gradient Boosting: MSE 7670331.82, MAE 949.91, MAPE 0.37\n"
          ]
        }
      ],
      "source": [
        "from sklearn.linear_model import LinearRegression\n",
        "from sklearn.ensemble import RandomForestRegressor, GradientBoostingRegressor\n",
        "\n",
        "for model_name, model in [\n",
        "    (\"Linear regression\", LinearRegression()),\n",
        "    (\"Random Forest\", RandomForestRegressor()),\n",
        "    (\"Gradient Boosting\", GradientBoostingRegressor()),\n",
        "]:\n",
        "    scores = run_kfold_cv(X_train, y_train, model)\n",
        "    print(\"{}: MSE {:.2f}, MAE {:.2f}, MAPE {:.2f}\".format(model_name, *scores))"
      ]
    },
    {
      "cell_type": "markdown",
      "id": "74d67754-2be0-49d7-97d4-f4b08551a924",
      "metadata": {
        "id": "74d67754-2be0-49d7-97d4-f4b08551a924"
      },
      "source": [
        "It is important to prepare both features and targets in machine learning tasks. In some cases, it may be helpful to transform the target variable, especially if its distribution is skewed or does not meet the assumptions of the model being used.\n",
        "\n",
        "In the given example, the distribution of the target variable is said to be log-normal. This means that the logarithm of the target variable follows a normal distribution. In such cases, it may be beneficial to transform the target variable by taking its logarithm before using it in a predictive model. This can make it easier for the model to capture patterns in the data and make more accurate predictions."
      ]
    },
    {
      "cell_type": "code",
      "execution_count": null,
      "id": "2358b717-3ea4-4e7c-aff8-cc62c1d5d0b8",
      "metadata": {
        "tags": [],
        "colab": {
          "base_uri": "https://localhost:8080/",
          "height": 430
        },
        "id": "2358b717-3ea4-4e7c-aff8-cc62c1d5d0b8",
        "outputId": "7d7a161e-e9ce-4940-db23-7302fd533c5c"
      },
      "outputs": [
        {
          "output_type": "display_data",
          "data": {
            "text/plain": [
              "<Figure size 640x480 with 1 Axes>"
            ],
            "image/png": "[encoded data removed]"
          },
          "metadata": {}
        }
      ],
      "source": [
        "from matplotlib import pyplot as plt\n",
        "import numpy as np\n",
        "plt.hist(np.log(y), bins=50);"
      ]
    },
    {
      "cell_type": "code",
      "execution_count": null,
      "id": "75b34809-1516-4a59-b979-39bb9089b842",
      "metadata": {
        "tags": [],
        "colab": {
          "base_uri": "https://localhost:8080/"
        },
        "id": "75b34809-1516-4a59-b979-39bb9089b842",
        "outputId": "95cc3a60-90bd-462e-96a9-12de59c862df"
      },
      "outputs": [
        {
          "output_type": "stream",
          "name": "stdout",
          "text": [
            "Linear regression: MSE 112995700181143312.00, MAE 7520965.89, MAPE 114.78\n",
            "Random Forest: MSE 9569979.53, MAE 957.74, MAPE 0.26\n",
            "Gradient Boosting: MSE 7205109.13, MAE 870.89, MAPE 0.27\n"
          ]
        }
      ],
      "source": [
        "from sklearn.model_selection import KFold\n",
        "from sklearn.metrics import mean_squared_error, mean_absolute_percentage_error, mean_absolute_error\n",
        "\n",
        "\n",
        "def run_kfold_cv_log(X, y, model):\n",
        "    # Initialize the KFold class\n",
        "    kf = KFold(n_splits=5, shuffle=True, random_state=42)\n",
        "\n",
        "    # Initialize a list to store the scores\n",
        "    mse_scores = []\n",
        "    mae_scores = []\n",
        "    mape_scores = []\n",
        "\n",
        "    # Loop through each fold\n",
        "    for train_index, test_index in kf.split(X):\n",
        "        # Split the data into training and testing sets\n",
        "        X_train, X_test = X[train_index], X[test_index]\n",
        "        y_train, y_test = y[train_index], y[test_index]\n",
        "\n",
        "        model.fit(X_train, np.log(y_train))\n",
        "\n",
        "        # Use the model to make predictions on the testing set\n",
        "        y_pred = np.exp(model.predict(X_test))\n",
        "\n",
        "        # Calculate the mean squared error (MSE) and store it in the list\n",
        "        mse_scores.append(mean_squared_error(y_test, y_pred))\n",
        "        # Calculate the mean absolute error (MAE) and store it in the list\n",
        "        mae_scores.append(mean_absolute_error(y_test, y_pred))\n",
        "        # Calculate the mean absolute percentage error (MAPE) and store it in the list\n",
        "        mape_scores.append(mean_absolute_percentage_error(y_test, y_pred))\n",
        "\n",
        "    # Calculate the average score\n",
        "    return  sum(mse_scores) / len(mse_scores), sum(mae_scores) / len(mae_scores), sum(mape_scores) / len(mape_scores)\n",
        "\n",
        "for model_name, model in [\n",
        "    (\"Linear regression\", LinearRegression()),\n",
        "    (\"Random Forest\", RandomForestRegressor()),\n",
        "    (\"Gradient Boosting\", GradientBoostingRegressor()),\n",
        "]:\n",
        "    scores = run_kfold_cv_log(X_train, y_train, model)\n",
        "    print(\"{}: MSE {:.2f}, MAE {:.2f}, MAPE {:.2f}\".format(model_name, *scores))"
      ]
    },
    {
      "cell_type": "markdown",
      "id": "50d23ae4-a5e3-4722-bdef-1277c5ff1e65",
      "metadata": {
        "id": "50d23ae4-a5e3-4722-bdef-1277c5ff1e65"
      },
      "source": [
        "However, some models is sensitive to the scale of features and may require scaling of features or similar tranformations."
      ]
    },
    {
      "cell_type": "code",
      "execution_count": null,
      "id": "9b574abb-6864-4583-9d2c-c116fcf82a9a",
      "metadata": {
        "tags": [],
        "colab": {
          "base_uri": "https://localhost:8080/"
        },
        "id": "9b574abb-6864-4583-9d2c-c116fcf82a9a",
        "outputId": "f5d2dd31-881c-4023-a4f6-a6184c445052"
      },
      "outputs": [
        {
          "output_type": "stream",
          "name": "stdout",
          "text": [
            "Linear regression: MSE 15523219.07, MAE 1086.40, MAPE 0.27\n",
            "Random Forest: MSE 9887396.69, MAE 959.12, MAPE 0.24\n",
            "Gradient Boosting: MSE 7251773.27, MAE 875.87, MAPE 0.22\n"
          ]
        }
      ],
      "source": [
        "X_transformed = np.concatenate([np.log1p(X_train[:, :3]), X_train[:, 3:]], axis=1)\n",
        "\n",
        "for model_name, model in [\n",
        "    (\"Linear regression\", LinearRegression()),\n",
        "    (\"Random Forest\", RandomForestRegressor()),\n",
        "    (\"Gradient Boosting\", GradientBoostingRegressor()),\n",
        "]:\n",
        "    scores = run_kfold_cv_log(X_transformed, y_train, model)\n",
        "    print(\"{}: MSE {:.2f}, MAE {:.2f}, MAPE {:.2f}\".format(model_name, *scores))"
      ]
    },
    {
      "cell_type": "markdown",
      "id": "7a35db71-b35e-4d80-a47a-164dc784ada2",
      "metadata": {
        "id": "7a35db71-b35e-4d80-a47a-164dc784ada2"
      },
      "source": [
        "## Hyper-parameter tuning"
      ]
    },
    {
      "cell_type": "markdown",
      "id": "4066ff87-e15d-426f-8bd6-40061afdf487",
      "metadata": {
        "id": "4066ff87-e15d-426f-8bd6-40061afdf487"
      },
      "source": [
        "Performing hyperparameter optimization with cross-validation is a common technique to find the best hyperparameters for a given model. One popular method for doing so is grid search, where you specify a range of values for each hyperparameter, and the algorithm exhaustively searches through all possible combinations of hyperparameters to find the best ones."
      ]
    },
    {
      "cell_type": "markdown",
      "id": "4cb0cab3-086c-4014-8d61-1fa618b51a53",
      "metadata": {
        "id": "4cb0cab3-086c-4014-8d61-1fa618b51a53"
      },
      "source": [
        "__!!! this cell can take a while !!!__"
      ]
    },
    {
      "cell_type": "code",
      "execution_count": null,
      "id": "f849cb2a-1832-4830-bc5b-fae8079a4b34",
      "metadata": {
        "tags": [],
        "colab": {
          "base_uri": "https://localhost:8080/"
        },
        "id": "f849cb2a-1832-4830-bc5b-fae8079a4b34",
        "outputId": "fff766a5-268d-4eb8-d45e-b26c99ca541d"
      },
      "outputs": [
        {
          "output_type": "stream",
          "name": "stdout",
          "text": [
            "Best hyperparameters: {'learning_rate': 0.05, 'max_depth': 5, 'max_features': 'log2', 'min_samples_leaf': 4, 'min_samples_split': 5, 'n_estimators': 200}\n",
            "Best score: 0.13101660579673266\n"
          ]
        }
      ],
      "source": [
        "from sklearn.model_selection import GridSearchCV\n",
        "\n",
        "# Initialize a random forest regressor object\n",
        "gbm = GradientBoostingRegressor()\n",
        "\n",
        "# Define a dictionary of hyperparameters and their ranges\n",
        "param_grid = {\n",
        "    'learning_rate': [0.05, 0.1, 0.2],\n",
        "    'n_estimators': [50, 100, 200],\n",
        "    'max_depth': [3, 5, 7],\n",
        "    'min_samples_split': [2, 5, 10],\n",
        "    'min_samples_leaf': [1, 2, 4],\n",
        "    'max_features': [None, 'sqrt', 'log2']\n",
        "}\n",
        "\n",
        "# Initialize a grid search cross-validation object\n",
        "grid_search = GridSearchCV(gbm, param_grid, cv=5, scoring='neg_mean_squared_error')\n",
        "\n",
        "# Fit the grid search object to the data\n",
        "grid_search.fit(X_transformed, np.log(y_train))\n",
        "\n",
        "# Print the best hyperparameters and their corresponding score\n",
        "print('Best hyperparameters:', grid_search.best_params_)\n",
        "print('Best score:', -grid_search.best_score_)\n"
      ]
    },
    {
      "cell_type": "code",
      "execution_count": null,
      "id": "6d055e8d-cb93-433b-b5e6-60fac29bb7fc",
      "metadata": {
        "tags": [],
        "colab": {
          "base_uri": "https://localhost:8080/"
        },
        "id": "6d055e8d-cb93-433b-b5e6-60fac29bb7fc",
        "outputId": "b5493695-0c25-4162-aecd-346deb2a5522"
      },
      "outputs": [
        {
          "output_type": "stream",
          "name": "stdout",
          "text": [
            "GradientBoosting: MSE 6370973.64, MAE 855.32, MAPE 0.22\n"
          ]
        }
      ],
      "source": [
        "X_transformed_test = np.concatenate([np.log1p(X_test[:, :3]), X_test[:, 3:]], axis=1)\n",
        "y_test_pred = np.exp(grid_search.predict(X_transformed_test))\n",
        "\n",
        "\n",
        "print(\"GradientBoosting: MSE {:.2f}, MAE {:.2f}, MAPE {:.2f}\".format(\n",
        "    mean_squared_error(y_test, y_test_pred),\n",
        "    mean_absolute_error(y_test, y_test_pred),\n",
        "    mean_absolute_percentage_error(y_test, y_test_pred)\n",
        "))\n"
      ]
    },
    {
      "cell_type": "markdown",
      "id": "ad09d48e-a227-4413-b8e1-71cc4666411c",
      "metadata": {
        "id": "ad09d48e-a227-4413-b8e1-71cc4666411c"
      },
      "source": [
        "During cross-validation, multiple models are trained using different subsets of the data. So, you receive several models prediction of which can be average and possibly improves the overall results."
      ]
    },
    {
      "cell_type": "code",
      "execution_count": null,
      "id": "2ac1c955-fa06-4659-bcaa-cc1003841cdf",
      "metadata": {
        "id": "2ac1c955-fa06-4659-bcaa-cc1003841cdf"
      },
      "outputs": [],
      "source": [
        "def run_kfold_averaging(X, y, X_test, y_test, model):\n",
        "    # Initialize the KFold class\n",
        "    kf = KFold(n_splits=5, shuffle=True, random_state=42)\n",
        "\n",
        "    # Initialize a list to store the scores\n",
        "    mse_scores = []\n",
        "    mae_scores = []\n",
        "    mape_scores = []\n",
        "    preds = []\n",
        "    # Loop through each fold\n",
        "    for train_index, test_index in kf.split(X):\n",
        "        # Split the data into training and testing sets\n",
        "        X_train = X[train_index]\n",
        "        y_train = y[train_index]\n",
        "\n",
        "        model = GradientBoostingRegressor(**grid_search.best_params_)\n",
        "        model.fit(X_train, np.log(y_train))\n",
        "\n",
        "        # Use the model to make predictions on the testing set\n",
        "        y_pred = np.exp(model.predict(X_test))\n",
        "        preds.append(y_pred)\n",
        "\n",
        "        # Calculate the mean squared error (MSE) and store it in the list\n",
        "        mse_scores.append(mean_squared_error(y_test, y_pred))\n",
        "        # Calculate the mean absolute error (MAE) and store it in the list\n",
        "        mae_scores.append(mean_absolute_error(y_test, y_pred))\n",
        "        # Calculate the mean absolute percentage error (MAPE) and store it in the list\n",
        "        mape_scores.append(mean_absolute_percentage_error(y_test, y_pred))\n",
        "    preds = np.array(preds).mean(0)\n",
        "    mse = mean_squared_error(y_test, y_pred)\n",
        "    mae = mean_absolute_error(y_test, y_pred)\n",
        "    mape = mean_absolute_percentage_error(y_test, y_pred)\n",
        "    return mse, mae, mape, np.mean(mse_scores), np.mean(mae_scores), np.mean(mape_scores)"
      ]
    },
    {
      "cell_type": "code",
      "execution_count": null,
      "id": "28fcee81-4ff3-4571-878e-6898cca3445d",
      "metadata": {
        "colab": {
          "base_uri": "https://localhost:8080/"
        },
        "id": "28fcee81-4ff3-4571-878e-6898cca3445d",
        "outputId": "abd21938-5393-484f-f2b4-729fea7670db"
      },
      "outputs": [
        {
          "output_type": "stream",
          "name": "stdout",
          "text": [
            "Average of individual models scores: MSE 2729930.27, MAE 596.70, MAPE 0.19\n",
            "Average of different models predictions: MSE 1633045.23, MAE 539.18, MAPE 0.18\n"
          ]
        }
      ],
      "source": [
        "scores = run_kfold_averaging(X, y, X_test, y_test, GradientBoostingRegressor(**grid_search.best_params_))\n",
        "\n",
        "print(\"Average of individual models scores: MSE {:.2f}, MAE {:.2f}, MAPE {:.2f}\".format(*scores[3:]))\n",
        "print(\"Average of different models predictions: MSE {:.2f}, MAE {:.2f}, MAPE {:.2f}\".format(*scores[:3]))"
      ]
    },
    {
      "cell_type": "code",
      "source": [],
      "metadata": {
        "id": "ZWdLUvdGhIB4"
      },
      "id": "ZWdLUvdGhIB4",
      "execution_count": null,
      "outputs": []
    }
  ],
  "metadata": {
    "kernelspec": {
      "display_name": "Python 3 (ipykernel)",
      "language": "python",
      "name": "python3"
    },
    "language_info": {
      "codemirror_mode": {
        "name": "ipython",
        "version": 3
      },
      "file_extension": ".py",
      "mimetype": "text/x-python",
      "name": "python",
      "nbconvert_exporter": "python",
      "pygments_lexer": "ipython3",
      "version": "3.10.9"
    },
    "colab": {
      "provenance": []
    }
  },
  "nbformat": 4,
  "nbformat_minor": 5
}