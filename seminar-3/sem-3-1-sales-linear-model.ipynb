{
 "cells": [
  {
   "cell_type": "code",
   "execution_count": null,
   "id": "5f82efda",
   "metadata": {},
   "outputs": [],
   "source": [
    "import pandas as pd\n",
    "import numpy as np\n",
    "from sklearn.model_selection import cross_val_score, train_test_split\n",
    "from sklearn.preprocessing import StandardScaler\n",
    "from sklearn.linear_model import LinearRegression\n",
    "\n",
    "from sklearn.metrics import mean_squared_error, r2_score\n",
    "\n",
    "import matplotlib.pyplot as plt"
   ]
  },
  {
   "cell_type": "code",
   "execution_count": null,
   "id": "95677bbf",
   "metadata": {},
   "outputs": [],
   "source": [
    "df = pd.read_csv('advertising.csv')\n",
    "df.head(10)\n",
    "\n",
    "X = df.drop(['Sales'], axis=1)\n",
    "y = df['Sales']"
   ]
  },
  {
   "cell_type": "code",
   "execution_count": null,
   "id": "e0a07275",
   "metadata": {},
   "outputs": [],
   "source": [
    "plt.scatter(df.TV, df.Sales, marker=\"+\", color='gray')\n",
    "plt.xlabel(\"TV\")\n",
    "plt.ylabel(\"Sales\")\n",
    "plt.title('Sales from spendings on TV advertisement');"
   ]
  },
  {
   "cell_type": "code",
   "execution_count": null,
   "id": "4adf751c",
   "metadata": {},
   "outputs": [],
   "source": [
    "model = LinearRegression()\n",
    "model.fit(df.TV.values.reshape(-1,1), df.Sales)"
   ]
  },
  {
   "cell_type": "code",
   "execution_count": null,
   "id": "59099751",
   "metadata": {},
   "outputs": [],
   "source": [
    "model.coef_, model.intercept_"
   ]
  },
  {
   "cell_type": "markdown",
   "id": "8f6db053",
   "metadata": {},
   "source": [
    "$$ \\text{Sales} = 0.038324 \\times \\text{Newspaper} + 13.95954865 $$"
   ]
  },
  {
   "cell_type": "code",
   "execution_count": null,
   "id": "98b02411",
   "metadata": {},
   "outputs": [],
   "source": [
    "x_line = np.linspace(0,300,100)\n",
    "y_line = x_line * model.coef_ + model.intercept_\n",
    "\n",
    "y_pred = model.predict(df.TV.values.reshape(-1,1))\n",
    "\n",
    "plt.scatter(df.TV, df.Sales, marker=\"+\", color='gray')\n",
    "plt.plot(x_line, y_line, color='red', alpha=0.3, label=f'linear fit, R^squared={np.round(r2_score(y, y_pred), 3)}')\n",
    "plt.xlabel(\"TV\")\n",
    "plt.ylabel(\"Sales\")\n",
    "plt.legend()\n",
    "plt.title('Sales from spendings on TV advertisement');"
   ]
  },
  {
   "cell_type": "code",
   "execution_count": null,
   "id": "a7e85fee",
   "metadata": {},
   "outputs": [],
   "source": []
  },
  {
   "cell_type": "code",
   "execution_count": null,
   "id": "0871a072",
   "metadata": {},
   "outputs": [],
   "source": [
    "fig, axs = plt.subplots(1, 3, figsize=(25,5))\n",
    "\n",
    "axs[0].scatter(df.TV, df.Sales, marker=\"+\", color='gray')\n",
    "axs[0].set_xlabel(\"TV\")\n",
    "axs[0].set_ylabel(\"Sales\")\n",
    "\n",
    "\n",
    "axs[1].scatter(df.Radio, df.Sales, marker=\"+\", color='gray')\n",
    "axs[1].set_xlabel(\"Radio\")\n",
    "axs[1].set_ylabel(\"Sales\")\n",
    "\n",
    "\n",
    "axs[2].scatter(df.Newspaper, df.Sales, marker=\"+\", color='gray')\n",
    "axs[2].set_xlabel(\"Newspaper\")\n",
    "axs[2].set_ylabel(\"Sales\");"
   ]
  },
  {
   "cell_type": "code",
   "execution_count": null,
   "id": "7fc2f6ae",
   "metadata": {},
   "outputs": [],
   "source": []
  },
  {
   "cell_type": "markdown",
   "id": "7ca422de",
   "metadata": {},
   "source": [
    "# Train model on all features"
   ]
  },
  {
   "cell_type": "code",
   "execution_count": null,
   "id": "40896212",
   "metadata": {},
   "outputs": [],
   "source": [
    "# Train-test split\n",
    "X_train, X_test, y_train, y_test = train_test_split(X, y,\n",
    "                                        train_size=0.8, random_state=42)"
   ]
  },
  {
   "cell_type": "code",
   "execution_count": null,
   "id": "70203b58",
   "metadata": {},
   "outputs": [],
   "source": [
    "model = LinearRegression()\n",
    "model.fit(X_train, y_train)\n",
    "\n",
    "y_pred_train = model.predict(X_train)\n",
    "\n",
    "print(f'Train set R-squared: {r2_score(y_train, y_pred_train)}')"
   ]
  },
  {
   "cell_type": "code",
   "execution_count": null,
   "id": "e081826f",
   "metadata": {},
   "outputs": [],
   "source": [
    "y_pred_test = model.predict(X_test)"
   ]
  },
  {
   "cell_type": "code",
   "execution_count": null,
   "id": "c5ec7885",
   "metadata": {},
   "outputs": [],
   "source": [
    "print(f'Test set R-squared: {r2_score(y_test, y_pred_test)}')"
   ]
  },
  {
   "cell_type": "code",
   "execution_count": null,
   "id": "7f11712e",
   "metadata": {},
   "outputs": [],
   "source": [
    "model.coef_, model.intercept_"
   ]
  },
  {
   "cell_type": "markdown",
   "id": "2b3a59c8",
   "metadata": {},
   "source": [
    "$$ \\text{Sales} = 0.054511 \\times \\text{TV} + 0.100945 \\times \\text{Radio} + 0.004336 \\times \\text{Newspaper} +  4.714126$$"
   ]
  },
  {
   "cell_type": "code",
   "execution_count": null,
   "id": "2921b6ab",
   "metadata": {},
   "outputs": [],
   "source": []
  },
  {
   "cell_type": "markdown",
   "id": "892142cf",
   "metadata": {},
   "source": [
    "### Why `TV` has smaller weight than `Radio`?"
   ]
  },
  {
   "cell_type": "code",
   "execution_count": null,
   "id": "176ceded",
   "metadata": {},
   "outputs": [],
   "source": [
    "df.mean()"
   ]
  },
  {
   "cell_type": "markdown",
   "id": "98bacb16",
   "metadata": {},
   "source": [
    "# Scale the data!"
   ]
  },
  {
   "cell_type": "code",
   "execution_count": null,
   "id": "d7bf00cf",
   "metadata": {},
   "outputs": [],
   "source": [
    "# Scale data\n",
    "scaler = StandardScaler()\n",
    "scaler.fit(X_train)\n",
    "\n",
    "X_train = scaler.transform(X_train)\n",
    "X_test = scaler.transform(X_test)\n",
    "\n",
    "# Fit the model\n",
    "model = LinearRegression()\n",
    "model.fit(X_train, y_train)\n",
    "\n",
    "y_pred_train = model.predict(X_train)\n",
    "\n",
    "print(f'Train set R-squared: {r2_score(y_train, y_pred_train)}')\n",
    "y_pred_test = model.predict(X_test)\n",
    "print(f'Test set R-squared: {r2_score(y_test, y_pred_test)}')"
   ]
  },
  {
   "cell_type": "code",
   "execution_count": null,
   "id": "008dafec",
   "metadata": {},
   "outputs": [],
   "source": [
    "model.coef_"
   ]
  },
  {
   "cell_type": "code",
   "execution_count": null,
   "id": "df2832e8",
   "metadata": {},
   "outputs": [],
   "source": [
    "model.intercept_"
   ]
  },
  {
   "cell_type": "markdown",
   "id": "b36bdc4b",
   "metadata": {},
   "source": [
    "$$ \\text{Sales} = 4.58720 \\times \\text{TV}_{\\text{scaled}} + 1.48984 \\times \\text{Radio}_{\\text{scaled}} + 0.087915 \\times \\text{Newspaper}_{\\text{scaled}} + 15.3306$$"
   ]
  },
  {
   "cell_type": "code",
   "execution_count": null,
   "id": "770058ab",
   "metadata": {},
   "outputs": [],
   "source": []
  },
  {
   "cell_type": "code",
   "execution_count": null,
   "id": "f3f6dab8",
   "metadata": {},
   "outputs": [],
   "source": []
  }
 ],
 "metadata": {
  "kernelspec": {
   "display_name": "Python 3",
   "language": "python",
   "name": "python3"
  },
  "language_info": {
   "codemirror_mode": {
    "name": "ipython",
    "version": 3
   },
   "file_extension": ".py",
   "mimetype": "text/x-python",
   "name": "python",
   "nbconvert_exporter": "python",
   "pygments_lexer": "ipython3",
   "version": "3.8.8"
  }
 },
 "nbformat": 4,
 "nbformat_minor": 5
}
