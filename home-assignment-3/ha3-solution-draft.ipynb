{
 "cells": [
  {
   "cell_type": "markdown",
   "id": "cee61acc",
   "metadata": {},
   "source": [
    "We will use simple economic model of Churn:\n",
    "- You have historical data about customers who churn and not churn.\n",
    "- You have a predictive model which for every customer predict whether he will churn or not churn next month.\n",
    "- You know if you give a discount d% to a churn customer, he will not churn.\n",
    "- Telecom company do not have any accompanying expenses on any discount strategy. \n",
    "- Baseline (\"0 profit\") solution corresponds to the case where we do not apply any discount strategy and loose all churned clients\n",
    "\n",
    "\n",
    "(1) 1. What is the percentage of MonthlyCharges payed by customers who will Churn?  Single integer number 0..100. \n",
    "\n",
    "(1) 2. Compute the profit of 20% discount (MonthlyCharges based) on a test set in scenario where you have \"perfect\", 100% accurate classification model. How much money company saves, assuming all customers accepts it and do not churn? Single float number, with 2 significant digits, e.g. 10.16 .\n",
    "\n",
    "(1) 3. Build any binary classification model, which output probabilities (e.g. Logistic Regression, Gradient Boosting, etc.) using training set. Make predictions on a test set. Upload a csv file with your predictions (it should contain 2 columns, customerID and PredictedYes). For all remaining computations you must use these predictions.\n",
    "\n",
    "(1) 4. What is ROC AUC of your model on a test set? Single integer number 0..100. \n",
    "\n",
    "(1) 5. What are TP, FP, TN, FN for probability threshold 0.5 (4 integer numbers divided by a comma, e.g. 10,20,15,5). You can use example from <> spreadsheet to compute the confusion matrix.\n",
    "\n",
    "Compute the effectiveness of discount strategies for different scenarios\n",
    "\n",
    "(1) 6. Compute the profit of 20% discount (MonthlyCharges based), assuming you give it to all customers predicted as Churned (TP and FP). Single float number, with 2 significant digits, e.g. 10.16 .\n",
    "\n",
    "(1) 7. What if we only give discount (20%) to top p% of customers (p% of customers with the highest probability to churn, predicted by our model). Find p, which maximizes the profit. Recall that p might not coincide with probability threshold outputed by your classifier (e.g. using threshold of 0.65 you end up with 50% of the customers). Single integer number 0..100. \n",
    "\n",
    "(1) 8. Instead of 20% discount we now give constant 10$ discount. How your answer to the previous question changes? Single integer number 0..100. \n",
    "\n",
    "(2) 9. Propose a more viable economic model of Churn (e.g. how additional spendings on advertisement., new customers' aquisition, regular discount companies affect your ML pipeline; how to improve our simple economic model to make it more realistic?). 3000 english symbols. Any submission over 3000 symbols will result in 0 points. Your improvements must incorporate the scenario of usage Churn/Uplift ML models."
   ]
  },
  {
   "cell_type": "code",
   "execution_count": null,
   "id": "d204a043",
   "metadata": {},
   "outputs": [],
   "source": []
  },
  {
   "cell_type": "code",
   "execution_count": null,
   "id": "38f1cb24",
   "metadata": {},
   "outputs": [],
   "source": []
  }
 ],
 "metadata": {
  "kernelspec": {
   "display_name": "Python 3",
   "language": "python",
   "name": "python3"
  },
  "language_info": {
   "codemirror_mode": {
    "name": "ipython",
    "version": 3
   },
   "file_extension": ".py",
   "mimetype": "text/x-python",
   "name": "python",
   "nbconvert_exporter": "python",
   "pygments_lexer": "ipython3",
   "version": "3.8.8"
  }
 },
 "nbformat": 4,
 "nbformat_minor": 5
}
