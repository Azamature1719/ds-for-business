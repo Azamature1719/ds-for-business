{
 "cells": [
  {
   "cell_type": "markdown",
   "id": "2bc961b7",
   "metadata": {},
   "source": [
    "# Submit your solution to the google form (link is available in telegram channel), due to 02/05/2023 23:59 Moscow time."
   ]
  },
  {
   "cell_type": "code",
   "execution_count": null,
   "id": "fed0fe80",
   "metadata": {},
   "outputs": [],
   "source": [
    "import pandas as pd"
   ]
  },
  {
   "cell_type": "code",
   "execution_count": null,
   "id": "8ab2dbb6",
   "metadata": {},
   "outputs": [],
   "source": [
    "df = pd.read_csv('train_dataset.csv')"
   ]
  },
  {
   "cell_type": "markdown",
   "id": "3a34d7dd",
   "metadata": {},
   "source": [
    "You are asked to build a model to predict the cost of acquiring a customer, the table contains the following features:\n",
    "1. Store specific information:\n",
    "    - store_sales(in millions) - store_sales(in million dollars)\n",
    "    - unit_sales(in millions) - unit_sales(in millions) in stores Quantity\n",
    "    - Store_sqft - STORE AREA AVAILABLE IN SQFT\n",
    "    - Units_per_case - UNITS/CASE UNITS AVAILABLE IN EACH STORE SHELVES\n",
    "    - Coffee_bar - COFFEE BAR available in store\n",
    "    - Video_store - VIDEO STORE/gaming store available\n",
    "    - Salad_bar - SALAD BAR available in store\n",
    "    - Prepared_food - food prepared available in store\n",
    "    - Florist - flower shelves available in store\n",
    "2. Customer related information:\n",
    "    - Total_children - TOTAL CHILDREN IN HOME\n",
    "    - avg_cars_at home(approx) - avg_cars_at home(approx)\n",
    "    - Num_children_at_home - num_children_at_home AS PER CUSTOMERS FILLED DETAILS\n",
    "    - Cost - COST ON ACQUIRING A CUSTOMERS in dollars\n",
    "3. Information about specific product (which was bought by a customer in the store):\n",
    "    - Gross_weight - gross_weight OF ITEM\n",
    "    - Recyclable_package - FOOD ITEM IS recyclable_package\n",
    "    - Low_fat - LOW_FAT FOOD ITEM IS LOW FAT\n",
    "    \n",
    "    \n",
    "![cfm](convinient_food_mart.jpg)\n",
    "    \n",
    "Recall, that this table contains already aggregated, anonymized, obfuscated and partially synthetic data. The dataset contains multiple rows per store, per customer, per item, but we do not have `customer_id`, `purchase_id`, `item_id`, `store_id` fields, thus making the analysis somehow limited. Though, it is ideal for our first home assignment.\n",
    "\n",
    "---\n",
    "\n",
    "Your goal for this home assignment is two-fold:\n",
    "1. Make you comfortable with data wrangling:\n",
    "    - Extract rows/columns statistics\n",
    "    - Visualize the dependencies\n",
    "    - Gain some insights\n",
    "2. Build a simple, but correct and full machine learning pipeline\n",
    "    - Select proper performance metrics\n",
    "    - Split the data into train and test subsets\n",
    "    - Run a k-fold cross-validation on a training part to select optimal hyperparameters of the model\n",
    "    - Train a model with optimal hyperparameters on the whole train set\n",
    "    - Make a predictions on test set\n",
    "    - Analyse the generalizability of the model by comparing its performance on train and test sets\n",
    "    - Comment on whether the resulting model is \"good\" or \"bad\" from business point of view"
   ]
  },
  {
   "cell_type": "markdown",
   "id": "35ad87ab",
   "metadata": {},
   "source": [
    "# Analyze general data information"
   ]
  },
  {
   "cell_type": "markdown",
   "id": "064f8374",
   "metadata": {},
   "source": [
    "## Question 0. What is the goal of this dataset?"
   ]
  },
  {
   "cell_type": "code",
   "execution_count": null,
   "id": "7153deb3",
   "metadata": {},
   "outputs": [],
   "source": [
    "df.head(3)"
   ]
  },
  {
   "cell_type": "markdown",
   "id": "125d8cb4",
   "metadata": {},
   "source": [
    "## Question 1. How many observations are in the dataset?"
   ]
  },
  {
   "cell_type": "code",
   "execution_count": null,
   "id": "92288e43",
   "metadata": {},
   "outputs": [],
   "source": []
  },
  {
   "cell_type": "markdown",
   "id": "ba7641fb",
   "metadata": {},
   "source": [
    "## Question 2. How many features are in the dataset? (excluding `target` column)"
   ]
  },
  {
   "cell_type": "code",
   "execution_count": null,
   "id": "ac0b0269",
   "metadata": {},
   "outputs": [],
   "source": []
  },
  {
   "cell_type": "markdown",
   "id": "629c78b6",
   "metadata": {},
   "source": [
    "## Question 3. What is the difference between numerical and categorical features?\n",
    "\n",
    "Which of the following best describes the difference between categorical and numerical features in machine learning?"
   ]
  },
  {
   "cell_type": "code",
   "execution_count": null,
   "id": "0352f6b4",
   "metadata": {},
   "outputs": [],
   "source": []
  },
  {
   "cell_type": "markdown",
   "id": "e85dc0df",
   "metadata": {},
   "source": [
    "## Question 4. How many numerical and categorical features are in the dataset?  (excluding `target` column)"
   ]
  },
  {
   "cell_type": "code",
   "execution_count": null,
   "id": "b56944b1",
   "metadata": {},
   "outputs": [],
   "source": []
  },
  {
   "cell_type": "markdown",
   "id": "91b1c9d7",
   "metadata": {},
   "source": [
    "# Analyze store specific information"
   ]
  },
  {
   "cell_type": "markdown",
   "id": "abcb2c65",
   "metadata": {},
   "source": [
    "## In most cases stores which have a Coffee bar, do prepare food"
   ]
  },
  {
   "cell_type": "code",
   "execution_count": null,
   "id": "96309978",
   "metadata": {},
   "outputs": [],
   "source": [
    "from sklearn.metrics import confusion_matrix\n",
    "import seaborn as sns\n",
    "import matplotlib.pyplot as plt"
   ]
  },
  {
   "cell_type": "code",
   "execution_count": null,
   "id": "95c1b717",
   "metadata": {},
   "outputs": [],
   "source": [
    "# Compute a confusion matrix\n",
    "cm = confusion_matrix(df['coffee_bar'], df['prepared_food'])\n",
    "\n",
    "# Create a heatmap with seaborn\n",
    "sns.heatmap(cm, annot=True, cmap='Blues', fmt='g', cbar=False)\n",
    "\n",
    "# Add labels to the x-axis and y-axis\n",
    "plt.xlabel('coffee_bar')\n",
    "plt.ylabel('prepared_food')\n",
    "\n",
    "# Add a title\n",
    "plt.title('Confusion Matrix Heatmap');"
   ]
  },
  {
   "cell_type": "markdown",
   "id": "a755b22e",
   "metadata": {},
   "source": [
    "## Question 5. How many stores which have a Salad bar do prepare food?\n",
    "\n",
    "Based on your answer decide if you need to drop one of the (duplicated) columns."
   ]
  },
  {
   "cell_type": "code",
   "execution_count": null,
   "id": "4277e2d7",
   "metadata": {},
   "outputs": [],
   "source": []
  },
  {
   "cell_type": "markdown",
   "id": "2345eedf",
   "metadata": {},
   "source": [
    "## Having a Coffee bar decreases the average media campaign cost"
   ]
  },
  {
   "cell_type": "code",
   "execution_count": null,
   "id": "f41bd65e",
   "metadata": {},
   "outputs": [],
   "source": [
    "sns.boxplot(data=df, x='coffee_bar', y='cost', width=.3)\n",
    "plt.xlabel('Coffee bar')\n",
    "plt.ylabel('Marketing cost');"
   ]
  },
  {
   "cell_type": "code",
   "execution_count": null,
   "id": "91bae752",
   "metadata": {},
   "outputs": [],
   "source": [
    "df.groupby('coffee_bar')['cost'].agg(['mean', 'median', 'std'])"
   ]
  },
  {
   "cell_type": "markdown",
   "id": "8a41b144",
   "metadata": {},
   "source": [
    "## Question 6. Does having a video store, a salad bar, an option to buy prepared food or a\tflorist decreases the average cost of media campaign?"
   ]
  },
  {
   "cell_type": "code",
   "execution_count": null,
   "id": "915148c2",
   "metadata": {},
   "outputs": [],
   "source": []
  },
  {
   "cell_type": "markdown",
   "id": "5ae849f2",
   "metadata": {},
   "source": [
    "## Most of the stores have under 15 mln sales, with 90% of sales being under 12 mln.\n",
    "\n",
    "The distribution is right-skewed (positive skew), with mean around 6.5mln."
   ]
  },
  {
   "cell_type": "code",
   "execution_count": null,
   "id": "3712c5e2",
   "metadata": {},
   "outputs": [],
   "source": [
    "sns.histplot(df['store_sales(in millions)'], kde=True, bins=20)\n",
    "plt.title(f'Distribution of store sales, in millions $');"
   ]
  },
  {
   "cell_type": "code",
   "execution_count": null,
   "id": "4a54d133",
   "metadata": {},
   "outputs": [],
   "source": [
    "df['store_sales(in millions)'].quantile(0.93)"
   ]
  },
  {
   "cell_type": "code",
   "execution_count": null,
   "id": "b7e1c38f",
   "metadata": {},
   "outputs": [],
   "source": [
    "df['store_sales(in millions)'].mean()"
   ]
  },
  {
   "cell_type": "markdown",
   "id": "dc693c3a",
   "metadata": {},
   "source": [
    "## Question 7. What could you say about distribution of marketing costs?\n"
   ]
  },
  {
   "cell_type": "code",
   "execution_count": null,
   "id": "6398664d",
   "metadata": {},
   "outputs": [],
   "source": []
  },
  {
   "cell_type": "markdown",
   "id": "71605abb",
   "metadata": {},
   "source": [
    "## Question 8. What percentage of sales go into marketing cost?\n",
    "\n",
    "Assuming that all rows with the same `store_sales(in millions)` come from the same store, and that all rows are from unique customers, the total sales are $7979 \\text{mln}, \\$ $, and the total costs are $5101736\\$$.\n"
   ]
  },
  {
   "cell_type": "code",
   "execution_count": null,
   "id": "428d7352",
   "metadata": {},
   "outputs": [],
   "source": [
    "df['store_sales(in millions)'].unique().sum()"
   ]
  },
  {
   "cell_type": "code",
   "execution_count": null,
   "id": "41249f78",
   "metadata": {},
   "outputs": [],
   "source": [
    "df['cost'].sum()"
   ]
  },
  {
   "cell_type": "code",
   "execution_count": null,
   "id": "34a7080a",
   "metadata": {},
   "outputs": [],
   "source": []
  },
  {
   "cell_type": "markdown",
   "id": "cdbed01d",
   "metadata": {},
   "source": [
    "## Here is a plot of sales vs store area\n",
    "\n",
    "It seems that while there is no clear dependence (stores with the largest sales vary in the square foot area a lot), \n",
    "there are some obvious clusters, e.g. stores with about 25000 square feet area and sales between 3 and 7 mln."
   ]
  },
  {
   "cell_type": "code",
   "execution_count": null,
   "id": "3abe0bbd",
   "metadata": {},
   "outputs": [],
   "source": [
    "sub = df[['store_sales(in millions)','store_sqft']].drop_duplicates()\n",
    "sub = sub[::20]\n",
    "\n",
    "plt.scatter(sub['store_sales(in millions)'], sub['store_sqft'], s=3, alpha=0.6)\n",
    "\n",
    "sns.kdeplot(data=sub, x='store_sales(in millions)', y='store_sqft',\n",
    "            palette=\"deep\", alpha=0.5, levels=10, fill=True)"
   ]
  },
  {
   "cell_type": "code",
   "execution_count": null,
   "id": "4ba72040",
   "metadata": {},
   "outputs": [],
   "source": []
  },
  {
   "cell_type": "markdown",
   "id": "d2fa52c7",
   "metadata": {},
   "source": [
    "## Question 9. What is the average sales per squre foot area?"
   ]
  },
  {
   "cell_type": "code",
   "execution_count": null,
   "id": "e282ce45",
   "metadata": {},
   "outputs": [],
   "source": []
  },
  {
   "cell_type": "markdown",
   "id": "30b8ed4d",
   "metadata": {},
   "source": [
    "## Interestingly, the marketing costs in  stores with >=10 mln sales is not much different from the costs in stores with lower <10mln sales"
   ]
  },
  {
   "cell_type": "code",
   "execution_count": null,
   "id": "fba710fc",
   "metadata": {},
   "outputs": [],
   "source": [
    "df[df['store_sales(in millions)'] >= 10]['cost'].mean()"
   ]
  },
  {
   "cell_type": "code",
   "execution_count": null,
   "id": "b5480421",
   "metadata": {},
   "outputs": [],
   "source": [
    "df[df['store_sales(in millions)'] < 10]['cost'].mean()"
   ]
  },
  {
   "cell_type": "code",
   "execution_count": null,
   "id": "b57d0087",
   "metadata": {},
   "outputs": [],
   "source": []
  },
  {
   "cell_type": "markdown",
   "id": "0e2dcd7c",
   "metadata": {},
   "source": [
    "## Question 10. Is there any dependence between size of the store in square feet and the cost of marketing?\n",
    "\n",
    "Select all that apply\n"
   ]
  },
  {
   "cell_type": "code",
   "execution_count": null,
   "id": "9e670cda",
   "metadata": {},
   "outputs": [],
   "source": []
  },
  {
   "cell_type": "markdown",
   "id": "8f8a5844",
   "metadata": {},
   "source": [
    "## Let's investigate the stores with the smallest cost to aqcuire a customers"
   ]
  },
  {
   "cell_type": "code",
   "execution_count": null,
   "id": "28e5947b",
   "metadata": {},
   "outputs": [],
   "source": [
    "df.cost.min()"
   ]
  },
  {
   "cell_type": "code",
   "execution_count": null,
   "id": "346a09fa",
   "metadata": {},
   "outputs": [],
   "source": [
    "sub = df.query('cost==50.79')"
   ]
  },
  {
   "cell_type": "code",
   "execution_count": null,
   "id": "1e98cb18",
   "metadata": {},
   "outputs": [],
   "source": [
    "store_columns = [\n",
    "    'store_sales(in millions)','unit_sales(in millions)',\n",
    "    'store_sqft','coffee_bar','video_store',\n",
    "    'salad_bar','prepared_food','florist'\n",
    "]"
   ]
  },
  {
   "cell_type": "markdown",
   "id": "1422c6c7",
   "metadata": {},
   "source": [
    "First, these are mostly small stores with sales under 10mln"
   ]
  },
  {
   "cell_type": "code",
   "execution_count": null,
   "id": "2a7d01bf",
   "metadata": {},
   "outputs": [],
   "source": [
    "sns.histplot(sub['store_sales(in millions)'], kde=True, bins=20)\n",
    "plt.title(f'Distribution of store sales, in millions $');"
   ]
  },
  {
   "cell_type": "code",
   "execution_count": null,
   "id": "a2f63d9c",
   "metadata": {},
   "outputs": [],
   "source": [
    "sub['store_sqft'].mean(), sub['store_sqft'].std() "
   ]
  },
  {
   "cell_type": "code",
   "execution_count": null,
   "id": "f7c893cb",
   "metadata": {},
   "outputs": [],
   "source": [
    "sub['store_sqft'].unique()"
   ]
  },
  {
   "cell_type": "markdown",
   "id": "e01e1cce",
   "metadata": {},
   "source": [
    "Second, it seems they all have **all** additional services"
   ]
  },
  {
   "cell_type": "code",
   "execution_count": null,
   "id": "48c5f56e",
   "metadata": {},
   "outputs": [],
   "source": [
    "for col in ['coffee_bar','video_store',\n",
    "    'salad_bar','prepared_food','florist']:\n",
    "    print(col, sub[col].unique())"
   ]
  },
  {
   "cell_type": "markdown",
   "id": "8f9d0fa4",
   "metadata": {},
   "source": [
    "## What about stores with the largest cost to aqcuire a customers?"
   ]
  },
  {
   "cell_type": "code",
   "execution_count": null,
   "id": "827d23df",
   "metadata": {},
   "outputs": [],
   "source": [
    "df.cost.max()"
   ]
  },
  {
   "cell_type": "code",
   "execution_count": null,
   "id": "c92020d9",
   "metadata": {},
   "outputs": [],
   "source": [
    "sub = df.query('cost==149.75')"
   ]
  },
  {
   "cell_type": "code",
   "execution_count": null,
   "id": "724761af",
   "metadata": {},
   "outputs": [],
   "source": [
    "sns.histplot(sub['store_sales(in millions)'], kde=True, bins=20)\n",
    "plt.title(f'Distribution of store sales, in millions $');"
   ]
  },
  {
   "cell_type": "code",
   "execution_count": null,
   "id": "74c60825",
   "metadata": {},
   "outputs": [],
   "source": [
    "sub['store_sqft'].mean(), sub['store_sqft'].std() "
   ]
  },
  {
   "cell_type": "code",
   "execution_count": null,
   "id": "7fb1fe96",
   "metadata": {},
   "outputs": [],
   "source": [
    "for col in ['coffee_bar','video_store',\n",
    "    'salad_bar','prepared_food','florist']:\n",
    "    print(col, sub[col].unique())"
   ]
  },
  {
   "cell_type": "markdown",
   "id": "933d2ded",
   "metadata": {},
   "source": [
    "They are also mostly small stores with under 10mln sales and all services included. It seems that the difference is not explained by the stores. Could it be explained by customers?"
   ]
  },
  {
   "cell_type": "markdown",
   "id": "ff8ff19f",
   "metadata": {},
   "source": [
    "## Question 10. Do distribution of number of kids vary for the lowest cost and largest cost rows?\n",
    "\n",
    "1. Try using `countplot` instead of `histplot`.\n",
    "2. Use total number of kids (instead of kids at home)"
   ]
  },
  {
   "cell_type": "code",
   "execution_count": null,
   "id": "0d938044",
   "metadata": {},
   "outputs": [],
   "source": []
  },
  {
   "cell_type": "markdown",
   "id": "7614e2b8",
   "metadata": {},
   "source": [
    "## Feel free to investigate other features"
   ]
  },
  {
   "cell_type": "code",
   "execution_count": null,
   "id": "8a837b33",
   "metadata": {},
   "outputs": [],
   "source": []
  },
  {
   "cell_type": "markdown",
   "id": "58134d33",
   "metadata": {},
   "source": [
    "# Build Machine Learning pipeline"
   ]
  },
  {
   "cell_type": "markdown",
   "id": "dcb661ae",
   "metadata": {},
   "source": [
    "- What are the proper performance metrics for this task?\n",
    "- Compare cross-validation performance of 5 ML models\n",
    "- Compute models' performance on test set\n",
    "- Analyse the generalizability of the model by comparing its performance on train and test sets\n",
    "- Comment on whether the resulting model is \"good\" or \"bad\" from business point of view"
   ]
  },
  {
   "cell_type": "markdown",
   "id": "cb798665",
   "metadata": {},
   "source": [
    "## Question 11. What are the proper performance metrics for this task?\n"
   ]
  },
  {
   "cell_type": "code",
   "execution_count": null,
   "id": "fe30bc3f",
   "metadata": {},
   "outputs": [],
   "source": []
  },
  {
   "cell_type": "markdown",
   "id": "81ffa93c",
   "metadata": {},
   "source": [
    "## Split your data into Train and Test subsets using `train_test_split`, use 70% to 30% ratio for train and test.\n",
    "\n",
    "## Question 12.  How many observations are in your `train` set?\n"
   ]
  },
  {
   "cell_type": "code",
   "execution_count": null,
   "id": "fe248c1f",
   "metadata": {},
   "outputs": [],
   "source": []
  },
  {
   "cell_type": "code",
   "execution_count": null,
   "id": "2c63dd6c",
   "metadata": {},
   "outputs": [],
   "source": []
  },
  {
   "cell_type": "markdown",
   "id": "ba0a2d32",
   "metadata": {},
   "source": [
    "## We will compare the performance of 5 ML models:\n",
    "\n",
    "1. Linear Regression\n",
    "2. Decision Tree\n",
    "3. Random Forest\n",
    "4. KNN\n",
    "5. Gradient Boosting"
   ]
  },
  {
   "cell_type": "code",
   "execution_count": null,
   "id": "f72c7877",
   "metadata": {},
   "outputs": [],
   "source": []
  },
  {
   "cell_type": "markdown",
   "id": "9751277c",
   "metadata": {},
   "source": [
    "## Question 13. Which of the models require feature standartization?\n"
   ]
  },
  {
   "cell_type": "code",
   "execution_count": null,
   "id": "c911b094",
   "metadata": {},
   "outputs": [],
   "source": []
  },
  {
   "cell_type": "markdown",
   "id": "11a26388",
   "metadata": {},
   "source": [
    "## We will use `GridSearchCV` method to run 5 fold cross-validation and select models' hyperparameters\n",
    "\n",
    "see example below (on Iris dataset)\n",
    "\n",
    "https://scikit-learn.org/stable/modules/generated/sklearn.model_selection.GridSearchCV.html"
   ]
  },
  {
   "cell_type": "code",
   "execution_count": null,
   "id": "daec05ee",
   "metadata": {},
   "outputs": [],
   "source": [
    "from sklearn import svm, datasets\n",
    "from sklearn.model_selection import GridSearchCV\n",
    "\n",
    "iris = datasets.load_iris()\n",
    "\n",
    "parameters = {'kernel':('linear', 'rbf'), 'C':[1, 10]}\n",
    "\n",
    "svc = svm.SVC()\n",
    "clf = GridSearchCV(svc, parameters, cv=5, scoring='accuracy', refit=True)\n",
    "clf.fit(iris.data, iris.target)\n",
    "print(clf.best_score_)"
   ]
  },
  {
   "cell_type": "code",
   "execution_count": null,
   "id": "ecb22821",
   "metadata": {},
   "outputs": [],
   "source": []
  },
  {
   "cell_type": "markdown",
   "id": "0a673d5a",
   "metadata": {},
   "source": [
    "## Explore hyperparameters of different ML models\n",
    "\n",
    "## Question 14. What does `fit_intercept` parameter responcible for in Linear Regression?\n"
   ]
  },
  {
   "cell_type": "code",
   "execution_count": null,
   "id": "9db10dc3",
   "metadata": {},
   "outputs": [],
   "source": [
    "from sklearn.linear_model import LinearRegression"
   ]
  },
  {
   "cell_type": "code",
   "execution_count": null,
   "id": "e3a146b9",
   "metadata": {},
   "outputs": [],
   "source": []
  },
  {
   "cell_type": "markdown",
   "id": "c9dcafbc",
   "metadata": {},
   "source": [
    "Train Linear Regression model using GridSearchCV, compare models with `fit_intercept=True` and `fit_intercept=False` "
   ]
  },
  {
   "cell_type": "markdown",
   "id": "7f5ee109",
   "metadata": {},
   "source": [
    "## Question 15. What does `max_depth` and `min_samples_split` responcible for in Decision Tree Regressor?\n"
   ]
  },
  {
   "cell_type": "code",
   "execution_count": null,
   "id": "e501897b",
   "metadata": {},
   "outputs": [],
   "source": [
    "from sklearn.tree import DecisionTreeRegressor"
   ]
  },
  {
   "cell_type": "code",
   "execution_count": null,
   "id": "369142e8",
   "metadata": {},
   "outputs": [],
   "source": []
  },
  {
   "cell_type": "markdown",
   "id": "414512a5",
   "metadata": {},
   "source": [
    "Train Decision Tree Regressor model using GridSearchCV, ask ChatGPT for reasonable set of hyperparameters (`max_depth` and `min_samples_split`) values for search."
   ]
  },
  {
   "cell_type": "markdown",
   "id": "8c8d8055",
   "metadata": {},
   "source": [
    "## Question 16. What does `n_estimators` and `max_depth` responcible for in Random Forest Regressor?\n"
   ]
  },
  {
   "cell_type": "code",
   "execution_count": null,
   "id": "fe8c73e8",
   "metadata": {},
   "outputs": [],
   "source": [
    "from sklearn.ensemble import RandomForestRegressor"
   ]
  },
  {
   "cell_type": "code",
   "execution_count": null,
   "id": "fc4cec91",
   "metadata": {},
   "outputs": [],
   "source": []
  },
  {
   "cell_type": "markdown",
   "id": "2dc574ea",
   "metadata": {},
   "source": [
    "Train Random Forest Regressor model using GridSearchCV, ask ChatGPT for reasonable set of hyperparameters (`max_depth` and `n_estimators`) values for search.\n"
   ]
  },
  {
   "cell_type": "markdown",
   "id": "ec7b119f",
   "metadata": {},
   "source": [
    "## Question 17. What does `n_neighbors` responcible for in K Neighbors Regressor?\n"
   ]
  },
  {
   "cell_type": "code",
   "execution_count": null,
   "id": "3e1b7ba9",
   "metadata": {},
   "outputs": [],
   "source": [
    "from sklearn.neighbors import KNeighborsRegressor"
   ]
  },
  {
   "cell_type": "code",
   "execution_count": null,
   "id": "b8ec6039",
   "metadata": {},
   "outputs": [],
   "source": []
  },
  {
   "cell_type": "markdown",
   "id": "24818de3",
   "metadata": {},
   "source": [
    "Train KNeighborsRegressor model using GridSearchCV, ask ChatGPT for reasonable set of hyperparameter `n_neighbors` values for search."
   ]
  },
  {
   "cell_type": "markdown",
   "id": "9b0be221",
   "metadata": {},
   "source": [
    "## Question 18. How `n_neighbors` affects KNN performance?\n"
   ]
  },
  {
   "cell_type": "code",
   "execution_count": null,
   "id": "8c09f25d",
   "metadata": {},
   "outputs": [],
   "source": []
  },
  {
   "cell_type": "markdown",
   "id": "ec3369f0",
   "metadata": {},
   "source": [
    "## Question 19. How `learning_rate` and `n_estimators` affect Gradient Boosting Regressor performance?\n"
   ]
  },
  {
   "cell_type": "code",
   "execution_count": null,
   "id": "cadda585",
   "metadata": {},
   "outputs": [],
   "source": [
    "from sklearn.ensemble import GradientBoostingRegressor"
   ]
  },
  {
   "cell_type": "code",
   "execution_count": null,
   "id": "adcec8f1",
   "metadata": {},
   "outputs": [],
   "source": []
  },
  {
   "cell_type": "markdown",
   "id": "1cd16302",
   "metadata": {},
   "source": [
    "Train Gradient Boosting Regressor model using GridSearchCV, ask ChatGPT for reasonable set of hyperparameters `learning_rate`, `n_estimators` and `max_depth` values for search. "
   ]
  },
  {
   "cell_type": "markdown",
   "id": "13dfc8cf",
   "metadata": {},
   "source": [
    "## Question 20. Test 5 ML models performance on Test set, which model perform the best?\n",
    "\n",
    "\n",
    "- Linear Regression\n",
    "- Decision Tree\n",
    "- Random Forest\n",
    "- KNN\n",
    "- Gradient Boosting\n"
   ]
  },
  {
   "cell_type": "code",
   "execution_count": null,
   "id": "c61441f7",
   "metadata": {},
   "outputs": [],
   "source": []
  },
  {
   "cell_type": "markdown",
   "id": "00006ff5",
   "metadata": {},
   "source": [
    "## Question 21. What is the `MAE` of the best perfroming model? (report `MAE` with 2 decimal places)"
   ]
  },
  {
   "cell_type": "code",
   "execution_count": null,
   "id": "90738cb5",
   "metadata": {},
   "outputs": [],
   "source": []
  },
  {
   "cell_type": "markdown",
   "id": "996f6291",
   "metadata": {},
   "source": [
    "## Question 22. Comment on whether the resulting model is \"good\" or \"bad\" from business point of view, given that the mean cost is 99$"
   ]
  },
  {
   "cell_type": "code",
   "execution_count": null,
   "id": "07c10851",
   "metadata": {},
   "outputs": [],
   "source": []
  },
  {
   "cell_type": "markdown",
   "id": "e6704522",
   "metadata": {},
   "source": [
    "## Upload your Jupyter Notebook or Orange project."
   ]
  },
  {
   "cell_type": "code",
   "execution_count": null,
   "id": "9277a482",
   "metadata": {},
   "outputs": [],
   "source": []
  },
  {
   "cell_type": "code",
   "execution_count": null,
   "id": "387028aa",
   "metadata": {},
   "outputs": [],
   "source": []
  }
 ],
 "metadata": {
  "kernelspec": {
   "display_name": "Python 3 (ipykernel)",
   "language": "python",
   "name": "python3"
  },
  "language_info": {
   "codemirror_mode": {
    "name": "ipython",
    "version": 3
   },
   "file_extension": ".py",
   "mimetype": "text/x-python",
   "name": "python",
   "nbconvert_exporter": "python",
   "pygments_lexer": "ipython3",
   "version": "3.9.13"
  }
 },
 "nbformat": 4,
 "nbformat_minor": 5
}
