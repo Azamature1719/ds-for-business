{
 "cells": [
  {
   "cell_type": "markdown",
   "id": "f09dbf81",
   "metadata": {},
   "source": [
    "# Read the data"
   ]
  },
  {
   "cell_type": "code",
   "execution_count": 284,
   "id": "144628f0",
   "metadata": {},
   "outputs": [],
   "source": [
    "import pandas as pd"
   ]
  },
  {
   "cell_type": "code",
   "execution_count": 285,
   "id": "316c60dc",
   "metadata": {},
   "outputs": [],
   "source": [
    "df = pd.read_csv('BankChurners.csv')\n",
    "\n",
    "# We will drop two last columns from the table\n",
    "df = df.drop([\n",
    "    'Naive_Bayes_Classifier_Attrition_Flag_Card_Category_Contacts_Count_12_mon_Dependent_count_Education_Level_Months_Inactive_12_mon_1',\n",
    "    'Naive_Bayes_Classifier_Attrition_Flag_Card_Category_Contacts_Count_12_mon_Dependent_count_Education_Level_Months_Inactive_12_mon_2'], \n",
    "    axis=1)"
   ]
  },
  {
   "cell_type": "code",
   "execution_count": 286,
   "id": "08732d15",
   "metadata": {
    "scrolled": true
   },
   "outputs": [
    {
     "data": {
      "text/html": [
       "<div>\n",
       "<style scoped>\n",
       "    .dataframe tbody tr th:only-of-type {\n",
       "        vertical-align: middle;\n",
       "    }\n",
       "\n",
       "    .dataframe tbody tr th {\n",
       "        vertical-align: top;\n",
       "    }\n",
       "\n",
       "    .dataframe thead th {\n",
       "        text-align: right;\n",
       "    }\n",
       "</style>\n",
       "<table border=\"1\" class=\"dataframe\">\n",
       "  <thead>\n",
       "    <tr style=\"text-align: right;\">\n",
       "      <th></th>\n",
       "      <th>CLIENTNUM</th>\n",
       "      <th>Attrition_Flag</th>\n",
       "      <th>Customer_Age</th>\n",
       "      <th>Gender</th>\n",
       "      <th>Dependent_count</th>\n",
       "      <th>Education_Level</th>\n",
       "      <th>Marital_Status</th>\n",
       "      <th>Income_Category</th>\n",
       "      <th>Card_Category</th>\n",
       "      <th>Months_on_book</th>\n",
       "      <th>...</th>\n",
       "      <th>Months_Inactive_12_mon</th>\n",
       "      <th>Contacts_Count_12_mon</th>\n",
       "      <th>Credit_Limit</th>\n",
       "      <th>Total_Revolving_Bal</th>\n",
       "      <th>Avg_Open_To_Buy</th>\n",
       "      <th>Total_Amt_Chng_Q4_Q1</th>\n",
       "      <th>Total_Trans_Amt</th>\n",
       "      <th>Total_Trans_Ct</th>\n",
       "      <th>Total_Ct_Chng_Q4_Q1</th>\n",
       "      <th>Avg_Utilization_Ratio</th>\n",
       "    </tr>\n",
       "  </thead>\n",
       "  <tbody>\n",
       "    <tr>\n",
       "      <th>0</th>\n",
       "      <td>768805383</td>\n",
       "      <td>Existing Customer</td>\n",
       "      <td>45</td>\n",
       "      <td>M</td>\n",
       "      <td>3</td>\n",
       "      <td>High School</td>\n",
       "      <td>Married</td>\n",
       "      <td>$60K - $80K</td>\n",
       "      <td>Blue</td>\n",
       "      <td>39</td>\n",
       "      <td>...</td>\n",
       "      <td>1</td>\n",
       "      <td>3</td>\n",
       "      <td>12691.0</td>\n",
       "      <td>777</td>\n",
       "      <td>11914.0</td>\n",
       "      <td>1.335</td>\n",
       "      <td>1144</td>\n",
       "      <td>42</td>\n",
       "      <td>1.625</td>\n",
       "      <td>0.061</td>\n",
       "    </tr>\n",
       "    <tr>\n",
       "      <th>1</th>\n",
       "      <td>818770008</td>\n",
       "      <td>Existing Customer</td>\n",
       "      <td>49</td>\n",
       "      <td>F</td>\n",
       "      <td>5</td>\n",
       "      <td>Graduate</td>\n",
       "      <td>Single</td>\n",
       "      <td>Less than $40K</td>\n",
       "      <td>Blue</td>\n",
       "      <td>44</td>\n",
       "      <td>...</td>\n",
       "      <td>1</td>\n",
       "      <td>2</td>\n",
       "      <td>8256.0</td>\n",
       "      <td>864</td>\n",
       "      <td>7392.0</td>\n",
       "      <td>1.541</td>\n",
       "      <td>1291</td>\n",
       "      <td>33</td>\n",
       "      <td>3.714</td>\n",
       "      <td>0.105</td>\n",
       "    </tr>\n",
       "    <tr>\n",
       "      <th>2</th>\n",
       "      <td>713982108</td>\n",
       "      <td>Existing Customer</td>\n",
       "      <td>51</td>\n",
       "      <td>M</td>\n",
       "      <td>3</td>\n",
       "      <td>Graduate</td>\n",
       "      <td>Married</td>\n",
       "      <td>$80K - $120K</td>\n",
       "      <td>Blue</td>\n",
       "      <td>36</td>\n",
       "      <td>...</td>\n",
       "      <td>1</td>\n",
       "      <td>0</td>\n",
       "      <td>3418.0</td>\n",
       "      <td>0</td>\n",
       "      <td>3418.0</td>\n",
       "      <td>2.594</td>\n",
       "      <td>1887</td>\n",
       "      <td>20</td>\n",
       "      <td>2.333</td>\n",
       "      <td>0.000</td>\n",
       "    </tr>\n",
       "  </tbody>\n",
       "</table>\n",
       "<p>3 rows × 21 columns</p>\n",
       "</div>"
      ],
      "text/plain": [
       "   CLIENTNUM     Attrition_Flag  Customer_Age Gender  Dependent_count   \n",
       "0  768805383  Existing Customer            45      M                3  \\\n",
       "1  818770008  Existing Customer            49      F                5   \n",
       "2  713982108  Existing Customer            51      M                3   \n",
       "\n",
       "  Education_Level Marital_Status Income_Category Card_Category   \n",
       "0     High School        Married     $60K - $80K          Blue  \\\n",
       "1        Graduate         Single  Less than $40K          Blue   \n",
       "2        Graduate        Married    $80K - $120K          Blue   \n",
       "\n",
       "   Months_on_book  ...  Months_Inactive_12_mon  Contacts_Count_12_mon   \n",
       "0              39  ...                       1                      3  \\\n",
       "1              44  ...                       1                      2   \n",
       "2              36  ...                       1                      0   \n",
       "\n",
       "   Credit_Limit  Total_Revolving_Bal  Avg_Open_To_Buy  Total_Amt_Chng_Q4_Q1   \n",
       "0       12691.0                  777          11914.0                 1.335  \\\n",
       "1        8256.0                  864           7392.0                 1.541   \n",
       "2        3418.0                    0           3418.0                 2.594   \n",
       "\n",
       "   Total_Trans_Amt  Total_Trans_Ct  Total_Ct_Chng_Q4_Q1  Avg_Utilization_Ratio  \n",
       "0             1144              42                1.625                  0.061  \n",
       "1             1291              33                3.714                  0.105  \n",
       "2             1887              20                2.333                  0.000  \n",
       "\n",
       "[3 rows x 21 columns]"
      ]
     },
     "execution_count": 286,
     "metadata": {},
     "output_type": "execute_result"
    }
   ],
   "source": [
    "df.head(3)"
   ]
  },
  {
   "cell_type": "markdown",
   "id": "a5ab9bbc",
   "metadata": {},
   "source": [
    "# Columns description\n",
    "\n",
    "- CLIENTNUM - Client number. Unique identifier for the customer holding the account\n",
    "- Attrition_Flag - Internal event (customer activity) variable, Existing Customer or Attrited Customer\n",
    "- Customer_Age - Demographic variable - Customer's Age in Years\n",
    "- Gender - Demographic variable - M=Male, F=Female\n",
    "- Dependent_count - Demographic variable - Number of dependents\n",
    "- Education_Level - Demographic variable - Educational Qualification of the account holder (example: high school, college graduate, etc.)\n",
    "- Marital_Status - Demographic variable - Married, Single, Divorced, Unknown\n",
    "- Income_Category - Demographic variable - Annual Income Category of the account holder (< $40K, $40K - 60K, $60K - $80K, $80K-$120K, > \n",
    "- Card_Category - Product Variable - Type of Card (Blue, Silver, Gold, Platinum)\n",
    "- Months_on_book - Period of relationship with bank\n",
    "- Total_Relationship_Count - Total no. of products held by the customer\n",
    "- Months_Inactive_12_mon - No. of months inactive in the last 12 months\n",
    "- Contacts_Count_12_mon - No. of Contacts in the last 12 months\n",
    "- Credit_Limit - Credit Limit on the Credit Card\n",
    "- Total_Revolving_Bal - Total Revolving Balance on the Credit Card\n",
    "- Avg_Open_To_Buy - Open to Buy Credit Line (Average of last 12 months)\n",
    "- Total_Amt_Chng_Q4_Q1 - Change in Transaction Amount (Q4 over Q1) \n",
    "- Total_Trans_Amt - Total Transaction Amount (Last 12 months)\n",
    "- Total_Trans_Ct - Total Transaction Count (Last 12 months)\n",
    "- Total_Ct_Chng_Q4_Q1 - Change in Transaction Count (Q4 over Q1) \n",
    "- Avg_Utilization_Ratio - Average Card Utilization Ratio\n",
    "\n",
    "Your goal is to predict whether the client will churn or not. "
   ]
  },
  {
   "cell_type": "markdown",
   "id": "1fb23b1d",
   "metadata": {},
   "source": [
    "# 1. What is the target column?\n",
    "\n",
    "- Attrition_Flag\n",
    "- Marital_Status\n",
    "- Gender\n",
    "- Months_on_book\n",
    "- Avg_Utilization_Ratio"
   ]
  },
  {
   "cell_type": "markdown",
   "id": "57cc8938-e363-4b3e-9758-634d73d1f1d8",
   "metadata": {},
   "source": [
    "### Answer: "
   ]
  },
  {
   "cell_type": "markdown",
   "id": "41b646b9-ac9a-41c7-86d3-7df4d7da8c07",
   "metadata": {},
   "source": [
    "My target column is \"Attrition_Flag\" - this column represents whether the client has churned or not"
   ]
  },
  {
   "cell_type": "markdown",
   "id": "38f9812a",
   "metadata": {},
   "source": [
    "# 2. Transform target column\n",
    "\n",
    "Transform target column to 1/0 format, 1 if the client will churn, 0 otherwise. What is the percetange of churned customers?"
   ]
  },
  {
   "cell_type": "code",
   "execution_count": 287,
   "id": "54045256",
   "metadata": {},
   "outputs": [],
   "source": [
    "df['Attrition_Flag'].replace(to_replace='Existing Customer', value=0, inplace=True)\n",
    "df['Attrition_Flag'].replace(to_replace='Attrited Customer',  value=1, inplace=True)"
   ]
  },
  {
   "cell_type": "code",
   "execution_count": 288,
   "id": "4d4033bd",
   "metadata": {},
   "outputs": [
    {
     "data": {
      "text/plain": [
       "dtype('int64')"
      ]
     },
     "execution_count": 288,
     "metadata": {},
     "output_type": "execute_result"
    }
   ],
   "source": [
    "df[\"Attrition_Flag\"].dtype"
   ]
  },
  {
   "cell_type": "code",
   "execution_count": 289,
   "id": "331d0d0f-e2b1-48db-a2c3-332d212c6a89",
   "metadata": {},
   "outputs": [
    {
     "name": "stdout",
     "output_type": "stream",
     "text": [
      "Percentage of churned customers: 16.07%\n"
     ]
    }
   ],
   "source": [
    "# Count the number of churned customers\n",
    "churned_customers = df[df['Attrition_Flag'] == 1]\n",
    "num_churned_customers = len(churned_customers)\n",
    "\n",
    "# Calculate the total number of customers\n",
    "total_customers = len(df)\n",
    "\n",
    "# Calculate the percentage of churned customers\n",
    "percentage_churned = (num_churned_customers / total_customers) * 100\n",
    "\n",
    "# Print the result\n",
    "print(f\"Percentage of churned customers: {percentage_churned:.2f}%\")"
   ]
  },
  {
   "cell_type": "markdown",
   "id": "e584792b",
   "metadata": {},
   "source": [
    "# Drop `CLIENTNUM` column, as all clients are unique"
   ]
  },
  {
   "cell_type": "code",
   "execution_count": 290,
   "id": "6b5341a2",
   "metadata": {},
   "outputs": [],
   "source": [
    "df = df.drop('CLIENTNUM', axis=1)"
   ]
  },
  {
   "cell_type": "code",
   "execution_count": 291,
   "id": "5d9ba115",
   "metadata": {},
   "outputs": [
    {
     "data": {
      "text/html": [
       "<div>\n",
       "<style scoped>\n",
       "    .dataframe tbody tr th:only-of-type {\n",
       "        vertical-align: middle;\n",
       "    }\n",
       "\n",
       "    .dataframe tbody tr th {\n",
       "        vertical-align: top;\n",
       "    }\n",
       "\n",
       "    .dataframe thead th {\n",
       "        text-align: right;\n",
       "    }\n",
       "</style>\n",
       "<table border=\"1\" class=\"dataframe\">\n",
       "  <thead>\n",
       "    <tr style=\"text-align: right;\">\n",
       "      <th></th>\n",
       "      <th>Attrition_Flag</th>\n",
       "      <th>Customer_Age</th>\n",
       "      <th>Gender</th>\n",
       "      <th>Dependent_count</th>\n",
       "      <th>Education_Level</th>\n",
       "      <th>Marital_Status</th>\n",
       "      <th>Income_Category</th>\n",
       "      <th>Card_Category</th>\n",
       "      <th>Months_on_book</th>\n",
       "      <th>Total_Relationship_Count</th>\n",
       "      <th>Months_Inactive_12_mon</th>\n",
       "      <th>Contacts_Count_12_mon</th>\n",
       "      <th>Credit_Limit</th>\n",
       "      <th>Total_Revolving_Bal</th>\n",
       "      <th>Avg_Open_To_Buy</th>\n",
       "      <th>Total_Amt_Chng_Q4_Q1</th>\n",
       "      <th>Total_Trans_Amt</th>\n",
       "      <th>Total_Trans_Ct</th>\n",
       "      <th>Total_Ct_Chng_Q4_Q1</th>\n",
       "      <th>Avg_Utilization_Ratio</th>\n",
       "    </tr>\n",
       "  </thead>\n",
       "  <tbody>\n",
       "    <tr>\n",
       "      <th>0</th>\n",
       "      <td>0</td>\n",
       "      <td>45</td>\n",
       "      <td>M</td>\n",
       "      <td>3</td>\n",
       "      <td>High School</td>\n",
       "      <td>Married</td>\n",
       "      <td>$60K - $80K</td>\n",
       "      <td>Blue</td>\n",
       "      <td>39</td>\n",
       "      <td>5</td>\n",
       "      <td>1</td>\n",
       "      <td>3</td>\n",
       "      <td>12691.0</td>\n",
       "      <td>777</td>\n",
       "      <td>11914.0</td>\n",
       "      <td>1.335</td>\n",
       "      <td>1144</td>\n",
       "      <td>42</td>\n",
       "      <td>1.625</td>\n",
       "      <td>0.061</td>\n",
       "    </tr>\n",
       "    <tr>\n",
       "      <th>1</th>\n",
       "      <td>0</td>\n",
       "      <td>49</td>\n",
       "      <td>F</td>\n",
       "      <td>5</td>\n",
       "      <td>Graduate</td>\n",
       "      <td>Single</td>\n",
       "      <td>Less than $40K</td>\n",
       "      <td>Blue</td>\n",
       "      <td>44</td>\n",
       "      <td>6</td>\n",
       "      <td>1</td>\n",
       "      <td>2</td>\n",
       "      <td>8256.0</td>\n",
       "      <td>864</td>\n",
       "      <td>7392.0</td>\n",
       "      <td>1.541</td>\n",
       "      <td>1291</td>\n",
       "      <td>33</td>\n",
       "      <td>3.714</td>\n",
       "      <td>0.105</td>\n",
       "    </tr>\n",
       "    <tr>\n",
       "      <th>2</th>\n",
       "      <td>0</td>\n",
       "      <td>51</td>\n",
       "      <td>M</td>\n",
       "      <td>3</td>\n",
       "      <td>Graduate</td>\n",
       "      <td>Married</td>\n",
       "      <td>$80K - $120K</td>\n",
       "      <td>Blue</td>\n",
       "      <td>36</td>\n",
       "      <td>4</td>\n",
       "      <td>1</td>\n",
       "      <td>0</td>\n",
       "      <td>3418.0</td>\n",
       "      <td>0</td>\n",
       "      <td>3418.0</td>\n",
       "      <td>2.594</td>\n",
       "      <td>1887</td>\n",
       "      <td>20</td>\n",
       "      <td>2.333</td>\n",
       "      <td>0.000</td>\n",
       "    </tr>\n",
       "    <tr>\n",
       "      <th>3</th>\n",
       "      <td>0</td>\n",
       "      <td>40</td>\n",
       "      <td>F</td>\n",
       "      <td>4</td>\n",
       "      <td>High School</td>\n",
       "      <td>Unknown</td>\n",
       "      <td>Less than $40K</td>\n",
       "      <td>Blue</td>\n",
       "      <td>34</td>\n",
       "      <td>3</td>\n",
       "      <td>4</td>\n",
       "      <td>1</td>\n",
       "      <td>3313.0</td>\n",
       "      <td>2517</td>\n",
       "      <td>796.0</td>\n",
       "      <td>1.405</td>\n",
       "      <td>1171</td>\n",
       "      <td>20</td>\n",
       "      <td>2.333</td>\n",
       "      <td>0.760</td>\n",
       "    </tr>\n",
       "    <tr>\n",
       "      <th>4</th>\n",
       "      <td>0</td>\n",
       "      <td>40</td>\n",
       "      <td>M</td>\n",
       "      <td>3</td>\n",
       "      <td>Uneducated</td>\n",
       "      <td>Married</td>\n",
       "      <td>$60K - $80K</td>\n",
       "      <td>Blue</td>\n",
       "      <td>21</td>\n",
       "      <td>5</td>\n",
       "      <td>1</td>\n",
       "      <td>0</td>\n",
       "      <td>4716.0</td>\n",
       "      <td>0</td>\n",
       "      <td>4716.0</td>\n",
       "      <td>2.175</td>\n",
       "      <td>816</td>\n",
       "      <td>28</td>\n",
       "      <td>2.500</td>\n",
       "      <td>0.000</td>\n",
       "    </tr>\n",
       "  </tbody>\n",
       "</table>\n",
       "</div>"
      ],
      "text/plain": [
       "   Attrition_Flag  Customer_Age Gender  Dependent_count Education_Level   \n",
       "0               0            45      M                3     High School  \\\n",
       "1               0            49      F                5        Graduate   \n",
       "2               0            51      M                3        Graduate   \n",
       "3               0            40      F                4     High School   \n",
       "4               0            40      M                3      Uneducated   \n",
       "\n",
       "  Marital_Status Income_Category Card_Category  Months_on_book   \n",
       "0        Married     $60K - $80K          Blue              39  \\\n",
       "1         Single  Less than $40K          Blue              44   \n",
       "2        Married    $80K - $120K          Blue              36   \n",
       "3        Unknown  Less than $40K          Blue              34   \n",
       "4        Married     $60K - $80K          Blue              21   \n",
       "\n",
       "   Total_Relationship_Count  Months_Inactive_12_mon  Contacts_Count_12_mon   \n",
       "0                         5                       1                      3  \\\n",
       "1                         6                       1                      2   \n",
       "2                         4                       1                      0   \n",
       "3                         3                       4                      1   \n",
       "4                         5                       1                      0   \n",
       "\n",
       "   Credit_Limit  Total_Revolving_Bal  Avg_Open_To_Buy  Total_Amt_Chng_Q4_Q1   \n",
       "0       12691.0                  777          11914.0                 1.335  \\\n",
       "1        8256.0                  864           7392.0                 1.541   \n",
       "2        3418.0                    0           3418.0                 2.594   \n",
       "3        3313.0                 2517            796.0                 1.405   \n",
       "4        4716.0                    0           4716.0                 2.175   \n",
       "\n",
       "   Total_Trans_Amt  Total_Trans_Ct  Total_Ct_Chng_Q4_Q1  Avg_Utilization_Ratio  \n",
       "0             1144              42                1.625                  0.061  \n",
       "1             1291              33                3.714                  0.105  \n",
       "2             1887              20                2.333                  0.000  \n",
       "3             1171              20                2.333                  0.760  \n",
       "4              816              28                2.500                  0.000  "
      ]
     },
     "execution_count": 291,
     "metadata": {},
     "output_type": "execute_result"
    }
   ],
   "source": [
    "df.head(5)"
   ]
  },
  {
   "cell_type": "markdown",
   "id": "55b42e0d",
   "metadata": {},
   "source": [
    "# 3. Analyse columns, which are numerical, which are categorical?\n",
    "\n",
    "How many numerical and categorical columns do you have (excluding target variable)\n"
   ]
  },
  {
   "cell_type": "code",
   "execution_count": 292,
   "id": "0144ca02-9d03-41b0-9fd8-2b57ff3a494b",
   "metadata": {},
   "outputs": [
    {
     "data": {
      "text/plain": [
       "(10127, 20)"
      ]
     },
     "execution_count": 292,
     "metadata": {},
     "output_type": "execute_result"
    }
   ],
   "source": [
    "df.shape"
   ]
  },
  {
   "cell_type": "code",
   "execution_count": 293,
   "id": "7c3efd81-b294-49aa-95fc-8d6b51f2e32a",
   "metadata": {},
   "outputs": [
    {
     "data": {
      "text/plain": [
       "Attrition_Flag                int64\n",
       "Total_Trans_Ct                int64\n",
       "Total_Trans_Amt               int64\n",
       "Total_Revolving_Bal           int64\n",
       "Contacts_Count_12_mon         int64\n",
       "Months_Inactive_12_mon        int64\n",
       "Months_on_book                int64\n",
       "Total_Relationship_Count      int64\n",
       "Dependent_count               int64\n",
       "Customer_Age                  int64\n",
       "Total_Ct_Chng_Q4_Q1         float64\n",
       "Credit_Limit                float64\n",
       "Avg_Open_To_Buy             float64\n",
       "Total_Amt_Chng_Q4_Q1        float64\n",
       "Avg_Utilization_Ratio       float64\n",
       "Income_Category              object\n",
       "Marital_Status               object\n",
       "Education_Level              object\n",
       "Gender                       object\n",
       "Card_Category                object\n",
       "dtype: object"
      ]
     },
     "execution_count": 293,
     "metadata": {},
     "output_type": "execute_result"
    }
   ],
   "source": [
    "df.dtypes.sort_values()"
   ]
  },
  {
   "cell_type": "code",
   "execution_count": 294,
   "id": "877bdc4b",
   "metadata": {},
   "outputs": [
    {
     "name": "stdout",
     "output_type": "stream",
     "text": [
      "Numerical columns: ['Customer_Age', 'Dependent_count', 'Months_on_book', 'Total_Relationship_Count', 'Months_Inactive_12_mon', 'Contacts_Count_12_mon', 'Credit_Limit', 'Total_Revolving_Bal', 'Avg_Open_To_Buy', 'Total_Amt_Chng_Q4_Q1', 'Total_Trans_Amt', 'Total_Trans_Ct', 'Total_Ct_Chng_Q4_Q1', 'Avg_Utilization_Ratio']\n",
      "Categorical columns: ['Gender', 'Education_Level', 'Marital_Status', 'Income_Category', 'Card_Category']\n",
      "Number of numerical columns: 14\n",
      "Number of categorical columns: 5\n"
     ]
    }
   ],
   "source": [
    "# Exclude the target variable from the analysis\n",
    "target_variable = 'Attrition_Flag'\n",
    "columns_to_analyze = [col for col in df.columns if col != target_variable]\n",
    "\n",
    "# Analyze the data types of the columns\n",
    "numerical_columns = []\n",
    "categorical_columns = []\n",
    "\n",
    "for col in columns_to_analyze:\n",
    "    if df[col].dtype in ['int64', 'float64']:\n",
    "        numerical_columns.append(col)\n",
    "    elif df[col].dtype == 'object':\n",
    "        categorical_columns.append(col)\n",
    "\n",
    "# Count the number of numerical and categorical columns\n",
    "num_numerical_columns = len(numerical_columns)\n",
    "num_categorical_columns = len(categorical_columns)\n",
    "\n",
    "# Print the results\n",
    "print(f\"Numerical columns: {numerical_columns}\")\n",
    "print(f\"Categorical columns: {categorical_columns}\")\n",
    "print(f\"Number of numerical columns: {num_numerical_columns}\")\n",
    "print(f\"Number of categorical columns: {num_categorical_columns}\")"
   ]
  },
  {
   "cell_type": "markdown",
   "id": "f66c16da",
   "metadata": {},
   "source": [
    "# 4. Perform EDA (optional)\n",
    "\n",
    "Plot 1-5 Graphs looking for interesting data patterns. Each graph must contain a short description. You can use ChatGPT to generate ideas for graphs. If you use ChatGPT include your prompt into the document. Each of 5 graphs worth 1 point.\n",
    "\n",
    "Checklist:\n",
    "1. For each graph:\n",
    "    1. Graph\n",
    "        - has title\n",
    "        - has labels for OX and OY \n",
    "        - has legend\n",
    "    2. Graph description (<100 words)\n",
    "    3. ChatGPT prompt included (if you've used one)\n",
    "2. All graphs in a single pdf document\n",
    "\n",
    "Put all graphs into a single doc file, save it as pdf and upload to the google form. For reference, this whole text is 105 words."
   ]
  },
  {
   "cell_type": "code",
   "execution_count": null,
   "id": "ca5472e3",
   "metadata": {},
   "outputs": [],
   "source": []
  },
  {
   "cell_type": "markdown",
   "id": "9eda4c7e",
   "metadata": {},
   "source": [
    "#  5. What are the different ways to handle categorical columns?\n",
    "\n",
    "\n",
    "Before training machine learning algorithm we need to convert categorical columns\n",
    "\n"
   ]
  },
  {
   "cell_type": "markdown",
   "id": "0a7a6d51-8e59-49c3-b307-4c5b007b6a3b",
   "metadata": {},
   "source": [
    "### Answer:"
   ]
  },
  {
   "cell_type": "markdown",
   "id": "5b5a3509-98de-4afb-a01d-e083a8f0afcf",
   "metadata": {},
   "source": [
    "+ Ordinal Encoding\n",
    "+ One-Hot Encoding\n",
    "\n",
    "Also we can apply Ordinal Encoding for the columns: 'Education_Level', 'Income_Category', 'Card_Category'. But this option is not presented within the possible answers"
   ]
  },
  {
   "cell_type": "markdown",
   "id": "588def7a",
   "metadata": {},
   "source": [
    "# 6. Encode categorical columns with 1-hot encoding\n",
    "\n",
    "How many binary columns after encoding do you have? Use `OneHotEncoder` from `slearn.preprocessing` module with `sparse=False` parameter. See example below.\n"
   ]
  },
  {
   "cell_type": "code",
   "execution_count": 295,
   "id": "b1652c92-5528-4fa5-8bd3-8673d075d38d",
   "metadata": {},
   "outputs": [
    {
     "name": "stdout",
     "output_type": "stream",
     "text": [
      "Categorical columns: ['Gender', 'Education_Level', 'Marital_Status', 'Income_Category', 'Card_Category']\n"
     ]
    }
   ],
   "source": [
    "from sklearn.preprocessing import OneHotEncoder\n",
    "\n",
    "# Set names of categorical columns\n",
    "print(f\"Categorical columns: {categorical_columns}\")"
   ]
  },
  {
   "cell_type": "code",
   "execution_count": 296,
   "id": "83f470a9-f5da-4cea-a6cb-1b5f37137aea",
   "metadata": {},
   "outputs": [
    {
     "name": "stderr",
     "output_type": "stream",
     "text": [
      "/home/aism/.local/lib/python3.10/site-packages/sklearn/preprocessing/_encoders.py:868: FutureWarning: `sparse` was renamed to `sparse_output` in version 1.2 and will be removed in 1.4. `sparse_output` is ignored unless you leave `sparse` to its default value.\n",
      "  warnings.warn(\n"
     ]
    },
    {
     "data": {
      "text/html": [
       "<div>\n",
       "<style scoped>\n",
       "    .dataframe tbody tr th:only-of-type {\n",
       "        vertical-align: middle;\n",
       "    }\n",
       "\n",
       "    .dataframe tbody tr th {\n",
       "        vertical-align: top;\n",
       "    }\n",
       "\n",
       "    .dataframe thead th {\n",
       "        text-align: right;\n",
       "    }\n",
       "</style>\n",
       "<table border=\"1\" class=\"dataframe\">\n",
       "  <thead>\n",
       "    <tr style=\"text-align: right;\">\n",
       "      <th></th>\n",
       "      <th>Gender_F</th>\n",
       "      <th>Gender_M</th>\n",
       "      <th>Education_Level_College</th>\n",
       "      <th>Education_Level_Doctorate</th>\n",
       "      <th>Education_Level_Graduate</th>\n",
       "      <th>Education_Level_High School</th>\n",
       "      <th>Education_Level_Post-Graduate</th>\n",
       "      <th>Education_Level_Uneducated</th>\n",
       "      <th>Education_Level_Unknown</th>\n",
       "      <th>Marital_Status_Divorced</th>\n",
       "      <th>...</th>\n",
       "      <th>Income_Category_$120K +</th>\n",
       "      <th>Income_Category_$40K - $60K</th>\n",
       "      <th>Income_Category_$60K - $80K</th>\n",
       "      <th>Income_Category_$80K - $120K</th>\n",
       "      <th>Income_Category_Less than $40K</th>\n",
       "      <th>Income_Category_Unknown</th>\n",
       "      <th>Card_Category_Blue</th>\n",
       "      <th>Card_Category_Gold</th>\n",
       "      <th>Card_Category_Platinum</th>\n",
       "      <th>Card_Category_Silver</th>\n",
       "    </tr>\n",
       "  </thead>\n",
       "  <tbody>\n",
       "    <tr>\n",
       "      <th>0</th>\n",
       "      <td>0.0</td>\n",
       "      <td>1.0</td>\n",
       "      <td>0.0</td>\n",
       "      <td>0.0</td>\n",
       "      <td>0.0</td>\n",
       "      <td>1.0</td>\n",
       "      <td>0.0</td>\n",
       "      <td>0.0</td>\n",
       "      <td>0.0</td>\n",
       "      <td>0.0</td>\n",
       "      <td>...</td>\n",
       "      <td>0.0</td>\n",
       "      <td>0.0</td>\n",
       "      <td>1.0</td>\n",
       "      <td>0.0</td>\n",
       "      <td>0.0</td>\n",
       "      <td>0.0</td>\n",
       "      <td>1.0</td>\n",
       "      <td>0.0</td>\n",
       "      <td>0.0</td>\n",
       "      <td>0.0</td>\n",
       "    </tr>\n",
       "    <tr>\n",
       "      <th>1</th>\n",
       "      <td>1.0</td>\n",
       "      <td>0.0</td>\n",
       "      <td>0.0</td>\n",
       "      <td>0.0</td>\n",
       "      <td>1.0</td>\n",
       "      <td>0.0</td>\n",
       "      <td>0.0</td>\n",
       "      <td>0.0</td>\n",
       "      <td>0.0</td>\n",
       "      <td>0.0</td>\n",
       "      <td>...</td>\n",
       "      <td>0.0</td>\n",
       "      <td>0.0</td>\n",
       "      <td>0.0</td>\n",
       "      <td>0.0</td>\n",
       "      <td>1.0</td>\n",
       "      <td>0.0</td>\n",
       "      <td>1.0</td>\n",
       "      <td>0.0</td>\n",
       "      <td>0.0</td>\n",
       "      <td>0.0</td>\n",
       "    </tr>\n",
       "    <tr>\n",
       "      <th>2</th>\n",
       "      <td>0.0</td>\n",
       "      <td>1.0</td>\n",
       "      <td>0.0</td>\n",
       "      <td>0.0</td>\n",
       "      <td>1.0</td>\n",
       "      <td>0.0</td>\n",
       "      <td>0.0</td>\n",
       "      <td>0.0</td>\n",
       "      <td>0.0</td>\n",
       "      <td>0.0</td>\n",
       "      <td>...</td>\n",
       "      <td>0.0</td>\n",
       "      <td>0.0</td>\n",
       "      <td>0.0</td>\n",
       "      <td>1.0</td>\n",
       "      <td>0.0</td>\n",
       "      <td>0.0</td>\n",
       "      <td>1.0</td>\n",
       "      <td>0.0</td>\n",
       "      <td>0.0</td>\n",
       "      <td>0.0</td>\n",
       "    </tr>\n",
       "    <tr>\n",
       "      <th>3</th>\n",
       "      <td>1.0</td>\n",
       "      <td>0.0</td>\n",
       "      <td>0.0</td>\n",
       "      <td>0.0</td>\n",
       "      <td>0.0</td>\n",
       "      <td>1.0</td>\n",
       "      <td>0.0</td>\n",
       "      <td>0.0</td>\n",
       "      <td>0.0</td>\n",
       "      <td>0.0</td>\n",
       "      <td>...</td>\n",
       "      <td>0.0</td>\n",
       "      <td>0.0</td>\n",
       "      <td>0.0</td>\n",
       "      <td>0.0</td>\n",
       "      <td>1.0</td>\n",
       "      <td>0.0</td>\n",
       "      <td>1.0</td>\n",
       "      <td>0.0</td>\n",
       "      <td>0.0</td>\n",
       "      <td>0.0</td>\n",
       "    </tr>\n",
       "    <tr>\n",
       "      <th>4</th>\n",
       "      <td>0.0</td>\n",
       "      <td>1.0</td>\n",
       "      <td>0.0</td>\n",
       "      <td>0.0</td>\n",
       "      <td>0.0</td>\n",
       "      <td>0.0</td>\n",
       "      <td>0.0</td>\n",
       "      <td>1.0</td>\n",
       "      <td>0.0</td>\n",
       "      <td>0.0</td>\n",
       "      <td>...</td>\n",
       "      <td>0.0</td>\n",
       "      <td>0.0</td>\n",
       "      <td>1.0</td>\n",
       "      <td>0.0</td>\n",
       "      <td>0.0</td>\n",
       "      <td>0.0</td>\n",
       "      <td>1.0</td>\n",
       "      <td>0.0</td>\n",
       "      <td>0.0</td>\n",
       "      <td>0.0</td>\n",
       "    </tr>\n",
       "    <tr>\n",
       "      <th>...</th>\n",
       "      <td>...</td>\n",
       "      <td>...</td>\n",
       "      <td>...</td>\n",
       "      <td>...</td>\n",
       "      <td>...</td>\n",
       "      <td>...</td>\n",
       "      <td>...</td>\n",
       "      <td>...</td>\n",
       "      <td>...</td>\n",
       "      <td>...</td>\n",
       "      <td>...</td>\n",
       "      <td>...</td>\n",
       "      <td>...</td>\n",
       "      <td>...</td>\n",
       "      <td>...</td>\n",
       "      <td>...</td>\n",
       "      <td>...</td>\n",
       "      <td>...</td>\n",
       "      <td>...</td>\n",
       "      <td>...</td>\n",
       "      <td>...</td>\n",
       "    </tr>\n",
       "    <tr>\n",
       "      <th>10122</th>\n",
       "      <td>0.0</td>\n",
       "      <td>1.0</td>\n",
       "      <td>0.0</td>\n",
       "      <td>0.0</td>\n",
       "      <td>1.0</td>\n",
       "      <td>0.0</td>\n",
       "      <td>0.0</td>\n",
       "      <td>0.0</td>\n",
       "      <td>0.0</td>\n",
       "      <td>0.0</td>\n",
       "      <td>...</td>\n",
       "      <td>0.0</td>\n",
       "      <td>1.0</td>\n",
       "      <td>0.0</td>\n",
       "      <td>0.0</td>\n",
       "      <td>0.0</td>\n",
       "      <td>0.0</td>\n",
       "      <td>1.0</td>\n",
       "      <td>0.0</td>\n",
       "      <td>0.0</td>\n",
       "      <td>0.0</td>\n",
       "    </tr>\n",
       "    <tr>\n",
       "      <th>10123</th>\n",
       "      <td>0.0</td>\n",
       "      <td>1.0</td>\n",
       "      <td>0.0</td>\n",
       "      <td>0.0</td>\n",
       "      <td>0.0</td>\n",
       "      <td>0.0</td>\n",
       "      <td>0.0</td>\n",
       "      <td>0.0</td>\n",
       "      <td>1.0</td>\n",
       "      <td>1.0</td>\n",
       "      <td>...</td>\n",
       "      <td>0.0</td>\n",
       "      <td>1.0</td>\n",
       "      <td>0.0</td>\n",
       "      <td>0.0</td>\n",
       "      <td>0.0</td>\n",
       "      <td>0.0</td>\n",
       "      <td>1.0</td>\n",
       "      <td>0.0</td>\n",
       "      <td>0.0</td>\n",
       "      <td>0.0</td>\n",
       "    </tr>\n",
       "    <tr>\n",
       "      <th>10124</th>\n",
       "      <td>1.0</td>\n",
       "      <td>0.0</td>\n",
       "      <td>0.0</td>\n",
       "      <td>0.0</td>\n",
       "      <td>0.0</td>\n",
       "      <td>1.0</td>\n",
       "      <td>0.0</td>\n",
       "      <td>0.0</td>\n",
       "      <td>0.0</td>\n",
       "      <td>0.0</td>\n",
       "      <td>...</td>\n",
       "      <td>0.0</td>\n",
       "      <td>0.0</td>\n",
       "      <td>0.0</td>\n",
       "      <td>0.0</td>\n",
       "      <td>1.0</td>\n",
       "      <td>0.0</td>\n",
       "      <td>1.0</td>\n",
       "      <td>0.0</td>\n",
       "      <td>0.0</td>\n",
       "      <td>0.0</td>\n",
       "    </tr>\n",
       "    <tr>\n",
       "      <th>10125</th>\n",
       "      <td>0.0</td>\n",
       "      <td>1.0</td>\n",
       "      <td>0.0</td>\n",
       "      <td>0.0</td>\n",
       "      <td>1.0</td>\n",
       "      <td>0.0</td>\n",
       "      <td>0.0</td>\n",
       "      <td>0.0</td>\n",
       "      <td>0.0</td>\n",
       "      <td>0.0</td>\n",
       "      <td>...</td>\n",
       "      <td>0.0</td>\n",
       "      <td>1.0</td>\n",
       "      <td>0.0</td>\n",
       "      <td>0.0</td>\n",
       "      <td>0.0</td>\n",
       "      <td>0.0</td>\n",
       "      <td>1.0</td>\n",
       "      <td>0.0</td>\n",
       "      <td>0.0</td>\n",
       "      <td>0.0</td>\n",
       "    </tr>\n",
       "    <tr>\n",
       "      <th>10126</th>\n",
       "      <td>1.0</td>\n",
       "      <td>0.0</td>\n",
       "      <td>0.0</td>\n",
       "      <td>0.0</td>\n",
       "      <td>1.0</td>\n",
       "      <td>0.0</td>\n",
       "      <td>0.0</td>\n",
       "      <td>0.0</td>\n",
       "      <td>0.0</td>\n",
       "      <td>0.0</td>\n",
       "      <td>...</td>\n",
       "      <td>0.0</td>\n",
       "      <td>0.0</td>\n",
       "      <td>0.0</td>\n",
       "      <td>0.0</td>\n",
       "      <td>1.0</td>\n",
       "      <td>0.0</td>\n",
       "      <td>0.0</td>\n",
       "      <td>0.0</td>\n",
       "      <td>0.0</td>\n",
       "      <td>1.0</td>\n",
       "    </tr>\n",
       "  </tbody>\n",
       "</table>\n",
       "<p>10127 rows × 23 columns</p>\n",
       "</div>"
      ],
      "text/plain": [
       "       Gender_F  Gender_M  Education_Level_College  Education_Level_Doctorate   \n",
       "0           0.0       1.0                      0.0                        0.0  \\\n",
       "1           1.0       0.0                      0.0                        0.0   \n",
       "2           0.0       1.0                      0.0                        0.0   \n",
       "3           1.0       0.0                      0.0                        0.0   \n",
       "4           0.0       1.0                      0.0                        0.0   \n",
       "...         ...       ...                      ...                        ...   \n",
       "10122       0.0       1.0                      0.0                        0.0   \n",
       "10123       0.0       1.0                      0.0                        0.0   \n",
       "10124       1.0       0.0                      0.0                        0.0   \n",
       "10125       0.0       1.0                      0.0                        0.0   \n",
       "10126       1.0       0.0                      0.0                        0.0   \n",
       "\n",
       "       Education_Level_Graduate  Education_Level_High School   \n",
       "0                           0.0                          1.0  \\\n",
       "1                           1.0                          0.0   \n",
       "2                           1.0                          0.0   \n",
       "3                           0.0                          1.0   \n",
       "4                           0.0                          0.0   \n",
       "...                         ...                          ...   \n",
       "10122                       1.0                          0.0   \n",
       "10123                       0.0                          0.0   \n",
       "10124                       0.0                          1.0   \n",
       "10125                       1.0                          0.0   \n",
       "10126                       1.0                          0.0   \n",
       "\n",
       "       Education_Level_Post-Graduate  Education_Level_Uneducated   \n",
       "0                                0.0                         0.0  \\\n",
       "1                                0.0                         0.0   \n",
       "2                                0.0                         0.0   \n",
       "3                                0.0                         0.0   \n",
       "4                                0.0                         1.0   \n",
       "...                              ...                         ...   \n",
       "10122                            0.0                         0.0   \n",
       "10123                            0.0                         0.0   \n",
       "10124                            0.0                         0.0   \n",
       "10125                            0.0                         0.0   \n",
       "10126                            0.0                         0.0   \n",
       "\n",
       "       Education_Level_Unknown  Marital_Status_Divorced  ...   \n",
       "0                          0.0                      0.0  ...  \\\n",
       "1                          0.0                      0.0  ...   \n",
       "2                          0.0                      0.0  ...   \n",
       "3                          0.0                      0.0  ...   \n",
       "4                          0.0                      0.0  ...   \n",
       "...                        ...                      ...  ...   \n",
       "10122                      0.0                      0.0  ...   \n",
       "10123                      1.0                      1.0  ...   \n",
       "10124                      0.0                      0.0  ...   \n",
       "10125                      0.0                      0.0  ...   \n",
       "10126                      0.0                      0.0  ...   \n",
       "\n",
       "       Income_Category_$120K +  Income_Category_$40K - $60K   \n",
       "0                          0.0                          0.0  \\\n",
       "1                          0.0                          0.0   \n",
       "2                          0.0                          0.0   \n",
       "3                          0.0                          0.0   \n",
       "4                          0.0                          0.0   \n",
       "...                        ...                          ...   \n",
       "10122                      0.0                          1.0   \n",
       "10123                      0.0                          1.0   \n",
       "10124                      0.0                          0.0   \n",
       "10125                      0.0                          1.0   \n",
       "10126                      0.0                          0.0   \n",
       "\n",
       "       Income_Category_$60K - $80K  Income_Category_$80K - $120K   \n",
       "0                              1.0                           0.0  \\\n",
       "1                              0.0                           0.0   \n",
       "2                              0.0                           1.0   \n",
       "3                              0.0                           0.0   \n",
       "4                              1.0                           0.0   \n",
       "...                            ...                           ...   \n",
       "10122                          0.0                           0.0   \n",
       "10123                          0.0                           0.0   \n",
       "10124                          0.0                           0.0   \n",
       "10125                          0.0                           0.0   \n",
       "10126                          0.0                           0.0   \n",
       "\n",
       "       Income_Category_Less than $40K  Income_Category_Unknown   \n",
       "0                                 0.0                      0.0  \\\n",
       "1                                 1.0                      0.0   \n",
       "2                                 0.0                      0.0   \n",
       "3                                 1.0                      0.0   \n",
       "4                                 0.0                      0.0   \n",
       "...                               ...                      ...   \n",
       "10122                             0.0                      0.0   \n",
       "10123                             0.0                      0.0   \n",
       "10124                             1.0                      0.0   \n",
       "10125                             0.0                      0.0   \n",
       "10126                             1.0                      0.0   \n",
       "\n",
       "       Card_Category_Blue  Card_Category_Gold  Card_Category_Platinum   \n",
       "0                     1.0                 0.0                     0.0  \\\n",
       "1                     1.0                 0.0                     0.0   \n",
       "2                     1.0                 0.0                     0.0   \n",
       "3                     1.0                 0.0                     0.0   \n",
       "4                     1.0                 0.0                     0.0   \n",
       "...                   ...                 ...                     ...   \n",
       "10122                 1.0                 0.0                     0.0   \n",
       "10123                 1.0                 0.0                     0.0   \n",
       "10124                 1.0                 0.0                     0.0   \n",
       "10125                 1.0                 0.0                     0.0   \n",
       "10126                 0.0                 0.0                     0.0   \n",
       "\n",
       "       Card_Category_Silver  \n",
       "0                       0.0  \n",
       "1                       0.0  \n",
       "2                       0.0  \n",
       "3                       0.0  \n",
       "4                       0.0  \n",
       "...                     ...  \n",
       "10122                   0.0  \n",
       "10123                   0.0  \n",
       "10124                   0.0  \n",
       "10125                   0.0  \n",
       "10126                   1.0  \n",
       "\n",
       "[10127 rows x 23 columns]"
      ]
     },
     "execution_count": 296,
     "metadata": {},
     "output_type": "execute_result"
    }
   ],
   "source": [
    "# Create OneHotEncoder object\n",
    "encoder = OneHotEncoder(sparse=False)\n",
    "\n",
    "# Transform categorical columns and save them into array\n",
    "cat_encoded = encoder.fit_transform(df[categorical_columns],)\n",
    "\n",
    "# Save categorical columns to pandas.DataFrame, with correct column names\n",
    "df_encoded = pd.DataFrame(cat_encoded, columns=encoder.get_feature_names_out(categorical_columns))\n",
    "\n",
    "# Check the resulting DataFrame\n",
    "df_encoded"
   ]
  },
  {
   "cell_type": "markdown",
   "id": "8b6cc885",
   "metadata": {},
   "source": [
    "# Drop original categorical columns and concat encoded with the numerical columns\n",
    "\n",
    "assuming your encoded columns are in `df_encoded` variable"
   ]
  },
  {
   "cell_type": "code",
   "execution_count": 297,
   "id": "891e197a",
   "metadata": {},
   "outputs": [],
   "source": [
    "df = df.drop(categorical_columns, axis=1)"
   ]
  },
  {
   "cell_type": "code",
   "execution_count": 298,
   "id": "8137f458",
   "metadata": {},
   "outputs": [],
   "source": [
    "df = pd.concat([df, df_encoded], axis=1)"
   ]
  },
  {
   "cell_type": "code",
   "execution_count": 299,
   "id": "3939ce27",
   "metadata": {
    "scrolled": true
   },
   "outputs": [
    {
     "data": {
      "text/html": [
       "<div>\n",
       "<style scoped>\n",
       "    .dataframe tbody tr th:only-of-type {\n",
       "        vertical-align: middle;\n",
       "    }\n",
       "\n",
       "    .dataframe tbody tr th {\n",
       "        vertical-align: top;\n",
       "    }\n",
       "\n",
       "    .dataframe thead th {\n",
       "        text-align: right;\n",
       "    }\n",
       "</style>\n",
       "<table border=\"1\" class=\"dataframe\">\n",
       "  <thead>\n",
       "    <tr style=\"text-align: right;\">\n",
       "      <th></th>\n",
       "      <th>Attrition_Flag</th>\n",
       "      <th>Customer_Age</th>\n",
       "      <th>Dependent_count</th>\n",
       "      <th>Months_on_book</th>\n",
       "      <th>Total_Relationship_Count</th>\n",
       "      <th>Months_Inactive_12_mon</th>\n",
       "      <th>Contacts_Count_12_mon</th>\n",
       "      <th>Credit_Limit</th>\n",
       "      <th>Total_Revolving_Bal</th>\n",
       "      <th>Avg_Open_To_Buy</th>\n",
       "      <th>...</th>\n",
       "      <th>Income_Category_$120K +</th>\n",
       "      <th>Income_Category_$40K - $60K</th>\n",
       "      <th>Income_Category_$60K - $80K</th>\n",
       "      <th>Income_Category_$80K - $120K</th>\n",
       "      <th>Income_Category_Less than $40K</th>\n",
       "      <th>Income_Category_Unknown</th>\n",
       "      <th>Card_Category_Blue</th>\n",
       "      <th>Card_Category_Gold</th>\n",
       "      <th>Card_Category_Platinum</th>\n",
       "      <th>Card_Category_Silver</th>\n",
       "    </tr>\n",
       "  </thead>\n",
       "  <tbody>\n",
       "    <tr>\n",
       "      <th>0</th>\n",
       "      <td>0</td>\n",
       "      <td>45</td>\n",
       "      <td>3</td>\n",
       "      <td>39</td>\n",
       "      <td>5</td>\n",
       "      <td>1</td>\n",
       "      <td>3</td>\n",
       "      <td>12691.0</td>\n",
       "      <td>777</td>\n",
       "      <td>11914.0</td>\n",
       "      <td>...</td>\n",
       "      <td>0.0</td>\n",
       "      <td>0.0</td>\n",
       "      <td>1.0</td>\n",
       "      <td>0.0</td>\n",
       "      <td>0.0</td>\n",
       "      <td>0.0</td>\n",
       "      <td>1.0</td>\n",
       "      <td>0.0</td>\n",
       "      <td>0.0</td>\n",
       "      <td>0.0</td>\n",
       "    </tr>\n",
       "    <tr>\n",
       "      <th>1</th>\n",
       "      <td>0</td>\n",
       "      <td>49</td>\n",
       "      <td>5</td>\n",
       "      <td>44</td>\n",
       "      <td>6</td>\n",
       "      <td>1</td>\n",
       "      <td>2</td>\n",
       "      <td>8256.0</td>\n",
       "      <td>864</td>\n",
       "      <td>7392.0</td>\n",
       "      <td>...</td>\n",
       "      <td>0.0</td>\n",
       "      <td>0.0</td>\n",
       "      <td>0.0</td>\n",
       "      <td>0.0</td>\n",
       "      <td>1.0</td>\n",
       "      <td>0.0</td>\n",
       "      <td>1.0</td>\n",
       "      <td>0.0</td>\n",
       "      <td>0.0</td>\n",
       "      <td>0.0</td>\n",
       "    </tr>\n",
       "    <tr>\n",
       "      <th>2</th>\n",
       "      <td>0</td>\n",
       "      <td>51</td>\n",
       "      <td>3</td>\n",
       "      <td>36</td>\n",
       "      <td>4</td>\n",
       "      <td>1</td>\n",
       "      <td>0</td>\n",
       "      <td>3418.0</td>\n",
       "      <td>0</td>\n",
       "      <td>3418.0</td>\n",
       "      <td>...</td>\n",
       "      <td>0.0</td>\n",
       "      <td>0.0</td>\n",
       "      <td>0.0</td>\n",
       "      <td>1.0</td>\n",
       "      <td>0.0</td>\n",
       "      <td>0.0</td>\n",
       "      <td>1.0</td>\n",
       "      <td>0.0</td>\n",
       "      <td>0.0</td>\n",
       "      <td>0.0</td>\n",
       "    </tr>\n",
       "    <tr>\n",
       "      <th>3</th>\n",
       "      <td>0</td>\n",
       "      <td>40</td>\n",
       "      <td>4</td>\n",
       "      <td>34</td>\n",
       "      <td>3</td>\n",
       "      <td>4</td>\n",
       "      <td>1</td>\n",
       "      <td>3313.0</td>\n",
       "      <td>2517</td>\n",
       "      <td>796.0</td>\n",
       "      <td>...</td>\n",
       "      <td>0.0</td>\n",
       "      <td>0.0</td>\n",
       "      <td>0.0</td>\n",
       "      <td>0.0</td>\n",
       "      <td>1.0</td>\n",
       "      <td>0.0</td>\n",
       "      <td>1.0</td>\n",
       "      <td>0.0</td>\n",
       "      <td>0.0</td>\n",
       "      <td>0.0</td>\n",
       "    </tr>\n",
       "    <tr>\n",
       "      <th>4</th>\n",
       "      <td>0</td>\n",
       "      <td>40</td>\n",
       "      <td>3</td>\n",
       "      <td>21</td>\n",
       "      <td>5</td>\n",
       "      <td>1</td>\n",
       "      <td>0</td>\n",
       "      <td>4716.0</td>\n",
       "      <td>0</td>\n",
       "      <td>4716.0</td>\n",
       "      <td>...</td>\n",
       "      <td>0.0</td>\n",
       "      <td>0.0</td>\n",
       "      <td>1.0</td>\n",
       "      <td>0.0</td>\n",
       "      <td>0.0</td>\n",
       "      <td>0.0</td>\n",
       "      <td>1.0</td>\n",
       "      <td>0.0</td>\n",
       "      <td>0.0</td>\n",
       "      <td>0.0</td>\n",
       "    </tr>\n",
       "    <tr>\n",
       "      <th>...</th>\n",
       "      <td>...</td>\n",
       "      <td>...</td>\n",
       "      <td>...</td>\n",
       "      <td>...</td>\n",
       "      <td>...</td>\n",
       "      <td>...</td>\n",
       "      <td>...</td>\n",
       "      <td>...</td>\n",
       "      <td>...</td>\n",
       "      <td>...</td>\n",
       "      <td>...</td>\n",
       "      <td>...</td>\n",
       "      <td>...</td>\n",
       "      <td>...</td>\n",
       "      <td>...</td>\n",
       "      <td>...</td>\n",
       "      <td>...</td>\n",
       "      <td>...</td>\n",
       "      <td>...</td>\n",
       "      <td>...</td>\n",
       "      <td>...</td>\n",
       "    </tr>\n",
       "    <tr>\n",
       "      <th>10122</th>\n",
       "      <td>0</td>\n",
       "      <td>50</td>\n",
       "      <td>2</td>\n",
       "      <td>40</td>\n",
       "      <td>3</td>\n",
       "      <td>2</td>\n",
       "      <td>3</td>\n",
       "      <td>4003.0</td>\n",
       "      <td>1851</td>\n",
       "      <td>2152.0</td>\n",
       "      <td>...</td>\n",
       "      <td>0.0</td>\n",
       "      <td>1.0</td>\n",
       "      <td>0.0</td>\n",
       "      <td>0.0</td>\n",
       "      <td>0.0</td>\n",
       "      <td>0.0</td>\n",
       "      <td>1.0</td>\n",
       "      <td>0.0</td>\n",
       "      <td>0.0</td>\n",
       "      <td>0.0</td>\n",
       "    </tr>\n",
       "    <tr>\n",
       "      <th>10123</th>\n",
       "      <td>1</td>\n",
       "      <td>41</td>\n",
       "      <td>2</td>\n",
       "      <td>25</td>\n",
       "      <td>4</td>\n",
       "      <td>2</td>\n",
       "      <td>3</td>\n",
       "      <td>4277.0</td>\n",
       "      <td>2186</td>\n",
       "      <td>2091.0</td>\n",
       "      <td>...</td>\n",
       "      <td>0.0</td>\n",
       "      <td>1.0</td>\n",
       "      <td>0.0</td>\n",
       "      <td>0.0</td>\n",
       "      <td>0.0</td>\n",
       "      <td>0.0</td>\n",
       "      <td>1.0</td>\n",
       "      <td>0.0</td>\n",
       "      <td>0.0</td>\n",
       "      <td>0.0</td>\n",
       "    </tr>\n",
       "    <tr>\n",
       "      <th>10124</th>\n",
       "      <td>1</td>\n",
       "      <td>44</td>\n",
       "      <td>1</td>\n",
       "      <td>36</td>\n",
       "      <td>5</td>\n",
       "      <td>3</td>\n",
       "      <td>4</td>\n",
       "      <td>5409.0</td>\n",
       "      <td>0</td>\n",
       "      <td>5409.0</td>\n",
       "      <td>...</td>\n",
       "      <td>0.0</td>\n",
       "      <td>0.0</td>\n",
       "      <td>0.0</td>\n",
       "      <td>0.0</td>\n",
       "      <td>1.0</td>\n",
       "      <td>0.0</td>\n",
       "      <td>1.0</td>\n",
       "      <td>0.0</td>\n",
       "      <td>0.0</td>\n",
       "      <td>0.0</td>\n",
       "    </tr>\n",
       "    <tr>\n",
       "      <th>10125</th>\n",
       "      <td>1</td>\n",
       "      <td>30</td>\n",
       "      <td>2</td>\n",
       "      <td>36</td>\n",
       "      <td>4</td>\n",
       "      <td>3</td>\n",
       "      <td>3</td>\n",
       "      <td>5281.0</td>\n",
       "      <td>0</td>\n",
       "      <td>5281.0</td>\n",
       "      <td>...</td>\n",
       "      <td>0.0</td>\n",
       "      <td>1.0</td>\n",
       "      <td>0.0</td>\n",
       "      <td>0.0</td>\n",
       "      <td>0.0</td>\n",
       "      <td>0.0</td>\n",
       "      <td>1.0</td>\n",
       "      <td>0.0</td>\n",
       "      <td>0.0</td>\n",
       "      <td>0.0</td>\n",
       "    </tr>\n",
       "    <tr>\n",
       "      <th>10126</th>\n",
       "      <td>1</td>\n",
       "      <td>43</td>\n",
       "      <td>2</td>\n",
       "      <td>25</td>\n",
       "      <td>6</td>\n",
       "      <td>2</td>\n",
       "      <td>4</td>\n",
       "      <td>10388.0</td>\n",
       "      <td>1961</td>\n",
       "      <td>8427.0</td>\n",
       "      <td>...</td>\n",
       "      <td>0.0</td>\n",
       "      <td>0.0</td>\n",
       "      <td>0.0</td>\n",
       "      <td>0.0</td>\n",
       "      <td>1.0</td>\n",
       "      <td>0.0</td>\n",
       "      <td>0.0</td>\n",
       "      <td>0.0</td>\n",
       "      <td>0.0</td>\n",
       "      <td>1.0</td>\n",
       "    </tr>\n",
       "  </tbody>\n",
       "</table>\n",
       "<p>10127 rows × 38 columns</p>\n",
       "</div>"
      ],
      "text/plain": [
       "       Attrition_Flag  Customer_Age  Dependent_count  Months_on_book   \n",
       "0                   0            45                3              39  \\\n",
       "1                   0            49                5              44   \n",
       "2                   0            51                3              36   \n",
       "3                   0            40                4              34   \n",
       "4                   0            40                3              21   \n",
       "...               ...           ...              ...             ...   \n",
       "10122               0            50                2              40   \n",
       "10123               1            41                2              25   \n",
       "10124               1            44                1              36   \n",
       "10125               1            30                2              36   \n",
       "10126               1            43                2              25   \n",
       "\n",
       "       Total_Relationship_Count  Months_Inactive_12_mon   \n",
       "0                             5                       1  \\\n",
       "1                             6                       1   \n",
       "2                             4                       1   \n",
       "3                             3                       4   \n",
       "4                             5                       1   \n",
       "...                         ...                     ...   \n",
       "10122                         3                       2   \n",
       "10123                         4                       2   \n",
       "10124                         5                       3   \n",
       "10125                         4                       3   \n",
       "10126                         6                       2   \n",
       "\n",
       "       Contacts_Count_12_mon  Credit_Limit  Total_Revolving_Bal   \n",
       "0                          3       12691.0                  777  \\\n",
       "1                          2        8256.0                  864   \n",
       "2                          0        3418.0                    0   \n",
       "3                          1        3313.0                 2517   \n",
       "4                          0        4716.0                    0   \n",
       "...                      ...           ...                  ...   \n",
       "10122                      3        4003.0                 1851   \n",
       "10123                      3        4277.0                 2186   \n",
       "10124                      4        5409.0                    0   \n",
       "10125                      3        5281.0                    0   \n",
       "10126                      4       10388.0                 1961   \n",
       "\n",
       "       Avg_Open_To_Buy  ...  Income_Category_$120K +   \n",
       "0              11914.0  ...                      0.0  \\\n",
       "1               7392.0  ...                      0.0   \n",
       "2               3418.0  ...                      0.0   \n",
       "3                796.0  ...                      0.0   \n",
       "4               4716.0  ...                      0.0   \n",
       "...                ...  ...                      ...   \n",
       "10122           2152.0  ...                      0.0   \n",
       "10123           2091.0  ...                      0.0   \n",
       "10124           5409.0  ...                      0.0   \n",
       "10125           5281.0  ...                      0.0   \n",
       "10126           8427.0  ...                      0.0   \n",
       "\n",
       "       Income_Category_$40K - $60K  Income_Category_$60K - $80K   \n",
       "0                              0.0                          1.0  \\\n",
       "1                              0.0                          0.0   \n",
       "2                              0.0                          0.0   \n",
       "3                              0.0                          0.0   \n",
       "4                              0.0                          1.0   \n",
       "...                            ...                          ...   \n",
       "10122                          1.0                          0.0   \n",
       "10123                          1.0                          0.0   \n",
       "10124                          0.0                          0.0   \n",
       "10125                          1.0                          0.0   \n",
       "10126                          0.0                          0.0   \n",
       "\n",
       "       Income_Category_$80K - $120K  Income_Category_Less than $40K   \n",
       "0                               0.0                             0.0  \\\n",
       "1                               0.0                             1.0   \n",
       "2                               1.0                             0.0   \n",
       "3                               0.0                             1.0   \n",
       "4                               0.0                             0.0   \n",
       "...                             ...                             ...   \n",
       "10122                           0.0                             0.0   \n",
       "10123                           0.0                             0.0   \n",
       "10124                           0.0                             1.0   \n",
       "10125                           0.0                             0.0   \n",
       "10126                           0.0                             1.0   \n",
       "\n",
       "       Income_Category_Unknown  Card_Category_Blue  Card_Category_Gold   \n",
       "0                          0.0                 1.0                 0.0  \\\n",
       "1                          0.0                 1.0                 0.0   \n",
       "2                          0.0                 1.0                 0.0   \n",
       "3                          0.0                 1.0                 0.0   \n",
       "4                          0.0                 1.0                 0.0   \n",
       "...                        ...                 ...                 ...   \n",
       "10122                      0.0                 1.0                 0.0   \n",
       "10123                      0.0                 1.0                 0.0   \n",
       "10124                      0.0                 1.0                 0.0   \n",
       "10125                      0.0                 1.0                 0.0   \n",
       "10126                      0.0                 0.0                 0.0   \n",
       "\n",
       "       Card_Category_Platinum  Card_Category_Silver  \n",
       "0                         0.0                   0.0  \n",
       "1                         0.0                   0.0  \n",
       "2                         0.0                   0.0  \n",
       "3                         0.0                   0.0  \n",
       "4                         0.0                   0.0  \n",
       "...                       ...                   ...  \n",
       "10122                     0.0                   0.0  \n",
       "10123                     0.0                   0.0  \n",
       "10124                     0.0                   0.0  \n",
       "10125                     0.0                   0.0  \n",
       "10126                     0.0                   1.0  \n",
       "\n",
       "[10127 rows x 38 columns]"
      ]
     },
     "execution_count": 299,
     "metadata": {},
     "output_type": "execute_result"
    }
   ],
   "source": [
    "df"
   ]
  },
  {
   "cell_type": "code",
   "execution_count": 300,
   "id": "437ec14a-dfb6-424f-9555-c873e5675cbc",
   "metadata": {},
   "outputs": [],
   "source": [
    "# Save to csv \n",
    "df.to_csv(\"df_encoded\", index=False)"
   ]
  },
  {
   "cell_type": "markdown",
   "id": "36ee19fa",
   "metadata": {},
   "source": [
    "# 7. Split data intro train and test parts\n",
    "\n",
    "Set the size of the test set to 30%, use startification over the target column (to preserve target ratio in train and test sets). Use `random_state=10`. How many observations do you have in your test set?\n"
   ]
  },
  {
   "cell_type": "code",
   "execution_count": 301,
   "id": "c85ecb2b",
   "metadata": {},
   "outputs": [],
   "source": [
    "from sklearn.model_selection import train_test_split"
   ]
  },
  {
   "cell_type": "code",
   "execution_count": 302,
   "id": "5bd2293f",
   "metadata": {},
   "outputs": [
    {
     "name": "stdout",
     "output_type": "stream",
     "text": [
      "Train set size: 7088\n",
      "Test set size: 3039\n"
     ]
    }
   ],
   "source": [
    "# Split the data into features (X) and the target variable (y)\n",
    "X = df.drop('Attrition_Flag', axis=1)\n",
    "y = df['Attrition_Flag']\n",
    "\n",
    "# Split the data into train and test sets\n",
    "X_train_rf, X_test_rf, y_train_rf, y_test_rf = train_test_split(X, y, test_size=0.3, stratify=y, random_state=10)\n",
    "\n",
    "# Print the sizes of the train and test sets\n",
    "print(\"Train set size:\", len(X_train))\n",
    "print(\"Test set size:\", len(X_test))"
   ]
  },
  {
   "cell_type": "markdown",
   "id": "526d7cf8-1bc5-4192-a7ec-aaaada09eeb6",
   "metadata": {},
   "source": [
    "### Answer:\n",
    "there are 3039 observations in test set"
   ]
  },
  {
   "cell_type": "markdown",
   "id": "b3e0e1aa",
   "metadata": {},
   "source": [
    "# 8. This is a binary classification problem with  imbalanced classes, what are the appropriate metrics for this task?\n",
    "\n",
    "select all which apply\n",
    "\n",
    "- accuracy score\n",
    "- roc auc score\n",
    "- f1 score\n",
    "- mean absolute error\n",
    "- r-squared\n",
    "- precision"
   ]
  },
  {
   "cell_type": "markdown",
   "id": "9fe2e260-f589-491a-a13f-73e726fc7546",
   "metadata": {},
   "source": [
    "### Answer:\n",
    "- ROC AUC\n",
    "- F1 Score\n",
    "- Precision\n",
    "\n",
    "Accuracy could also be used, but in a case of imbalanced classes usage of the metric could be misleading"
   ]
  },
  {
   "cell_type": "markdown",
   "id": "6b8da5d3",
   "metadata": {},
   "source": [
    "# 9. Train a Random Forest Classifier on a `train` set\n",
    "\n",
    "Use RandomForestClassifier with default hyperparameters. What is the f1 score of a trained model on a test set?"
   ]
  },
  {
   "cell_type": "code",
   "execution_count": 303,
   "id": "c3204473",
   "metadata": {},
   "outputs": [
    {
     "name": "stdout",
     "output_type": "stream",
     "text": [
      "F1 score: 0.8303571428571428\n"
     ]
    }
   ],
   "source": [
    "from sklearn.ensemble import RandomForestClassifier\n",
    "from sklearn.metrics import f1_score\n",
    "\n",
    "# Create a Random Forest Classifier with default hyperparameters\n",
    "rf_classifier = RandomForestClassifier()\n",
    "\n",
    "# Train the classifier on the train set\n",
    "rf_classifier.fit(X_train_rf, y_train_rf)\n",
    "\n",
    "# Obtain predicted probabilities for the test set\n",
    "y_pred_prob_rf = rf_classifier.predict_proba(X_test_rf)[:, 1]  # Assuming class 1 corresponds to positive class\n",
    "\n",
    "# Convert probabilities to binary predictions\n",
    "y_pred_rf = (y_pred_prob_rf > 0.5)\n",
    "\n",
    "# Calculate the F1 score of the trained model on the test set\n",
    "f1 = f1_score(y_test_rf, y_pred_rf)\n",
    "\n",
    "# Print the F1 score\n",
    "print(\"F1 score:\", f1)"
   ]
  },
  {
   "cell_type": "markdown",
   "id": "6ef2763d",
   "metadata": {},
   "source": [
    "# 10. Build a confusion matrix with a default probability threshold (0.5)\n",
    "\n",
    "To analyse the resulting algorithm we will take a closer look on individual predictions. How many False Positives and False Negatives do you have?\n"
   ]
  },
  {
   "cell_type": "code",
   "execution_count": 306,
   "id": "e9060e03",
   "metadata": {},
   "outputs": [
    {
     "data": {
      "image/png": "[encoded data removed]",
      "text/plain": [
       "<Figure size 1000x700 with 2 Axes>"
      ]
     },
     "metadata": {},
     "output_type": "display_data"
    }
   ],
   "source": [
    "from sklearn.metrics import confusion_matrix\n",
    "import seaborn as sns\n",
    "import matplotlib.pyplot as plt\n",
    "\n",
    "# Create confusion matrix\n",
    "cm = confusion_matrix(y_test_rf, y_pred_rf)\n",
    "\n",
    "# Visualize the confusion matrix using seaborn\n",
    "plt.figure(figsize=(10,7))\n",
    "sns.heatmap(cm, annot=True, fmt=\"d\")\n",
    "plt.title(\"Confusion matrix\")\n",
    "plt.ylabel('True label')\n",
    "plt.xlabel('Predicted label')\n",
    "plt.show()"
   ]
  },
  {
   "cell_type": "markdown",
   "id": "db5bfe03-a53a-4028-8820-e38abbe63623",
   "metadata": {},
   "source": [
    "### Answer:\n",
    "FP: 36, FN: 116 "
   ]
  },
  {
   "cell_type": "markdown",
   "id": "a3d8da38",
   "metadata": {},
   "source": [
    "# 11. We will change probability threshold from 0.05 to 0.95 with step 0.05\n",
    "\n",
    "What happens to the number of True Positives and to the number of False Negatives, as you increase the probability threshold?\n"
   ]
  },
  {
   "cell_type": "code",
   "execution_count": 307,
   "id": "477073d5",
   "metadata": {},
   "outputs": [],
   "source": [
    "import numpy as np"
   ]
  },
  {
   "cell_type": "code",
   "execution_count": 309,
   "id": "d35f7116",
   "metadata": {},
   "outputs": [],
   "source": [
    "true_positives = []\n",
    "false_negatives = []\n",
    "for t in np.linspace(0.05,0.95,19):\n",
    "    cm = confusion_matrix(y_test_rf, y_pred_prob_rf>t)\n",
    "    tp, fn = cm[1,1], cm[1,0]\n",
    "    true_positives.append(tp)\n",
    "    false_negatives.append(fn)"
   ]
  },
  {
   "cell_type": "code",
   "execution_count": 310,
   "id": "1436bec9",
   "metadata": {},
   "outputs": [
    {
     "data": {
      "image/png": "[encoded data removed]",
      "text/plain": [
       "<Figure size 640x480 with 1 Axes>"
      ]
     },
     "metadata": {},
     "output_type": "display_data"
    }
   ],
   "source": [
    "plt.plot(np.linspace(0.05,0.95,19), true_positives, label='True Positives')\n",
    "plt.plot(np.linspace(0.05,0.95,19), false_negatives, label='False Negatives')\n",
    "plt.xlabel('Probability threshold')\n",
    "plt.ylabel('# observations')\n",
    "plt.legend();"
   ]
  },
  {
   "cell_type": "markdown",
   "id": "4d8d6a04-6648-4d6e-9f45-680b59b7c268",
   "metadata": {},
   "source": [
    "### Answer:\n",
    "As we increase the probability threshold our predictions become more conservative (predict Churn only for observations with high probability), therefore Number of TP decreases and number of FN increases"
   ]
  },
  {
   "cell_type": "markdown",
   "id": "822be055",
   "metadata": {},
   "source": [
    "# 12. Estimate revenue\n",
    "\n",
    "Let's consider a toy economic setup:\n",
    "1. Each client earns a company $50\\$$ per month\n",
    "2. If you predict that a client will churn, the company can provide she with a discount of $200\\$$ and the client will stay for another year\n",
    "\n",
    "If the company do nothing (has no Churn model), then the revenue over the year will be:\n",
    "\n",
    "$$S = N*50*12 + P*0$$\n",
    "\n",
    "where N (negative) is number of non-Churn clients, and P (positive) is number of clients who Churn. If the company implements some Churn model, the revenue will be the following:\n",
    "\n",
    "$$S = TN*50*12 + FP*(50*12-200) + TP*(50*12-200)  + FN * 0$$\n",
    "\n",
    "where \n",
    "- TN are non-Churning clients, predicted as non-Churning (true negatives)\n",
    "- FP are non-Churning clients, predicted as Churning (false positives)\n",
    "- TP are Churning clients, predicted as Churning (true positives)\n",
    "- FN are Churning clients, predicted as non-Churning (false negatives)\n",
    "\n",
    "## Compute the revenue for different thresholds based on your model, what is the optimal probability threshold? Report two numbers divided by a comma, e.g. `0.5,1500000`"
   ]
  },
  {
   "cell_type": "code",
   "execution_count": 316,
   "id": "da433bed",
   "metadata": {},
   "outputs": [],
   "source": [
    "profit = []\n",
    "max_profit = 0\n",
    "max_profit_prob = 0\n",
    "for t in np.linspace(0.05,0.95,19):\n",
    "    cm = confusion_matrix(y_test_rf, y_pred_prob_rf>t)\n",
    "    tn, fp, tp, fn = cm[0,0], cm[0,1], cm[1,1], cm[1,0]\n",
    "    S = tn*50*12 + fp*(50*12-200) + tp*(50*12-200) \n",
    "    if(S > max_profit):\n",
    "        max_profit = S\n",
    "        max_profit_prob = t\n",
    "    profit.append(S)"
   ]
  },
  {
   "cell_type": "code",
   "execution_count": 317,
   "id": "e6256091",
   "metadata": {},
   "outputs": [
    {
     "data": {
      "image/png": "[encoded data removed]",
      "text/plain": [
       "<Figure size 640x480 with 1 Axes>"
      ]
     },
     "metadata": {},
     "output_type": "display_data"
    }
   ],
   "source": [
    "plt.plot(np.linspace(0.05,0.95,19), profit);\n",
    "plt.xlabel('Probability')\n",
    "plt.ylabel('Revenue, mln $');"
   ]
  },
  {
   "cell_type": "code",
   "execution_count": 318,
   "id": "7e56a4ac",
   "metadata": {},
   "outputs": [
    {
     "name": "stdout",
     "output_type": "stream",
     "text": [
      "Optimal probability threshold characteristics: (0.3, 1690000)\n"
     ]
    }
   ],
   "source": [
    "print(f\"Optimal probability threshold characteristics: {max_profit_prob, max_profit}\")"
   ]
  },
  {
   "cell_type": "markdown",
   "id": "a3bd6d72-fb03-4d5a-b70e-ddf6048668b4",
   "metadata": {},
   "source": [
    "### Answer:\n",
    "(0.3, 1689400)"
   ]
  },
  {
   "cell_type": "markdown",
   "id": "c4abf7ce",
   "metadata": {},
   "source": [
    "# 13. Compute economic value\n",
    "\n",
    "Is there any economic value from introducing a ML model (compared to not using a model and not providing a discounts)?\n",
    "\n",
    "First scenario - no ML model, no discounts; Second scenario - ML model from question 12."
   ]
  },
  {
   "cell_type": "code",
   "execution_count": 319,
   "id": "53c5a2d3",
   "metadata": {},
   "outputs": [
    {
     "data": {
      "text/plain": [
       "5100000"
      ]
     },
     "execution_count": 319,
     "metadata": {},
     "output_type": "execute_result"
    }
   ],
   "source": [
    "num_non_churned_customers = total_customers - num_churned_customers\n",
    "S_no_ml = num_non_churned_customers * 50 * 12\n",
    "S_no_ml"
   ]
  },
  {
   "cell_type": "markdown",
   "id": "126e903f-2836-4357-889b-1abbf3b251c9",
   "metadata": {},
   "source": [
    "### Answer:\n",
    "There is no economic value (5100000 > 1689400), as the revenue is smaller in the second scenario."
   ]
  },
  {
   "cell_type": "markdown",
   "id": "515bc968",
   "metadata": {},
   "source": [
    "# 14. Build a confusion matrix\n",
    "\n",
    "assosiated with an optimal probability threshold. What happend to the number of False Positives and False Negatives, compared to the default probability threshold (question 10)?"
   ]
  },
  {
   "cell_type": "code",
   "execution_count": 322,
   "id": "36775560",
   "metadata": {},
   "outputs": [
    {
     "data": {
      "image/png": "[encoded data removed]",
      "text/plain": [
       "<Figure size 1000x700 with 2 Axes>"
      ]
     },
     "metadata": {},
     "output_type": "display_data"
    }
   ],
   "source": [
    "y_pred_rf_opt = (y_pred_prob_rf > 0.3)\n",
    "\n",
    "# Create confusion matrix\n",
    "cm_opt = confusion_matrix(y_test_rf, y_pred_rf_opt)\n",
    "\n",
    "# Visualize the confusion matrix using seaborn\n",
    "plt.figure(figsize=(10,7))\n",
    "sns.heatmap(cm_opt, annot=True, fmt=\"d\")\n",
    "plt.title(\"Confusion matrix\")\n",
    "plt.ylabel('True label')\n",
    "plt.xlabel('Predicted label')\n",
    "plt.show()"
   ]
  },
  {
   "cell_type": "markdown",
   "id": "447550fa-f2a2-4431-bafa-0db447b5aa52",
   "metadata": {},
   "source": [
    "### Answer:\n",
    "Since we decreased probability threshold number of FP goes up, number of FN goes down\n"
   ]
  },
  {
   "cell_type": "markdown",
   "id": "d5810b7c",
   "metadata": {},
   "source": [
    "# 15. What if the price to keep the client goes up to 500?\n",
    "\n",
    "Does optimal probability treshold changes?"
   ]
  },
  {
   "cell_type": "code",
   "execution_count": 324,
   "id": "fccb8269",
   "metadata": {},
   "outputs": [],
   "source": [
    "profit = []\n",
    "max_profit = 0\n",
    "max_profit_prob = 0\n",
    "for t in np.linspace(0.05,0.95,19):\n",
    "    cm = confusion_matrix(y_test_rf, y_pred_prob_rf>t)\n",
    "    tn, fp, tp, fn = cm[0,0], cm[0,1], cm[1,1], cm[1,0]\n",
    "    S = tn*50*12 + fp*(50*12-500) + tp*(50*12-500) \n",
    "    if(S > max_profit):\n",
    "        max_profit = S\n",
    "        max_profit_prob = t\n",
    "    profit.append(S)"
   ]
  },
  {
   "cell_type": "code",
   "execution_count": 325,
   "id": "2d9869cc",
   "metadata": {},
   "outputs": [
    {
     "data": {
      "image/png": "[encoded data removed]",
      "text/plain": [
       "<Figure size 640x480 with 1 Axes>"
      ]
     },
     "metadata": {},
     "output_type": "display_data"
    }
   ],
   "source": [
    "plt.plot(np.linspace(0.05,0.95,19), profit);\n",
    "plt.xlabel('Probability')\n",
    "plt.ylabel('Revenue, mln $');"
   ]
  },
  {
   "cell_type": "code",
   "execution_count": 326,
   "id": "075f2283-2c51-4d7d-81ba-141d9c2b48a0",
   "metadata": {},
   "outputs": [
    {
     "name": "stdout",
     "output_type": "stream",
     "text": [
      "Optimal probability threshold characteristics: (0.5499999999999999, 1553400)\n"
     ]
    }
   ],
   "source": [
    "print(f\"Optimal probability threshold characteristics: {max_profit_prob, max_profit}\")"
   ]
  },
  {
   "cell_type": "markdown",
   "id": "09215063",
   "metadata": {},
   "source": [
    "# 16. Built an assosiated confusion matrix\n",
    "\n",
    "How many False Positives and False Negatives do you have?"
   ]
  },
  {
   "cell_type": "code",
   "execution_count": 328,
   "id": "610910b5",
   "metadata": {},
   "outputs": [
    {
     "data": {
      "image/png": "[encoded data removed]",
      "text/plain": [
       "<Figure size 1000x700 with 2 Axes>"
      ]
     },
     "metadata": {},
     "output_type": "display_data"
    }
   ],
   "source": [
    "y_pred_rf_opt = (y_pred_prob_rf > 0.6)\n",
    "\n",
    "# Create confusion matrix\n",
    "cm_opt = confusion_matrix(y_test_rf, y_pred_rf_opt)\n",
    "\n",
    "# Visualize the confusion matrix using seaborn\n",
    "plt.figure(figsize=(10,7))\n",
    "sns.heatmap(cm_opt, annot=True, fmt=\"d\")\n",
    "plt.title(\"Confusion matrix\")\n",
    "plt.ylabel('True label')\n",
    "plt.xlabel('Predicted label')\n",
    "plt.show()"
   ]
  },
  {
   "cell_type": "markdown",
   "id": "ad2666f9",
   "metadata": {},
   "source": [
    "# 17. Compare confusion matrices from 14 and 16\n",
    "\n"
   ]
  },
  {
   "cell_type": "code",
   "execution_count": null,
   "id": "30d5c9e9",
   "metadata": {},
   "outputs": [],
   "source": []
  },
  {
   "cell_type": "markdown",
   "id": "c6ff7a49",
   "metadata": {},
   "source": [
    "# 18. Train catboost\n",
    "\n",
    "Train a catboost.CatBoostClassifier on a **unprocessed data** (no preprocessing for categorical columns) with default hyperparameters, see example below."
   ]
  },
  {
   "cell_type": "code",
   "execution_count": 367,
   "id": "60c1781a",
   "metadata": {},
   "outputs": [],
   "source": [
    "df = pd.read_csv('BankChurners.csv')\n",
    "\n",
    "# We will drop two last columns from the table\n",
    "df = df.drop([\n",
    "    'CLIENTNUM',\n",
    "    'Naive_Bayes_Classifier_Attrition_Flag_Card_Category_Contacts_Count_12_mon_Dependent_count_Education_Level_Months_Inactive_12_mon_1',\n",
    "    'Naive_Bayes_Classifier_Attrition_Flag_Card_Category_Contacts_Count_12_mon_Dependent_count_Education_Level_Months_Inactive_12_mon_2'], \n",
    "    axis=1)"
   ]
  },
  {
   "cell_type": "code",
   "execution_count": 368,
   "id": "beec39e6-263d-4760-ae63-8b5a94eec1df",
   "metadata": {},
   "outputs": [],
   "source": [
    "from catboost import CatBoostClassifier, Pool"
   ]
  },
  {
   "cell_type": "code",
   "execution_count": 369,
   "id": "59a7e7a0-d801-4ba6-a04d-f3a13ec4ea11",
   "metadata": {},
   "outputs": [],
   "source": [
    "# Split the data into features (X) and the target variable (y)\n",
    "X_cb = df.drop('Attrition_Flag', axis=1)\n",
    "y_cb = df['Attrition_Flag']\n",
    "\n",
    "# Split the data into train and test sets\n",
    "X_train_cb, X_test_cb, y_train_cb, y_test_cb = train_test_split(X_cb, y_cb, test_size=0.3, stratify=y_cb, random_state=10)"
   ]
  },
  {
   "cell_type": "code",
   "execution_count": 372,
   "id": "5b335f25-a4c0-40a8-9f3e-b63ee12040fb",
   "metadata": {},
   "outputs": [
    {
     "name": "stdout",
     "output_type": "stream",
     "text": [
      "Categorical columns (features): ['Gender', 'Education_Level', 'Marital_Status', 'Income_Category', 'Card_Category']\n"
     ]
    }
   ],
   "source": [
    "print(\"Categorical columns (features):\", categorical_columns)\n",
    "dataset_train = Pool(X_train_cb, y_train_cb, categorical_columns)\n",
    "dataset_test = Pool(X_test_cb, y_test_cb, categorical_columns)"
   ]
  },
  {
   "cell_type": "code",
   "execution_count": 373,
   "id": "b942fa0d",
   "metadata": {},
   "outputs": [],
   "source": [
    "clf_cb = CatBoostClassifier()"
   ]
  },
  {
   "cell_type": "code",
   "execution_count": 374,
   "id": "42ece33d",
   "metadata": {},
   "outputs": [
    {
     "name": "stdout",
     "output_type": "stream",
     "text": [
      "Learning rate set to 0.051403\n",
      "0:\tlearn: 0.6273653\ttest: 0.6282227\tbest: 0.6282227 (0)\ttotal: 6.17ms\tremaining: 6.17s\n",
      "50:\tlearn: 0.1283737\ttest: 0.1416967\tbest: 0.1416967 (50)\ttotal: 315ms\tremaining: 5.86s\n",
      "100:\tlearn: 0.0871291\ttest: 0.1066092\tbest: 0.1066092 (100)\ttotal: 643ms\tremaining: 5.72s\n",
      "150:\tlearn: 0.0686615\ttest: 0.0926534\tbest: 0.0926534 (150)\ttotal: 936ms\tremaining: 5.26s\n",
      "200:\tlearn: 0.0559868\ttest: 0.0850185\tbest: 0.0850185 (200)\ttotal: 1.22s\tremaining: 4.86s\n",
      "250:\tlearn: 0.0469011\ttest: 0.0802753\tbest: 0.0802753 (250)\ttotal: 1.5s\tremaining: 4.48s\n",
      "300:\tlearn: 0.0406412\ttest: 0.0776725\tbest: 0.0776725 (300)\ttotal: 1.79s\tremaining: 4.15s\n",
      "350:\tlearn: 0.0346249\ttest: 0.0749001\tbest: 0.0748971 (349)\ttotal: 2.08s\tremaining: 3.85s\n",
      "400:\tlearn: 0.0302680\ttest: 0.0739460\tbest: 0.0739460 (400)\ttotal: 2.37s\tremaining: 3.54s\n",
      "450:\tlearn: 0.0270237\ttest: 0.0732529\tbest: 0.0732529 (450)\ttotal: 2.66s\tremaining: 3.24s\n",
      "500:\tlearn: 0.0243940\ttest: 0.0733866\tbest: 0.0731938 (499)\ttotal: 2.96s\tremaining: 2.94s\n",
      "550:\tlearn: 0.0217521\ttest: 0.0730279\tbest: 0.0728984 (537)\ttotal: 3.25s\tremaining: 2.65s\n",
      "600:\tlearn: 0.0197570\ttest: 0.0729001\tbest: 0.0728537 (599)\ttotal: 3.54s\tremaining: 2.35s\n",
      "650:\tlearn: 0.0178329\ttest: 0.0730087\tbest: 0.0728392 (631)\ttotal: 3.82s\tremaining: 2.05s\n",
      "700:\tlearn: 0.0163732\ttest: 0.0729565\tbest: 0.0728392 (631)\ttotal: 4.11s\tremaining: 1.75s\n",
      "750:\tlearn: 0.0149264\ttest: 0.0732415\tbest: 0.0728392 (631)\ttotal: 4.39s\tremaining: 1.46s\n",
      "800:\tlearn: 0.0133537\ttest: 0.0735987\tbest: 0.0728392 (631)\ttotal: 4.68s\tremaining: 1.16s\n",
      "850:\tlearn: 0.0124468\ttest: 0.0738594\tbest: 0.0728392 (631)\ttotal: 4.97s\tremaining: 871ms\n",
      "900:\tlearn: 0.0114570\ttest: 0.0741870\tbest: 0.0728392 (631)\ttotal: 5.27s\tremaining: 579ms\n",
      "950:\tlearn: 0.0107094\ttest: 0.0744356\tbest: 0.0728392 (631)\ttotal: 5.54s\tremaining: 286ms\n",
      "999:\tlearn: 0.0100298\ttest: 0.0749280\tbest: 0.0728392 (631)\ttotal: 5.81s\tremaining: 0us\n",
      "\n",
      "bestTest = 0.07283919028\n",
      "bestIteration = 631\n",
      "\n",
      "Shrink model to first 632 iterations.\n"
     ]
    },
    {
     "data": {
      "text/plain": [
       "<catboost.core.CatBoostClassifier at 0x7fdaf453c340>"
      ]
     },
     "execution_count": 374,
     "metadata": {},
     "output_type": "execute_result"
    }
   ],
   "source": [
    "clf_cb.fit(dataset_train, eval_set=dataset_test, verbose=50)"
   ]
  },
  {
   "cell_type": "code",
   "execution_count": 375,
   "id": "1463c036-7803-41fd-b5c0-fa9b7840f80f",
   "metadata": {},
   "outputs": [],
   "source": [
    "y_pred_test_proba = clf_cb.predict_proba(X_test)"
   ]
  },
  {
   "cell_type": "code",
   "execution_count": 376,
   "id": "ef26dbb9-9891-4fde-8033-d311e81d8a7c",
   "metadata": {},
   "outputs": [],
   "source": [
    "# Convert probabilities to binary predictions\n",
    "y_pred_test_cb = (y_pred_test_proba[:, 1] > 0.5)"
   ]
  },
  {
   "cell_type": "code",
   "execution_count": 399,
   "id": "6f39f56c-f4af-4a8f-8eb6-c95fb4098730",
   "metadata": {},
   "outputs": [
    {
     "name": "stdout",
     "output_type": "stream",
     "text": [
      "0.03017382748442112\n"
     ]
    }
   ],
   "source": [
    "y_test_cb.replace(to_replace='Existing Customer', value=False, inplace=True)\n",
    "y_test_cb.replace(to_replace='Attrited Customer',  value=True, inplace=True)\n",
    "print(f1_score(y_test_cb, y_pred_test_cb))"
   ]
  },
  {
   "cell_type": "markdown",
   "id": "a6e2f952",
   "metadata": {},
   "source": [
    "# 19. Compute ROC AUC score for your RandomForest and Catboost model\n",
    "\n",
    "Comment on how increase/decrease in roc auc (machine learning metric) compares with increase/decrease of revenue (business metric). Propose how you could improve the economic model to make it more realistic (and how to use your ML model in this new setup). Upload a pdf, up to 500 words."
   ]
  },
  {
   "cell_type": "code",
   "execution_count": 379,
   "id": "9399cbf5",
   "metadata": {},
   "outputs": [
    {
     "name": "stdout",
     "output_type": "stream",
     "text": [
      "0.05418720398943519\n"
     ]
    }
   ],
   "source": [
    "print(roc_auc_score(y_test_cb, y_pred_test_cb))"
   ]
  },
  {
   "cell_type": "code",
   "execution_count": 381,
   "id": "58c8bfc0",
   "metadata": {},
   "outputs": [
    {
     "name": "stdout",
     "output_type": "stream",
     "text": [
      "0.8740914845351548\n"
     ]
    }
   ],
   "source": [
    "print(roc_auc_score(y_test_rf, y_pred_rf))"
   ]
  },
  {
   "cell_type": "code",
   "execution_count": 383,
   "id": "3db8adb3-72bb-48f6-bc00-12c46ea0f0ae",
   "metadata": {},
   "outputs": [],
   "source": [
    "from sklearn.metrics import roc_curve"
   ]
  },
  {
   "cell_type": "code",
   "execution_count": 396,
   "id": "20cf9b26-76d3-48cf-b221-3a249f06dc67",
   "metadata": {},
   "outputs": [],
   "source": [
    "fpr_rf, tpr_rf, thresholds_rf = roc_curve(y_test_rf, y_pred_rf)"
   ]
  },
  {
   "cell_type": "code",
   "execution_count": 398,
   "id": "127696c0-9c89-4f17-9fcc-c13932d264b5",
   "metadata": {},
   "outputs": [
    {
     "data": {
      "image/png": "[encoded data removed]",
      "text/plain": [
       "<Figure size 640x480 with 1 Axes>"
      ]
     },
     "metadata": {},
     "output_type": "display_data"
    }
   ],
   "source": [
    "plt.plot(fpr_rf, tpr_rf, label=f'ROC AUC = {np.round(roc_auc_score(y_test_rf, y_pred_rf), 2)}');\n",
    "plt.legend()\n",
    "plt.xlabel('False Positive Rate = FP / (FP + TN)')\n",
    "plt.ylabel('True Positive Rate = Recall \\n= TP / (TP + FN)')\n",
    "plt.title('ROC AUC curve');"
   ]
  },
  {
   "cell_type": "code",
   "execution_count": 392,
   "id": "455db4f3-2906-4e90-8244-60c3bee9025f",
   "metadata": {},
   "outputs": [],
   "source": [
    "fpr_cb, tpr_cb, thresholds_cb = roc_curve(y_test_cb, y_pred_test_cb)"
   ]
  },
  {
   "cell_type": "code",
   "execution_count": 395,
   "id": "07cc4222-d559-47d8-b67e-7fc62474781f",
   "metadata": {},
   "outputs": [
    {
     "data": {
      "image/png": "[encoded data removed]",
      "text/plain": [
       "<Figure size 640x480 with 1 Axes>"
      ]
     },
     "metadata": {},
     "output_type": "display_data"
    }
   ],
   "source": [
    "plt.plot(fpr_cb, tpr_cb, label=f'ROC AUC = {np.round(roc_auc_score(y_test_cb, y_pred_test_cb), 2)}');\n",
    "plt.legend()\n",
    "plt.xlabel('False Positive Rate = FP / (FP + TN)')\n",
    "plt.ylabel('True Positive Rate = Recall \\n= TP / (TP + FN)')\n",
    "plt.title('ROC AUC curve');"
   ]
  },
  {
   "cell_type": "markdown",
   "id": "6a049694",
   "metadata": {},
   "source": [
    "# 20. Upload your ipynb solution"
   ]
  },
  {
   "cell_type": "code",
   "execution_count": null,
   "id": "3308b344",
   "metadata": {},
   "outputs": [],
   "source": []
  },
  {
   "cell_type": "code",
   "execution_count": null,
   "id": "bb57a955",
   "metadata": {},
   "outputs": [],
   "source": []
  },
  {
   "cell_type": "code",
   "execution_count": null,
   "id": "9eb2a9e0",
   "metadata": {},
   "outputs": [],
   "source": []
  }
 ],
 "metadata": {
  "kernelspec": {
   "display_name": "Python 3 (ipykernel)",
   "language": "python",
   "name": "python3"
  },
  "language_info": {
   "codemirror_mode": {
    "name": "ipython",
    "version": 3
   },
   "file_extension": ".py",
   "mimetype": "text/x-python",
   "name": "python",
   "nbconvert_exporter": "python",
   "pygments_lexer": "ipython3",
   "version": "3.10.6"
  }
 },
 "nbformat": 4,
 "nbformat_minor": 5
}
