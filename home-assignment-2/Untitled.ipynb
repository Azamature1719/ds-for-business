{
 "cells": [
  {
   "cell_type": "code",
   "execution_count": 17,
   "id": "d8ad8008",
   "metadata": {},
   "outputs": [],
   "source": [
    "import pandas as pd\n",
    "import numpy as np"
   ]
  },
  {
   "cell_type": "code",
   "execution_count": 2,
   "id": "14f95e89",
   "metadata": {},
   "outputs": [],
   "source": [
    "df = pd.read_csv('ha2_train.csv')"
   ]
  },
  {
   "cell_type": "code",
   "execution_count": 6,
   "id": "6d3da675",
   "metadata": {},
   "outputs": [],
   "source": [
    "sub = df[df['totals.totalTransactionRevenue'] > 0]"
   ]
  },
  {
   "cell_type": "code",
   "execution_count": 11,
   "id": "478c415e",
   "metadata": {},
   "outputs": [
    {
     "data": {
      "text/plain": [
       "53.974999999999994"
      ]
     },
     "execution_count": 11,
     "metadata": {},
     "output_type": "execute_result"
    }
   ],
   "source": [
    "(sub['totals.totalTransactionRevenue']/1000000).median()"
   ]
  },
  {
   "cell_type": "code",
   "execution_count": 18,
   "id": "cbbbc76b",
   "metadata": {},
   "outputs": [
    {
     "data": {
      "text/plain": [
       "17.804031548601575"
      ]
     },
     "execution_count": 18,
     "metadata": {},
     "output_type": "execute_result"
    }
   ],
   "source": [
    "(np.log1p(sub['totals.totalTransactionRevenue'])).median()"
   ]
  },
  {
   "cell_type": "code",
   "execution_count": null,
   "id": "2478bde2",
   "metadata": {},
   "outputs": [],
   "source": [
    "\n",
    "152.66\n",
    "\n",
    "17.80"
   ]
  }
 ],
 "metadata": {
  "kernelspec": {
   "display_name": "Python 3",
   "language": "python",
   "name": "python3"
  },
  "language_info": {
   "codemirror_mode": {
    "name": "ipython",
    "version": 3
   },
   "file_extension": ".py",
   "mimetype": "text/x-python",
   "name": "python",
   "nbconvert_exporter": "python",
   "pygments_lexer": "ipython3",
   "version": "3.8.8"
  }
 },
 "nbformat": 4,
 "nbformat_minor": 5
}
