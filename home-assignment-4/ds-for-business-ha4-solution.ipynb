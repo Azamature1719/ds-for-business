{
 "cells": [
  {
   "cell_type": "markdown",
   "id": "5917be7c",
   "metadata": {},
   "source": [
    "You are provided with Sales data from different Stores with 3 promotional strategies. Your goal is to analalyse the data and decide which promotional strategy is better suited for different Stores. Data on sales is provided in marketing_campaign.csv\n",
    "\n",
    "1. What is the median sales (SalesInThousands)?\n",
    "2. Compute median sales in markets of different size (MarketSize). Markets of which size have the smallest median sales?\n",
    "3. To select best promotion strategy marketing team ran three promotion strategies (Promotion) for 4 weeks (week). Is there a more than 5% difference between average sales in Large markets across 4 weeks? (In Orange you could select Rows by condition using Select Rows operator)\n",
    "4. Which market size are the most important when selecting a promotion strategy? Compute total sales in markets of different size. \n",
    "5. Using bootstrap method sales team prepared 1000 samples of average sales in markets of Medium size (bootstrapped_means.csv). Help them estimate 99.5% confidence (two-sided) interval for average sales. (e.g. use `PERCENTILE` in google spreadsheets) \n",
    "6. Compare sales in markets where different promotions were ran. Which promotion strategy showed the best results in terms of average sales?\n",
    "7. Are the differences between strategies 1 and 2 statistically significant? Use two-sided Student T-test with confidence level 5%. (e.g. select appropriate rows in Orange, store a csv and use `TTEST` in google spreadsheet with 2 tails of type 2, see example in https://docs.google.com/spreadsheets/d/132BCqQUFpPbmxPvdZCFbPkkXVmx5iLHQQZas9dWi4cs/edit?usp=sharing)\n",
    "8. Are the differences between strategies 1 and 3 statistically significant? Use two-sided Student T-test with confidence level 5%. Which strategy should we select?\n",
    "9. Compare the sales for strategies 1 and 3 but now for markets of different size separatly. Compare Large markets with strategies 1 and 3. Compare Medium markets with strategies 1 and 3. Compare Small markets with strategies 1 and 3. Are the differences between strategies 1 and 3 stratified by markets of different size statistically significant (5%)? Which strategy should we select?\n",
    "10. If instead of running promotions for 4 weeks we have only ran it for 1 week, does your answer to the previous question change? If we now look for confidence level 10%?\n"
   ]
  },
  {
   "cell_type": "code",
   "execution_count": 1,
   "id": "a5b562ad",
   "metadata": {},
   "outputs": [],
   "source": [
    "import pandas as pd\n",
    "from scipy.stats import ttest_ind"
   ]
  },
  {
   "cell_type": "code",
   "execution_count": 2,
   "id": "a5915d98",
   "metadata": {},
   "outputs": [],
   "source": [
    "df = pd.read_csv('WA_Marketing-Campaign.csv')\n",
    "\n",
    "idx = df[(df.MarketSize=='Large')&(df.Promotion==3)].index\n",
    "df.loc[idx, 'SalesInThousands'] = df.loc[idx, 'SalesInThousands'].apply(lambda x:x*1.1)\n",
    "\n",
    "idx = df[(df.MarketSize=='Medium')&(df.Promotion==3)].index\n",
    "df.loc[idx, 'SalesInThousands'] = df.loc[idx, 'SalesInThousands'].apply(lambda x:x*1.2)\n",
    "\n",
    "idx = df[(df.MarketSize=='Small')&(df.Promotion==1)].index\n",
    "df.loc[idx, 'SalesInThousands'] = df.loc[idx, 'SalesInThousands'].apply(lambda x:x*1.5)\n",
    "\n",
    "def get_age_group(x):\n",
    "    if x <=10:\n",
    "        return '<=10 years'\n",
    "    else:\n",
    "        return '>10 years'\n",
    "    \n",
    "df['StoreAge'] = df.AgeOfStore.apply(get_age_group)\n",
    "df = df.drop(['MarketID', 'AgeOfStore'], axis=1)"
   ]
  },
  {
   "cell_type": "code",
   "execution_count": 3,
   "id": "a9908c70",
   "metadata": {},
   "outputs": [],
   "source": [
    "df.to_csv('marketing_campaign.csv')"
   ]
  },
  {
   "cell_type": "markdown",
   "id": "db7ed474",
   "metadata": {},
   "source": [
    "# 1. What is the median sales (SalesInThousands)? `53.63`"
   ]
  },
  {
   "cell_type": "code",
   "execution_count": 4,
   "id": "08be7168",
   "metadata": {},
   "outputs": [
    {
     "data": {
      "text/plain": [
       "53.62599999999999"
      ]
     },
     "execution_count": 4,
     "metadata": {},
     "output_type": "execute_result"
    }
   ],
   "source": [
    "df.SalesInThousands.median()"
   ]
  },
  {
   "cell_type": "code",
   "execution_count": 24,
   "id": "223e72a8",
   "metadata": {},
   "outputs": [
    {
     "data": {
      "text/plain": [
       "57.16525912408751"
      ]
     },
     "execution_count": 24,
     "metadata": {},
     "output_type": "execute_result"
    }
   ],
   "source": [
    "df.SalesInThousands.mean()"
   ]
  },
  {
   "cell_type": "code",
   "execution_count": 26,
   "id": "a5ddb5ca",
   "metadata": {},
   "outputs": [
    {
     "data": {
      "text/plain": [
       "47.425"
      ]
     },
     "execution_count": 26,
     "metadata": {},
     "output_type": "execute_result"
    }
   ],
   "source": [
    "df.query('MarketSize==\"Medium\"').SalesInThousands.median()"
   ]
  },
  {
   "cell_type": "code",
   "execution_count": 27,
   "id": "844da2cb",
   "metadata": {},
   "outputs": [
    {
     "data": {
      "text/plain": [
       "47.28183750000003"
      ]
     },
     "execution_count": 27,
     "metadata": {},
     "output_type": "execute_result"
    }
   ],
   "source": [
    "df.query('MarketSize==\"Medium\"').SalesInThousands.mean()"
   ]
  },
  {
   "cell_type": "markdown",
   "id": "e66b875b",
   "metadata": {},
   "source": [
    "# 2. Compute median sales in markets of different size (MarketSize). Markets of which size have the smallest median sales? `Medium`"
   ]
  },
  {
   "cell_type": "code",
   "execution_count": 5,
   "id": "549da18d",
   "metadata": {},
   "outputs": [
    {
     "data": {
      "text/plain": [
       "MarketSize\n",
       "Large     75.450\n",
       "Medium    47.425\n",
       "Small     61.420\n",
       "Name: SalesInThousands, dtype: float64"
      ]
     },
     "execution_count": 5,
     "metadata": {},
     "output_type": "execute_result"
    }
   ],
   "source": [
    "df.groupby('MarketSize').SalesInThousands.median()"
   ]
  },
  {
   "cell_type": "markdown",
   "id": "5685d3af",
   "metadata": {},
   "source": [
    "# 3. To select best promotion strategy marketing team ran three promotion strategies (Promotion) for 4 weeks (week). Is there a more than 5% difference between average sales in Large markets across 4 weeks? (In Orange you could select Rows by condition using Select Rows operator) `No`"
   ]
  },
  {
   "cell_type": "code",
   "execution_count": 6,
   "id": "f9ed5c42",
   "metadata": {},
   "outputs": [
    {
     "data": {
      "text/plain": [
       "week\n",
       "1    73.070119\n",
       "2    70.820690\n",
       "3    72.844262\n",
       "4    72.555143\n",
       "Name: SalesInThousands, dtype: float64"
      ]
     },
     "execution_count": 6,
     "metadata": {},
     "output_type": "execute_result"
    }
   ],
   "source": [
    "df.query('MarketSize==\"Large\"').groupby(['week']).SalesInThousands.mean()"
   ]
  },
  {
   "cell_type": "markdown",
   "id": "4d4a6947",
   "metadata": {},
   "source": [
    "# 4. Which market size are the most important when selecting a promotion strategy? Compute total sales in markets of different size. `Large - 12150, Medium - 15130, Small - 4046`"
   ]
  },
  {
   "cell_type": "code",
   "execution_count": 7,
   "id": "ef702412",
   "metadata": {},
   "outputs": [
    {
     "data": {
      "text/plain": [
       "MarketSize\n",
       "Large     12150.189\n",
       "Medium    15130.188\n",
       "Small      4046.185\n",
       "Name: SalesInThousands, dtype: float64"
      ]
     },
     "execution_count": 7,
     "metadata": {},
     "output_type": "execute_result"
    }
   ],
   "source": [
    "df.groupby('MarketSize').SalesInThousands.sum()"
   ]
  },
  {
   "cell_type": "code",
   "execution_count": 28,
   "id": "bbc98d9a",
   "metadata": {},
   "outputs": [
    {
     "data": {
      "text/plain": [
       "MarketSize\n",
       "Large     72.322554\n",
       "Medium    47.281838\n",
       "Small     67.436417\n",
       "Name: SalesInThousands, dtype: float64"
      ]
     },
     "execution_count": 28,
     "metadata": {},
     "output_type": "execute_result"
    }
   ],
   "source": [
    "df.groupby('MarketSize').SalesInThousands.mean()"
   ]
  },
  {
   "cell_type": "markdown",
   "id": "cc7c007f",
   "metadata": {},
   "source": [
    "# 5. Using bootstrap sales team prepared 1000 samples of average sales in markets of Medium size. Help them estimate 99.5% confidence (two-sided) interval for average sales. (e.g. use `PERCENTILE` in google spreadsheets) `[45.48, 49.02]` "
   ]
  },
  {
   "cell_type": "code",
   "execution_count": 6,
   "id": "15bc6f56",
   "metadata": {},
   "outputs": [],
   "source": [
    "import numpy as np"
   ]
  },
  {
   "cell_type": "code",
   "execution_count": 9,
   "id": "aac844b5",
   "metadata": {},
   "outputs": [],
   "source": [
    "def bootstrap(data, random_state=10):\n",
    "    random = np.random.RandomState(random_state)\n",
    "    n = data.shape[0]\n",
    "    idx = random.randint(0, n, n)\n",
    "    return data[idx]"
   ]
  },
  {
   "cell_type": "code",
   "execution_count": 10,
   "id": "0b414f69",
   "metadata": {},
   "outputs": [],
   "source": [
    "x = df.query('MarketSize==\"Medium\"').SalesInThousands.values"
   ]
  },
  {
   "cell_type": "code",
   "execution_count": 11,
   "id": "238032a2",
   "metadata": {},
   "outputs": [],
   "source": [
    "means = []\n",
    "\n",
    "for i in range(1000):\n",
    "    sample = bootstrap(x, i)\n",
    "    means.append(np.mean(sample))\n",
    "means = np.array(means)"
   ]
  },
  {
   "cell_type": "code",
   "execution_count": 12,
   "id": "733d020a",
   "metadata": {},
   "outputs": [],
   "source": [
    "df_average_sales = pd.DataFrame()\n",
    "df_average_sales['AverageSales'] = means\n",
    "df_average_sales['BootstrapID'] = np.arange(1000)\n",
    "df_average_sales.to_csv('bootstrapped_means.csv', index=False)"
   ]
  },
  {
   "cell_type": "code",
   "execution_count": 2,
   "id": "e5f403bd",
   "metadata": {},
   "outputs": [],
   "source": [
    "d = pd.read_csv('/home/anvar/projects/ds-for-business-2022/home-assignment-4/bootstrapped_means.csv')"
   ]
  },
  {
   "cell_type": "code",
   "execution_count": 7,
   "id": "f8f4aa34",
   "metadata": {},
   "outputs": [
    {
     "data": {
      "text/plain": [
       "(45.4754770625, 49.023133390625)"
      ]
     },
     "execution_count": 7,
     "metadata": {},
     "output_type": "execute_result"
    }
   ],
   "source": [
    "np.quantile(d.AverageSales.values, 0.0025), np.quantile(d.AverageSales.values, 0.9975), "
   ]
  },
  {
   "cell_type": "code",
   "execution_count": 8,
   "id": "34452735",
   "metadata": {},
   "outputs": [
    {
     "data": {
      "text/plain": [
       "0.9950000000000001"
      ]
     },
     "execution_count": 8,
     "metadata": {},
     "output_type": "execute_result"
    }
   ],
   "source": [
    "0.9975-0.0025"
   ]
  },
  {
   "cell_type": "code",
   "execution_count": 34,
   "id": "3f5a8d67",
   "metadata": {},
   "outputs": [
    {
     "data": {
      "text/plain": [
       "(46.2255296875, 48.298515312499994)"
      ]
     },
     "execution_count": 34,
     "metadata": {},
     "output_type": "execute_result"
    }
   ],
   "source": [
    "np.quantile(means, 0.05), np.quantile(means, 0.95), "
   ]
  },
  {
   "cell_type": "markdown",
   "id": "4a38c90d",
   "metadata": {},
   "source": [
    "# 6. Compare sales in markets where different promotions were ran. Which promotion strategy showed the best results in terms of average sales? `3`"
   ]
  },
  {
   "cell_type": "code",
   "execution_count": 15,
   "id": "6bf714c9",
   "metadata": {},
   "outputs": [
    {
     "data": {
      "text/plain": [
       "Promotion\n",
       "1    61.596831\n",
       "2    47.329415\n",
       "3    62.946686\n",
       "Name: SalesInThousands, dtype: float64"
      ]
     },
     "execution_count": 15,
     "metadata": {},
     "output_type": "execute_result"
    }
   ],
   "source": [
    "df.groupby(['Promotion']).SalesInThousands.mean()"
   ]
  },
  {
   "cell_type": "code",
   "execution_count": null,
   "id": "0187334d",
   "metadata": {},
   "outputs": [],
   "source": []
  },
  {
   "cell_type": "markdown",
   "id": "0d67d1c3",
   "metadata": {},
   "source": [
    "# 7. Are the differences between strategies 1 and 2 statistically significant? Use two-sided Student T-test with confidence level 5%. (e.g. select appropriate rows in Orange, store a csv and use TTEST in google spreadsheet with 2 tails of type 2, see example in https://docs.google.com/spreadsheets/d/132BCqQUFpPbmxPvdZCFbPkkXVmx5iLHQQZas9dWi4cs/edit?usp=sharing) `Yes`"
   ]
  },
  {
   "cell_type": "code",
   "execution_count": 16,
   "id": "123138bf",
   "metadata": {},
   "outputs": [
    {
     "data": {
      "text/plain": [
       "Ttest_indResult(statistic=7.761907735013977, pvalue=8.85304097461179e-14)"
      ]
     },
     "execution_count": 16,
     "metadata": {},
     "output_type": "execute_result"
    }
   ],
   "source": [
    "ttest_ind(df.query('Promotion==1').SalesInThousands, \n",
    "          df.query('Promotion==2').SalesInThousands)"
   ]
  },
  {
   "cell_type": "markdown",
   "id": "9a26f228",
   "metadata": {},
   "source": [
    "# 8. Are the differences between strategies 1 and 3 statistically significant? Use two-sided Student T-test with confidence level 5%. Which strategy should we select?"
   ]
  },
  {
   "cell_type": "code",
   "execution_count": 17,
   "id": "163eb2a3",
   "metadata": {},
   "outputs": [
    {
     "data": {
      "text/plain": [
       "Ttest_indResult(statistic=-0.6963281649703463, pvalue=0.48667517588801124)"
      ]
     },
     "execution_count": 17,
     "metadata": {},
     "output_type": "execute_result"
    }
   ],
   "source": [
    "ttest_ind(df.query('Promotion==1').SalesInThousands, \n",
    "          df.query('Promotion==3').SalesInThousands)"
   ]
  },
  {
   "cell_type": "markdown",
   "id": "5a7b2351",
   "metadata": {},
   "source": [
    "# 9. Compare the sales for strategies 1 and 3 but now for markets of different size separatly. Compare Large markets with strategies 1 and 3. Compare Medium markets with strategies 1 and 3. Compare Small markets with strategies 1 and 3. Are the differences between strategies 1 and 3 stratified by markets of different size statistically significant (5%), which strategy should we select?"
   ]
  },
  {
   "cell_type": "code",
   "execution_count": 18,
   "id": "c951df1d",
   "metadata": {},
   "outputs": [
    {
     "data": {
      "text/plain": [
       "Ttest_indResult(statistic=15.729103026221376, pvalue=3.28652796016919e-19)"
      ]
     },
     "execution_count": 18,
     "metadata": {},
     "output_type": "execute_result"
    }
   ],
   "source": [
    "ttest_ind(df.query('Promotion==1').query('MarketSize==\"Small\"').SalesInThousands, \n",
    "          df.query('Promotion==3').query('MarketSize==\"Small\"').SalesInThousands)"
   ]
  },
  {
   "cell_type": "code",
   "execution_count": 19,
   "id": "097f82c1",
   "metadata": {},
   "outputs": [
    {
     "data": {
      "text/plain": [
       "Ttest_indResult(statistic=-5.546126944655506, pvalue=8.72691945185124e-08)"
      ]
     },
     "execution_count": 19,
     "metadata": {},
     "output_type": "execute_result"
    }
   ],
   "source": [
    "ttest_ind(df.query('Promotion==1').query('MarketSize==\"Medium\"').SalesInThousands, \n",
    "          df.query('Promotion==3').query('MarketSize==\"Medium\"').SalesInThousands)"
   ]
  },
  {
   "cell_type": "code",
   "execution_count": 20,
   "id": "889e2e5a",
   "metadata": {},
   "outputs": [
    {
     "data": {
      "text/plain": [
       "Ttest_indResult(statistic=-3.146014761762151, pvalue=0.0021694397502372495)"
      ]
     },
     "execution_count": 20,
     "metadata": {},
     "output_type": "execute_result"
    }
   ],
   "source": [
    "ttest_ind(df.query('Promotion==1').query('MarketSize==\"Large\"').SalesInThousands, \n",
    "          df.query('Promotion==3').query('MarketSize==\"Large\"').SalesInThousands)"
   ]
  },
  {
   "cell_type": "markdown",
   "id": "c3bef324",
   "metadata": {},
   "source": [
    "# 10. If instead of running promotions for 4 weeks we have only ran it for 1 week, does your answer to the previous question change? If we now look for confidence level 0.5%? Select all correct options."
   ]
  },
  {
   "cell_type": "code",
   "execution_count": 21,
   "id": "eb05eee7",
   "metadata": {},
   "outputs": [
    {
     "data": {
      "text/plain": [
       "Ttest_indResult(statistic=7.177589277766924, pvalue=5.208042684076091e-05)"
      ]
     },
     "execution_count": 21,
     "metadata": {},
     "output_type": "execute_result"
    }
   ],
   "source": [
    "ttest_ind(df.query('Promotion==1').query('week==1').query('MarketSize==\"Small\"').SalesInThousands, \n",
    "          df.query('Promotion==3').query('week==1').query('MarketSize==\"Small\"').SalesInThousands)"
   ]
  },
  {
   "cell_type": "code",
   "execution_count": 22,
   "id": "17fb9db8",
   "metadata": {},
   "outputs": [
    {
     "data": {
      "text/plain": [
       "Ttest_indResult(statistic=-2.434484067162056, pvalue=0.01845222033396582)"
      ]
     },
     "execution_count": 22,
     "metadata": {},
     "output_type": "execute_result"
    }
   ],
   "source": [
    "ttest_ind(df.query('Promotion==1').query('week==1').query('MarketSize==\"Medium\"').SalesInThousands, \n",
    "          df.query('Promotion==3').query('week==1').query('MarketSize==\"Medium\"').SalesInThousands)"
   ]
  },
  {
   "cell_type": "code",
   "execution_count": 23,
   "id": "f4c5b93e",
   "metadata": {},
   "outputs": [
    {
     "data": {
      "text/plain": [
       "Ttest_indResult(statistic=-1.7931023723764705, pvalue=0.08556982681378379)"
      ]
     },
     "execution_count": 23,
     "metadata": {},
     "output_type": "execute_result"
    }
   ],
   "source": [
    "ttest_ind(df.query('Promotion==1').query('week==1').query('MarketSize==\"Large\"').SalesInThousands, \n",
    "          df.query('Promotion==3').query('week==1').query('MarketSize==\"Large\"').SalesInThousands)"
   ]
  },
  {
   "cell_type": "code",
   "execution_count": null,
   "id": "fd8fc4d4",
   "metadata": {},
   "outputs": [],
   "source": []
  },
  {
   "cell_type": "code",
   "execution_count": null,
   "id": "48bea482",
   "metadata": {},
   "outputs": [],
   "source": []
  },
  {
   "cell_type": "code",
   "execution_count": null,
   "id": "3c657fbf",
   "metadata": {},
   "outputs": [],
   "source": []
  },
  {
   "cell_type": "code",
   "execution_count": null,
   "id": "c68bed3e",
   "metadata": {},
   "outputs": [],
   "source": []
  }
 ],
 "metadata": {
  "kernelspec": {
   "display_name": "Python 3",
   "language": "python",
   "name": "python3"
  },
  "language_info": {
   "codemirror_mode": {
    "name": "ipython",
    "version": 3
   },
   "file_extension": ".py",
   "mimetype": "text/x-python",
   "name": "python",
   "nbconvert_exporter": "python",
   "pygments_lexer": "ipython3",
   "version": "3.8.8"
  }
 },
 "nbformat": 4,
 "nbformat_minor": 5
}
