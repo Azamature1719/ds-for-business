{
 "cells": [
  {
   "cell_type": "markdown",
   "id": "dbe77264",
   "metadata": {},
   "source": [
    "# Churn modeling \n",
    "\n",
    "is a problem of identifying customers who are at risk of **leaving** or discontinuing their relationship with the company. It involves analyzing customer data to recognize patterns and behaviors that suggest customer dissatisfaction or a lack of engagement. The primary goal of churn modeling is to help businesses **retain customers** by understanding the reasons for their potential departure and taking appropriate actions to address their concerns.\n",
    "\n",
    "\n",
    "Assumptions:\n",
    "1. You have historical data about customers who\n",
    "    churn and not churn.\n",
    "2. You have a predictive model which for every\n",
    "    customer predict whether he will churn or not churn next month.\n",
    "3. You know if you give a discount d=x% (e.g. 30%) to a churn\n",
    "    customer, then with the probability r=y% (e.g. 80%) he will\n",
    "    not churn (these numbers could be assessed from historical data)."
   ]
  },
  {
   "cell_type": "code",
   "execution_count": null,
   "id": "fedf0dbf",
   "metadata": {},
   "outputs": [],
   "source": []
  },
  {
   "cell_type": "markdown",
   "id": "750a8bd5",
   "metadata": {},
   "source": [
    "Data from `https://www.kaggle.com/code/bandiatindra/telecom-churn-prediction/data` with some marginal preprocessing"
   ]
  },
  {
   "cell_type": "code",
   "execution_count": null,
   "id": "modern-shield",
   "metadata": {},
   "outputs": [],
   "source": [
    "import numpy as np \n",
    "import pandas as pd \n",
    "import seaborn as sns\n",
    "import matplotlib.pyplot as plt"
   ]
  },
  {
   "cell_type": "code",
   "execution_count": null,
   "id": "molecular-people",
   "metadata": {},
   "outputs": [],
   "source": [
    "telecom_cust = pd.read_csv('telecom_churn.csv')"
   ]
  },
  {
   "cell_type": "code",
   "execution_count": null,
   "id": "embedded-maximum",
   "metadata": {},
   "outputs": [],
   "source": [
    "telecom_cust.head()"
   ]
  },
  {
   "cell_type": "code",
   "execution_count": null,
   "id": "0000e995",
   "metadata": {},
   "outputs": [],
   "source": [
    "telecom_cust.shape"
   ]
  },
  {
   "cell_type": "code",
   "execution_count": null,
   "id": "40099d9b",
   "metadata": {},
   "outputs": [],
   "source": [
    "telecom_cust.count()"
   ]
  },
  {
   "cell_type": "code",
   "execution_count": null,
   "id": "responsible-panic",
   "metadata": {},
   "outputs": [],
   "source": [
    "telecom_cust.columns"
   ]
  },
  {
   "cell_type": "code",
   "execution_count": null,
   "id": "contemporary-result",
   "metadata": {},
   "outputs": [],
   "source": [
    "telecom_cust.dtypes.sort_values()"
   ]
  },
  {
   "cell_type": "code",
   "execution_count": null,
   "id": "paperback-engineering",
   "metadata": {},
   "outputs": [],
   "source": [
    "telecom_cust.TotalCharges = pd.to_numeric(telecom_cust.TotalCharges, errors='coerce')\n",
    "telecom_cust.isnull().sum()"
   ]
  },
  {
   "cell_type": "code",
   "execution_count": null,
   "id": "e0999189",
   "metadata": {},
   "outputs": [],
   "source": [
    "telecom_cust[telecom_cust.TotalCharges.astype(float).isnull()]"
   ]
  },
  {
   "cell_type": "code",
   "execution_count": null,
   "id": "b1b06a05",
   "metadata": {},
   "outputs": [],
   "source": [
    "telecom_cust.dropna(inplace=True)"
   ]
  },
  {
   "cell_type": "code",
   "execution_count": null,
   "id": "397d88f3",
   "metadata": {},
   "outputs": [],
   "source": [
    "telecom_cust.dtypes"
   ]
  },
  {
   "cell_type": "code",
   "execution_count": null,
   "id": "c13a47c1",
   "metadata": {},
   "outputs": [],
   "source": [
    "telecom_cust.Churn.value_counts()"
   ]
  },
  {
   "cell_type": "code",
   "execution_count": null,
   "id": "durable-radar",
   "metadata": {},
   "outputs": [],
   "source": [
    "# Convert the predictor variable in a binary numeric variable\n",
    "telecom_cust['Churn'].replace(to_replace='Yes', value=1, inplace=True)\n",
    "telecom_cust['Churn'].replace(to_replace='No',  value=0, inplace=True)\n",
    "\n",
    "# Let's convert all the categorical variables into dummy variables\n",
    "df_dummies = pd.get_dummies(telecom_cust.drop('customerID', axis=1))\n",
    "df_dummies.head()"
   ]
  },
  {
   "cell_type": "code",
   "execution_count": null,
   "id": "ede4cbc1",
   "metadata": {},
   "outputs": [],
   "source": [
    "df_dummies.describe()"
   ]
  },
  {
   "cell_type": "code",
   "execution_count": null,
   "id": "3ebcd977",
   "metadata": {},
   "outputs": [],
   "source": [
    "pd.options.display.max_columns = 50"
   ]
  },
  {
   "cell_type": "code",
   "execution_count": null,
   "id": "80b88f67",
   "metadata": {},
   "outputs": [],
   "source": [
    "df_dummies.describe()"
   ]
  },
  {
   "cell_type": "code",
   "execution_count": null,
   "id": "streaming-triple",
   "metadata": {},
   "outputs": [],
   "source": [
    "# Plot `Churn` correlation with features\n",
    "\n",
    "plt.figure(figsize=(6,8))\n",
    "df_dummies.corr()['Churn'].sort_values(ascending = False).plot(kind='barh');\n",
    "plt.title('Churn column correlation with every feature');"
   ]
  },
  {
   "cell_type": "code",
   "execution_count": null,
   "id": "43f9ded8",
   "metadata": {},
   "outputs": [],
   "source": [
    "df_dummies.corr()['Churn'].sort_values(ascending = False)"
   ]
  },
  {
   "cell_type": "markdown",
   "id": "fiscal-batman",
   "metadata": {},
   "source": [
    "### `Monthly contracts`, an `absense of online security` and `technical support` positively affect Churn. In \n",
    "\n",
    "### contrast, being a `tenure` customer, having a `2-years contract` and `not having an internet service` negatively\n",
    "\n",
    "### affect Churn."
   ]
  },
  {
   "cell_type": "markdown",
   "id": "foster-hollywood",
   "metadata": {},
   "source": [
    "# Quick EDA\n",
    "\n",
    "## 1. Demography\n",
    "\n",
    "\n",
    "### Females, Males are 50-50"
   ]
  },
  {
   "cell_type": "code",
   "execution_count": null,
   "id": "spoken-universe",
   "metadata": {},
   "outputs": [],
   "source": [
    "colors = ['#4D3425','#E4512B']\n",
    "ax = (telecom_cust['gender'].value_counts()*100.0 /len(telecom_cust)).plot(kind='bar',\n",
    "                                                                           stacked = True,\n",
    "                                                                          rot = 0,\n",
    "                                                                          color = colors)\n",
    "# ax.yaxis.set_major_formatter(mtick.PercentFormatter())\n",
    "ax.set_ylabel('% Customers')\n",
    "ax.set_xlabel('Gender')\n",
    "ax.set_ylabel('% Customers')\n",
    "ax.set_title('Gender Distribution')\n",
    "\n",
    "# create a list to collect the plt.patches data\n",
    "totals = []\n",
    "\n",
    "# find the values and append to list\n",
    "for i in ax.patches:\n",
    "    totals.append(i.get_width())\n",
    "\n",
    "# set individual bar lables using above list\n",
    "total = sum(totals)\n",
    "\n",
    "for i in ax.patches:\n",
    "    # get_width pulls left or right; get_y pushes up or down\n",
    "    ax.text(i.get_x()+.15, i.get_height()-3.5, \\\n",
    "            str(round((i.get_height()/total), 1))+'%',\n",
    "            fontsize=12,\n",
    "            color='white',\n",
    "           weight = 'bold')"
   ]
  },
  {
   "cell_type": "markdown",
   "id": "1fb154f1",
   "metadata": {},
   "source": [
    "### On average Female customers spend 1 more dollar on service (per month), there is no difference in median spendings though"
   ]
  },
  {
   "cell_type": "code",
   "execution_count": null,
   "id": "fe03d438",
   "metadata": {},
   "outputs": [],
   "source": [
    "telecom_cust.groupby('gender')['MonthlyCharges'].agg(['mean', 'max'])"
   ]
  },
  {
   "cell_type": "markdown",
   "id": "still-speed",
   "metadata": {},
   "source": [
    "### There are only 16% of seniors"
   ]
  },
  {
   "cell_type": "code",
   "execution_count": null,
   "id": "computational-generation",
   "metadata": {},
   "outputs": [],
   "source": [
    "ax = (telecom_cust['SeniorCitizen'].value_counts()*100.0 /len(telecom_cust))\\\n",
    ".plot.pie(autopct='%.1f%%', labels = ['No', 'Yes'],figsize =(5,5), fontsize = 12 )\n",
    "ax.set_ylabel('Senior Citizens',fontsize = 12)\n",
    "ax.set_title('% of Senior Citizens', fontsize = 12);"
   ]
  },
  {
   "cell_type": "markdown",
   "id": "36943a09",
   "metadata": {},
   "source": [
    "### Senior Citizens spends significantly more money on services (why?)"
   ]
  },
  {
   "cell_type": "code",
   "execution_count": null,
   "id": "96a21b3a",
   "metadata": {},
   "outputs": [],
   "source": [
    "telecom_cust.groupby('SeniorCitizen')['MonthlyCharges'].agg(['mean', 'max', 'median'])"
   ]
  },
  {
   "cell_type": "markdown",
   "id": "silent-determination",
   "metadata": {},
   "source": [
    "### 50% of customers have a partner, 30% of customers have a dependent"
   ]
  },
  {
   "cell_type": "code",
   "execution_count": null,
   "id": "french-watch",
   "metadata": {},
   "outputs": [],
   "source": [
    "df2 = pd.melt(telecom_cust, id_vars=['customerID'], value_vars=['Dependents','Partner'])\n",
    "df3 = df2.groupby(['variable','value']).count().unstack()\n",
    "df3 = df3*100/len(telecom_cust)\n",
    "colors = ['#4D3425','#E4512B']\n",
    "ax = df3.loc[:,'customerID'].plot.bar(stacked=True, color=colors,\n",
    "                                      figsize=(8,6),rot = 0,\n",
    "                                     width = 0.2)\n",
    "\n",
    "ax.set_ylabel('% Customers',size = 14)\n",
    "ax.set_xlabel('')\n",
    "ax.set_title('% Customers with dependents and partners',size = 14)\n",
    "ax.legend(loc = 'center',prop={'size':14})\n",
    "\n",
    "for p in ax.patches:\n",
    "    width, height = p.get_width(), p.get_height()\n",
    "    x, y = p.get_xy() \n",
    "    ax.annotate('{:.0f}%'.format(height), (p.get_x()+.25*width, p.get_y()+.4*height),\n",
    "                color = 'white',\n",
    "               weight = 'bold',\n",
    "               size = 14)\n"
   ]
  },
  {
   "cell_type": "markdown",
   "id": "c5033e5e",
   "metadata": {},
   "source": [
    "### Customers with partners spend more compared to customers without partners"
   ]
  },
  {
   "cell_type": "code",
   "execution_count": null,
   "id": "24e8a831",
   "metadata": {},
   "outputs": [],
   "source": [
    "telecom_cust.groupby('Partner')['MonthlyCharges'].agg(['mean', 'max', 'median'])"
   ]
  },
  {
   "cell_type": "markdown",
   "id": "2f1103c9",
   "metadata": {},
   "source": [
    "## 2. Tenure and type of a contract"
   ]
  },
  {
   "cell_type": "markdown",
   "id": "ecfe0bec",
   "metadata": {},
   "source": [
    "### There are two large groups: senior customers and customers who use the service for 1-2 months"
   ]
  },
  {
   "cell_type": "code",
   "execution_count": null,
   "id": "muslim-bidding",
   "metadata": {},
   "outputs": [],
   "source": [
    "ax = sns.distplot(telecom_cust['tenure'], hist=True, kde=False, \n",
    "             bins=int(180/5), color = 'darkblue', \n",
    "             hist_kws={'edgecolor':'black'},\n",
    "             kde_kws={'linewidth': 4})\n",
    "ax.set_ylabel('# of Customers')\n",
    "ax.set_xlabel('Tenure (months)')\n",
    "ax.set_title('# of Customers by their tenure')\n"
   ]
  },
  {
   "cell_type": "markdown",
   "id": "living-adult",
   "metadata": {},
   "source": [
    "### Most of the customers are on 1-month contract"
   ]
  },
  {
   "cell_type": "code",
   "execution_count": null,
   "id": "creative-waters",
   "metadata": {},
   "outputs": [],
   "source": [
    "ax = telecom_cust['Contract'].value_counts().plot(kind = 'bar',rot = 0, width = 0.3)\n",
    "ax.set_ylabel('# of Customers')\n",
    "ax.set_title('# of Customers by Contract Type');"
   ]
  },
  {
   "cell_type": "markdown",
   "id": "vertical-abraham",
   "metadata": {},
   "source": [
    "### How tenure depends on the type of the contract?"
   ]
  },
  {
   "cell_type": "code",
   "execution_count": null,
   "id": "passing-bleeding",
   "metadata": {},
   "outputs": [],
   "source": [
    "fig, (ax1,ax2,ax3) = plt.subplots(nrows=1, ncols=3, sharey = True, figsize = (20,6))\n",
    "\n",
    "ax = sns.distplot(telecom_cust[telecom_cust['Contract']=='Month-to-month']['tenure'],\n",
    "                   hist=True, kde=False,\n",
    "                   bins=int(180/5), color = 'turquoise',\n",
    "                   hist_kws={'edgecolor':'black'},\n",
    "                   kde_kws={'linewidth': 4},\n",
    "                 ax=ax1)\n",
    "ax.set_ylabel('# of Customers')\n",
    "ax.set_xlabel('Tenure (months)')\n",
    "ax.set_title('Month to Month Contract')\n",
    "\n",
    "ax = sns.distplot(telecom_cust[telecom_cust['Contract']=='One year']['tenure'],\n",
    "                   hist=True, kde=False,\n",
    "                   bins=int(180/5), color = 'steelblue',\n",
    "                   hist_kws={'edgecolor':'black'},\n",
    "                   kde_kws={'linewidth': 4},\n",
    "                 ax=ax2)\n",
    "ax.set_xlabel('Tenure (months)',size = 14)\n",
    "ax.set_title('One Year Contract',size = 14)\n",
    "\n",
    "ax = sns.distplot(telecom_cust[telecom_cust['Contract']=='Two year']['tenure'],\n",
    "                   hist=True, kde=False,\n",
    "                   bins=int(180/5), color = 'darkblue',\n",
    "                   hist_kws={'edgecolor':'black'},\n",
    "                   kde_kws={'linewidth': 4},\n",
    "                 ax=ax3)\n",
    "\n",
    "ax.set_xlabel('Tenure (months)')\n",
    "ax.set_title('Two Year Contract');\n"
   ]
  },
  {
   "cell_type": "markdown",
   "id": "macro-audit",
   "metadata": {},
   "source": [
    "2-year contract clients are more loyal: most of the month-to-month clients use services for 1-2 months in total, while most 2-year contract clients use services for >50 months (>4 years)."
   ]
  },
  {
   "cell_type": "markdown",
   "id": "bd6ba63d",
   "metadata": {},
   "source": [
    "## 3. What about additional services?"
   ]
  },
  {
   "cell_type": "code",
   "execution_count": null,
   "id": "afraid-escape",
   "metadata": {},
   "outputs": [],
   "source": [
    "services = ['PhoneService','MultipleLines','InternetService','OnlineSecurity',\n",
    "           'OnlineBackup','DeviceProtection','TechSupport','StreamingTV','StreamingMovies']\n",
    "\n",
    "fig, axes = plt.subplots(nrows = 3,ncols = 3,figsize = (15,12))\n",
    "for i, item in enumerate(services):\n",
    "    if i < 3:\n",
    "        ax = telecom_cust[item].value_counts().plot(kind = 'bar',ax=axes[i,0],rot = 0)\n",
    "        \n",
    "    elif i >=3 and i < 6:\n",
    "        ax = telecom_cust[item].value_counts().plot(kind = 'bar',ax=axes[i-3,1],rot = 0)\n",
    "        \n",
    "    elif i < 9:\n",
    "        ax = telecom_cust[item].value_counts().plot(kind = 'bar',ax=axes[i-6,2],rot = 0)\n",
    "    ax.set_title(item)\n"
   ]
  },
  {
   "cell_type": "markdown",
   "id": "01fbc963",
   "metadata": {},
   "source": [
    "### Among Senior Citizens 95% do you an InternetService, while for others it is only 75%"
   ]
  },
  {
   "cell_type": "code",
   "execution_count": null,
   "id": "3cfeb568",
   "metadata": {},
   "outputs": [],
   "source": [
    "telecom_cust.groupby('SeniorCitizen')['InternetService'].value_counts()"
   ]
  },
  {
   "cell_type": "markdown",
   "id": "c43c30e3",
   "metadata": {},
   "source": [
    "### We observe the same trend for Tech Support"
   ]
  },
  {
   "cell_type": "code",
   "execution_count": null,
   "id": "36f854b0",
   "metadata": {},
   "outputs": [],
   "source": [
    "telecom_cust.groupby('SeniorCitizen')['TechSupport'].value_counts()"
   ]
  },
  {
   "cell_type": "markdown",
   "id": "1f204d08",
   "metadata": {},
   "source": [
    "# 4. What about Churn (target column)?"
   ]
  },
  {
   "cell_type": "markdown",
   "id": "bd06324a",
   "metadata": {},
   "source": [
    "### There are 73% of customers who do not Churn, and 27% who churn"
   ]
  },
  {
   "cell_type": "code",
   "execution_count": null,
   "id": "3e15dff9",
   "metadata": {},
   "outputs": [],
   "source": [
    "telecom_cust['Churn'].value_counts() / len(telecom_cust) * 100"
   ]
  },
  {
   "cell_type": "markdown",
   "id": "3b077336",
   "metadata": {},
   "source": [
    "### On average customers who do not churn use services for 38 months"
   ]
  },
  {
   "cell_type": "code",
   "execution_count": null,
   "id": "ff331fd9",
   "metadata": {},
   "outputs": [],
   "source": [
    "telecom_cust.groupby('Churn').tenure.agg(['mean', 'median', 'std'])"
   ]
  },
  {
   "cell_type": "markdown",
   "id": "4b5724ee",
   "metadata": {},
   "source": [
    "### There are 43% of Churned customers among month-to-month users, 11% among customers with 1-year contract, and only 3% among those with 2-year contract"
   ]
  },
  {
   "cell_type": "code",
   "execution_count": null,
   "id": "2388d632",
   "metadata": {},
   "outputs": [],
   "source": [
    "telecom_cust.groupby('Contract').Churn.mean()"
   ]
  },
  {
   "cell_type": "markdown",
   "id": "e6130919",
   "metadata": {},
   "source": [
    "# Churn prediction"
   ]
  },
  {
   "cell_type": "code",
   "execution_count": null,
   "id": "varied-tackle",
   "metadata": {},
   "outputs": [],
   "source": [
    "from sklearn.model_selection import train_test_split\n",
    "\n",
    "X = telecom_cust.drop(['customerID', 'Churn'], axis=1)\n",
    "y = telecom_cust['Churn']\n",
    "\n",
    "X_train, X_test, y_train, y_test = train_test_split(X, y, test_size=0.3, random_state=101)"
   ]
  },
  {
   "cell_type": "code",
   "execution_count": null,
   "id": "challenging-vector",
   "metadata": {},
   "outputs": [],
   "source": [
    "from sklearn.metrics import accuracy_score, roc_auc_score, roc_curve, confusion_matrix"
   ]
  },
  {
   "cell_type": "code",
   "execution_count": null,
   "id": "smart-zoning",
   "metadata": {},
   "outputs": [],
   "source": [
    "from catboost import CatBoostClassifier, Pool"
   ]
  },
  {
   "cell_type": "code",
   "execution_count": null,
   "id": "a6cff65e",
   "metadata": {},
   "outputs": [],
   "source": [
    "cat_features = list(X_train.dtypes.sort_values().iloc[4:].index)\n",
    "\n",
    "print('Categorical features:', cat_features)\n",
    "\n",
    "dataset_train = Pool(X_train, y_train, cat_features)\n",
    "dataset_test = Pool(X_test, y_test, cat_features)"
   ]
  },
  {
   "cell_type": "code",
   "execution_count": null,
   "id": "aeb4ad7f",
   "metadata": {},
   "outputs": [],
   "source": [
    "model = CatBoostClassifier()\n",
    "\n",
    "model.fit(dataset_train, eval_set=dataset_test,\n",
    "          verbose=50)"
   ]
  },
  {
   "cell_type": "code",
   "execution_count": null,
   "id": "615a4ad9",
   "metadata": {},
   "outputs": [],
   "source": [
    "y_pred_test = model.predict_proba(X_test)\n",
    "y_pred_train = model.predict_proba(X_train)"
   ]
  },
  {
   "cell_type": "code",
   "execution_count": null,
   "id": "df450bb3",
   "metadata": {},
   "outputs": [],
   "source": [
    "# y(Churn) = 0.3\n",
    "\n",
    "# threshold = 0.10"
   ]
  },
  {
   "cell_type": "code",
   "execution_count": null,
   "id": "333e9c43",
   "metadata": {},
   "outputs": [],
   "source": [
    "y_pred_train"
   ]
  },
  {
   "cell_type": "code",
   "execution_count": null,
   "id": "eab0727f",
   "metadata": {},
   "outputs": [],
   "source": [
    "y_pred_train.sum(axis=1)"
   ]
  },
  {
   "cell_type": "code",
   "execution_count": null,
   "id": "cdd9bb1a",
   "metadata": {},
   "outputs": [],
   "source": [
    "print(roc_auc_score(y_train, y_pred_train[:, 1]))"
   ]
  },
  {
   "cell_type": "code",
   "execution_count": null,
   "id": "fe010069",
   "metadata": {},
   "outputs": [],
   "source": [
    "print(roc_auc_score(y_test, y_pred_test[:, 1]))"
   ]
  },
  {
   "cell_type": "code",
   "execution_count": null,
   "id": "5d61912d",
   "metadata": {},
   "outputs": [],
   "source": [
    "fpr, tpr, thresholds = roc_curve(y_train, y_pred_train[:, 1])"
   ]
  },
  {
   "cell_type": "code",
   "execution_count": null,
   "id": "03ee70fe",
   "metadata": {},
   "outputs": [],
   "source": [
    "plt.plot(fpr, tpr, label=f'ROC AUC = {np.round(roc_auc_score(y_train, y_pred_train[:, 1]), 2)}');\n",
    "plt.legend()\n",
    "plt.xlabel('False Positive Rate = FP / (FP + TN)')\n",
    "plt.ylabel('True Positive Rate = Recall \\n= TP / (TP + FN)')\n",
    "plt.title('ROC AUC curve');"
   ]
  },
  {
   "cell_type": "code",
   "execution_count": null,
   "id": "48585c1d",
   "metadata": {},
   "outputs": [],
   "source": [
    "plt.plot(fpr, tpr, label=f'ROC AUC = {np.round(roc_auc_score(y_train, y_pred_train[:, 1]), 2)}');\n",
    "plt.scatter(fpr[500], tpr[500], c='r', s=80, label=f'probability threshold = {np.round(thresholds[500], 2)}')\n",
    "plt.scatter(fpr[900], tpr[900], c='g', s=80, label=f'probability threshold = {np.round(thresholds[900], 2)}')\n",
    "plt.scatter(fpr[1200], tpr[1200], c='k', s=80, label=f'probability threshold = {np.round(thresholds[1200], 2)}')\n",
    "plt.legend()\n",
    "plt.xlabel('False Positive Rate = FP / (FP + TN)')\n",
    "plt.ylabel('True Positive Rate = Recall \\n= TP / (TP + FN)');"
   ]
  },
  {
   "cell_type": "code",
   "execution_count": null,
   "id": "1763a511",
   "metadata": {},
   "outputs": [],
   "source": [
    "threshold = 0.25\n",
    "\n",
    "accuracy_score(y_train, (y_pred_train[:, 1] > threshold).astype(int))"
   ]
  },
  {
   "cell_type": "code",
   "execution_count": null,
   "id": "cf1acd2e",
   "metadata": {},
   "outputs": [],
   "source": [
    "threshold = 0.5\n",
    "\n",
    "accuracy_score(y_train, (y_pred_train[:, 1] > threshold).astype(int))"
   ]
  },
  {
   "cell_type": "code",
   "execution_count": null,
   "id": "ccc0ec42",
   "metadata": {},
   "outputs": [],
   "source": [
    "threshold = 0.75\n",
    "\n",
    "accuracy_score(y_train, (y_pred_train[:, 1] > threshold).astype(int))"
   ]
  },
  {
   "cell_type": "code",
   "execution_count": null,
   "id": "b3a4a195",
   "metadata": {},
   "outputs": [],
   "source": [
    "threshold = 0.25\n",
    "\n",
    "tn, fp, fn, tp = confusion_matrix(y_train, (y_pred_train[:, 1] > threshold).astype(int)).ravel()\n",
    "\n",
    "print(f'TN: {tn}', f'FP: {fp}', f'FN: {fn}', f'TP: {tp}')"
   ]
  },
  {
   "cell_type": "code",
   "execution_count": null,
   "id": "2795b748",
   "metadata": {},
   "outputs": [],
   "source": [
    "threshold = 0.5\n",
    "\n",
    "tn, fp, fn, tp = confusion_matrix(y_train, (y_pred_train[:, 1] > threshold).astype(int)).ravel()\n",
    "\n",
    "print(f'TN: {tn}', f'FP: {fp}', f'FN: {fn}', f'TP: {tp}')"
   ]
  },
  {
   "cell_type": "code",
   "execution_count": null,
   "id": "078ae68b",
   "metadata": {},
   "outputs": [],
   "source": [
    "threshold = 0.75\n",
    "\n",
    "tn, fp, fn, tp = confusion_matrix(y_train, (y_pred_train[:, 1] > threshold).astype(int)).ravel()\n",
    "\n",
    "print(f'TN: {tn}', f'FP: {fp}', f'FN: {fn}', f'TP: {tp}')"
   ]
  },
  {
   "cell_type": "code",
   "execution_count": null,
   "id": "8f73a0a7",
   "metadata": {},
   "outputs": [],
   "source": []
  },
  {
   "cell_type": "code",
   "execution_count": null,
   "id": "f14832e5",
   "metadata": {},
   "outputs": [],
   "source": []
  }
 ],
 "metadata": {
  "kernelspec": {
   "display_name": "Python 3 (ipykernel)",
   "language": "python",
   "name": "python3"
  },
  "language_info": {
   "codemirror_mode": {
    "name": "ipython",
    "version": 3
   },
   "file_extension": ".py",
   "mimetype": "text/x-python",
   "name": "python",
   "nbconvert_exporter": "python",
   "pygments_lexer": "ipython3",
   "version": "3.9.13"
  }
 },
 "nbformat": 4,
 "nbformat_minor": 5
}
