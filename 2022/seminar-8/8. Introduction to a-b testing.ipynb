{
 "cells": [
  {
   "cell_type": "markdown",
   "id": "c2a41603",
   "metadata": {},
   "source": [
    "# How to decide if we need to change a user interface?\n",
    "\n",
    "![amazon-ui](amazon-ex.jpg)"
   ]
  },
  {
   "cell_type": "markdown",
   "id": "8cf3ed3f",
   "metadata": {},
   "source": [
    "# A/B test is the way to check if \"small\" change will result in improved business metrics\n",
    "\n",
    "![a-b](a-b-test.jpg)"
   ]
  },
  {
   "cell_type": "code",
   "execution_count": 2,
   "id": "363f03f9",
   "metadata": {},
   "outputs": [],
   "source": [
    "import numpy as np\n",
    "import matplotlib.pyplot as plt\n",
    "from scipy.stats import ttest_ind"
   ]
  },
  {
   "cell_type": "markdown",
   "id": "fa2975d4",
   "metadata": {},
   "source": [
    "# 1. Basic (and probably most frequent) case: two groups, compare `means`.\n",
    "\n",
    "You are trying to increase users retention time. For that your team have developed a new user interface. Below are \n",
    "times different users spent on your website."
   ]
  },
  {
   "cell_type": "code",
   "execution_count": 3,
   "id": "bbbb8f82",
   "metadata": {},
   "outputs": [],
   "source": [
    "a_times = [10.35440528, 10.99206354,  6.12869861,  8.47811989, 12.7248804 ,\n",
    "       11.73265766, 12.22095406, 12.8099562 , 11.74540839, 11.29651638,\n",
    "       11.80797107,  7.94572271,  4.19784555,  7.50387294, 10.16213967,\n",
    "        8.94711072,  9.51350476,  6.59822116,  5.19571974, 11.69393995,\n",
    "       12.75649418,  9.23660269, 12.53301822,  8.53946756,  8.46736933,\n",
    "        9.7510238 , 11.31335251, 10.77690105,  9.4413677 ,  8.24098345,\n",
    "        4.86035243,  6.1432389 ,  7.18226681,  2.21531163,  4.95638114,\n",
    "       12.63659587,  9.46392054, 14.553992  ,  5.10086576,  9.601428  ,\n",
    "        9.9470964 ,  6.57471154,  9.43623108, 10.49612454,  7.97249361,\n",
    "        7.17416646, 15.13347713, 15.27167257,  7.62949604,  9.25366971]\n",
    "\n",
    "b_times = [11.43426005,  7.70636347, 14.47410034,  7.98678126, 10.93553798,\n",
    "       11.46975857, 12.92429606, 14.96690765, 12.58862079,  4.99472204,\n",
    "       10.12095494, 14.76352979,  9.43292588, 12.63836527,  7.0601039 ,\n",
    "        5.78109412, 12.32235052, 10.72332663,  8.52206031, 13.61425068,\n",
    "       13.19846314, 17.19249888,  5.31264523, 20.20991564,  9.46273423,\n",
    "        7.94967209,  6.31071439,  6.94749318, 10.59982422,  7.61988794,\n",
    "       13.84820591,  6.25107344, 12.09231685,  9.42304435,  9.45674061,\n",
    "        8.960323  ,  8.91021953, 11.14720118, 13.7686453 , 15.27435376,\n",
    "        6.46060643,  8.608558  , 11.99237414, 15.27977731, 13.07143702,\n",
    "       10.73355528, 14.17241758, 12.06356734,  8.66294464, 12.00932266]"
   ]
  },
  {
   "cell_type": "markdown",
   "id": "61c712ce",
   "metadata": {},
   "source": [
    "# Does retention time in group A is different from group B?"
   ]
  },
  {
   "cell_type": "markdown",
   "id": "c77ff7ed",
   "metadata": {},
   "source": [
    "$$\\bar{A} = \\frac{1}{n_A}\\sum{a_i}, \\bar{B} = \\frac{1}{n_B}\\sum{B_i}$$\n",
    "\n",
    "$$\\bar{A} \\  \\ \\ \\ \\ ? \\ \\ \\ \\  \\ \\bar{B}$$"
   ]
  },
  {
   "cell_type": "code",
   "execution_count": 4,
   "id": "0c1f44df",
   "metadata": {},
   "outputs": [
    {
     "name": "stdout",
     "output_type": "stream",
     "text": [
      "9.3741956266 10.829016870399998\n"
     ]
    }
   ],
   "source": [
    "print(np.mean(a_times), np.mean(b_times))"
   ]
  },
  {
   "cell_type": "markdown",
   "id": "cb68dbb5",
   "metadata": {},
   "source": [
    "# If means are different does it mean that groups are different?\n",
    "\n",
    "Let's compare two cases"
   ]
  },
  {
   "cell_type": "markdown",
   "id": "c3f259bb",
   "metadata": {},
   "source": [
    "## Large standard deviation"
   ]
  },
  {
   "cell_type": "code",
   "execution_count": 5,
   "id": "e281ec57",
   "metadata": {},
   "outputs": [
    {
     "name": "stdout",
     "output_type": "stream",
     "text": [
      "100.06978719996839 101.03503753983856\n"
     ]
    },
    {
     "data": {
      "image/png": "[encoded data removed]",
      "text/plain": [
       "<Figure size 720x360 with 2 Axes>"
      ]
     },
     "metadata": {
      "needs_background": "light"
     },
     "output_type": "display_data"
    }
   ],
   "source": [
    "random = np.random.RandomState(998)\n",
    "\n",
    "x = random.normal(100, 10, 1000)\n",
    "y = random.normal(101, 10, 1000)\n",
    "\n",
    "fig, ax = plt.subplots(1, 2, figsize=(10, 5))\n",
    "bins = ax[0].hist(x, alpha=0.5, bins=20)\n",
    "ax[0].hist(y, alpha=0.5, bins=bins[1]);\n",
    "ax[1].hist(np.concatenate([x, y]), bins=bins[1])\n",
    "ax[1].vlines(np.concatenate([x, y]).mean(), 0, 250, color='r', label='Mean of joined x and y')\n",
    "ax[1].vlines(x.mean(), 0, 250, color='g', label='Mean of x')\n",
    "ax[1].vlines(y.mean(), 0, 250, color='orange', label='Mean of y')\n",
    "plt.legend(loc='upper left')\n",
    "\n",
    "\n",
    "print(x.mean(), y.mean())"
   ]
  },
  {
   "cell_type": "markdown",
   "id": "71d26b24",
   "metadata": {},
   "source": [
    "## Small standard deviation"
   ]
  },
  {
   "cell_type": "code",
   "execution_count": 6,
   "id": "b5ee269c",
   "metadata": {},
   "outputs": [
    {
     "name": "stdout",
     "output_type": "stream",
     "text": [
      "100.00348935999841 101.00175187699195\n"
     ]
    },
    {
     "data": {
      "image/png": "[encoded data removed]",
      "text/plain": [
       "<Figure size 720x360 with 2 Axes>"
      ]
     },
     "metadata": {
      "needs_background": "light"
     },
     "output_type": "display_data"
    }
   ],
   "source": [
    "random = np.random.RandomState(998)\n",
    "\n",
    "x = random.normal(100, 0.5, 1000)\n",
    "y = random.normal(101, 0.5, 1000)\n",
    "\n",
    "fig, ax = plt.subplots(1, 2, figsize=(10, 5))\n",
    "bins = ax[1].hist(np.concatenate([x, y]), bins=20)\n",
    "ax[0].hist(x, alpha=0.5, bins=bins[1])\n",
    "ax[0].hist(y, alpha=0.5, bins=bins[1]);\n",
    "\n",
    "ax[1].vlines(np.concatenate([x, y]).mean(), 0, 250, color='r', label='Mean of joined x and y')\n",
    "ax[1].vlines(x.mean(), 0, 250, color='g', label='Mean of x')\n",
    "ax[1].vlines(y.mean(), 0, 250, color='orange', label='Mean of y')\n",
    "plt.legend(loc='upper left')\n",
    "\n",
    "\n",
    "print(x.mean(), y.mean())"
   ]
  },
  {
   "cell_type": "code",
   "execution_count": null,
   "id": "aa9b15d2",
   "metadata": {},
   "outputs": [],
   "source": []
  },
  {
   "cell_type": "markdown",
   "id": "99596f6a",
   "metadata": {},
   "source": [
    "# If our groups have small variance (spread) then, even a small difference in mean is very assuring. On the other hand,  if our groups have large variance, then we need to have a larger difference between the groups means.\n",
    "\n",
    "\n",
    "On practice it means that other than computing the difference between $\\bar{A}$ and $\\bar{B}$ we need to normalize it by some value which must depend on the variance. In case of Student Test we will do it in a following way:\n",
    "\n",
    "$$\\frac{\\bar{A} - \\bar{B}}{\\sigma^2 / \\sqrt{n}}$$\n",
    "\n",
    "Let's go back to our example and compute Student T-test for A and B"
   ]
  },
  {
   "cell_type": "code",
   "execution_count": 7,
   "id": "a94c5fa2",
   "metadata": {},
   "outputs": [
    {
     "data": {
      "text/plain": [
       "Ttest_indResult(statistic=-2.3517207022629125, pvalue=0.020687695654331525)"
      ]
     },
     "execution_count": 7,
     "metadata": {},
     "output_type": "execute_result"
    }
   ],
   "source": [
    "ttest_ind(a_times, b_times)"
   ]
  },
  {
   "cell_type": "code",
   "execution_count": 8,
   "id": "0db39b59",
   "metadata": {},
   "outputs": [
    {
     "data": {
      "text/plain": [
       "Ttest_indResult(statistic=2.3517207022629125, pvalue=0.020687695654331525)"
      ]
     },
     "execution_count": 8,
     "metadata": {},
     "output_type": "execute_result"
    }
   ],
   "source": [
    "ttest_ind(b_times, a_times)"
   ]
  },
  {
   "cell_type": "markdown",
   "id": "99276534",
   "metadata": {},
   "source": [
    "# P-value is the probability of observing the differences between groups A and B, under the assumption that the null hypothesis is true (in case of t-test the null-hypothesis is  that there is no differences)\n",
    "\n",
    "\n",
    "Recall that there is still room for an error, in our case ~2%"
   ]
  },
  {
   "cell_type": "code",
   "execution_count": null,
   "id": "e3c42864",
   "metadata": {},
   "outputs": [],
   "source": []
  },
  {
   "cell_type": "code",
   "execution_count": null,
   "id": "8edde70c",
   "metadata": {},
   "outputs": [],
   "source": []
  },
  {
   "cell_type": "markdown",
   "id": "17df6783",
   "metadata": {},
   "source": [
    "# 2. Estimate `confidence interval` for some characteristic"
   ]
  },
  {
   "cell_type": "code",
   "execution_count": 19,
   "id": "f6ac3ed5",
   "metadata": {},
   "outputs": [],
   "source": [
    "random = np.random.RandomState(20)\n",
    "\n",
    "data = np.concatenate([random.normal(10, 4, 150),\n",
    "                      random.normal(25, 8, 150),\n",
    "                      random.normal(38, 8, 150),\n",
    "                      random.normal(50, 3, 150),])"
   ]
  },
  {
   "cell_type": "code",
   "execution_count": 20,
   "id": "e7641382",
   "metadata": {},
   "outputs": [],
   "source": [
    "def plot_hist_manual(data, bins=30, width=2):\n",
    "    heights, means = np.histogram(data, bins=bins)\n",
    "    plt.bar(means[:-1], heights, width=width);"
   ]
  },
  {
   "cell_type": "code",
   "execution_count": 21,
   "id": "f7167319",
   "metadata": {},
   "outputs": [
    {
     "data": {
      "image/png": "[encoded data removed]",
      "text/plain": [
       "<Figure size 432x288 with 1 Axes>"
      ]
     },
     "metadata": {
      "needs_background": "light"
     },
     "output_type": "display_data"
    }
   ],
   "source": [
    "plot_hist_manual(data, width=1.5)"
   ]
  },
  {
   "cell_type": "code",
   "execution_count": 22,
   "id": "f846d347",
   "metadata": {},
   "outputs": [
    {
     "data": {
      "text/plain": [
       "30.77027324989264"
      ]
     },
     "execution_count": 22,
     "metadata": {},
     "output_type": "execute_result"
    }
   ],
   "source": [
    "data.mean()"
   ]
  },
  {
   "cell_type": "code",
   "execution_count": 12,
   "id": "e9e9eeb6",
   "metadata": {
    "scrolled": true
   },
   "outputs": [
    {
     "name": "stdout",
     "output_type": "stream",
     "text": [
      "31.292360796132634\n",
      "31.352862082815506\n",
      "30.729812101914106\n",
      "30.596421642782293\n",
      "30.971928974333295\n",
      "31.058881738779863\n",
      "30.636938861782756\n",
      "30.57119573041473\n",
      "30.767988518550787\n",
      "30.89768502436793\n",
      "31.202922947436747\n",
      "31.000488614729328\n",
      "30.049948913732575\n",
      "30.288676308815024\n",
      "29.52105124140003\n",
      "30.627706170540286\n",
      "31.394424605835535\n",
      "31.133500690699538\n",
      "31.34830023943566\n",
      "30.18532844444193\n",
      "30.750632565816378\n",
      "30.760010795600415\n",
      "31.206906279717213\n",
      "30.856910939958503\n",
      "31.10863949876275\n",
      "30.485094039925606\n",
      "30.426205082209552\n",
      "31.34258721040858\n",
      "30.69798298613282\n",
      "30.700318617175753\n",
      "30.653370670968705\n",
      "29.919131505956152\n",
      "31.164768914359016\n",
      "30.218547952728823\n",
      "31.149286633821973\n",
      "31.275711247819746\n",
      "30.94998278817073\n",
      "30.89667300609844\n",
      "31.783953380654484\n",
      "30.567867703636324\n",
      "30.378095911402987\n",
      "30.57318243277492\n",
      "30.54443525791787\n",
      "30.655487869763537\n",
      "30.50706878741731\n",
      "30.644384642477945\n",
      "30.79838329167611\n",
      "31.286127903929952\n",
      "30.907684464382445\n",
      "30.617961907550956\n",
      "30.32533803575458\n",
      "30.568756458039854\n",
      "30.88909919943445\n",
      "31.068393121838934\n",
      "30.704552701648044\n",
      "30.9707004427326\n",
      "30.904628311747\n",
      "30.65797174102633\n",
      "31.19052010588005\n",
      "30.81898425708989\n",
      "30.870205024029804\n",
      "30.556206007655987\n",
      "30.661193981989246\n",
      "31.154053345162442\n",
      "29.711233496470847\n",
      "30.165498086764323\n",
      "31.386248388922496\n",
      "30.36591504340455\n",
      "31.11083037700877\n",
      "30.761751306538187\n",
      "30.655362660378973\n",
      "30.931626310340963\n",
      "30.90939300628913\n",
      "30.44080255085781\n",
      "31.124763366386173\n",
      "31.15956707904788\n",
      "30.633512640200752\n",
      "30.71780031694029\n",
      "30.905676886949124\n",
      "31.461443264619824\n",
      "31.188756346544686\n",
      "30.136347508861896\n",
      "30.88246916412721\n",
      "31.13325318122931\n",
      "29.749337400642233\n",
      "30.10748550120664\n",
      "31.24693688635325\n",
      "31.12864381628865\n",
      "30.378727912696615\n",
      "30.123191498645145\n",
      "30.79766515529367\n",
      "31.27852105517546\n",
      "30.70183296486881\n",
      "30.77602135441534\n",
      "30.570040883311798\n",
      "31.075200207812166\n",
      "30.54459805809768\n",
      "30.10569019430916\n",
      "30.098674196071205\n",
      "31.233829284214025\n"
     ]
    }
   ],
   "source": [
    "for i in range(100):\n",
    "    random = np.random.RandomState(i)\n",
    "\n",
    "    data = np.concatenate([random.normal(10, 4, 50),\n",
    "                      random.normal(25, 8, 50),\n",
    "                      random.normal(38, 8, 50),\n",
    "                      random.normal(50, 3, 50),])\n",
    "    print(data.mean())"
   ]
  },
  {
   "cell_type": "markdown",
   "id": "2e1d8bbe",
   "metadata": {},
   "source": [
    "# The above distribution is far from being Normal (Gaussian), but it turns out that the distribution of means will be (almost) Normal\n",
    "\n",
    "To build a confidence interval we will use method called `bootstrap`: \n",
    "1. Sample data with repetition\n",
    "2. Compute mean for each sample\n",
    "3. Build a distribution of means"
   ]
  },
  {
   "cell_type": "code",
   "execution_count": 15,
   "id": "0781c728",
   "metadata": {},
   "outputs": [],
   "source": [
    "def bootstrap(data, random_state=10):\n",
    "    random = np.random.RandomState(random_state)\n",
    "    n = data.shape[0]\n",
    "    idx = random.randint(0, n, n)\n",
    "    return data[idx]"
   ]
  },
  {
   "cell_type": "code",
   "execution_count": 16,
   "id": "1e41fbb9",
   "metadata": {},
   "outputs": [],
   "source": [
    "means = []\n",
    "\n",
    "for i in range(1000):\n",
    "    sample = bootstrap(data, i)\n",
    "    means.append(np.mean(sample))\n",
    "means = np.array(means)"
   ]
  },
  {
   "cell_type": "code",
   "execution_count": 18,
   "id": "f7142ad6",
   "metadata": {},
   "outputs": [
    {
     "data": {
      "image/png": "[encoded data removed]",
      "text/plain": [
       "<Figure size 432x288 with 1 Axes>"
      ]
     },
     "metadata": {
      "needs_background": "light"
     },
     "output_type": "display_data"
    }
   ],
   "source": [
    "# plt.hist(means, bins=30)\n",
    "\n",
    "# xx = random.normal(means.mean(), means.std(),1000)\n",
    "# plt.hist(xx, bins=30, alpha=0.5)\n",
    "\n",
    "plot_hist_manual(means, bins=30, width=0.2)"
   ]
  },
  {
   "cell_type": "code",
   "execution_count": 16,
   "id": "33e9d7f6",
   "metadata": {},
   "outputs": [],
   "source": [
    "from scipy.stats import normaltest "
   ]
  },
  {
   "cell_type": "code",
   "execution_count": 17,
   "id": "88890b2f",
   "metadata": {},
   "outputs": [
    {
     "data": {
      "text/plain": [
       "NormaltestResult(statistic=5.4605618546994865, pvalue=0.06520097035924684)"
      ]
     },
     "execution_count": 17,
     "metadata": {},
     "output_type": "execute_result"
    }
   ],
   "source": [
    "normaltest(means)"
   ]
  },
  {
   "cell_type": "code",
   "execution_count": 18,
   "id": "6c518452",
   "metadata": {},
   "outputs": [
    {
     "data": {
      "text/plain": [
       "28.95486657037387"
      ]
     },
     "execution_count": 18,
     "metadata": {},
     "output_type": "execute_result"
    }
   ],
   "source": [
    "np.quantile(means, 0.025)"
   ]
  },
  {
   "cell_type": "code",
   "execution_count": 19,
   "id": "e0a2cf13",
   "metadata": {},
   "outputs": [
    {
     "data": {
      "text/plain": [
       "33.21561698350431"
      ]
     },
     "execution_count": 19,
     "metadata": {},
     "output_type": "execute_result"
    }
   ],
   "source": [
    "np.quantile(means, 0.975)"
   ]
  },
  {
   "cell_type": "code",
   "execution_count": 20,
   "id": "ba85275c",
   "metadata": {},
   "outputs": [
    {
     "data": {
      "image/png": "[encoded data removed]",
      "text/plain": [
       "<Figure size 432x288 with 1 Axes>"
      ]
     },
     "metadata": {
      "needs_background": "light"
     },
     "output_type": "display_data"
    }
   ],
   "source": [
    "plot_hist_manual(means, bins=30, width=0.2)\n",
    "\n",
    "ax = plt.gca()\n",
    "ax.vlines(28.9, 0, 80, color='r', label='2.5%')\n",
    "ax.vlines(33.21, 0, 80, color='orange', label='97.5%')\n",
    "plt.legend();"
   ]
  },
  {
   "cell_type": "code",
   "execution_count": null,
   "id": "2ddb05c0",
   "metadata": {},
   "outputs": [],
   "source": []
  },
  {
   "cell_type": "code",
   "execution_count": null,
   "id": "8c3f1ef4",
   "metadata": {},
   "outputs": [],
   "source": []
  },
  {
   "cell_type": "code",
   "execution_count": null,
   "id": "c2c7f261",
   "metadata": {},
   "outputs": [],
   "source": []
  }
 ],
 "metadata": {
  "kernelspec": {
   "display_name": "Python 3",
   "language": "python",
   "name": "python3"
  },
  "language_info": {
   "codemirror_mode": {
    "name": "ipython",
    "version": 3
   },
   "file_extension": ".py",
   "mimetype": "text/x-python",
   "name": "python",
   "nbconvert_exporter": "python",
   "pygments_lexer": "ipython3",
   "version": "3.8.8"
  }
 },
 "nbformat": 4,
 "nbformat_minor": 5
}
