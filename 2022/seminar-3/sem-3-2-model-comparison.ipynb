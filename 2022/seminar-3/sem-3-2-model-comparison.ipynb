{
 "cells": [
  {
   "cell_type": "code",
   "execution_count": null,
   "id": "52f6ea9c",
   "metadata": {},
   "outputs": [],
   "source": [
    "import pandas as pd\n",
    "import numpy as np\n",
    "from sklearn.model_selection import cross_val_score, train_test_split\n",
    "from sklearn.preprocessing import StandardScaler\n",
    "from sklearn.neighbors import KNeighborsRegressor\n",
    "from sklearn.linear_model import LinearRegression\n",
    "from sklearn.tree import DecisionTreeRegressor\n",
    "from sklearn.ensemble import RandomForestRegressor\n",
    "from sklearn.metrics import mean_squared_error, r2_score\n",
    "\n",
    "import matplotlib.pyplot as plt"
   ]
  },
  {
   "cell_type": "code",
   "execution_count": null,
   "id": "590ea602",
   "metadata": {},
   "outputs": [],
   "source": [
    "df = pd.read_csv('advertising.csv')\n",
    "df.head(10)\n",
    "\n",
    "X = df.drop(['Sales'], axis=1)\n",
    "y = df['Sales']"
   ]
  },
  {
   "cell_type": "code",
   "execution_count": null,
   "id": "77f8c21a",
   "metadata": {},
   "outputs": [],
   "source": [
    "# Train-test split\n",
    "X_train, X_test, y_train, y_test = train_test_split(X, y,\n",
    "                                        train_size=0.5, random_state=71)"
   ]
  },
  {
   "cell_type": "code",
   "execution_count": null,
   "id": "0fbe5256",
   "metadata": {},
   "outputs": [],
   "source": [
    "# Scale data\n",
    "scaler = StandardScaler()\n",
    "scaler.fit(X_train)\n",
    "\n",
    "X_train_scaled = scaler.transform(X_train)\n",
    "X_test_scaled = scaler.transform(X_test)"
   ]
  },
  {
   "cell_type": "code",
   "execution_count": null,
   "id": "e21c94df",
   "metadata": {},
   "outputs": [],
   "source": [
    "models = {\n",
    "    'tree': DecisionTreeRegressor(max_depth=5),\n",
    "    'linear': LinearRegression(),\n",
    "    'random_forest': RandomForestRegressor(n_estimators=20, max_depth=10),\n",
    "    'knn': KNeighborsRegressor(n_neighbors=10)\n",
    "}"
   ]
  },
  {
   "cell_type": "markdown",
   "id": "fec70109",
   "metadata": {},
   "source": [
    "`R squared` - the closer to 1 the better\n",
    "\n",
    "`Mean squred error` - the closer to 0, the better "
   ]
  },
  {
   "cell_type": "code",
   "execution_count": null,
   "id": "7db7fc33",
   "metadata": {},
   "outputs": [],
   "source": [
    "prec = 3\n",
    "\n",
    "for model_name, model in models.items():\n",
    "    model.fit(X_train, y_train)\n",
    "    y_pred_train = model.predict(X_train)\n",
    "    y_pred_test = model.predict(X_test)\n",
    "    \n",
    "    print(f'Model: {model_name}')\n",
    "    print(f'Train r squared: {np.round(r2_score(y_train, y_pred_train), prec)}')\n",
    "    print(f'Test r squared: {np.round(r2_score(y_test, y_pred_test), prec)}')\n",
    "    print('-----')\n",
    "    \n",
    "    print(f'Train MSE: {np.round(mean_squared_error(y_train, y_pred_train), prec)}')\n",
    "    print(f'Test MSE: {np.round(mean_squared_error(y_test, y_pred_test), prec)}')\n",
    "    \n",
    "    print('=====\\n\\n')"
   ]
  },
  {
   "cell_type": "code",
   "execution_count": null,
   "id": "cdeb85e3",
   "metadata": {},
   "outputs": [],
   "source": []
  },
  {
   "cell_type": "markdown",
   "id": "b5d852d4",
   "metadata": {},
   "source": [
    "# Which models are affected by data scaling?"
   ]
  },
  {
   "cell_type": "code",
   "execution_count": null,
   "id": "dc18b6f5",
   "metadata": {},
   "outputs": [],
   "source": [
    "prec = 3\n",
    "\n",
    "for model_name, model in models.items():\n",
    "    model.fit(X_train_scaled, y_train)\n",
    "    y_pred_train = model.predict(X_train_scaled)\n",
    "    y_pred_test = model.predict(X_test_scaled)\n",
    "    \n",
    "    print(f'Model: {model_name}')\n",
    "    print(f'Train r squared: {np.round(r2_score(y_train, y_pred_train), prec)}')\n",
    "    print(f'Test r squared: {np.round(r2_score(y_test, y_pred_test), prec)}')\n",
    "    print('-----')\n",
    "    \n",
    "    print(f'Train MSE: {np.round(mean_squared_error(y_train, y_pred_train), prec)}')\n",
    "    print(f'Test MSE: {np.round(mean_squared_error(y_test, y_pred_test), prec)}')\n",
    "    \n",
    "    print('=====\\n\\n')"
   ]
  },
  {
   "cell_type": "code",
   "execution_count": null,
   "id": "2b78c27c",
   "metadata": {},
   "outputs": [],
   "source": []
  },
  {
   "cell_type": "markdown",
   "id": "dff0df5a",
   "metadata": {},
   "source": [
    "### How to interpret R^squared ?"
   ]
  },
  {
   "cell_type": "code",
   "execution_count": null,
   "id": "de7d0511",
   "metadata": {},
   "outputs": [],
   "source": [
    "from matplotlib.patches import Ellipse"
   ]
  },
  {
   "cell_type": "code",
   "execution_count": null,
   "id": "cc021d86",
   "metadata": {},
   "outputs": [],
   "source": [
    "model = KNeighborsRegressor(n_neighbors=10)\n",
    "model.fit(X_train, y_train)\n",
    "y_pred = model.predict(X_train)\n",
    "\n",
    "fig, ax = plt.subplots()\n",
    "\n",
    "ax.scatter(y_train, y_pred, s=10)\n",
    "ax.plot([4, 25], [4, 25], color='r')\n",
    "ax.set_xlabel('True Sales')\n",
    "ax.set_ylabel('Predicted Sales');\n",
    "ax.set_title(f'R squared: {np.round(r2_score(y_train, y_pred), 2)}')\n",
    "\n",
    "ax.text(15, 10, 'Sales underestimation area')\n",
    "ax.text(5, 20, 'Sales overstimation area');"
   ]
  },
  {
   "cell_type": "code",
   "execution_count": null,
   "id": "79ba70f9",
   "metadata": {},
   "outputs": [],
   "source": []
  }
 ],
 "metadata": {
  "kernelspec": {
   "display_name": "Python 3",
   "language": "python",
   "name": "python3"
  },
  "language_info": {
   "codemirror_mode": {
    "name": "ipython",
    "version": 3
   },
   "file_extension": ".py",
   "mimetype": "text/x-python",
   "name": "python",
   "nbconvert_exporter": "python",
   "pygments_lexer": "ipython3",
   "version": "3.8.8"
  }
 },
 "nbformat": 4,
 "nbformat_minor": 5
}
