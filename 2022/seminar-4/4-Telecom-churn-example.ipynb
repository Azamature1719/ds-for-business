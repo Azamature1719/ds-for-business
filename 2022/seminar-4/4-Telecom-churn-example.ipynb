{
 "cells": [
  {
   "cell_type": "markdown",
   "id": "750a8bd5",
   "metadata": {},
   "source": [
    "Data from `https://www.kaggle.com/code/bandiatindra/telecom-churn-prediction/data` with some marginal preprocessing"
   ]
  },
  {
   "cell_type": "code",
   "execution_count": 1,
   "id": "modern-shield",
   "metadata": {},
   "outputs": [],
   "source": [
    "import numpy as np \n",
    "import pandas as pd \n",
    "import seaborn as sns\n",
    "import matplotlib.pyplot as plt"
   ]
  },
  {
   "cell_type": "code",
   "execution_count": 44,
   "id": "molecular-people",
   "metadata": {},
   "outputs": [],
   "source": [
    "telecom_cust = pd.read_csv('telecom_churn.csv')"
   ]
  },
  {
   "cell_type": "code",
   "execution_count": 3,
   "id": "embedded-maximum",
   "metadata": {},
   "outputs": [
    {
     "data": {
      "text/html": [
       "<div>\n",
       "<style scoped>\n",
       "    .dataframe tbody tr th:only-of-type {\n",
       "        vertical-align: middle;\n",
       "    }\n",
       "\n",
       "    .dataframe tbody tr th {\n",
       "        vertical-align: top;\n",
       "    }\n",
       "\n",
       "    .dataframe thead th {\n",
       "        text-align: right;\n",
       "    }\n",
       "</style>\n",
       "<table border=\"1\" class=\"dataframe\">\n",
       "  <thead>\n",
       "    <tr style=\"text-align: right;\">\n",
       "      <th></th>\n",
       "      <th>customerID</th>\n",
       "      <th>gender</th>\n",
       "      <th>SeniorCitizen</th>\n",
       "      <th>Partner</th>\n",
       "      <th>Dependents</th>\n",
       "      <th>tenure</th>\n",
       "      <th>PhoneService</th>\n",
       "      <th>MultipleLines</th>\n",
       "      <th>InternetService</th>\n",
       "      <th>OnlineSecurity</th>\n",
       "      <th>...</th>\n",
       "      <th>DeviceProtection</th>\n",
       "      <th>TechSupport</th>\n",
       "      <th>StreamingTV</th>\n",
       "      <th>StreamingMovies</th>\n",
       "      <th>Contract</th>\n",
       "      <th>PaperlessBilling</th>\n",
       "      <th>PaymentMethod</th>\n",
       "      <th>MonthlyCharges</th>\n",
       "      <th>TotalCharges</th>\n",
       "      <th>Churn</th>\n",
       "    </tr>\n",
       "  </thead>\n",
       "  <tbody>\n",
       "    <tr>\n",
       "      <th>0</th>\n",
       "      <td>7590-VHVEG</td>\n",
       "      <td>Female</td>\n",
       "      <td>0</td>\n",
       "      <td>Yes</td>\n",
       "      <td>No</td>\n",
       "      <td>1</td>\n",
       "      <td>No</td>\n",
       "      <td>No phone service</td>\n",
       "      <td>DSL</td>\n",
       "      <td>No</td>\n",
       "      <td>...</td>\n",
       "      <td>No</td>\n",
       "      <td>No</td>\n",
       "      <td>No</td>\n",
       "      <td>No</td>\n",
       "      <td>Month-to-month</td>\n",
       "      <td>Yes</td>\n",
       "      <td>Electronic check</td>\n",
       "      <td>29.85</td>\n",
       "      <td>29.85</td>\n",
       "      <td>No</td>\n",
       "    </tr>\n",
       "    <tr>\n",
       "      <th>1</th>\n",
       "      <td>5575-GNVDE</td>\n",
       "      <td>Male</td>\n",
       "      <td>0</td>\n",
       "      <td>No</td>\n",
       "      <td>No</td>\n",
       "      <td>34</td>\n",
       "      <td>Yes</td>\n",
       "      <td>No</td>\n",
       "      <td>DSL</td>\n",
       "      <td>Yes</td>\n",
       "      <td>...</td>\n",
       "      <td>Yes</td>\n",
       "      <td>No</td>\n",
       "      <td>No</td>\n",
       "      <td>No</td>\n",
       "      <td>One year</td>\n",
       "      <td>No</td>\n",
       "      <td>Mailed check</td>\n",
       "      <td>56.95</td>\n",
       "      <td>1889.5</td>\n",
       "      <td>No</td>\n",
       "    </tr>\n",
       "    <tr>\n",
       "      <th>2</th>\n",
       "      <td>3668-QPYBK</td>\n",
       "      <td>Male</td>\n",
       "      <td>0</td>\n",
       "      <td>No</td>\n",
       "      <td>No</td>\n",
       "      <td>2</td>\n",
       "      <td>Yes</td>\n",
       "      <td>No</td>\n",
       "      <td>DSL</td>\n",
       "      <td>Yes</td>\n",
       "      <td>...</td>\n",
       "      <td>No</td>\n",
       "      <td>No</td>\n",
       "      <td>No</td>\n",
       "      <td>No</td>\n",
       "      <td>Month-to-month</td>\n",
       "      <td>Yes</td>\n",
       "      <td>Mailed check</td>\n",
       "      <td>53.85</td>\n",
       "      <td>108.15</td>\n",
       "      <td>Yes</td>\n",
       "    </tr>\n",
       "    <tr>\n",
       "      <th>3</th>\n",
       "      <td>7795-CFOCW</td>\n",
       "      <td>Male</td>\n",
       "      <td>0</td>\n",
       "      <td>No</td>\n",
       "      <td>No</td>\n",
       "      <td>45</td>\n",
       "      <td>No</td>\n",
       "      <td>No phone service</td>\n",
       "      <td>DSL</td>\n",
       "      <td>Yes</td>\n",
       "      <td>...</td>\n",
       "      <td>Yes</td>\n",
       "      <td>Yes</td>\n",
       "      <td>No</td>\n",
       "      <td>No</td>\n",
       "      <td>One year</td>\n",
       "      <td>No</td>\n",
       "      <td>Bank transfer (automatic)</td>\n",
       "      <td>42.30</td>\n",
       "      <td>1840.75</td>\n",
       "      <td>No</td>\n",
       "    </tr>\n",
       "    <tr>\n",
       "      <th>4</th>\n",
       "      <td>9237-HQITU</td>\n",
       "      <td>Female</td>\n",
       "      <td>0</td>\n",
       "      <td>No</td>\n",
       "      <td>No</td>\n",
       "      <td>2</td>\n",
       "      <td>Yes</td>\n",
       "      <td>No</td>\n",
       "      <td>Fiber optic</td>\n",
       "      <td>No</td>\n",
       "      <td>...</td>\n",
       "      <td>No</td>\n",
       "      <td>No</td>\n",
       "      <td>No</td>\n",
       "      <td>No</td>\n",
       "      <td>Month-to-month</td>\n",
       "      <td>Yes</td>\n",
       "      <td>Electronic check</td>\n",
       "      <td>70.70</td>\n",
       "      <td>151.65</td>\n",
       "      <td>Yes</td>\n",
       "    </tr>\n",
       "  </tbody>\n",
       "</table>\n",
       "<p>5 rows × 21 columns</p>\n",
       "</div>"
      ],
      "text/plain": [
       "   customerID  gender  SeniorCitizen Partner Dependents  tenure PhoneService  \\\n",
       "0  7590-VHVEG  Female              0     Yes         No       1           No   \n",
       "1  5575-GNVDE    Male              0      No         No      34          Yes   \n",
       "2  3668-QPYBK    Male              0      No         No       2          Yes   \n",
       "3  7795-CFOCW    Male              0      No         No      45           No   \n",
       "4  9237-HQITU  Female              0      No         No       2          Yes   \n",
       "\n",
       "      MultipleLines InternetService OnlineSecurity  ... DeviceProtection  \\\n",
       "0  No phone service             DSL             No  ...               No   \n",
       "1                No             DSL            Yes  ...              Yes   \n",
       "2                No             DSL            Yes  ...               No   \n",
       "3  No phone service             DSL            Yes  ...              Yes   \n",
       "4                No     Fiber optic             No  ...               No   \n",
       "\n",
       "  TechSupport StreamingTV StreamingMovies        Contract PaperlessBilling  \\\n",
       "0          No          No              No  Month-to-month              Yes   \n",
       "1          No          No              No        One year               No   \n",
       "2          No          No              No  Month-to-month              Yes   \n",
       "3         Yes          No              No        One year               No   \n",
       "4          No          No              No  Month-to-month              Yes   \n",
       "\n",
       "               PaymentMethod MonthlyCharges  TotalCharges Churn  \n",
       "0           Electronic check          29.85         29.85    No  \n",
       "1               Mailed check          56.95        1889.5    No  \n",
       "2               Mailed check          53.85        108.15   Yes  \n",
       "3  Bank transfer (automatic)          42.30       1840.75    No  \n",
       "4           Electronic check          70.70        151.65   Yes  \n",
       "\n",
       "[5 rows x 21 columns]"
      ]
     },
     "execution_count": 3,
     "metadata": {},
     "output_type": "execute_result"
    }
   ],
   "source": [
    "telecom_cust.head()"
   ]
  },
  {
   "cell_type": "code",
   "execution_count": 4,
   "id": "responsible-panic",
   "metadata": {},
   "outputs": [
    {
     "data": {
      "text/plain": [
       "array(['customerID', 'gender', 'SeniorCitizen', 'Partner', 'Dependents',\n",
       "       'tenure', 'PhoneService', 'MultipleLines', 'InternetService',\n",
       "       'OnlineSecurity', 'OnlineBackup', 'DeviceProtection',\n",
       "       'TechSupport', 'StreamingTV', 'StreamingMovies', 'Contract',\n",
       "       'PaperlessBilling', 'PaymentMethod', 'MonthlyCharges',\n",
       "       'TotalCharges', 'Churn'], dtype=object)"
      ]
     },
     "execution_count": 4,
     "metadata": {},
     "output_type": "execute_result"
    }
   ],
   "source": [
    "telecom_cust.columns.values"
   ]
  },
  {
   "cell_type": "code",
   "execution_count": 5,
   "id": "contemporary-result",
   "metadata": {},
   "outputs": [
    {
     "data": {
      "text/plain": [
       "SeniorCitizen         int64\n",
       "tenure                int64\n",
       "MonthlyCharges      float64\n",
       "customerID           object\n",
       "PaymentMethod        object\n",
       "PaperlessBilling     object\n",
       "Contract             object\n",
       "StreamingMovies      object\n",
       "StreamingTV          object\n",
       "TechSupport          object\n",
       "DeviceProtection     object\n",
       "OnlineBackup         object\n",
       "OnlineSecurity       object\n",
       "InternetService      object\n",
       "MultipleLines        object\n",
       "PhoneService         object\n",
       "Dependents           object\n",
       "Partner              object\n",
       "gender               object\n",
       "TotalCharges         object\n",
       "Churn                object\n",
       "dtype: object"
      ]
     },
     "execution_count": 5,
     "metadata": {},
     "output_type": "execute_result"
    }
   ],
   "source": [
    "telecom_cust.dtypes.sort_values()"
   ]
  },
  {
   "cell_type": "code",
   "execution_count": 47,
   "id": "paperback-engineering",
   "metadata": {},
   "outputs": [
    {
     "data": {
      "text/plain": [
       "customerID          0\n",
       "gender              0\n",
       "SeniorCitizen       0\n",
       "Partner             0\n",
       "Dependents          0\n",
       "tenure              0\n",
       "PhoneService        0\n",
       "MultipleLines       0\n",
       "InternetService     0\n",
       "OnlineSecurity      0\n",
       "OnlineBackup        0\n",
       "DeviceProtection    0\n",
       "TechSupport         0\n",
       "StreamingTV         0\n",
       "StreamingMovies     0\n",
       "Contract            0\n",
       "PaperlessBilling    0\n",
       "PaymentMethod       0\n",
       "MonthlyCharges      0\n",
       "TotalCharges        0\n",
       "Churn               0\n",
       "dtype: int64"
      ]
     },
     "execution_count": 47,
     "metadata": {},
     "output_type": "execute_result"
    }
   ],
   "source": [
    "telecom_cust.TotalCharges = pd.to_numeric(telecom_cust.TotalCharges, errors='coerce')\n",
    "telecom_cust.isnull().sum()"
   ]
  },
  {
   "cell_type": "code",
   "execution_count": 46,
   "id": "b1b06a05",
   "metadata": {},
   "outputs": [],
   "source": [
    "telecom_cust.dropna(inplace=True)"
   ]
  },
  {
   "cell_type": "code",
   "execution_count": 48,
   "id": "397d88f3",
   "metadata": {},
   "outputs": [
    {
     "data": {
      "text/plain": [
       "customerID           object\n",
       "gender               object\n",
       "SeniorCitizen         int64\n",
       "Partner              object\n",
       "Dependents           object\n",
       "tenure                int64\n",
       "PhoneService         object\n",
       "MultipleLines        object\n",
       "InternetService      object\n",
       "OnlineSecurity       object\n",
       "OnlineBackup         object\n",
       "DeviceProtection     object\n",
       "TechSupport          object\n",
       "StreamingTV          object\n",
       "StreamingMovies      object\n",
       "Contract             object\n",
       "PaperlessBilling     object\n",
       "PaymentMethod        object\n",
       "MonthlyCharges      float64\n",
       "TotalCharges        float64\n",
       "Churn                object\n",
       "dtype: object"
      ]
     },
     "execution_count": 48,
     "metadata": {},
     "output_type": "execute_result"
    }
   ],
   "source": [
    "telecom_cust.dtypes"
   ]
  },
  {
   "cell_type": "code",
   "execution_count": 49,
   "id": "c13a47c1",
   "metadata": {},
   "outputs": [
    {
     "data": {
      "text/plain": [
       "No     5163\n",
       "Yes    1869\n",
       "Name: Churn, dtype: int64"
      ]
     },
     "execution_count": 49,
     "metadata": {},
     "output_type": "execute_result"
    }
   ],
   "source": [
    "telecom_cust.Churn.value_counts()"
   ]
  },
  {
   "cell_type": "code",
   "execution_count": 50,
   "id": "durable-radar",
   "metadata": {},
   "outputs": [
    {
     "data": {
      "text/html": [
       "<div>\n",
       "<style scoped>\n",
       "    .dataframe tbody tr th:only-of-type {\n",
       "        vertical-align: middle;\n",
       "    }\n",
       "\n",
       "    .dataframe tbody tr th {\n",
       "        vertical-align: top;\n",
       "    }\n",
       "\n",
       "    .dataframe thead th {\n",
       "        text-align: right;\n",
       "    }\n",
       "</style>\n",
       "<table border=\"1\" class=\"dataframe\">\n",
       "  <thead>\n",
       "    <tr style=\"text-align: right;\">\n",
       "      <th></th>\n",
       "      <th>SeniorCitizen</th>\n",
       "      <th>tenure</th>\n",
       "      <th>MonthlyCharges</th>\n",
       "      <th>TotalCharges</th>\n",
       "      <th>Churn</th>\n",
       "      <th>gender_Female</th>\n",
       "      <th>gender_Male</th>\n",
       "      <th>Partner_No</th>\n",
       "      <th>Partner_Yes</th>\n",
       "      <th>Dependents_No</th>\n",
       "      <th>...</th>\n",
       "      <th>StreamingMovies_Yes</th>\n",
       "      <th>Contract_Month-to-month</th>\n",
       "      <th>Contract_One year</th>\n",
       "      <th>Contract_Two year</th>\n",
       "      <th>PaperlessBilling_No</th>\n",
       "      <th>PaperlessBilling_Yes</th>\n",
       "      <th>PaymentMethod_Bank transfer (automatic)</th>\n",
       "      <th>PaymentMethod_Credit card (automatic)</th>\n",
       "      <th>PaymentMethod_Electronic check</th>\n",
       "      <th>PaymentMethod_Mailed check</th>\n",
       "    </tr>\n",
       "  </thead>\n",
       "  <tbody>\n",
       "    <tr>\n",
       "      <th>0</th>\n",
       "      <td>0</td>\n",
       "      <td>1</td>\n",
       "      <td>29.85</td>\n",
       "      <td>29.85</td>\n",
       "      <td>0</td>\n",
       "      <td>1</td>\n",
       "      <td>0</td>\n",
       "      <td>0</td>\n",
       "      <td>1</td>\n",
       "      <td>1</td>\n",
       "      <td>...</td>\n",
       "      <td>0</td>\n",
       "      <td>1</td>\n",
       "      <td>0</td>\n",
       "      <td>0</td>\n",
       "      <td>0</td>\n",
       "      <td>1</td>\n",
       "      <td>0</td>\n",
       "      <td>0</td>\n",
       "      <td>1</td>\n",
       "      <td>0</td>\n",
       "    </tr>\n",
       "    <tr>\n",
       "      <th>1</th>\n",
       "      <td>0</td>\n",
       "      <td>34</td>\n",
       "      <td>56.95</td>\n",
       "      <td>1889.50</td>\n",
       "      <td>0</td>\n",
       "      <td>0</td>\n",
       "      <td>1</td>\n",
       "      <td>1</td>\n",
       "      <td>0</td>\n",
       "      <td>1</td>\n",
       "      <td>...</td>\n",
       "      <td>0</td>\n",
       "      <td>0</td>\n",
       "      <td>1</td>\n",
       "      <td>0</td>\n",
       "      <td>1</td>\n",
       "      <td>0</td>\n",
       "      <td>0</td>\n",
       "      <td>0</td>\n",
       "      <td>0</td>\n",
       "      <td>1</td>\n",
       "    </tr>\n",
       "    <tr>\n",
       "      <th>2</th>\n",
       "      <td>0</td>\n",
       "      <td>2</td>\n",
       "      <td>53.85</td>\n",
       "      <td>108.15</td>\n",
       "      <td>1</td>\n",
       "      <td>0</td>\n",
       "      <td>1</td>\n",
       "      <td>1</td>\n",
       "      <td>0</td>\n",
       "      <td>1</td>\n",
       "      <td>...</td>\n",
       "      <td>0</td>\n",
       "      <td>1</td>\n",
       "      <td>0</td>\n",
       "      <td>0</td>\n",
       "      <td>0</td>\n",
       "      <td>1</td>\n",
       "      <td>0</td>\n",
       "      <td>0</td>\n",
       "      <td>0</td>\n",
       "      <td>1</td>\n",
       "    </tr>\n",
       "    <tr>\n",
       "      <th>3</th>\n",
       "      <td>0</td>\n",
       "      <td>45</td>\n",
       "      <td>42.30</td>\n",
       "      <td>1840.75</td>\n",
       "      <td>0</td>\n",
       "      <td>0</td>\n",
       "      <td>1</td>\n",
       "      <td>1</td>\n",
       "      <td>0</td>\n",
       "      <td>1</td>\n",
       "      <td>...</td>\n",
       "      <td>0</td>\n",
       "      <td>0</td>\n",
       "      <td>1</td>\n",
       "      <td>0</td>\n",
       "      <td>1</td>\n",
       "      <td>0</td>\n",
       "      <td>1</td>\n",
       "      <td>0</td>\n",
       "      <td>0</td>\n",
       "      <td>0</td>\n",
       "    </tr>\n",
       "    <tr>\n",
       "      <th>4</th>\n",
       "      <td>0</td>\n",
       "      <td>2</td>\n",
       "      <td>70.70</td>\n",
       "      <td>151.65</td>\n",
       "      <td>1</td>\n",
       "      <td>1</td>\n",
       "      <td>0</td>\n",
       "      <td>1</td>\n",
       "      <td>0</td>\n",
       "      <td>1</td>\n",
       "      <td>...</td>\n",
       "      <td>0</td>\n",
       "      <td>1</td>\n",
       "      <td>0</td>\n",
       "      <td>0</td>\n",
       "      <td>0</td>\n",
       "      <td>1</td>\n",
       "      <td>0</td>\n",
       "      <td>0</td>\n",
       "      <td>1</td>\n",
       "      <td>0</td>\n",
       "    </tr>\n",
       "  </tbody>\n",
       "</table>\n",
       "<p>5 rows × 46 columns</p>\n",
       "</div>"
      ],
      "text/plain": [
       "   SeniorCitizen  tenure  MonthlyCharges  TotalCharges  Churn  gender_Female  \\\n",
       "0              0       1           29.85         29.85      0              1   \n",
       "1              0      34           56.95       1889.50      0              0   \n",
       "2              0       2           53.85        108.15      1              0   \n",
       "3              0      45           42.30       1840.75      0              0   \n",
       "4              0       2           70.70        151.65      1              1   \n",
       "\n",
       "   gender_Male  Partner_No  Partner_Yes  Dependents_No  ...  \\\n",
       "0            0           0            1              1  ...   \n",
       "1            1           1            0              1  ...   \n",
       "2            1           1            0              1  ...   \n",
       "3            1           1            0              1  ...   \n",
       "4            0           1            0              1  ...   \n",
       "\n",
       "   StreamingMovies_Yes  Contract_Month-to-month  Contract_One year  \\\n",
       "0                    0                        1                  0   \n",
       "1                    0                        0                  1   \n",
       "2                    0                        1                  0   \n",
       "3                    0                        0                  1   \n",
       "4                    0                        1                  0   \n",
       "\n",
       "   Contract_Two year  PaperlessBilling_No  PaperlessBilling_Yes  \\\n",
       "0                  0                    0                     1   \n",
       "1                  0                    1                     0   \n",
       "2                  0                    0                     1   \n",
       "3                  0                    1                     0   \n",
       "4                  0                    0                     1   \n",
       "\n",
       "   PaymentMethod_Bank transfer (automatic)  \\\n",
       "0                                        0   \n",
       "1                                        0   \n",
       "2                                        0   \n",
       "3                                        1   \n",
       "4                                        0   \n",
       "\n",
       "   PaymentMethod_Credit card (automatic)  PaymentMethod_Electronic check  \\\n",
       "0                                      0                               1   \n",
       "1                                      0                               0   \n",
       "2                                      0                               0   \n",
       "3                                      0                               0   \n",
       "4                                      0                               1   \n",
       "\n",
       "   PaymentMethod_Mailed check  \n",
       "0                           0  \n",
       "1                           1  \n",
       "2                           1  \n",
       "3                           0  \n",
       "4                           0  \n",
       "\n",
       "[5 rows x 46 columns]"
      ]
     },
     "execution_count": 50,
     "metadata": {},
     "output_type": "execute_result"
    }
   ],
   "source": [
    "# Convert the predictor variable in a binary numeric variable\n",
    "telecom_cust['Churn'].replace(to_replace='Yes', value=1, inplace=True)\n",
    "telecom_cust['Churn'].replace(to_replace='No',  value=0, inplace=True)\n",
    "\n",
    "# Let's convert all the categorical variables into dummy variables\n",
    "df_dummies = pd.get_dummies(telecom_cust.drop('customerID', axis=1))\n",
    "df_dummies.head()"
   ]
  },
  {
   "cell_type": "code",
   "execution_count": 9,
   "id": "streaming-triple",
   "metadata": {},
   "outputs": [
    {
     "data": {
      "text/plain": [
       "<AxesSubplot:>"
      ]
     },
     "execution_count": 9,
     "metadata": {},
     "output_type": "execute_result"
    },
    {
     "data": {
      "image/png": "[encoded data removed]",
      "text/plain": [
       "<Figure size 1080x576 with 1 Axes>"
      ]
     },
     "metadata": {
      "needs_background": "light"
     },
     "output_type": "display_data"
    }
   ],
   "source": [
    "# Plot `Churn` correlation with features\n",
    "\n",
    "plt.figure(figsize=(15,8))\n",
    "df_dummies.corr()['Churn'].sort_values(ascending = False).plot(kind='bar')"
   ]
  },
  {
   "cell_type": "code",
   "execution_count": 10,
   "id": "43f9ded8",
   "metadata": {},
   "outputs": [
    {
     "data": {
      "text/plain": [
       "Churn                                      1.000000\n",
       "Contract_Month-to-month                    0.405103\n",
       "OnlineSecurity_No                          0.342637\n",
       "TechSupport_No                             0.337281\n",
       "InternetService_Fiber optic                0.308020\n",
       "PaymentMethod_Electronic check             0.301919\n",
       "OnlineBackup_No                            0.268005\n",
       "DeviceProtection_No                        0.252481\n",
       "MonthlyCharges                             0.193356\n",
       "PaperlessBilling_Yes                       0.191825\n",
       "Dependents_No                              0.164221\n",
       "SeniorCitizen                              0.150889\n",
       "Partner_No                                 0.150448\n",
       "StreamingMovies_No                         0.130845\n",
       "StreamingTV_No                             0.128916\n",
       "StreamingTV_Yes                            0.063228\n",
       "StreamingMovies_Yes                        0.061382\n",
       "MultipleLines_Yes                          0.040102\n",
       "PhoneService_Yes                           0.011942\n",
       "gender_Female                              0.008612\n",
       "gender_Male                               -0.008612\n",
       "MultipleLines_No phone service            -0.011942\n",
       "PhoneService_No                           -0.011942\n",
       "MultipleLines_No                          -0.032569\n",
       "DeviceProtection_Yes                      -0.066160\n",
       "OnlineBackup_Yes                          -0.082255\n",
       "PaymentMethod_Mailed check                -0.091683\n",
       "PaymentMethod_Bank transfer (automatic)   -0.117937\n",
       "InternetService_DSL                       -0.124214\n",
       "PaymentMethod_Credit card (automatic)     -0.134302\n",
       "Partner_Yes                               -0.150448\n",
       "Dependents_Yes                            -0.164221\n",
       "TechSupport_Yes                           -0.164674\n",
       "OnlineSecurity_Yes                        -0.171226\n",
       "Contract_One year                         -0.177820\n",
       "PaperlessBilling_No                       -0.191825\n",
       "TotalCharges                              -0.199484\n",
       "DeviceProtection_No internet service      -0.227890\n",
       "StreamingMovies_No internet service       -0.227890\n",
       "InternetService_No                        -0.227890\n",
       "OnlineSecurity_No internet service        -0.227890\n",
       "StreamingTV_No internet service           -0.227890\n",
       "TechSupport_No internet service           -0.227890\n",
       "OnlineBackup_No internet service          -0.227890\n",
       "Contract_Two year                         -0.302253\n",
       "tenure                                    -0.352229\n",
       "Name: Churn, dtype: float64"
      ]
     },
     "execution_count": 10,
     "metadata": {},
     "output_type": "execute_result"
    }
   ],
   "source": [
    "df_dummies.corr()['Churn'].sort_values(ascending = False)"
   ]
  },
  {
   "cell_type": "markdown",
   "id": "fiscal-batman",
   "metadata": {},
   "source": [
    "### `Monthly contracts`, an `absense of online security` and `technical support` positively affect Churn. In \n",
    "\n",
    "### contrast, being a `tenure` customer, having a `2-years contract` and `not having an internet service` negatively\n",
    "\n",
    "### affect Churn."
   ]
  },
  {
   "cell_type": "markdown",
   "id": "foster-hollywood",
   "metadata": {},
   "source": [
    "# Quick EDA\n",
    "\n",
    "## 1. Demography\n",
    "\n",
    "\n",
    "### Females, Males are 50-50"
   ]
  },
  {
   "cell_type": "code",
   "execution_count": 11,
   "id": "spoken-universe",
   "metadata": {},
   "outputs": [
    {
     "data": {
      "image/png": "[encoded data removed]",
      "text/plain": [
       "<Figure size 432x288 with 1 Axes>"
      ]
     },
     "metadata": {
      "needs_background": "light"
     },
     "output_type": "display_data"
    }
   ],
   "source": [
    "colors = ['#4D3425','#E4512B']\n",
    "ax = (telecom_cust['gender'].value_counts()*100.0 /len(telecom_cust)).plot(kind='bar',\n",
    "                                                                           stacked = True,\n",
    "                                                                          rot = 0,\n",
    "                                                                          color = colors)\n",
    "# ax.yaxis.set_major_formatter(mtick.PercentFormatter())\n",
    "ax.set_ylabel('% Customers')\n",
    "ax.set_xlabel('Gender')\n",
    "ax.set_ylabel('% Customers')\n",
    "ax.set_title('Gender Distribution')\n",
    "\n",
    "# create a list to collect the plt.patches data\n",
    "totals = []\n",
    "\n",
    "# find the values and append to list\n",
    "for i in ax.patches:\n",
    "    totals.append(i.get_width())\n",
    "\n",
    "# set individual bar lables using above list\n",
    "total = sum(totals)\n",
    "\n",
    "for i in ax.patches:\n",
    "    # get_width pulls left or right; get_y pushes up or down\n",
    "    ax.text(i.get_x()+.15, i.get_height()-3.5, \\\n",
    "            str(round((i.get_height()/total), 1))+'%',\n",
    "            fontsize=12,\n",
    "            color='white',\n",
    "           weight = 'bold')"
   ]
  },
  {
   "cell_type": "markdown",
   "id": "1fb154f1",
   "metadata": {},
   "source": [
    "### On average Female customers spend 1 more dollar on service (per month), there is no difference in median spendings though"
   ]
  },
  {
   "cell_type": "code",
   "execution_count": 12,
   "id": "fe03d438",
   "metadata": {},
   "outputs": [
    {
     "data": {
      "text/html": [
       "<div>\n",
       "<style scoped>\n",
       "    .dataframe tbody tr th:only-of-type {\n",
       "        vertical-align: middle;\n",
       "    }\n",
       "\n",
       "    .dataframe tbody tr th {\n",
       "        vertical-align: top;\n",
       "    }\n",
       "\n",
       "    .dataframe thead th {\n",
       "        text-align: right;\n",
       "    }\n",
       "</style>\n",
       "<table border=\"1\" class=\"dataframe\">\n",
       "  <thead>\n",
       "    <tr style=\"text-align: right;\">\n",
       "      <th></th>\n",
       "      <th>mean</th>\n",
       "      <th>max</th>\n",
       "      <th>median</th>\n",
       "    </tr>\n",
       "    <tr>\n",
       "      <th>gender</th>\n",
       "      <th></th>\n",
       "      <th></th>\n",
       "      <th></th>\n",
       "    </tr>\n",
       "  </thead>\n",
       "  <tbody>\n",
       "    <tr>\n",
       "      <th>Female</th>\n",
       "      <td>65.204243</td>\n",
       "      <td>118.75</td>\n",
       "      <td>70.65</td>\n",
       "    </tr>\n",
       "    <tr>\n",
       "      <th>Male</th>\n",
       "      <td>64.327482</td>\n",
       "      <td>118.35</td>\n",
       "      <td>70.10</td>\n",
       "    </tr>\n",
       "  </tbody>\n",
       "</table>\n",
       "</div>"
      ],
      "text/plain": [
       "             mean     max  median\n",
       "gender                           \n",
       "Female  65.204243  118.75   70.65\n",
       "Male    64.327482  118.35   70.10"
      ]
     },
     "execution_count": 12,
     "metadata": {},
     "output_type": "execute_result"
    }
   ],
   "source": [
    "telecom_cust.groupby('gender')['MonthlyCharges'].agg(['mean', 'max'])"
   ]
  },
  {
   "cell_type": "markdown",
   "id": "still-speed",
   "metadata": {},
   "source": [
    "### There are only 16% of seniors"
   ]
  },
  {
   "cell_type": "code",
   "execution_count": 13,
   "id": "computational-generation",
   "metadata": {},
   "outputs": [
    {
     "data": {
      "image/png": "[encoded data removed]",
      "text/plain": [
       "<Figure size 360x360 with 1 Axes>"
      ]
     },
     "metadata": {},
     "output_type": "display_data"
    }
   ],
   "source": [
    "ax = (telecom_cust['SeniorCitizen'].value_counts()*100.0 /len(telecom_cust))\\\n",
    ".plot.pie(autopct='%.1f%%', labels = ['No', 'Yes'],figsize =(5,5), fontsize = 12 )\n",
    "ax.set_ylabel('Senior Citizens',fontsize = 12)\n",
    "ax.set_title('% of Senior Citizens', fontsize = 12);"
   ]
  },
  {
   "cell_type": "markdown",
   "id": "36943a09",
   "metadata": {},
   "source": [
    "### Senior Citizens spends significantly more money on services (why?)"
   ]
  },
  {
   "cell_type": "code",
   "execution_count": 14,
   "id": "96a21b3a",
   "metadata": {},
   "outputs": [
    {
     "data": {
      "text/html": [
       "<div>\n",
       "<style scoped>\n",
       "    .dataframe tbody tr th:only-of-type {\n",
       "        vertical-align: middle;\n",
       "    }\n",
       "\n",
       "    .dataframe tbody tr th {\n",
       "        vertical-align: top;\n",
       "    }\n",
       "\n",
       "    .dataframe thead th {\n",
       "        text-align: right;\n",
       "    }\n",
       "</style>\n",
       "<table border=\"1\" class=\"dataframe\">\n",
       "  <thead>\n",
       "    <tr style=\"text-align: right;\">\n",
       "      <th></th>\n",
       "      <th>mean</th>\n",
       "      <th>max</th>\n",
       "      <th>median</th>\n",
       "    </tr>\n",
       "    <tr>\n",
       "      <th>SeniorCitizen</th>\n",
       "      <th></th>\n",
       "      <th></th>\n",
       "      <th></th>\n",
       "    </tr>\n",
       "  </thead>\n",
       "  <tbody>\n",
       "    <tr>\n",
       "      <th>0</th>\n",
       "      <td>61.847441</td>\n",
       "      <td>118.75</td>\n",
       "      <td>65.80</td>\n",
       "    </tr>\n",
       "    <tr>\n",
       "      <th>1</th>\n",
       "      <td>79.820359</td>\n",
       "      <td>117.45</td>\n",
       "      <td>84.85</td>\n",
       "    </tr>\n",
       "  </tbody>\n",
       "</table>\n",
       "</div>"
      ],
      "text/plain": [
       "                    mean     max  median\n",
       "SeniorCitizen                           \n",
       "0              61.847441  118.75   65.80\n",
       "1              79.820359  117.45   84.85"
      ]
     },
     "execution_count": 14,
     "metadata": {},
     "output_type": "execute_result"
    }
   ],
   "source": [
    "telecom_cust.groupby('SeniorCitizen')['MonthlyCharges'].agg(['mean', 'max', 'median'])"
   ]
  },
  {
   "cell_type": "markdown",
   "id": "silent-determination",
   "metadata": {},
   "source": [
    "### 50% of customers have a partner, 30% of customers have a dependent"
   ]
  },
  {
   "cell_type": "code",
   "execution_count": 15,
   "id": "french-watch",
   "metadata": {},
   "outputs": [
    {
     "data": {
      "image/png": "[encoded data removed]",
      "text/plain": [
       "<Figure size 576x432 with 1 Axes>"
      ]
     },
     "metadata": {
      "needs_background": "light"
     },
     "output_type": "display_data"
    }
   ],
   "source": [
    "df2 = pd.melt(telecom_cust, id_vars=['customerID'], value_vars=['Dependents','Partner'])\n",
    "df3 = df2.groupby(['variable','value']).count().unstack()\n",
    "df3 = df3*100/len(telecom_cust)\n",
    "colors = ['#4D3425','#E4512B']\n",
    "ax = df3.loc[:,'customerID'].plot.bar(stacked=True, color=colors,\n",
    "                                      figsize=(8,6),rot = 0,\n",
    "                                     width = 0.2)\n",
    "\n",
    "ax.set_ylabel('% Customers',size = 14)\n",
    "ax.set_xlabel('')\n",
    "ax.set_title('% Customers with dependents and partners',size = 14)\n",
    "ax.legend(loc = 'center',prop={'size':14})\n",
    "\n",
    "for p in ax.patches:\n",
    "    width, height = p.get_width(), p.get_height()\n",
    "    x, y = p.get_xy() \n",
    "    ax.annotate('{:.0f}%'.format(height), (p.get_x()+.25*width, p.get_y()+.4*height),\n",
    "                color = 'white',\n",
    "               weight = 'bold',\n",
    "               size = 14)\n"
   ]
  },
  {
   "cell_type": "markdown",
   "id": "c5033e5e",
   "metadata": {},
   "source": [
    "### Customers with partners spend more compared to customers without partners"
   ]
  },
  {
   "cell_type": "code",
   "execution_count": 16,
   "id": "24e8a831",
   "metadata": {},
   "outputs": [
    {
     "data": {
      "text/html": [
       "<div>\n",
       "<style scoped>\n",
       "    .dataframe tbody tr th:only-of-type {\n",
       "        vertical-align: middle;\n",
       "    }\n",
       "\n",
       "    .dataframe tbody tr th {\n",
       "        vertical-align: top;\n",
       "    }\n",
       "\n",
       "    .dataframe thead th {\n",
       "        text-align: right;\n",
       "    }\n",
       "</style>\n",
       "<table border=\"1\" class=\"dataframe\">\n",
       "  <thead>\n",
       "    <tr style=\"text-align: right;\">\n",
       "      <th></th>\n",
       "      <th>mean</th>\n",
       "      <th>max</th>\n",
       "      <th>median</th>\n",
       "    </tr>\n",
       "    <tr>\n",
       "      <th>Partner</th>\n",
       "      <th></th>\n",
       "      <th></th>\n",
       "      <th></th>\n",
       "    </tr>\n",
       "  </thead>\n",
       "  <tbody>\n",
       "    <tr>\n",
       "      <th>No</th>\n",
       "      <td>61.945001</td>\n",
       "      <td>118.65</td>\n",
       "      <td>68.65</td>\n",
       "    </tr>\n",
       "    <tr>\n",
       "      <th>Yes</th>\n",
       "      <td>67.776264</td>\n",
       "      <td>118.75</td>\n",
       "      <td>74.80</td>\n",
       "    </tr>\n",
       "  </tbody>\n",
       "</table>\n",
       "</div>"
      ],
      "text/plain": [
       "              mean     max  median\n",
       "Partner                           \n",
       "No       61.945001  118.65   68.65\n",
       "Yes      67.776264  118.75   74.80"
      ]
     },
     "execution_count": 16,
     "metadata": {},
     "output_type": "execute_result"
    }
   ],
   "source": [
    "telecom_cust.groupby('Partner')['MonthlyCharges'].agg(['mean', 'max', 'median'])"
   ]
  },
  {
   "cell_type": "markdown",
   "id": "2f1103c9",
   "metadata": {},
   "source": [
    "## 2. Tenure and type of a contract"
   ]
  },
  {
   "cell_type": "markdown",
   "id": "ecfe0bec",
   "metadata": {},
   "source": [
    "### There are two large groups: senior customers and customers who use the service for 1-2 months"
   ]
  },
  {
   "cell_type": "code",
   "execution_count": 17,
   "id": "muslim-bidding",
   "metadata": {},
   "outputs": [
    {
     "name": "stderr",
     "output_type": "stream",
     "text": [
      "/home/anvar/anaconda3/lib/python3.8/site-packages/seaborn/distributions.py:2557: FutureWarning: `distplot` is a deprecated function and will be removed in a future version. Please adapt your code to use either `displot` (a figure-level function with similar flexibility) or `histplot` (an axes-level function for histograms).\n",
      "  warnings.warn(msg, FutureWarning)\n"
     ]
    },
    {
     "data": {
      "text/plain": [
       "Text(0.5, 1.0, '# of Customers by their tenure')"
      ]
     },
     "execution_count": 17,
     "metadata": {},
     "output_type": "execute_result"
    },
    {
     "data": {
      "image/png": "[encoded data removed]",
      "text/plain": [
       "<Figure size 432x288 with 1 Axes>"
      ]
     },
     "metadata": {
      "needs_background": "light"
     },
     "output_type": "display_data"
    }
   ],
   "source": [
    "ax = sns.distplot(telecom_cust['tenure'], hist=True, kde=False, \n",
    "             bins=int(180/5), color = 'darkblue', \n",
    "             hist_kws={'edgecolor':'black'},\n",
    "             kde_kws={'linewidth': 4})\n",
    "ax.set_ylabel('# of Customers')\n",
    "ax.set_xlabel('Tenure (months)')\n",
    "ax.set_title('# of Customers by their tenure')\n"
   ]
  },
  {
   "cell_type": "markdown",
   "id": "living-adult",
   "metadata": {},
   "source": [
    "### Most of the customers are on 1-month contract"
   ]
  },
  {
   "cell_type": "code",
   "execution_count": 18,
   "id": "creative-waters",
   "metadata": {},
   "outputs": [
    {
     "data": {
      "image/png": "[encoded data removed]",
      "text/plain": [
       "<Figure size 432x288 with 1 Axes>"
      ]
     },
     "metadata": {
      "needs_background": "light"
     },
     "output_type": "display_data"
    }
   ],
   "source": [
    "ax = telecom_cust['Contract'].value_counts().plot(kind = 'bar',rot = 0, width = 0.3)\n",
    "ax.set_ylabel('# of Customers')\n",
    "ax.set_title('# of Customers by Contract Type');"
   ]
  },
  {
   "cell_type": "markdown",
   "id": "vertical-abraham",
   "metadata": {},
   "source": [
    "### How tenure depends on the type of the contract?"
   ]
  },
  {
   "cell_type": "code",
   "execution_count": 19,
   "id": "passing-bleeding",
   "metadata": {},
   "outputs": [
    {
     "data": {
      "image/png": "[encoded data removed]",
      "text/plain": [
       "<Figure size 1440x432 with 3 Axes>"
      ]
     },
     "metadata": {
      "needs_background": "light"
     },
     "output_type": "display_data"
    }
   ],
   "source": [
    "fig, (ax1,ax2,ax3) = plt.subplots(nrows=1, ncols=3, sharey = True, figsize = (20,6))\n",
    "\n",
    "ax = sns.distplot(telecom_cust[telecom_cust['Contract']=='Month-to-month']['tenure'],\n",
    "                   hist=True, kde=False,\n",
    "                   bins=int(180/5), color = 'turquoise',\n",
    "                   hist_kws={'edgecolor':'black'},\n",
    "                   kde_kws={'linewidth': 4},\n",
    "                 ax=ax1)\n",
    "ax.set_ylabel('# of Customers')\n",
    "ax.set_xlabel('Tenure (months)')\n",
    "ax.set_title('Month to Month Contract')\n",
    "\n",
    "ax = sns.distplot(telecom_cust[telecom_cust['Contract']=='One year']['tenure'],\n",
    "                   hist=True, kde=False,\n",
    "                   bins=int(180/5), color = 'steelblue',\n",
    "                   hist_kws={'edgecolor':'black'},\n",
    "                   kde_kws={'linewidth': 4},\n",
    "                 ax=ax2)\n",
    "ax.set_xlabel('Tenure (months)',size = 14)\n",
    "ax.set_title('One Year Contract',size = 14)\n",
    "\n",
    "ax = sns.distplot(telecom_cust[telecom_cust['Contract']=='Two year']['tenure'],\n",
    "                   hist=True, kde=False,\n",
    "                   bins=int(180/5), color = 'darkblue',\n",
    "                   hist_kws={'edgecolor':'black'},\n",
    "                   kde_kws={'linewidth': 4},\n",
    "                 ax=ax3)\n",
    "\n",
    "ax.set_xlabel('Tenure (months)')\n",
    "ax.set_title('Two Year Contract');\n"
   ]
  },
  {
   "cell_type": "markdown",
   "id": "macro-audit",
   "metadata": {},
   "source": [
    "2-year contract clients are more loyal: most of the month-to-month clients use services for 1-2 months in total, while most 2-year contract clients use services for >50 months (>4 years)."
   ]
  },
  {
   "cell_type": "markdown",
   "id": "bd6ba63d",
   "metadata": {},
   "source": [
    "## 3. What about additional services?"
   ]
  },
  {
   "cell_type": "code",
   "execution_count": 20,
   "id": "afraid-escape",
   "metadata": {},
   "outputs": [
    {
     "data": {
      "image/png": "[encoded data removed]",
      "text/plain": [
       "<Figure size 1080x864 with 9 Axes>"
      ]
     },
     "metadata": {
      "needs_background": "light"
     },
     "output_type": "display_data"
    }
   ],
   "source": [
    "services = ['PhoneService','MultipleLines','InternetService','OnlineSecurity',\n",
    "           'OnlineBackup','DeviceProtection','TechSupport','StreamingTV','StreamingMovies']\n",
    "\n",
    "fig, axes = plt.subplots(nrows = 3,ncols = 3,figsize = (15,12))\n",
    "for i, item in enumerate(services):\n",
    "    if i < 3:\n",
    "        ax = telecom_cust[item].value_counts().plot(kind = 'bar',ax=axes[i,0],rot = 0)\n",
    "        \n",
    "    elif i >=3 and i < 6:\n",
    "        ax = telecom_cust[item].value_counts().plot(kind = 'bar',ax=axes[i-3,1],rot = 0)\n",
    "        \n",
    "    elif i < 9:\n",
    "        ax = telecom_cust[item].value_counts().plot(kind = 'bar',ax=axes[i-6,2],rot = 0)\n",
    "    ax.set_title(item)\n"
   ]
  },
  {
   "cell_type": "markdown",
   "id": "01fbc963",
   "metadata": {},
   "source": [
    "### Among Senior Citizens 95% do you an InternetService, while for others it is only 75%"
   ]
  },
  {
   "cell_type": "code",
   "execution_count": 21,
   "id": "3cfeb568",
   "metadata": {},
   "outputs": [
    {
     "data": {
      "text/plain": [
       "SeniorCitizen  InternetService\n",
       "0              Fiber optic        2265\n",
       "               DSL                2162\n",
       "               No                 1474\n",
       "1              Fiber optic         831\n",
       "               DSL                 259\n",
       "               No                   52\n",
       "Name: InternetService, dtype: int64"
      ]
     },
     "execution_count": 21,
     "metadata": {},
     "output_type": "execute_result"
    }
   ],
   "source": [
    "telecom_cust.groupby('SeniorCitizen')['InternetService'].value_counts()"
   ]
  },
  {
   "cell_type": "markdown",
   "id": "c43c30e3",
   "metadata": {},
   "source": [
    "### We observe the same trend for Tech Support"
   ]
  },
  {
   "cell_type": "code",
   "execution_count": 22,
   "id": "36f854b0",
   "metadata": {},
   "outputs": [
    {
     "data": {
      "text/plain": [
       "SeniorCitizen  TechSupport        \n",
       "0              No                     2643\n",
       "               Yes                    1784\n",
       "               No internet service    1474\n",
       "1              No                      830\n",
       "               Yes                     260\n",
       "               No internet service      52\n",
       "Name: TechSupport, dtype: int64"
      ]
     },
     "execution_count": 22,
     "metadata": {},
     "output_type": "execute_result"
    }
   ],
   "source": [
    "telecom_cust.groupby('SeniorCitizen')['TechSupport'].value_counts()"
   ]
  },
  {
   "cell_type": "markdown",
   "id": "1f204d08",
   "metadata": {},
   "source": [
    "# 4. What about Churn (target column)?"
   ]
  },
  {
   "cell_type": "markdown",
   "id": "bd06324a",
   "metadata": {},
   "source": [
    "### There are 73% of customers who do not Churn, and 27% who churn"
   ]
  },
  {
   "cell_type": "code",
   "execution_count": 23,
   "id": "3e15dff9",
   "metadata": {},
   "outputs": [
    {
     "data": {
      "text/plain": [
       "0    73.463013\n",
       "1    26.536987\n",
       "Name: Churn, dtype: float64"
      ]
     },
     "execution_count": 23,
     "metadata": {},
     "output_type": "execute_result"
    }
   ],
   "source": [
    "telecom_cust['Churn'].value_counts() / len(telecom_cust) * 100"
   ]
  },
  {
   "cell_type": "markdown",
   "id": "3b077336",
   "metadata": {},
   "source": [
    "### On average customers who do not churn use services for 38 months"
   ]
  },
  {
   "cell_type": "code",
   "execution_count": 24,
   "id": "ff331fd9",
   "metadata": {},
   "outputs": [
    {
     "data": {
      "text/html": [
       "<div>\n",
       "<style scoped>\n",
       "    .dataframe tbody tr th:only-of-type {\n",
       "        vertical-align: middle;\n",
       "    }\n",
       "\n",
       "    .dataframe tbody tr th {\n",
       "        vertical-align: top;\n",
       "    }\n",
       "\n",
       "    .dataframe thead th {\n",
       "        text-align: right;\n",
       "    }\n",
       "</style>\n",
       "<table border=\"1\" class=\"dataframe\">\n",
       "  <thead>\n",
       "    <tr style=\"text-align: right;\">\n",
       "      <th></th>\n",
       "      <th>mean</th>\n",
       "      <th>median</th>\n",
       "      <th>std</th>\n",
       "    </tr>\n",
       "    <tr>\n",
       "      <th>Churn</th>\n",
       "      <th></th>\n",
       "      <th></th>\n",
       "      <th></th>\n",
       "    </tr>\n",
       "  </thead>\n",
       "  <tbody>\n",
       "    <tr>\n",
       "      <th>0</th>\n",
       "      <td>37.569965</td>\n",
       "      <td>38</td>\n",
       "      <td>24.113777</td>\n",
       "    </tr>\n",
       "    <tr>\n",
       "      <th>1</th>\n",
       "      <td>17.979133</td>\n",
       "      <td>10</td>\n",
       "      <td>19.531123</td>\n",
       "    </tr>\n",
       "  </tbody>\n",
       "</table>\n",
       "</div>"
      ],
      "text/plain": [
       "            mean  median        std\n",
       "Churn                              \n",
       "0      37.569965      38  24.113777\n",
       "1      17.979133      10  19.531123"
      ]
     },
     "execution_count": 24,
     "metadata": {},
     "output_type": "execute_result"
    }
   ],
   "source": [
    "telecom_cust.groupby('Churn').tenure.agg(['mean', 'median', 'std'])"
   ]
  },
  {
   "cell_type": "markdown",
   "id": "4b5724ee",
   "metadata": {},
   "source": [
    "### There are 43% of Churned customers among month-to-month users, 11% among customers with 1-year contract, and only 3% among those with 2-year contract"
   ]
  },
  {
   "cell_type": "code",
   "execution_count": 25,
   "id": "2388d632",
   "metadata": {},
   "outputs": [
    {
     "data": {
      "text/plain": [
       "Contract\n",
       "Month-to-month    0.427097\n",
       "One year          0.112695\n",
       "Two year          0.028319\n",
       "Name: Churn, dtype: float64"
      ]
     },
     "execution_count": 25,
     "metadata": {},
     "output_type": "execute_result"
    }
   ],
   "source": [
    "telecom_cust.groupby('Contract').Churn.mean()"
   ]
  },
  {
   "cell_type": "markdown",
   "id": "e6130919",
   "metadata": {},
   "source": [
    "# Churn prediction"
   ]
  },
  {
   "cell_type": "code",
   "execution_count": 26,
   "id": "varied-tackle",
   "metadata": {},
   "outputs": [],
   "source": [
    "from sklearn.model_selection import train_test_split\n",
    "\n",
    "X = telecom_cust.drop(['customerID', 'Churn'], axis=1)\n",
    "y = telecom_cust['Churn']\n",
    "\n",
    "X_train, X_test, y_train, y_test = train_test_split(X, y, test_size=0.3, random_state=101)"
   ]
  },
  {
   "cell_type": "code",
   "execution_count": 27,
   "id": "challenging-vector",
   "metadata": {},
   "outputs": [],
   "source": [
    "from sklearn.metrics import accuracy_score, roc_auc_score, roc_curve, confusion_matrix"
   ]
  },
  {
   "cell_type": "code",
   "execution_count": 28,
   "id": "smart-zoning",
   "metadata": {},
   "outputs": [],
   "source": [
    "from catboost import CatBoostClassifier, Pool"
   ]
  },
  {
   "cell_type": "code",
   "execution_count": 29,
   "id": "a6cff65e",
   "metadata": {},
   "outputs": [
    {
     "name": "stdout",
     "output_type": "stream",
     "text": [
      "Categorical features: ['PaymentMethod', 'PaperlessBilling', 'Contract', 'StreamingMovies', 'StreamingTV', 'TechSupport', 'gender', 'OnlineSecurity', 'InternetService', 'MultipleLines', 'PhoneService', 'Dependents', 'Partner', 'DeviceProtection', 'OnlineBackup']\n"
     ]
    }
   ],
   "source": [
    "cat_features = list(X_train.dtypes.sort_values().iloc[4:].index)\n",
    "\n",
    "print('Categorical features:', cat_features)\n",
    "\n",
    "dataset_train = Pool(X_train, y_train, cat_features)\n",
    "dataset_test = Pool(X_test, y_test, cat_features)"
   ]
  },
  {
   "cell_type": "code",
   "execution_count": 30,
   "id": "aeb4ad7f",
   "metadata": {},
   "outputs": [
    {
     "name": "stdout",
     "output_type": "stream",
     "text": [
      "Learning rate set to 0.046994\n",
      "0:\tlearn: 0.6680793\ttest: 0.6680686\tbest: 0.6680686 (0)\ttotal: 53.8ms\tremaining: 53.8s\n",
      "50:\tlearn: 0.4097503\ttest: 0.4174288\tbest: 0.4174288 (50)\ttotal: 238ms\tremaining: 4.43s\n",
      "100:\tlearn: 0.3918644\ttest: 0.4110088\tbest: 0.4110088 (100)\ttotal: 426ms\tremaining: 3.79s\n",
      "150:\tlearn: 0.3836758\ttest: 0.4105058\tbest: 0.4101906 (127)\ttotal: 612ms\tremaining: 3.44s\n",
      "200:\tlearn: 0.3756419\ttest: 0.4092946\tbest: 0.4092946 (200)\ttotal: 806ms\tremaining: 3.2s\n",
      "250:\tlearn: 0.3665026\ttest: 0.4097376\tbest: 0.4092311 (211)\ttotal: 1.02s\tremaining: 3.03s\n",
      "300:\tlearn: 0.3558649\ttest: 0.4104209\tbest: 0.4092311 (211)\ttotal: 1.23s\tremaining: 2.86s\n",
      "350:\tlearn: 0.3461617\ttest: 0.4125093\tbest: 0.4092311 (211)\ttotal: 1.44s\tremaining: 2.67s\n",
      "400:\tlearn: 0.3367490\ttest: 0.4129623\tbest: 0.4092311 (211)\ttotal: 1.66s\tremaining: 2.48s\n",
      "450:\tlearn: 0.3281583\ttest: 0.4142699\tbest: 0.4092311 (211)\ttotal: 1.88s\tremaining: 2.29s\n",
      "500:\tlearn: 0.3208164\ttest: 0.4152229\tbest: 0.4092311 (211)\ttotal: 2.1s\tremaining: 2.09s\n",
      "550:\tlearn: 0.3129087\ttest: 0.4163221\tbest: 0.4092311 (211)\ttotal: 2.31s\tremaining: 1.88s\n",
      "600:\tlearn: 0.3065280\ttest: 0.4165225\tbest: 0.4092311 (211)\ttotal: 2.53s\tremaining: 1.68s\n",
      "650:\tlearn: 0.2988906\ttest: 0.4176973\tbest: 0.4092311 (211)\ttotal: 2.75s\tremaining: 1.47s\n",
      "700:\tlearn: 0.2909739\ttest: 0.4190166\tbest: 0.4092311 (211)\ttotal: 2.96s\tremaining: 1.26s\n",
      "750:\tlearn: 0.2855750\ttest: 0.4190409\tbest: 0.4092311 (211)\ttotal: 3.17s\tremaining: 1.05s\n",
      "800:\tlearn: 0.2789899\ttest: 0.4197631\tbest: 0.4092311 (211)\ttotal: 3.38s\tremaining: 841ms\n",
      "850:\tlearn: 0.2734431\ttest: 0.4202855\tbest: 0.4092311 (211)\ttotal: 3.6s\tremaining: 630ms\n",
      "900:\tlearn: 0.2664548\ttest: 0.4211228\tbest: 0.4092311 (211)\ttotal: 3.82s\tremaining: 419ms\n",
      "950:\tlearn: 0.2604187\ttest: 0.4214547\tbest: 0.4092311 (211)\ttotal: 4.03s\tremaining: 208ms\n",
      "999:\tlearn: 0.2555077\ttest: 0.4223041\tbest: 0.4092311 (211)\ttotal: 4.25s\tremaining: 0us\n",
      "\n",
      "bestTest = 0.409231082\n",
      "bestIteration = 211\n",
      "\n",
      "Shrink model to first 212 iterations.\n"
     ]
    },
    {
     "data": {
      "text/plain": [
       "<catboost.core.CatBoostClassifier at 0x7fc75a1d5520>"
      ]
     },
     "execution_count": 30,
     "metadata": {},
     "output_type": "execute_result"
    }
   ],
   "source": [
    "model = CatBoostClassifier()\n",
    "\n",
    "model.fit(dataset_train, eval_set=dataset_test,\n",
    "          verbose=50)"
   ]
  },
  {
   "cell_type": "code",
   "execution_count": 31,
   "id": "615a4ad9",
   "metadata": {},
   "outputs": [],
   "source": [
    "y_pred_test = model.predict_proba(X_test)\n",
    "y_pred_train = model.predict_proba(X_train)"
   ]
  },
  {
   "cell_type": "code",
   "execution_count": null,
   "id": "df450bb3",
   "metadata": {},
   "outputs": [],
   "source": [
    "y(Churn) = 0.3\n",
    "\n",
    "threshold = 0.10"
   ]
  },
  {
   "cell_type": "code",
   "execution_count": 52,
   "id": "333e9c43",
   "metadata": {},
   "outputs": [
    {
     "data": {
      "text/plain": [
       "array([[0.99019801, 0.00980199],\n",
       "       [0.93022933, 0.06977067],\n",
       "       [0.71329304, 0.28670696],\n",
       "       ...,\n",
       "       [0.45245022, 0.54754978],\n",
       "       [0.68684172, 0.31315828],\n",
       "       [0.58828483, 0.41171517]])"
      ]
     },
     "execution_count": 52,
     "metadata": {},
     "output_type": "execute_result"
    }
   ],
   "source": [
    "y_pred_train"
   ]
  },
  {
   "cell_type": "code",
   "execution_count": 32,
   "id": "cdd9bb1a",
   "metadata": {},
   "outputs": [
    {
     "name": "stdout",
     "output_type": "stream",
     "text": [
      "0.869105836665498\n"
     ]
    }
   ],
   "source": [
    "print(roc_auc_score(y_train, y_pred_train[:, 1]))"
   ]
  },
  {
   "cell_type": "code",
   "execution_count": 33,
   "id": "fe010069",
   "metadata": {},
   "outputs": [
    {
     "name": "stdout",
     "output_type": "stream",
     "text": [
      "0.8531312529803259\n"
     ]
    }
   ],
   "source": [
    "print(roc_auc_score(y_test, y_pred_test[:, 1]))"
   ]
  },
  {
   "cell_type": "code",
   "execution_count": 34,
   "id": "5d61912d",
   "metadata": {},
   "outputs": [],
   "source": [
    "fpr, tpr, thresholds = roc_curve(y_train, y_pred_train[:, 1])"
   ]
  },
  {
   "cell_type": "code",
   "execution_count": 35,
   "id": "03ee70fe",
   "metadata": {},
   "outputs": [
    {
     "data": {
      "image/png": "[encoded data removed]",
      "text/plain": [
       "<Figure size 432x288 with 1 Axes>"
      ]
     },
     "metadata": {
      "needs_background": "light"
     },
     "output_type": "display_data"
    }
   ],
   "source": [
    "plt.plot(fpr, tpr, label=f'ROC AUC = {np.round(roc_auc_score(y_train, y_pred_train[:, 1]), 2)}');\n",
    "plt.legend()\n",
    "plt.xlabel('False Positive Rate = FP / (FP + TN)')\n",
    "plt.ylabel('True Positive Rate = Recall \\n= TP / (TP + FN)')\n",
    "plt.title('ROC AUC curve');"
   ]
  },
  {
   "cell_type": "code",
   "execution_count": 36,
   "id": "48585c1d",
   "metadata": {},
   "outputs": [
    {
     "data": {
      "image/png": "[encoded data removed]",
      "text/plain": [
       "<Figure size 432x288 with 1 Axes>"
      ]
     },
     "metadata": {
      "needs_background": "light"
     },
     "output_type": "display_data"
    }
   ],
   "source": [
    "plt.plot(fpr, tpr, label=f'ROC AUC = {np.round(roc_auc_score(y_train, y_pred_train[:, 1]), 2)}');\n",
    "plt.scatter(fpr[500], tpr[500], c='r', s=80, label=f'probability threshold = {np.round(thresholds[500], 2)}')\n",
    "plt.scatter(fpr[900], tpr[900], c='g', s=80, label=f'probability threshold = {np.round(thresholds[900], 2)}')\n",
    "plt.scatter(fpr[1200], tpr[1200], c='k', s=80, label=f'probability threshold = {np.round(thresholds[1200], 2)}')\n",
    "plt.legend()\n",
    "plt.xlabel('False Positive Rate = FP / (FP + TN)')\n",
    "plt.ylabel('True Positive Rate = Recall \\n= TP / (TP + FN)');"
   ]
  },
  {
   "cell_type": "code",
   "execution_count": 37,
   "id": "1763a511",
   "metadata": {},
   "outputs": [
    {
     "data": {
      "text/plain": [
       "0.755578093306288"
      ]
     },
     "execution_count": 37,
     "metadata": {},
     "output_type": "execute_result"
    }
   ],
   "source": [
    "threshold = 0.25\n",
    "\n",
    "accuracy_score(y_train, (y_pred_train[:, 1] > threshold).astype(int))"
   ]
  },
  {
   "cell_type": "code",
   "execution_count": 38,
   "id": "cf1acd2e",
   "metadata": {},
   "outputs": [
    {
     "data": {
      "text/plain": [
       "0.8178498985801217"
      ]
     },
     "execution_count": 38,
     "metadata": {},
     "output_type": "execute_result"
    }
   ],
   "source": [
    "threshold = 0.5\n",
    "\n",
    "accuracy_score(y_train, (y_pred_train[:, 1] > threshold).astype(int))"
   ]
  },
  {
   "cell_type": "code",
   "execution_count": 39,
   "id": "ccc0ec42",
   "metadata": {},
   "outputs": [
    {
     "data": {
      "text/plain": [
       "0.774239350912779"
      ]
     },
     "execution_count": 39,
     "metadata": {},
     "output_type": "execute_result"
    }
   ],
   "source": [
    "threshold = 0.75\n",
    "\n",
    "accuracy_score(y_train, (y_pred_train[:, 1] > threshold).astype(int))"
   ]
  },
  {
   "cell_type": "code",
   "execution_count": 40,
   "id": "b3a4a195",
   "metadata": {},
   "outputs": [
    {
     "name": "stdout",
     "output_type": "stream",
     "text": [
      "TN: 2618 FP: 1010 FN: 195 TP: 1107\n"
     ]
    }
   ],
   "source": [
    "threshold = 0.25\n",
    "\n",
    "tn, fp, fn, tp = confusion_matrix(y_train, (y_pred_train[:, 1] > threshold).astype(int)).ravel()\n",
    "\n",
    "print(f'TN: {tn}', f'FP: {fp}', f'FN: {fn}', f'TP: {tp}')"
   ]
  },
  {
   "cell_type": "code",
   "execution_count": 41,
   "id": "2795b748",
   "metadata": {},
   "outputs": [
    {
     "name": "stdout",
     "output_type": "stream",
     "text": [
      "TN: 3317 FP: 311 FN: 587 TP: 715\n"
     ]
    }
   ],
   "source": [
    "threshold = 0.5\n",
    "\n",
    "tn, fp, fn, tp = confusion_matrix(y_train, (y_pred_train[:, 1] > threshold).astype(int)).ravel()\n",
    "\n",
    "print(f'TN: {tn}', f'FP: {fp}', f'FN: {fn}', f'TP: {tp}')"
   ]
  },
  {
   "cell_type": "code",
   "execution_count": 42,
   "id": "078ae68b",
   "metadata": {},
   "outputs": [
    {
     "name": "stdout",
     "output_type": "stream",
     "text": [
      "TN: 3606 FP: 22 FN: 1091 TP: 211\n"
     ]
    }
   ],
   "source": [
    "threshold = 0.75\n",
    "\n",
    "tn, fp, fn, tp = confusion_matrix(y_train, (y_pred_train[:, 1] > threshold).astype(int)).ravel()\n",
    "\n",
    "print(f'TN: {tn}', f'FP: {fp}', f'FN: {fn}', f'TP: {tp}')"
   ]
  },
  {
   "cell_type": "code",
   "execution_count": null,
   "id": "8f73a0a7",
   "metadata": {},
   "outputs": [],
   "source": []
  }
 ],
 "metadata": {
  "kernelspec": {
   "display_name": "Python 3",
   "language": "python",
   "name": "python3"
  },
  "language_info": {
   "codemirror_mode": {
    "name": "ipython",
    "version": 3
   },
   "file_extension": ".py",
   "mimetype": "text/x-python",
   "name": "python",
   "nbconvert_exporter": "python",
   "pygments_lexer": "ipython3",
   "version": "3.8.8"
  }
 },
 "nbformat": 4,
 "nbformat_minor": 5
}
