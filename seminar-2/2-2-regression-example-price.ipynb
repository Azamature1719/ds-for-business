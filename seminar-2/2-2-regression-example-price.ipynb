{
 "cells": [
  {
   "cell_type": "code",
   "execution_count": 1,
   "id": "e12eb178",
   "metadata": {},
   "outputs": [
    {
     "data": {
      "text/html": [
       "<div>\n",
       "<style scoped>\n",
       "    .dataframe tbody tr th:only-of-type {\n",
       "        vertical-align: middle;\n",
       "    }\n",
       "\n",
       "    .dataframe tbody tr th {\n",
       "        vertical-align: top;\n",
       "    }\n",
       "\n",
       "    .dataframe thead th {\n",
       "        text-align: right;\n",
       "    }\n",
       "</style>\n",
       "<table border=\"1\" class=\"dataframe\">\n",
       "  <thead>\n",
       "    <tr style=\"text-align: right;\">\n",
       "      <th></th>\n",
       "      <th>laptop_ID</th>\n",
       "      <th>Company</th>\n",
       "      <th>Product</th>\n",
       "      <th>TypeName</th>\n",
       "      <th>Inches</th>\n",
       "      <th>ScreenResolution</th>\n",
       "      <th>Cpu</th>\n",
       "      <th>Ram</th>\n",
       "      <th>Memory</th>\n",
       "      <th>Gpu</th>\n",
       "      <th>OpSys</th>\n",
       "      <th>Weight</th>\n",
       "      <th>Price_euros</th>\n",
       "    </tr>\n",
       "  </thead>\n",
       "  <tbody>\n",
       "    <tr>\n",
       "      <th>0</th>\n",
       "      <td>1</td>\n",
       "      <td>Apple</td>\n",
       "      <td>MacBook Pro</td>\n",
       "      <td>Ultrabook</td>\n",
       "      <td>13.3</td>\n",
       "      <td>IPS Panel Retina Display 2560x1600</td>\n",
       "      <td>Intel Core i5 2.3GHz</td>\n",
       "      <td>8GB</td>\n",
       "      <td>128GB SSD</td>\n",
       "      <td>Intel Iris Plus Graphics 640</td>\n",
       "      <td>macOS</td>\n",
       "      <td>1.37kg</td>\n",
       "      <td>1339.69</td>\n",
       "    </tr>\n",
       "    <tr>\n",
       "      <th>1</th>\n",
       "      <td>2</td>\n",
       "      <td>Apple</td>\n",
       "      <td>Macbook Air</td>\n",
       "      <td>Ultrabook</td>\n",
       "      <td>13.3</td>\n",
       "      <td>1440x900</td>\n",
       "      <td>Intel Core i5 1.8GHz</td>\n",
       "      <td>8GB</td>\n",
       "      <td>128GB Flash Storage</td>\n",
       "      <td>Intel HD Graphics 6000</td>\n",
       "      <td>macOS</td>\n",
       "      <td>1.34kg</td>\n",
       "      <td>898.94</td>\n",
       "    </tr>\n",
       "  </tbody>\n",
       "</table>\n",
       "</div>"
      ],
      "text/plain": [
       "   laptop_ID Company      Product   TypeName  Inches  \\\n",
       "0          1   Apple  MacBook Pro  Ultrabook    13.3   \n",
       "1          2   Apple  Macbook Air  Ultrabook    13.3   \n",
       "\n",
       "                     ScreenResolution                   Cpu  Ram  \\\n",
       "0  IPS Panel Retina Display 2560x1600  Intel Core i5 2.3GHz  8GB   \n",
       "1                            1440x900  Intel Core i5 1.8GHz  8GB   \n",
       "\n",
       "                Memory                           Gpu  OpSys  Weight  \\\n",
       "0            128GB SSD  Intel Iris Plus Graphics 640  macOS  1.37kg   \n",
       "1  128GB Flash Storage        Intel HD Graphics 6000  macOS  1.34kg   \n",
       "\n",
       "   Price_euros  \n",
       "0      1339.69  \n",
       "1       898.94  "
      ]
     },
     "execution_count": 1,
     "metadata": {},
     "output_type": "execute_result"
    }
   ],
   "source": [
    "import pandas as pd\n",
    "\n",
    "# Read the CSV file into a Pandas DataFrame with encoding \"ISO-8859-1\"\n",
    "df = pd.read_csv('laptop_price.csv', encoding='ISO-8859-1')\n",
    "\n",
    "# Print the first five rows of the DataFrame\n",
    "# print(laptop_df.head())\n",
    "df.head(2)"
   ]
  },
  {
   "cell_type": "code",
   "execution_count": 2,
   "id": "aa89d098",
   "metadata": {},
   "outputs": [
    {
     "name": "stdout",
     "output_type": "stream",
     "text": [
      "laptop_ID             int64\n",
      "Company              object\n",
      "Product              object\n",
      "TypeName             object\n",
      "Inches              float64\n",
      "ScreenResolution     object\n",
      "Cpu                  object\n",
      "Ram                  object\n",
      "Memory               object\n",
      "Gpu                  object\n",
      "OpSys                object\n",
      "Weight               object\n",
      "Price_euros         float64\n",
      "dtype: object\n"
     ]
    }
   ],
   "source": [
    "# Get the data types of each column in the DataFrame\n",
    "column_types = df.dtypes\n",
    "\n",
    "# Print the data types of each column\n",
    "print(column_types)"
   ]
  },
  {
   "cell_type": "markdown",
   "id": "b87f387c",
   "metadata": {},
   "source": [
    "# Baseline"
   ]
  },
  {
   "cell_type": "code",
   "execution_count": 3,
   "id": "45cab7c0",
   "metadata": {},
   "outputs": [
    {
     "name": "stdout",
     "output_type": "stream",
     "text": [
      "Linear Regression MSE: 180354.12110521397\n",
      "Linear Regression R^2: 0.6449208452189876\n",
      "Decision Tree MSE: 232292.47811280115\n",
      "Decision Tree R^2: 0.5426651950904839\n",
      "Random Forest MSE: 189702.90220604878\n",
      "Random Forest R^2: 0.6265150706729179\n",
      "KNN MSE: 197630.53119187738\n",
      "KNN R^2: 0.6109072443451606\n"
     ]
    }
   ],
   "source": [
    "import pandas as pd\n",
    "from sklearn.model_selection import train_test_split\n",
    "from sklearn.linear_model import LinearRegression\n",
    "from sklearn.tree import DecisionTreeRegressor\n",
    "from sklearn.ensemble import RandomForestRegressor\n",
    "from sklearn.neighbors import KNeighborsRegressor\n",
    "from sklearn.metrics import mean_squared_error, r2_score\n",
    "\n",
    "# Select the features to use for the regression models\n",
    "X = df[['Inches', 'Ram', 'Memory']]\n",
    "\n",
    "# Convert categorical variables to one-hot encoding\n",
    "X = pd.get_dummies(X, drop_first=True)\n",
    "\n",
    "# Select the target variable\n",
    "y = df['Price_euros']\n",
    "\n",
    "# Split the dataset into training and test sets\n",
    "X_train, X_test, y_train, y_test = train_test_split(X, y, test_size=0.2, random_state=42)\n",
    "\n",
    "# Train and evaluate a Linear Regression model\n",
    "lin_reg = LinearRegression()\n",
    "lin_reg.fit(X_train, y_train)\n",
    "lin_reg_pred = lin_reg.predict(X_test)\n",
    "print('Linear Regression MSE:', mean_squared_error(y_test, lin_reg_pred))\n",
    "print('Linear Regression R^2:', r2_score(y_test, lin_reg_pred))\n",
    "\n",
    "# Train and evaluate a Decision Tree model\n",
    "dt_reg = DecisionTreeRegressor(random_state=42)\n",
    "dt_reg.fit(X_train, y_train)\n",
    "dt_reg_pred = dt_reg.predict(X_test)\n",
    "print('Decision Tree MSE:', mean_squared_error(y_test, dt_reg_pred))\n",
    "print('Decision Tree R^2:', r2_score(y_test, dt_reg_pred))\n",
    "\n",
    "# Train and evaluate a Random Forest model\n",
    "rf_reg = RandomForestRegressor(random_state=42)\n",
    "rf_reg.fit(X_train, y_train)\n",
    "rf_reg_pred = rf_reg.predict(X_test)\n",
    "print('Random Forest MSE:', mean_squared_error(y_test, rf_reg_pred))\n",
    "print('Random Forest R^2:', r2_score(y_test, rf_reg_pred))\n",
    "\n",
    "# Train and evaluate a KNN model\n",
    "knn_reg = KNeighborsRegressor()\n",
    "knn_reg.fit(X_train, y_train)\n",
    "knn_reg_pred = knn_reg.predict(X_test)\n",
    "print('KNN MSE:', mean_squared_error(y_test, knn_reg_pred))\n",
    "print('KNN R^2:', r2_score(y_test, knn_reg_pred))\n"
   ]
  },
  {
   "cell_type": "code",
   "execution_count": 4,
   "id": "84bff484",
   "metadata": {},
   "outputs": [],
   "source": [
    "import numpy as np"
   ]
  },
  {
   "cell_type": "code",
   "execution_count": 5,
   "id": "489abebd",
   "metadata": {},
   "outputs": [
    {
     "data": {
      "text/plain": [
       "424.6810567943901"
      ]
     },
     "execution_count": 5,
     "metadata": {},
     "output_type": "execute_result"
    }
   ],
   "source": [
    "np.sqrt(180354)"
   ]
  },
  {
   "cell_type": "code",
   "execution_count": 6,
   "id": "d79cdfdd",
   "metadata": {},
   "outputs": [
    {
     "data": {
      "text/plain": [
       "1105.091800766283"
      ]
     },
     "execution_count": 6,
     "metadata": {},
     "output_type": "execute_result"
    }
   ],
   "source": [
    "y_test.mean()"
   ]
  },
  {
   "cell_type": "markdown",
   "id": "1c9b7c1e",
   "metadata": {},
   "source": [
    "# Prepare categorical columns"
   ]
  },
  {
   "cell_type": "code",
   "execution_count": 7,
   "id": "b6994601",
   "metadata": {},
   "outputs": [
    {
     "name": "stdout",
     "output_type": "stream",
     "text": [
      "Company : 19\n",
      "Product : 618\n",
      "TypeName : 6\n",
      "ScreenResolution : 40\n",
      "Cpu : 118\n",
      "Ram : 9\n",
      "Memory : 39\n",
      "Gpu : 110\n",
      "OpSys : 9\n",
      "Weight : 179\n"
     ]
    }
   ],
   "source": [
    "# Loop through each column in the DataFrame\n",
    "for column in df.columns:\n",
    "    # Check if the column is categorical\n",
    "    if df[column].dtype == 'object':\n",
    "        # Count the number of unique values in the column\n",
    "        num_unique = len(df[column].unique())\n",
    "        # Print the column name and number of unique values\n",
    "        print(column, ':', num_unique)"
   ]
  },
  {
   "cell_type": "code",
   "execution_count": 8,
   "id": "3c853902",
   "metadata": {},
   "outputs": [
    {
     "data": {
      "text/html": [
       "<div>\n",
       "<style scoped>\n",
       "    .dataframe tbody tr th:only-of-type {\n",
       "        vertical-align: middle;\n",
       "    }\n",
       "\n",
       "    .dataframe tbody tr th {\n",
       "        vertical-align: top;\n",
       "    }\n",
       "\n",
       "    .dataframe thead th {\n",
       "        text-align: right;\n",
       "    }\n",
       "</style>\n",
       "<table border=\"1\" class=\"dataframe\">\n",
       "  <thead>\n",
       "    <tr style=\"text-align: right;\">\n",
       "      <th></th>\n",
       "      <th>laptop_ID</th>\n",
       "      <th>Company</th>\n",
       "      <th>Product</th>\n",
       "      <th>TypeName</th>\n",
       "      <th>Inches</th>\n",
       "      <th>ScreenResolution</th>\n",
       "      <th>Cpu</th>\n",
       "      <th>Ram</th>\n",
       "      <th>Memory</th>\n",
       "      <th>Gpu</th>\n",
       "      <th>OpSys</th>\n",
       "      <th>Weight</th>\n",
       "      <th>Price_euros</th>\n",
       "    </tr>\n",
       "  </thead>\n",
       "  <tbody>\n",
       "    <tr>\n",
       "      <th>0</th>\n",
       "      <td>1</td>\n",
       "      <td>Apple</td>\n",
       "      <td>MacBook Pro</td>\n",
       "      <td>Ultrabook</td>\n",
       "      <td>13.3</td>\n",
       "      <td>IPS Panel Retina Display 2560x1600</td>\n",
       "      <td>Intel Core i5 2.3GHz</td>\n",
       "      <td>8GB</td>\n",
       "      <td>128GB SSD</td>\n",
       "      <td>Intel Iris Plus Graphics 640</td>\n",
       "      <td>macOS</td>\n",
       "      <td>1.37kg</td>\n",
       "      <td>1339.69</td>\n",
       "    </tr>\n",
       "    <tr>\n",
       "      <th>1</th>\n",
       "      <td>2</td>\n",
       "      <td>Apple</td>\n",
       "      <td>Macbook Air</td>\n",
       "      <td>Ultrabook</td>\n",
       "      <td>13.3</td>\n",
       "      <td>1440x900</td>\n",
       "      <td>Intel Core i5 1.8GHz</td>\n",
       "      <td>8GB</td>\n",
       "      <td>128GB Flash Storage</td>\n",
       "      <td>Intel HD Graphics 6000</td>\n",
       "      <td>macOS</td>\n",
       "      <td>1.34kg</td>\n",
       "      <td>898.94</td>\n",
       "    </tr>\n",
       "    <tr>\n",
       "      <th>2</th>\n",
       "      <td>3</td>\n",
       "      <td>HP</td>\n",
       "      <td>250 G6</td>\n",
       "      <td>Notebook</td>\n",
       "      <td>15.6</td>\n",
       "      <td>Full HD 1920x1080</td>\n",
       "      <td>Intel Core i5 7200U 2.5GHz</td>\n",
       "      <td>8GB</td>\n",
       "      <td>256GB SSD</td>\n",
       "      <td>Intel HD Graphics 620</td>\n",
       "      <td>No OS</td>\n",
       "      <td>1.86kg</td>\n",
       "      <td>575.00</td>\n",
       "    </tr>\n",
       "  </tbody>\n",
       "</table>\n",
       "</div>"
      ],
      "text/plain": [
       "   laptop_ID Company      Product   TypeName  Inches  \\\n",
       "0          1   Apple  MacBook Pro  Ultrabook    13.3   \n",
       "1          2   Apple  Macbook Air  Ultrabook    13.3   \n",
       "2          3      HP       250 G6   Notebook    15.6   \n",
       "\n",
       "                     ScreenResolution                         Cpu  Ram  \\\n",
       "0  IPS Panel Retina Display 2560x1600        Intel Core i5 2.3GHz  8GB   \n",
       "1                            1440x900        Intel Core i5 1.8GHz  8GB   \n",
       "2                   Full HD 1920x1080  Intel Core i5 7200U 2.5GHz  8GB   \n",
       "\n",
       "                Memory                           Gpu  OpSys  Weight  \\\n",
       "0            128GB SSD  Intel Iris Plus Graphics 640  macOS  1.37kg   \n",
       "1  128GB Flash Storage        Intel HD Graphics 6000  macOS  1.34kg   \n",
       "2            256GB SSD         Intel HD Graphics 620  No OS  1.86kg   \n",
       "\n",
       "   Price_euros  \n",
       "0      1339.69  \n",
       "1       898.94  \n",
       "2       575.00  "
      ]
     },
     "execution_count": 8,
     "metadata": {},
     "output_type": "execute_result"
    }
   ],
   "source": [
    "df.head(3)"
   ]
  },
  {
   "cell_type": "markdown",
   "id": "5370a6ec",
   "metadata": {},
   "source": [
    "# Several decisions on categorical columns\n",
    "\n",
    "We have a relatively small number of observations, thus we do not want to increase number of features too much.\n",
    "\n",
    "For categorical features:\n",
    "- we will use one-hot encoding (creat N new columns, each is is_category1, is_category2, etc.)\n",
    "- if we have many unique values, we will encode rare categories with `Other`\n",
    "- we will extract some numerical features if possible"
   ]
  },
  {
   "cell_type": "markdown",
   "id": "5ec15128",
   "metadata": {},
   "source": [
    "## One-hot encoding example\n",
    "\n",
    "| Color | red | blue | green |\n",
    "| --- | --- | --- | --- |\n",
    "| red | 1 | 0 | 0 |\n",
    "| blue | 0 | 1 | 0 |\n",
    "| green | 0 | 0 | 1 |\n",
    "| red | 1 | 0 | 0 |\n",
    "| green | 0 | 0 | 1 |\n",
    "| blue | 0 | 1 | 0 |\n",
    "| red | 1 | 0 | 0 |\n",
    "| green | 0 | 0 | 1 |\n",
    "| blue | 0 | 1 | 0 |\n",
    "| red | 1 | 0 | 0 |\n"
   ]
  },
  {
   "cell_type": "markdown",
   "id": "73b2c480",
   "metadata": {},
   "source": [
    "## Plan for columns\n",
    "\n",
    "- Company : 19, replcae rare categoris with \"Other\", 1-hot\n",
    "- Product : 618, too many unique categories --> drop the column\n",
    "- TypeName : 6, all good, will just 1-hot encode\n",
    "- ScreenResolution : 40, extract width and height, convert to 2 numerical columns\n",
    "- Cpu : 118, extract manufacturer name, 1-hot\n",
    "- Ram : 9, convert \"Ram\" to numeric\n",
    "- Memory : 39, extract two columns \"has_ssd\" and \"has_hdd\" (Could've also extract disk storage)\n",
    "- Gpu : 110, extract manufacturer name, 1-hot\n",
    "- OpSys : 9, extract os company, 1-hot\n",
    "- Weight : 179, convert to numeric"
   ]
  },
  {
   "cell_type": "code",
   "execution_count": 9,
   "id": "5da81d28",
   "metadata": {},
   "outputs": [],
   "source": [
    "ohe_columns = []"
   ]
  },
  {
   "cell_type": "markdown",
   "id": "e071205e",
   "metadata": {},
   "source": [
    "### Company\n",
    "\n",
    "replace rare categories with \"Other\""
   ]
  },
  {
   "cell_type": "code",
   "execution_count": 10,
   "id": "b5d1e2bb",
   "metadata": {},
   "outputs": [
    {
     "data": {
      "text/plain": [
       "Dell         297\n",
       "Lenovo       297\n",
       "HP           274\n",
       "Asus         158\n",
       "Acer         103\n",
       "MSI           54\n",
       "Toshiba       48\n",
       "Apple         21\n",
       "Samsung        9\n",
       "Razer          7\n",
       "Mediacom       7\n",
       "Microsoft      6\n",
       "Xiaomi         4\n",
       "Vero           4\n",
       "Chuwi          3\n",
       "Google         3\n",
       "Fujitsu        3\n",
       "LG             3\n",
       "Huawei         2\n",
       "Name: Company, dtype: int64"
      ]
     },
     "execution_count": 10,
     "metadata": {},
     "output_type": "execute_result"
    }
   ],
   "source": [
    "df['Company'].value_counts()"
   ]
  },
  {
   "cell_type": "code",
   "execution_count": 11,
   "id": "de4566c5",
   "metadata": {},
   "outputs": [
    {
     "data": {
      "text/plain": [
       "Dell      297\n",
       "Lenovo    297\n",
       "HP        274\n",
       "Other     174\n",
       "Asus      158\n",
       "Acer      103\n",
       "Name: Company, dtype: int64"
      ]
     },
     "execution_count": 11,
     "metadata": {},
     "output_type": "execute_result"
    }
   ],
   "source": [
    "# Count the number of occurrences of each category in the 'Company' column\n",
    "company_counts = df['Company'].value_counts()\n",
    "\n",
    "# Get the list of categories with fewer than 100 occurrences\n",
    "other_categories = company_counts[company_counts < 100].index.tolist()\n",
    "\n",
    "# Replace the categories with 'Other'\n",
    "df['Company'] = df['Company'].replace(other_categories, 'Other')\n",
    "\n",
    "df['Company'].value_counts()"
   ]
  },
  {
   "cell_type": "code",
   "execution_count": 12,
   "id": "446be7b8",
   "metadata": {},
   "outputs": [
    {
     "data": {
      "text/plain": [
       "['MSI',\n",
       " 'Toshiba',\n",
       " 'Apple',\n",
       " 'Samsung',\n",
       " 'Razer',\n",
       " 'Mediacom',\n",
       " 'Microsoft',\n",
       " 'Xiaomi',\n",
       " 'Vero',\n",
       " 'Chuwi',\n",
       " 'Google',\n",
       " 'Fujitsu',\n",
       " 'LG',\n",
       " 'Huawei']"
      ]
     },
     "execution_count": 12,
     "metadata": {},
     "output_type": "execute_result"
    }
   ],
   "source": [
    "other_categories"
   ]
  },
  {
   "cell_type": "code",
   "execution_count": 13,
   "id": "487f8a8b",
   "metadata": {},
   "outputs": [],
   "source": [
    "ohe_columns.append('Company')"
   ]
  },
  {
   "cell_type": "markdown",
   "id": "4f1bd514",
   "metadata": {},
   "source": [
    "### Product\n",
    "\n",
    "too many unique categories --> drop the column"
   ]
  },
  {
   "cell_type": "code",
   "execution_count": 14,
   "id": "6e1d466b",
   "metadata": {},
   "outputs": [],
   "source": [
    "df = df.drop('Product', axis=1)"
   ]
  },
  {
   "cell_type": "markdown",
   "id": "316f4137",
   "metadata": {},
   "source": [
    "### TypeName \n",
    "\n",
    "all good, will just one hot encode"
   ]
  },
  {
   "cell_type": "code",
   "execution_count": 15,
   "id": "f08400fd",
   "metadata": {},
   "outputs": [
    {
     "data": {
      "text/plain": [
       "Notebook              727\n",
       "Gaming                205\n",
       "Ultrabook             196\n",
       "2 in 1 Convertible    121\n",
       "Workstation            29\n",
       "Netbook                25\n",
       "Name: TypeName, dtype: int64"
      ]
     },
     "execution_count": 15,
     "metadata": {},
     "output_type": "execute_result"
    }
   ],
   "source": [
    "df['TypeName'].value_counts()"
   ]
  },
  {
   "cell_type": "code",
   "execution_count": 16,
   "id": "99117c5a",
   "metadata": {},
   "outputs": [],
   "source": [
    "ohe_columns.append('TypeName')"
   ]
  },
  {
   "cell_type": "markdown",
   "id": "b65a4c4b",
   "metadata": {},
   "source": [
    "### ScreenResolution \n",
    "\n",
    "extract width and height, convert to 2 numerical columns"
   ]
  },
  {
   "cell_type": "code",
   "execution_count": 17,
   "id": "6d2eae8d",
   "metadata": {},
   "outputs": [
    {
     "data": {
      "text/plain": [
       "Full HD 1920x1080                                507\n",
       "1366x768                                         281\n",
       "IPS Panel Full HD 1920x1080                      230\n",
       "IPS Panel Full HD / Touchscreen 1920x1080         53\n",
       "Full HD / Touchscreen 1920x1080                   47\n",
       "1600x900                                          23\n",
       "Touchscreen 1366x768                              16\n",
       "Quad HD+ / Touchscreen 3200x1800                  15\n",
       "IPS Panel 4K Ultra HD 3840x2160                   12\n",
       "IPS Panel 4K Ultra HD / Touchscreen 3840x2160     11\n",
       "4K Ultra HD / Touchscreen 3840x2160               10\n",
       "4K Ultra HD 3840x2160                              7\n",
       "Touchscreen 2560x1440                              7\n",
       "IPS Panel 1366x768                                 7\n",
       "IPS Panel Quad HD+ / Touchscreen 3200x1800         6\n",
       "IPS Panel Retina Display 2560x1600                 6\n",
       "IPS Panel Retina Display 2304x1440                 6\n",
       "Touchscreen 2256x1504                              6\n",
       "IPS Panel Touchscreen 2560x1440                    5\n",
       "IPS Panel Retina Display 2880x1800                 4\n",
       "IPS Panel Touchscreen 1920x1200                    4\n",
       "1440x900                                           4\n",
       "IPS Panel 2560x1440                                4\n",
       "IPS Panel Quad HD+ 2560x1440                       3\n",
       "Quad HD+ 3200x1800                                 3\n",
       "1920x1080                                          3\n",
       "Touchscreen 2400x1600                              3\n",
       "2560x1440                                          3\n",
       "IPS Panel Touchscreen 1366x768                     3\n",
       "IPS Panel Touchscreen / 4K Ultra HD 3840x2160      2\n",
       "IPS Panel Full HD 2160x1440                        2\n",
       "IPS Panel Quad HD+ 3200x1800                       2\n",
       "IPS Panel Retina Display 2736x1824                 1\n",
       "IPS Panel Full HD 1920x1200                        1\n",
       "IPS Panel Full HD 2560x1440                        1\n",
       "IPS Panel Full HD 1366x768                         1\n",
       "Touchscreen / Full HD 1920x1080                    1\n",
       "Touchscreen / Quad HD+ 3200x1800                   1\n",
       "Touchscreen / 4K Ultra HD 3840x2160                1\n",
       "IPS Panel Touchscreen 2400x1600                    1\n",
       "Name: ScreenResolution, dtype: int64"
      ]
     },
     "execution_count": 17,
     "metadata": {},
     "output_type": "execute_result"
    }
   ],
   "source": [
    "df['ScreenResolution'].value_counts()"
   ]
  },
  {
   "cell_type": "code",
   "execution_count": 18,
   "id": "dadcf057",
   "metadata": {},
   "outputs": [],
   "source": [
    "# Extract the height and width from the ScreenResolution column using a regular expression\n",
    "height_width = df['ScreenResolution'].str.extract('(\\d+)x(\\d+)')\n",
    "\n",
    "# Rename the columns to 'height' and 'width'\n",
    "height_width.columns = ['height', 'width']\n",
    "\n",
    "# Convert the height and width columns to integers\n",
    "height_width = height_width.astype(int)\n",
    "\n",
    "# Add the height and width columns to the laptop_df DataFrame\n",
    "df = pd.concat([df, height_width], axis=1)\n"
   ]
  },
  {
   "cell_type": "code",
   "execution_count": 19,
   "id": "f579ee2d",
   "metadata": {},
   "outputs": [],
   "source": [
    "# drop \"ScreenResolution\" after preprocessing"
   ]
  },
  {
   "cell_type": "code",
   "execution_count": 20,
   "id": "cf95896b",
   "metadata": {},
   "outputs": [],
   "source": [
    "df = df.drop('ScreenResolution', axis=1)"
   ]
  },
  {
   "cell_type": "markdown",
   "id": "bb7205ac",
   "metadata": {},
   "source": [
    "### Cpu\n",
    "\n",
    "get company name"
   ]
  },
  {
   "cell_type": "code",
   "execution_count": 21,
   "id": "8142c645",
   "metadata": {},
   "outputs": [
    {
     "data": {
      "text/plain": [
       "array(['Intel Core i5 2.3GHz', 'Intel Core i5 1.8GHz',\n",
       "       'Intel Core i5 7200U 2.5GHz', 'Intel Core i7 2.7GHz',\n",
       "       'Intel Core i5 3.1GHz', 'AMD A9-Series 9420 3GHz',\n",
       "       'Intel Core i7 2.2GHz', 'Intel Core i7 8550U 1.8GHz',\n",
       "       'Intel Core i5 8250U 1.6GHz', 'Intel Core i3 6006U 2GHz',\n",
       "       'Intel Core i7 2.8GHz', 'Intel Core M m3 1.2GHz',\n",
       "       'Intel Core i7 7500U 2.7GHz', 'Intel Core i7 2.9GHz',\n",
       "       'Intel Core i3 7100U 2.4GHz', 'Intel Atom x5-Z8350 1.44GHz',\n",
       "       'Intel Core i5 7300HQ 2.5GHz', 'AMD E-Series E2-9000e 1.5GHz',\n",
       "       'Intel Core i5 1.6GHz', 'Intel Core i7 8650U 1.9GHz',\n",
       "       'Intel Atom x5-Z8300 1.44GHz', 'AMD E-Series E2-6110 1.5GHz',\n",
       "       'AMD A6-Series 9220 2.5GHz',\n",
       "       'Intel Celeron Dual Core N3350 1.1GHz',\n",
       "       'Intel Core i3 7130U 2.7GHz', 'Intel Core i7 7700HQ 2.8GHz',\n",
       "       'Intel Core i5 2.0GHz', 'AMD Ryzen 1700 3GHz',\n",
       "       'Intel Pentium Quad Core N4200 1.1GHz',\n",
       "       'Intel Atom x5-Z8550 1.44GHz',\n",
       "       'Intel Celeron Dual Core N3060 1.6GHz', 'Intel Core i5 1.3GHz',\n",
       "       'AMD FX 9830P 3GHz', 'Intel Core i7 7560U 2.4GHz',\n",
       "       'AMD E-Series 6110 1.5GHz', 'Intel Core i5 6200U 2.3GHz',\n",
       "       'Intel Core M 6Y75 1.2GHz', 'Intel Core i5 7500U 2.7GHz',\n",
       "       'Intel Core i3 6006U 2.2GHz', 'AMD A6-Series 9220 2.9GHz',\n",
       "       'Intel Core i7 6920HQ 2.9GHz', 'Intel Core i5 7Y54 1.2GHz',\n",
       "       'Intel Core i7 7820HK 2.9GHz', 'Intel Xeon E3-1505M V6 3GHz',\n",
       "       'Intel Core i7 6500U 2.5GHz', 'AMD E-Series 9000e 1.5GHz',\n",
       "       'AMD A10-Series A10-9620P 2.5GHz', 'AMD A6-Series A6-9220 2.5GHz',\n",
       "       'Intel Core i5 2.9GHz', 'Intel Core i7 6600U 2.6GHz',\n",
       "       'Intel Core i3 6006U 2.0GHz',\n",
       "       'Intel Celeron Dual Core 3205U 1.5GHz',\n",
       "       'Intel Core i7 7820HQ 2.9GHz', 'AMD A10-Series 9600P 2.4GHz',\n",
       "       'Intel Core i7 7600U 2.8GHz', 'AMD A8-Series 7410 2.2GHz',\n",
       "       'Intel Celeron Dual Core 3855U 1.6GHz',\n",
       "       'Intel Pentium Quad Core N3710 1.6GHz',\n",
       "       'AMD A12-Series 9720P 2.7GHz', 'Intel Core i5 7300U 2.6GHz',\n",
       "       'AMD A12-Series 9720P 3.6GHz',\n",
       "       'Intel Celeron Quad Core N3450 1.1GHz',\n",
       "       'Intel Celeron Dual Core N3060 1.60GHz',\n",
       "       'Intel Core i5 6440HQ 2.6GHz', 'Intel Core i7 6820HQ 2.7GHz',\n",
       "       'AMD Ryzen 1600 3.2GHz', 'Intel Core i7 7Y75 1.3GHz',\n",
       "       'Intel Core i5 7440HQ 2.8GHz', 'Intel Core i7 7660U 2.5GHz',\n",
       "       'Intel Core i7 7700HQ 2.7GHz', 'Intel Core M m3-7Y30 2.2GHz',\n",
       "       'Intel Core i5 7Y57 1.2GHz', 'Intel Core i7 6700HQ 2.6GHz',\n",
       "       'Intel Core i3 6100U 2.3GHz', 'AMD A10-Series 9620P 2.5GHz',\n",
       "       'AMD E-Series 7110 1.8GHz', 'Intel Celeron Dual Core N3350 2.0GHz',\n",
       "       'AMD A9-Series A9-9420 3GHz', 'Intel Core i7 6820HK 2.7GHz',\n",
       "       'Intel Core M 7Y30 1.0GHz', 'Intel Xeon E3-1535M v6 3.1GHz',\n",
       "       'Intel Celeron Quad Core N3160 1.6GHz',\n",
       "       'Intel Core i5 6300U 2.4GHz', 'Intel Core i3 6100U 2.1GHz',\n",
       "       'AMD E-Series E2-9000 2.2GHz',\n",
       "       'Intel Celeron Dual Core N3050 1.6GHz',\n",
       "       'Intel Core M M3-6Y30 0.9GHz', 'AMD A9-Series 9420 2.9GHz',\n",
       "       'Intel Core i5 6300HQ 2.3GHz', 'AMD A6-Series 7310 2GHz',\n",
       "       'Intel Atom Z8350 1.92GHz', 'Intel Xeon E3-1535M v5 2.9GHz',\n",
       "       'Intel Core i5 6260U 1.8GHz',\n",
       "       'Intel Pentium Dual Core N4200 1.1GHz',\n",
       "       'Intel Celeron Quad Core N3710 1.6GHz', 'Intel Core M 1.2GHz',\n",
       "       'AMD A12-Series 9700P 2.5GHz', 'Intel Core i7 7500U 2.5GHz',\n",
       "       'Intel Pentium Dual Core 4405U 2.1GHz',\n",
       "       'AMD A4-Series 7210 2.2GHz', 'Intel Core i7 6560U 2.2GHz',\n",
       "       'Intel Core M m7-6Y75 1.2GHz', 'AMD FX 8800P 2.1GHz',\n",
       "       'Intel Core M M7-6Y75 1.2GHz', 'Intel Core i5 7200U 2.50GHz',\n",
       "       'Intel Core i5 7200U 2.70GHz', 'Intel Atom X5-Z8350 1.44GHz',\n",
       "       'Intel Core i5 7200U 2.7GHz', 'Intel Core M 1.1GHz',\n",
       "       'Intel Pentium Dual Core 4405Y 1.5GHz',\n",
       "       'Intel Pentium Quad Core N3700 1.6GHz', 'Intel Core M 6Y54 1.1GHz',\n",
       "       'Intel Core i7 6500U 2.50GHz',\n",
       "       'Intel Celeron Dual Core N3350 2GHz',\n",
       "       'Samsung Cortex A72&A53 2.0GHz', 'AMD E-Series 9000 2.2GHz',\n",
       "       'Intel Core M 6Y30 0.9GHz', 'AMD A9-Series 9410 2.9GHz'],\n",
       "      dtype=object)"
      ]
     },
     "execution_count": 21,
     "metadata": {},
     "output_type": "execute_result"
    }
   ],
   "source": [
    "df['Cpu'].unique()"
   ]
  },
  {
   "cell_type": "code",
   "execution_count": 22,
   "id": "839066d9",
   "metadata": {},
   "outputs": [],
   "source": [
    "df['Cpu Type'] = df['Cpu'].str.extract('([A-Za-z]+(?:\\s+[A-Za-z]+)*)')\n",
    "df['Cpu Speed GHz'] = df['Cpu'].str.extract('(\\d+\\.*\\d*)GHz')"
   ]
  },
  {
   "cell_type": "code",
   "execution_count": 23,
   "id": "98d6a308",
   "metadata": {},
   "outputs": [
    {
     "data": {
      "text/plain": [
       "Intel Core i                 1086\n",
       "Intel Celeron Dual Core N      73\n",
       "AMD A                          47\n",
       "Intel Pentium Quad Core N      27\n",
       "Intel Core M                   14\n",
       "Intel Atom x                   10\n",
       "AMD E                           9\n",
       "Intel Celeron Quad Core N       8\n",
       "Intel Celeron Dual Core         7\n",
       "AMD Ryzen                       4\n",
       "Intel Xeon E                    4\n",
       "Intel Core M m                  3\n",
       "AMD FX                          2\n",
       "Intel Core M M                  2\n",
       "Intel Pentium Dual Core         2\n",
       "Intel Atom X                    2\n",
       "Intel Atom Z                    1\n",
       "Intel Pentium Dual Core N       1\n",
       "Samsung Cortex A                1\n",
       "Name: Cpu Type, dtype: int64"
      ]
     },
     "execution_count": 23,
     "metadata": {},
     "output_type": "execute_result"
    }
   ],
   "source": [
    "df['Cpu Type'].value_counts()"
   ]
  },
  {
   "cell_type": "code",
   "execution_count": 24,
   "id": "685b85f8",
   "metadata": {},
   "outputs": [],
   "source": [
    "import re\n",
    "\n",
    "df['Cpu Company'] = df['Cpu Type'].apply(lambda x: re.findall(r'^\\w+', x)[0])"
   ]
  },
  {
   "cell_type": "code",
   "execution_count": 25,
   "id": "86fbc286",
   "metadata": {},
   "outputs": [
    {
     "data": {
      "text/plain": [
       "Intel      1240\n",
       "AMD          62\n",
       "Samsung       1\n",
       "Name: Cpu Company, dtype: int64"
      ]
     },
     "execution_count": 25,
     "metadata": {},
     "output_type": "execute_result"
    }
   ],
   "source": [
    "df['Cpu Company'].value_counts()"
   ]
  },
  {
   "cell_type": "code",
   "execution_count": 26,
   "id": "957de9da",
   "metadata": {},
   "outputs": [],
   "source": [
    "# drop \"Cpu\" column, and \"Cpu Type\" column\n",
    "\n",
    "df = df.drop(['Cpu', 'Cpu Type'], axis=1)"
   ]
  },
  {
   "cell_type": "code",
   "execution_count": 27,
   "id": "0d224c8f",
   "metadata": {},
   "outputs": [],
   "source": [
    "ohe_columns.append('Cpu Company')"
   ]
  },
  {
   "cell_type": "code",
   "execution_count": 28,
   "id": "8fe44dce",
   "metadata": {},
   "outputs": [
    {
     "data": {
      "text/plain": [
       "laptop_ID          int64\n",
       "Company           object\n",
       "TypeName          object\n",
       "Inches           float64\n",
       "Ram               object\n",
       "Memory            object\n",
       "Gpu               object\n",
       "OpSys             object\n",
       "Weight            object\n",
       "Price_euros      float64\n",
       "height             int64\n",
       "width              int64\n",
       "Cpu Speed GHz     object\n",
       "Cpu Company       object\n",
       "dtype: object"
      ]
     },
     "execution_count": 28,
     "metadata": {},
     "output_type": "execute_result"
    }
   ],
   "source": [
    "df.dtypes"
   ]
  },
  {
   "cell_type": "markdown",
   "id": "b4e73bec",
   "metadata": {},
   "source": [
    "### Ram\n",
    "\n",
    "convert \"Ram\" to numeric"
   ]
  },
  {
   "cell_type": "code",
   "execution_count": 29,
   "id": "0f71cd54",
   "metadata": {},
   "outputs": [
    {
     "data": {
      "text/plain": [
       "8GB     619\n",
       "4GB     375\n",
       "16GB    200\n",
       "6GB      41\n",
       "12GB     25\n",
       "2GB      22\n",
       "32GB     17\n",
       "24GB      3\n",
       "64GB      1\n",
       "Name: Ram, dtype: int64"
      ]
     },
     "execution_count": 29,
     "metadata": {},
     "output_type": "execute_result"
    }
   ],
   "source": [
    "df['Ram'].value_counts()"
   ]
  },
  {
   "cell_type": "code",
   "execution_count": 30,
   "id": "675903a1",
   "metadata": {},
   "outputs": [],
   "source": [
    "df['Ram'] = df['Ram'].str.replace('GB','').astype(int)"
   ]
  },
  {
   "cell_type": "markdown",
   "id": "c082985a",
   "metadata": {},
   "source": [
    "### Memory\n",
    "\n",
    "we will extract two columns \"has_ssd\" and \"has_hdd\""
   ]
  },
  {
   "cell_type": "code",
   "execution_count": 31,
   "id": "b44e0292",
   "metadata": {},
   "outputs": [],
   "source": [
    "def has_ssd(s):\n",
    "    return int('SSD' in s)\n",
    "\n",
    "def has_hdd(s):\n",
    "    return int('HDD' in s)\n",
    "\n",
    "df['has_SSD'] = df['Memory'].apply(has_ssd)\n",
    "df['has_HDD'] = df['Memory'].apply(has_hdd)"
   ]
  },
  {
   "cell_type": "code",
   "execution_count": 32,
   "id": "f1d502d3",
   "metadata": {},
   "outputs": [],
   "source": [
    "df = df.drop('Memory', axis=1)"
   ]
  },
  {
   "cell_type": "code",
   "execution_count": 33,
   "id": "ab7e2886",
   "metadata": {},
   "outputs": [
    {
     "data": {
      "text/plain": [
       "['Company', 'TypeName', 'Cpu Company']"
      ]
     },
     "execution_count": 33,
     "metadata": {},
     "output_type": "execute_result"
    }
   ],
   "source": [
    "ohe_columns"
   ]
  },
  {
   "cell_type": "markdown",
   "id": "666f9a8b",
   "metadata": {},
   "source": [
    "### Gpu"
   ]
  },
  {
   "cell_type": "code",
   "execution_count": 34,
   "id": "717821f3",
   "metadata": {},
   "outputs": [],
   "source": [
    "def get_manufacturer(s):\n",
    "    if 'Intel' in s:\n",
    "        return 'Intel'\n",
    "    elif 'AMD' in s:\n",
    "        return 'AMD'\n",
    "    elif 'Nvidia' in s:\n",
    "        return 'Nvidia'\n",
    "    \n",
    "df['GpuManufacturer'] = df['Gpu'].apply(get_manufacturer)"
   ]
  },
  {
   "cell_type": "code",
   "execution_count": 35,
   "id": "f9001c0f",
   "metadata": {},
   "outputs": [],
   "source": [
    "df = df.drop('Gpu', axis=1)\n",
    "ohe_columns.append('GpuManufacturer')"
   ]
  },
  {
   "cell_type": "markdown",
   "id": "f1c901ff",
   "metadata": {},
   "source": [
    "### OpSys\n",
    "\n",
    "encode as Windows and Other"
   ]
  },
  {
   "cell_type": "code",
   "execution_count": 36,
   "id": "e00bb92a",
   "metadata": {},
   "outputs": [
    {
     "data": {
      "text/plain": [
       "Windows 10      1072\n",
       "No OS             66\n",
       "Linux             62\n",
       "Windows 7         45\n",
       "Chrome OS         27\n",
       "macOS             13\n",
       "Mac OS X           8\n",
       "Windows 10 S       8\n",
       "Android            2\n",
       "Name: OpSys, dtype: int64"
      ]
     },
     "execution_count": 36,
     "metadata": {},
     "output_type": "execute_result"
    }
   ],
   "source": [
    "df['OpSys'].value_counts()"
   ]
  },
  {
   "cell_type": "code",
   "execution_count": 37,
   "id": "8961a550",
   "metadata": {},
   "outputs": [
    {
     "data": {
      "text/plain": [
       "Windows 10    1072\n",
       "Other          231\n",
       "Name: OpSys, dtype: int64"
      ]
     },
     "execution_count": 37,
     "metadata": {},
     "output_type": "execute_result"
    }
   ],
   "source": [
    "# Count the number of occurrences of each category in the 'Company' column\n",
    "os_counts = df['OpSys'].value_counts()\n",
    "\n",
    "# Get the list of categories with fewer than 100 occurrences\n",
    "other_categories = os_counts[os_counts < 100].index.tolist()\n",
    "\n",
    "# Replace the categories with 'Other'\n",
    "df['OpSys'] = df['OpSys'].replace(other_categories, 'Other')\n",
    "\n",
    "df['OpSys'].value_counts()"
   ]
  },
  {
   "cell_type": "code",
   "execution_count": 38,
   "id": "e3c3f0bb",
   "metadata": {},
   "outputs": [],
   "source": [
    "ohe_columns.append('OpSys')"
   ]
  },
  {
   "cell_type": "code",
   "execution_count": null,
   "id": "52677a49",
   "metadata": {},
   "outputs": [],
   "source": []
  },
  {
   "cell_type": "markdown",
   "id": "923d82b0",
   "metadata": {},
   "source": [
    "### Weight\n",
    "\n",
    "convert to numeric"
   ]
  },
  {
   "cell_type": "code",
   "execution_count": 39,
   "id": "66cb82da",
   "metadata": {},
   "outputs": [],
   "source": [
    "df['Weight'] = df['Weight'].str.strip('kg').astype(float)"
   ]
  },
  {
   "cell_type": "code",
   "execution_count": 40,
   "id": "b8f2614d",
   "metadata": {},
   "outputs": [
    {
     "data": {
      "text/plain": [
       "laptop_ID            int64\n",
       "Ram                  int64\n",
       "height               int64\n",
       "width                int64\n",
       "has_SSD              int64\n",
       "has_HDD              int64\n",
       "Inches             float64\n",
       "Weight             float64\n",
       "Price_euros        float64\n",
       "Company             object\n",
       "TypeName            object\n",
       "OpSys               object\n",
       "Cpu Speed GHz       object\n",
       "Cpu Company         object\n",
       "GpuManufacturer     object\n",
       "dtype: object"
      ]
     },
     "execution_count": 40,
     "metadata": {},
     "output_type": "execute_result"
    }
   ],
   "source": [
    "df.dtypes.sort_values()"
   ]
  },
  {
   "cell_type": "code",
   "execution_count": 41,
   "id": "980b58ff",
   "metadata": {},
   "outputs": [
    {
     "data": {
      "text/plain": [
       "['Company', 'TypeName', 'Cpu Company', 'GpuManufacturer', 'OpSys']"
      ]
     },
     "execution_count": 41,
     "metadata": {},
     "output_type": "execute_result"
    }
   ],
   "source": [
    "ohe_columns"
   ]
  },
  {
   "cell_type": "code",
   "execution_count": 42,
   "id": "a2b69e46",
   "metadata": {},
   "outputs": [
    {
     "name": "stdout",
     "output_type": "stream",
     "text": [
      "Company : 6\n",
      "TypeName : 6\n",
      "OpSys : 2\n",
      "Cpu Speed GHz : 29\n",
      "Cpu Company : 3\n",
      "GpuManufacturer : 4\n"
     ]
    }
   ],
   "source": [
    "# Loop through each column in the DataFrame\n",
    "for column in df.columns:\n",
    "    # Check if the column is categorical\n",
    "    if df[column].dtype == 'object':\n",
    "        # Count the number of unique values in the column\n",
    "        num_unique = len(df[column].unique())\n",
    "        # Print the column name and number of unique values\n",
    "        print(column, ':', num_unique)"
   ]
  },
  {
   "cell_type": "markdown",
   "id": "fbc0ae5b",
   "metadata": {},
   "source": [
    "### Cpu Speed GHz\n",
    "\n",
    "convert to numeric"
   ]
  },
  {
   "cell_type": "code",
   "execution_count": 43,
   "id": "457ddc39",
   "metadata": {},
   "outputs": [],
   "source": [
    "df['Cpu Speed GHz'] = df['Cpu Speed GHz'].astype(float)"
   ]
  },
  {
   "cell_type": "code",
   "execution_count": null,
   "id": "fc2358fe",
   "metadata": {},
   "outputs": [],
   "source": []
  },
  {
   "cell_type": "markdown",
   "id": "6b5c78e4",
   "metadata": {},
   "source": [
    "# After feature preprocessing"
   ]
  },
  {
   "cell_type": "code",
   "execution_count": 44,
   "id": "e8854c8c",
   "metadata": {},
   "outputs": [
    {
     "data": {
      "text/html": [
       "<div>\n",
       "<style scoped>\n",
       "    .dataframe tbody tr th:only-of-type {\n",
       "        vertical-align: middle;\n",
       "    }\n",
       "\n",
       "    .dataframe tbody tr th {\n",
       "        vertical-align: top;\n",
       "    }\n",
       "\n",
       "    .dataframe thead th {\n",
       "        text-align: right;\n",
       "    }\n",
       "</style>\n",
       "<table border=\"1\" class=\"dataframe\">\n",
       "  <thead>\n",
       "    <tr style=\"text-align: right;\">\n",
       "      <th></th>\n",
       "      <th>laptop_ID</th>\n",
       "      <th>Company</th>\n",
       "      <th>TypeName</th>\n",
       "      <th>Inches</th>\n",
       "      <th>Ram</th>\n",
       "      <th>OpSys</th>\n",
       "      <th>Weight</th>\n",
       "      <th>Price_euros</th>\n",
       "      <th>height</th>\n",
       "      <th>width</th>\n",
       "      <th>Cpu Speed GHz</th>\n",
       "      <th>Cpu Company</th>\n",
       "      <th>has_SSD</th>\n",
       "      <th>has_HDD</th>\n",
       "      <th>GpuManufacturer</th>\n",
       "    </tr>\n",
       "  </thead>\n",
       "  <tbody>\n",
       "    <tr>\n",
       "      <th>0</th>\n",
       "      <td>1</td>\n",
       "      <td>Other</td>\n",
       "      <td>Ultrabook</td>\n",
       "      <td>13.3</td>\n",
       "      <td>8</td>\n",
       "      <td>Other</td>\n",
       "      <td>1.37</td>\n",
       "      <td>1339.69</td>\n",
       "      <td>2560</td>\n",
       "      <td>1600</td>\n",
       "      <td>2.3</td>\n",
       "      <td>Intel</td>\n",
       "      <td>1</td>\n",
       "      <td>0</td>\n",
       "      <td>Intel</td>\n",
       "    </tr>\n",
       "    <tr>\n",
       "      <th>1</th>\n",
       "      <td>2</td>\n",
       "      <td>Other</td>\n",
       "      <td>Ultrabook</td>\n",
       "      <td>13.3</td>\n",
       "      <td>8</td>\n",
       "      <td>Other</td>\n",
       "      <td>1.34</td>\n",
       "      <td>898.94</td>\n",
       "      <td>1440</td>\n",
       "      <td>900</td>\n",
       "      <td>1.8</td>\n",
       "      <td>Intel</td>\n",
       "      <td>0</td>\n",
       "      <td>0</td>\n",
       "      <td>Intel</td>\n",
       "    </tr>\n",
       "    <tr>\n",
       "      <th>2</th>\n",
       "      <td>3</td>\n",
       "      <td>HP</td>\n",
       "      <td>Notebook</td>\n",
       "      <td>15.6</td>\n",
       "      <td>8</td>\n",
       "      <td>Other</td>\n",
       "      <td>1.86</td>\n",
       "      <td>575.00</td>\n",
       "      <td>1920</td>\n",
       "      <td>1080</td>\n",
       "      <td>2.5</td>\n",
       "      <td>Intel</td>\n",
       "      <td>1</td>\n",
       "      <td>0</td>\n",
       "      <td>Intel</td>\n",
       "    </tr>\n",
       "    <tr>\n",
       "      <th>3</th>\n",
       "      <td>4</td>\n",
       "      <td>Other</td>\n",
       "      <td>Ultrabook</td>\n",
       "      <td>15.4</td>\n",
       "      <td>16</td>\n",
       "      <td>Other</td>\n",
       "      <td>1.83</td>\n",
       "      <td>2537.45</td>\n",
       "      <td>2880</td>\n",
       "      <td>1800</td>\n",
       "      <td>2.7</td>\n",
       "      <td>Intel</td>\n",
       "      <td>1</td>\n",
       "      <td>0</td>\n",
       "      <td>AMD</td>\n",
       "    </tr>\n",
       "    <tr>\n",
       "      <th>4</th>\n",
       "      <td>5</td>\n",
       "      <td>Other</td>\n",
       "      <td>Ultrabook</td>\n",
       "      <td>13.3</td>\n",
       "      <td>8</td>\n",
       "      <td>Other</td>\n",
       "      <td>1.37</td>\n",
       "      <td>1803.60</td>\n",
       "      <td>2560</td>\n",
       "      <td>1600</td>\n",
       "      <td>3.1</td>\n",
       "      <td>Intel</td>\n",
       "      <td>1</td>\n",
       "      <td>0</td>\n",
       "      <td>Intel</td>\n",
       "    </tr>\n",
       "  </tbody>\n",
       "</table>\n",
       "</div>"
      ],
      "text/plain": [
       "   laptop_ID Company   TypeName  Inches  Ram  OpSys  Weight  Price_euros  \\\n",
       "0          1   Other  Ultrabook    13.3    8  Other    1.37      1339.69   \n",
       "1          2   Other  Ultrabook    13.3    8  Other    1.34       898.94   \n",
       "2          3      HP   Notebook    15.6    8  Other    1.86       575.00   \n",
       "3          4   Other  Ultrabook    15.4   16  Other    1.83      2537.45   \n",
       "4          5   Other  Ultrabook    13.3    8  Other    1.37      1803.60   \n",
       "\n",
       "   height  width  Cpu Speed GHz Cpu Company  has_SSD  has_HDD GpuManufacturer  \n",
       "0    2560   1600            2.3       Intel        1        0           Intel  \n",
       "1    1440    900            1.8       Intel        0        0           Intel  \n",
       "2    1920   1080            2.5       Intel        1        0           Intel  \n",
       "3    2880   1800            2.7       Intel        1        0             AMD  \n",
       "4    2560   1600            3.1       Intel        1        0           Intel  "
      ]
     },
     "execution_count": 44,
     "metadata": {},
     "output_type": "execute_result"
    }
   ],
   "source": [
    "df.head()"
   ]
  },
  {
   "cell_type": "code",
   "execution_count": 45,
   "id": "7a97d9a2",
   "metadata": {},
   "outputs": [],
   "source": [
    "df.to_csv('laptop_price_preprocessed.csv')"
   ]
  },
  {
   "cell_type": "code",
   "execution_count": 46,
   "id": "eeaeb74d",
   "metadata": {},
   "outputs": [],
   "source": [
    "from sklearn.metrics import mean_absolute_error"
   ]
  },
  {
   "cell_type": "code",
   "execution_count": 47,
   "id": "ed2dd62a",
   "metadata": {},
   "outputs": [
    {
     "name": "stdout",
     "output_type": "stream",
     "text": [
      "Linear Regression MSE: 140363.45529198938\n",
      "Linear Regression R^2: 0.7236540159892074\n",
      "Decision Tree MSE: 157647.63765325668\n",
      "Decision Tree R^2: 0.6896251131490037\n",
      "Random Forest MSE: 109329.68783322547\n",
      "Random Forest R^2: 0.7847529465342983\n",
      "KNN MSE: 330383.0581348352\n",
      "KNN R^2: 0.34954557002860787\n"
     ]
    }
   ],
   "source": [
    "import pandas as pd\n",
    "from sklearn.model_selection import train_test_split\n",
    "from sklearn.linear_model import LinearRegression\n",
    "from sklearn.tree import DecisionTreeRegressor\n",
    "from sklearn.ensemble import RandomForestRegressor\n",
    "from sklearn.neighbors import KNeighborsRegressor\n",
    "from sklearn.metrics import mean_squared_error, r2_score\n",
    "\n",
    "# Select the features to use for the regression models\n",
    "X = df.drop(ohe_columns, axis=1)\n",
    "X = X.drop('Price_euros', axis=1)\n",
    "\n",
    "# Convert categorical variables to one-hot encoding\n",
    "X_ohe = pd.get_dummies(df[ohe_columns], drop_first=True)\n",
    "\n",
    "# Concat all columns\n",
    "X = pd.concat([X, X_ohe], axis=1)\n",
    "\n",
    "# Select the target variable\n",
    "y = df['Price_euros']\n",
    "\n",
    "# Split the dataset into training and test sets\n",
    "X_train, X_test, y_train, y_test = train_test_split(X, y, test_size=0.2, random_state=42)\n",
    "\n",
    "# Train and evaluate a Linear Regression model\n",
    "lin_reg = LinearRegression()\n",
    "lin_reg.fit(X_train, y_train)\n",
    "lin_reg_pred = lin_reg.predict(X_test)\n",
    "print('Linear Regression MSE:', mean_squared_error(y_test, lin_reg_pred))\n",
    "print('Linear Regression R^2:', r2_score(y_test, lin_reg_pred))\n",
    "\n",
    "# Train and evaluate a Decision Tree model\n",
    "dt_reg = DecisionTreeRegressor(random_state=42)\n",
    "dt_reg.fit(X_train, y_train)\n",
    "dt_reg_pred = dt_reg.predict(X_test)\n",
    "print('Decision Tree MSE:', mean_squared_error(y_test, dt_reg_pred))\n",
    "print('Decision Tree R^2:', r2_score(y_test, dt_reg_pred))\n",
    "\n",
    "# Train and evaluate a Random Forest model\n",
    "rf_reg = RandomForestRegressor(random_state=42)\n",
    "rf_reg.fit(X_train, y_train)\n",
    "rf_reg_pred = rf_reg.predict(X_test)\n",
    "print('Random Forest MSE:', mean_squared_error(y_test, rf_reg_pred))\n",
    "print('Random Forest R^2:', r2_score(y_test, rf_reg_pred))\n",
    "\n",
    "# Train and evaluate a KNN model\n",
    "knn_reg = KNeighborsRegressor()\n",
    "knn_reg.fit(X_train, y_train)\n",
    "knn_reg_pred = knn_reg.predict(X_test)\n",
    "print('KNN MSE:', mean_squared_error(y_test, knn_reg_pred))\n",
    "print('KNN R^2:', r2_score(y_test, knn_reg_pred))\n"
   ]
  },
  {
   "cell_type": "markdown",
   "id": "35fd2931",
   "metadata": {},
   "source": [
    "$$\\mathrm{MAE} = \\frac{1}{n}\\sum_{i=1}^{n}|y_i-\\hat{y_i}|$$\n",
    "\n",
    "$$\\mathrm{MSE} = \\frac{1}{n}\\sum_{i=1}^{n}(y_i-\\hat{y_i})^2$$\n",
    "\n",
    "$$R^2 = 1 - \\frac{\\sum_{i=1}^{n}(y_i-\\hat{y_i})^2}{\\sum_{i=1}^{n}(y_i-\\bar{y})^2}\n",
    "$$\n"
   ]
  },
  {
   "cell_type": "code",
   "execution_count": 48,
   "id": "804f23ce",
   "metadata": {},
   "outputs": [
    {
     "data": {
      "image/png": "[encoded data removed]",
      "text/plain": [
       "<Figure size 640x480 with 1 Axes>"
      ]
     },
     "metadata": {},
     "output_type": "display_data"
    }
   ],
   "source": [
    "import matplotlib.pyplot as plt\n",
    "\n",
    "# Calculate the MSE for each model\n",
    "lin_reg_mse = mean_squared_error(y_test, lin_reg_pred)\n",
    "dt_reg_mse = mean_squared_error(y_test, dt_reg_pred)\n",
    "rf_reg_mse = mean_squared_error(y_test, rf_reg_pred)\n",
    "knn_reg_mse = mean_squared_error(y_test, knn_reg_pred)\n",
    "\n",
    "# Create a scatter plot of actual vs predicted values for all models\n",
    "plt.scatter(y_test, lin_reg_pred, color='red', label=f'Linear Regression (MSE={lin_reg_mse:.2f})')\n",
    "plt.scatter(y_test, dt_reg_pred, color='blue', label=f'Decision Tree (MSE={dt_reg_mse:.2f})')\n",
    "plt.scatter(y_test, rf_reg_pred, color='green', label=f'Random Forest (MSE={rf_reg_mse:.2f})')\n",
    "plt.scatter(y_test, knn_reg_pred, color='orange', label=f'KNN (MSE={knn_reg_mse:.2f})')\n",
    "\n",
    "# Add a perfect prediction line\n",
    "perfect_predictions = y_test\n",
    "plt.plot(perfect_predictions, perfect_predictions, color='black', alpha=0.5, label='Perfect prediction')\n",
    "\n",
    "# Add a title, axis labels, and a legend\n",
    "plt.title('Actual vs Predicted Price Values')\n",
    "plt.xlabel('Actual Price (euros)')\n",
    "plt.ylabel('Predicted Price (euros)')\n",
    "plt.legend()\n",
    "plt.xlim(0, 3500)\n",
    "\n",
    "# Show the plot\n",
    "plt.show()\n",
    "\n"
   ]
  },
  {
   "cell_type": "code",
   "execution_count": 49,
   "id": "140d14ad",
   "metadata": {},
   "outputs": [
    {
     "data": {
      "image/png": "[encoded data removed]",
      "text/plain": [
       "<Figure size 640x480 with 1 Axes>"
      ]
     },
     "metadata": {},
     "output_type": "display_data"
    }
   ],
   "source": [
    "import matplotlib.pyplot as plt\n",
    "\n",
    "lin_reg_mse = mean_squared_error(y_test, lin_reg_pred)\n",
    "lin_reg_r2 = r2_score(y_test, lin_reg_pred)\n",
    "lin_reg_mae = np.mean(np.abs(y_test - lin_reg_pred))\n",
    "\n",
    "# Create a scatter plot of actual vs predicted values for the linear model\n",
    "plt.scatter(y_test, lin_reg_pred, color='red')\n",
    "\n",
    "# Add a perfect prediction line\n",
    "perfect_predictions = y_test\n",
    "plt.plot(perfect_predictions, perfect_predictions, color='black')\n",
    "\n",
    "# Add a title, axis labels, and a legend\n",
    "plt.title('Actual vs Predicted Price Values for Linear Regression')\n",
    "plt.xlabel('Actual Price (euros)')\n",
    "plt.ylabel('Predicted Price (euros)')\n",
    "plt.legend(['Perfect Predictions', f'R-squared={lin_reg_r2:.2f}, MAE={lin_reg_mae:.2f}'])\n",
    "plt.xlim(0, 3500)\n",
    "\n",
    "# Show the plot\n",
    "plt.show()\n"
   ]
  },
  {
   "cell_type": "code",
   "execution_count": null,
   "id": "5aaaf422",
   "metadata": {},
   "outputs": [],
   "source": []
  },
  {
   "cell_type": "code",
   "execution_count": null,
   "id": "11cff6ab",
   "metadata": {},
   "outputs": [],
   "source": []
  },
  {
   "cell_type": "code",
   "execution_count": null,
   "id": "5cb93824",
   "metadata": {},
   "outputs": [],
   "source": []
  }
 ],
 "metadata": {
  "kernelspec": {
   "display_name": "Python 3 (ipykernel)",
   "language": "python",
   "name": "python3"
  },
  "language_info": {
   "codemirror_mode": {
    "name": "ipython",
    "version": 3
   },
   "file_extension": ".py",
   "mimetype": "text/x-python",
   "name": "python",
   "nbconvert_exporter": "python",
   "pygments_lexer": "ipython3",
   "version": "3.9.13"
  }
 },
 "nbformat": 4,
 "nbformat_minor": 5
}
